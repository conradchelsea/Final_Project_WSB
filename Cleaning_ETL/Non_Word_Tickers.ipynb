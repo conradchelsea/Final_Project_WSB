{
 "metadata": {
  "language_info": {
   "codemirror_mode": {
    "name": "ipython",
    "version": 3
   },
   "file_extension": ".py",
   "mimetype": "text/x-python",
   "name": "python",
   "nbconvert_exporter": "python",
   "pygments_lexer": "ipython3",
   "version": "3.7.7-final"
  },
  "orig_nbformat": 2,
  "kernelspec": {
   "name": "python3",
   "display_name": "Python 3.7.7 64-bit",
   "metadata": {
    "interpreter": {
     "hash": "66d89c81e5920af17440b9c257b49640c6b56496df1b12b26b5d14ef42296b76"
    }
   }
  }
 },
 "nbformat": 4,
 "nbformat_minor": 2,
 "cells": [
  {
   "cell_type": "code",
   "execution_count": 61,
   "metadata": {},
   "outputs": [],
   "source": [
    "#import dependencies\n",
    "import pandas as pd\n",
    "import datetime\n",
    "import numpy as np\n",
    "import re\n",
    "from nltk.corpus import wordnet"
   ]
  },
  {
   "cell_type": "code",
   "execution_count": 2,
   "metadata": {},
   "outputs": [],
   "source": [
    "#read in count_df\n",
    "df = pd.read_csv('/Users/gregfinin/Class/Final_Project_WSB/stocks_df_final.csv')"
   ]
  },
  {
   "cell_type": "code",
   "execution_count": 3,
   "metadata": {},
   "outputs": [
    {
     "output_type": "execute_result",
     "data": {
      "text/plain": [
       "     Ticker Name  Ticker Count\n",
       "0            GME         52231\n",
       "1            AMC         22200\n",
       "2           NEXT         11282\n",
       "3             BB          7235\n",
       "4           GOOD          6508\n",
       "...          ...           ...\n",
       "6930        ZUMZ             0\n",
       "6931         ZVO             0\n",
       "6932        ZWRK             0\n",
       "6933       ZWRKU             0\n",
       "6934       ZWRKW             0\n",
       "\n",
       "[6935 rows x 2 columns]"
      ],
      "text/html": "<div>\n<style scoped>\n    .dataframe tbody tr th:only-of-type {\n        vertical-align: middle;\n    }\n\n    .dataframe tbody tr th {\n        vertical-align: top;\n    }\n\n    .dataframe thead th {\n        text-align: right;\n    }\n</style>\n<table border=\"1\" class=\"dataframe\">\n  <thead>\n    <tr style=\"text-align: right;\">\n      <th></th>\n      <th>Ticker Name</th>\n      <th>Ticker Count</th>\n    </tr>\n  </thead>\n  <tbody>\n    <tr>\n      <th>0</th>\n      <td>GME</td>\n      <td>52231</td>\n    </tr>\n    <tr>\n      <th>1</th>\n      <td>AMC</td>\n      <td>22200</td>\n    </tr>\n    <tr>\n      <th>2</th>\n      <td>NEXT</td>\n      <td>11282</td>\n    </tr>\n    <tr>\n      <th>3</th>\n      <td>BB</td>\n      <td>7235</td>\n    </tr>\n    <tr>\n      <th>4</th>\n      <td>GOOD</td>\n      <td>6508</td>\n    </tr>\n    <tr>\n      <th>...</th>\n      <td>...</td>\n      <td>...</td>\n    </tr>\n    <tr>\n      <th>6930</th>\n      <td>ZUMZ</td>\n      <td>0</td>\n    </tr>\n    <tr>\n      <th>6931</th>\n      <td>ZVO</td>\n      <td>0</td>\n    </tr>\n    <tr>\n      <th>6932</th>\n      <td>ZWRK</td>\n      <td>0</td>\n    </tr>\n    <tr>\n      <th>6933</th>\n      <td>ZWRKU</td>\n      <td>0</td>\n    </tr>\n    <tr>\n      <th>6934</th>\n      <td>ZWRKW</td>\n      <td>0</td>\n    </tr>\n  </tbody>\n</table>\n<p>6935 rows × 2 columns</p>\n</div>"
     },
     "metadata": {},
     "execution_count": 3
    }
   ],
   "source": [
    "#df\n",
    "df"
   ]
  },
  {
   "cell_type": "code",
   "execution_count": 4,
   "metadata": {},
   "outputs": [
    {
     "output_type": "execute_result",
     "data": {
      "text/plain": [
       "0         GME\n",
       "1         AMC\n",
       "2        NEXT\n",
       "3          BB\n",
       "4        GOOD\n",
       "        ...  \n",
       "6930     ZUMZ\n",
       "6931      ZVO\n",
       "6932     ZWRK\n",
       "6933    ZWRKU\n",
       "6934    ZWRKW\n",
       "Name: Ticker Name, Length: 6935, dtype: object"
      ]
     },
     "metadata": {},
     "execution_count": 4
    }
   ],
   "source": [
    "# get ticker names and put into list\n",
    "ticker_names = df['Ticker Name']\n",
    "ticker_list = ticker_names.to_list()"
   ]
  },
  {
   "cell_type": "code",
   "execution_count": 8,
   "metadata": {},
   "outputs": [],
   "source": [
    "# lists to store values in for loop\n",
    "tickers_to_use = []\n",
    "tickers_not_to_use = []"
   ]
  },
  {
   "cell_type": "code",
   "execution_count": 13,
   "metadata": {},
   "outputs": [],
   "source": [
    "# check list of tickers against english dictionary. add non-word tickers to one list and word tickers to other list\n",
    "for ticker in ticker_list:\n",
    "    if not wordnet.synsets(ticker):\n",
    "        tickers_to_use.append(ticker)\n",
    "    else:\n",
    "        tickers_not_to_use.append(ticker)"
   ]
  },
  {
   "cell_type": "code",
   "execution_count": 17,
   "metadata": {},
   "outputs": [],
   "source": [
    "# Get list of non-word tickerss\n",
    "combined_list = set(tickers_to_use).intersection(ticker_list)"
   ]
  },
  {
   "cell_type": "code",
   "execution_count": 18,
   "metadata": {},
   "outputs": [
    {
     "output_type": "execute_result",
     "data": {
      "text/plain": [
       "           0\n",
       "0       SCHN\n",
       "1       CRON\n",
       "2        UMH\n",
       "3       INVE\n",
       "4      STWOU\n",
       "...      ...\n",
       "6196    PWOD\n",
       "6197    CBIO\n",
       "6198    VRME\n",
       "6199    MASI\n",
       "6200  MS.PRF\n",
       "\n",
       "[6201 rows x 1 columns]"
      ],
      "text/html": "<div>\n<style scoped>\n    .dataframe tbody tr th:only-of-type {\n        vertical-align: middle;\n    }\n\n    .dataframe tbody tr th {\n        vertical-align: top;\n    }\n\n    .dataframe thead th {\n        text-align: right;\n    }\n</style>\n<table border=\"1\" class=\"dataframe\">\n  <thead>\n    <tr style=\"text-align: right;\">\n      <th></th>\n      <th>0</th>\n    </tr>\n  </thead>\n  <tbody>\n    <tr>\n      <th>0</th>\n      <td>SCHN</td>\n    </tr>\n    <tr>\n      <th>1</th>\n      <td>CRON</td>\n    </tr>\n    <tr>\n      <th>2</th>\n      <td>UMH</td>\n    </tr>\n    <tr>\n      <th>3</th>\n      <td>INVE</td>\n    </tr>\n    <tr>\n      <th>4</th>\n      <td>STWOU</td>\n    </tr>\n    <tr>\n      <th>...</th>\n      <td>...</td>\n    </tr>\n    <tr>\n      <th>6196</th>\n      <td>PWOD</td>\n    </tr>\n    <tr>\n      <th>6197</th>\n      <td>CBIO</td>\n    </tr>\n    <tr>\n      <th>6198</th>\n      <td>VRME</td>\n    </tr>\n    <tr>\n      <th>6199</th>\n      <td>MASI</td>\n    </tr>\n    <tr>\n      <th>6200</th>\n      <td>MS.PRF</td>\n    </tr>\n  </tbody>\n</table>\n<p>6201 rows × 1 columns</p>\n</div>"
     },
     "metadata": {},
     "execution_count": 18
    }
   ],
   "source": [
    "# make list into dataframe.\n",
    "combined_list = pd.DataFrame(combined_list)\n",
    "combined_list"
   ]
  },
  {
   "cell_type": "code",
   "execution_count": 51,
   "metadata": {},
   "outputs": [],
   "source": [
    "# load in reddit data\n",
    "titles_df = pd.read_csv('/Users/gregfinin/Class/Final_Project_WSB/Data/wallstreetbets_subs.csv')"
   ]
  },
  {
   "cell_type": "code",
   "execution_count": 23,
   "metadata": {},
   "outputs": [
    {
     "output_type": "execute_result",
     "data": {
      "text/plain": [
       "0                                 Any predictions for $WLL?\n",
       "1                                          In Musk We Trust\n",
       "2                            How to update your BTC targets\n",
       "3                 GME Short Squeeze: A WallStreetBets Movie\n",
       "4                          Let’s coordinate a pump and dump\n",
       "                                ...                        \n",
       "717091                                        American weed\n",
       "717092                                  Relief Therapeutics\n",
       "717093          $QTMM The ugliest stock page I've ever seen\n",
       "717094    Send Doge to the moon so I can leave my abusiv...\n",
       "717095    WE Raised the Curve on Thursday, Just as Hedgi...\n",
       "Name: title, Length: 717096, dtype: object"
      ]
     },
     "metadata": {},
     "execution_count": 23
    }
   ],
   "source": [
    "titles_df = titles_df['title']\n",
    "titles_df"
   ]
  },
  {
   "cell_type": "code",
   "execution_count": 27,
   "metadata": {},
   "outputs": [],
   "source": [
    "# create list for storing values\n",
    "ticker_names_list = []\n",
    "ticker_counts = []"
   ]
  },
  {
   "cell_type": "code",
   "execution_count": 33,
   "metadata": {},
   "outputs": [],
   "source": [
    "# count tickers in submissions and append lists\n",
    "for ticker in combined_list[0]:\n",
    "    count = titles_df.str.contains(rf\"\\s({ticker})\\s\", flags=re.IGNORECASE, regex=True).sum()\n",
    "    ticker_names_list.append(ticker)\n",
    "    ticker_counts.append(count)"
   ]
  },
  {
   "cell_type": "code",
   "execution_count": 37,
   "metadata": {},
   "outputs": [],
   "source": [
    "# create dataframe for non word tickers\n",
    "non_word_ticker_df = pd.DataFrame(ticker_names_list)"
   ]
  },
  {
   "cell_type": "code",
   "execution_count": 38,
   "metadata": {},
   "outputs": [
    {
     "output_type": "execute_result",
     "data": {
      "text/plain": [
       "           0  count\n",
       "0          0    267\n",
       "1       SCHN      1\n",
       "2       CRON      7\n",
       "3        UMH      0\n",
       "4       INVE      0\n",
       "...      ...    ...\n",
       "6197    PWOD      0\n",
       "6198    CBIO      0\n",
       "6199    VRME      0\n",
       "6200    MASI      0\n",
       "6201  MS.PRF      0\n",
       "\n",
       "[6202 rows x 2 columns]"
      ],
      "text/html": "<div>\n<style scoped>\n    .dataframe tbody tr th:only-of-type {\n        vertical-align: middle;\n    }\n\n    .dataframe tbody tr th {\n        vertical-align: top;\n    }\n\n    .dataframe thead th {\n        text-align: right;\n    }\n</style>\n<table border=\"1\" class=\"dataframe\">\n  <thead>\n    <tr style=\"text-align: right;\">\n      <th></th>\n      <th>0</th>\n      <th>count</th>\n    </tr>\n  </thead>\n  <tbody>\n    <tr>\n      <th>0</th>\n      <td>0</td>\n      <td>267</td>\n    </tr>\n    <tr>\n      <th>1</th>\n      <td>SCHN</td>\n      <td>1</td>\n    </tr>\n    <tr>\n      <th>2</th>\n      <td>CRON</td>\n      <td>7</td>\n    </tr>\n    <tr>\n      <th>3</th>\n      <td>UMH</td>\n      <td>0</td>\n    </tr>\n    <tr>\n      <th>4</th>\n      <td>INVE</td>\n      <td>0</td>\n    </tr>\n    <tr>\n      <th>...</th>\n      <td>...</td>\n      <td>...</td>\n    </tr>\n    <tr>\n      <th>6197</th>\n      <td>PWOD</td>\n      <td>0</td>\n    </tr>\n    <tr>\n      <th>6198</th>\n      <td>CBIO</td>\n      <td>0</td>\n    </tr>\n    <tr>\n      <th>6199</th>\n      <td>VRME</td>\n      <td>0</td>\n    </tr>\n    <tr>\n      <th>6200</th>\n      <td>MASI</td>\n      <td>0</td>\n    </tr>\n    <tr>\n      <th>6201</th>\n      <td>MS.PRF</td>\n      <td>0</td>\n    </tr>\n  </tbody>\n</table>\n<p>6202 rows × 2 columns</p>\n</div>"
     },
     "metadata": {},
     "execution_count": 38
    }
   ],
   "source": [
    "# add counts\n",
    "non_word_ticker_df['count'] = ticker_counts\n",
    "non_word_ticker_df"
   ]
  },
  {
   "cell_type": "code",
   "execution_count": 41,
   "metadata": {},
   "outputs": [],
   "source": [
    "#sort by values\n",
    "non_word_tickers = non_word_ticker_df.sort_values(by='count', ascending=False)"
   ]
  },
  {
   "cell_type": "code",
   "execution_count": 42,
   "metadata": {},
   "outputs": [
    {
     "output_type": "execute_result",
     "data": {
      "text/plain": [
       "             0  count\n",
       "3607       GME  53911\n",
       "1718       AMC  22993\n",
       "5801       NOK   6498\n",
       "5580      ELSE   3348\n",
       "4145        TD   1248\n",
       "...        ...    ...\n",
       "2298  STAR.PRI      0\n",
       "2297      LGVW      0\n",
       "2296      RACA      0\n",
       "2294       RWT      0\n",
       "6201    MS.PRF      0\n",
       "\n",
       "[6202 rows x 2 columns]"
      ],
      "text/html": "<div>\n<style scoped>\n    .dataframe tbody tr th:only-of-type {\n        vertical-align: middle;\n    }\n\n    .dataframe tbody tr th {\n        vertical-align: top;\n    }\n\n    .dataframe thead th {\n        text-align: right;\n    }\n</style>\n<table border=\"1\" class=\"dataframe\">\n  <thead>\n    <tr style=\"text-align: right;\">\n      <th></th>\n      <th>0</th>\n      <th>count</th>\n    </tr>\n  </thead>\n  <tbody>\n    <tr>\n      <th>3607</th>\n      <td>GME</td>\n      <td>53911</td>\n    </tr>\n    <tr>\n      <th>1718</th>\n      <td>AMC</td>\n      <td>22993</td>\n    </tr>\n    <tr>\n      <th>5801</th>\n      <td>NOK</td>\n      <td>6498</td>\n    </tr>\n    <tr>\n      <th>5580</th>\n      <td>ELSE</td>\n      <td>3348</td>\n    </tr>\n    <tr>\n      <th>4145</th>\n      <td>TD</td>\n      <td>1248</td>\n    </tr>\n    <tr>\n      <th>...</th>\n      <td>...</td>\n      <td>...</td>\n    </tr>\n    <tr>\n      <th>2298</th>\n      <td>STAR.PRI</td>\n      <td>0</td>\n    </tr>\n    <tr>\n      <th>2297</th>\n      <td>LGVW</td>\n      <td>0</td>\n    </tr>\n    <tr>\n      <th>2296</th>\n      <td>RACA</td>\n      <td>0</td>\n    </tr>\n    <tr>\n      <th>2294</th>\n      <td>RWT</td>\n      <td>0</td>\n    </tr>\n    <tr>\n      <th>6201</th>\n      <td>MS.PRF</td>\n      <td>0</td>\n    </tr>\n  </tbody>\n</table>\n<p>6202 rows × 2 columns</p>\n</div>"
     },
     "metadata": {},
     "execution_count": 42
    }
   ],
   "source": [
    "# check df\n",
    "non_word_tickers"
   ]
  },
  {
   "cell_type": "code",
   "execution_count": 43,
   "metadata": {},
   "outputs": [],
   "source": [
    "# remove tickers with no mentions\n",
    "non_word_tickers = non_word_tickers.where(non_word_tickers['count'] != 0)"
   ]
  },
  {
   "cell_type": "code",
   "execution_count": 45,
   "metadata": {},
   "outputs": [],
   "source": [
    "# drop nulls\n",
    "final_non_word_tickers = non_word_tickers.dropna()"
   ]
  },
  {
   "cell_type": "code",
   "execution_count": 46,
   "metadata": {},
   "outputs": [
    {
     "output_type": "execute_result",
     "data": {
      "text/plain": [
       "         0    count\n",
       "3607   GME  53911.0\n",
       "1718   AMC  22993.0\n",
       "5801   NOK   6498.0\n",
       "5580  ELSE   3348.0\n",
       "4145    TD   1248.0\n",
       "...    ...      ...\n",
       "5355   SAR      1.0\n",
       "497    LYG      1.0\n",
       "577    KMT      1.0\n",
       "6191  ZYXI      1.0\n",
       "508   SPRT      1.0\n",
       "\n",
       "[1249 rows x 2 columns]"
      ],
      "text/html": "<div>\n<style scoped>\n    .dataframe tbody tr th:only-of-type {\n        vertical-align: middle;\n    }\n\n    .dataframe tbody tr th {\n        vertical-align: top;\n    }\n\n    .dataframe thead th {\n        text-align: right;\n    }\n</style>\n<table border=\"1\" class=\"dataframe\">\n  <thead>\n    <tr style=\"text-align: right;\">\n      <th></th>\n      <th>0</th>\n      <th>count</th>\n    </tr>\n  </thead>\n  <tbody>\n    <tr>\n      <th>3607</th>\n      <td>GME</td>\n      <td>53911.0</td>\n    </tr>\n    <tr>\n      <th>1718</th>\n      <td>AMC</td>\n      <td>22993.0</td>\n    </tr>\n    <tr>\n      <th>5801</th>\n      <td>NOK</td>\n      <td>6498.0</td>\n    </tr>\n    <tr>\n      <th>5580</th>\n      <td>ELSE</td>\n      <td>3348.0</td>\n    </tr>\n    <tr>\n      <th>4145</th>\n      <td>TD</td>\n      <td>1248.0</td>\n    </tr>\n    <tr>\n      <th>...</th>\n      <td>...</td>\n      <td>...</td>\n    </tr>\n    <tr>\n      <th>5355</th>\n      <td>SAR</td>\n      <td>1.0</td>\n    </tr>\n    <tr>\n      <th>497</th>\n      <td>LYG</td>\n      <td>1.0</td>\n    </tr>\n    <tr>\n      <th>577</th>\n      <td>KMT</td>\n      <td>1.0</td>\n    </tr>\n    <tr>\n      <th>6191</th>\n      <td>ZYXI</td>\n      <td>1.0</td>\n    </tr>\n    <tr>\n      <th>508</th>\n      <td>SPRT</td>\n      <td>1.0</td>\n    </tr>\n  </tbody>\n</table>\n<p>1249 rows × 2 columns</p>\n</div>"
     },
     "metadata": {},
     "execution_count": 46
    }
   ],
   "source": [
    "#final count of non word tickers (dont know why else made it through)\n",
    "final_non_word_tickers"
   ]
  },
  {
   "cell_type": "code",
   "execution_count": 48,
   "metadata": {},
   "outputs": [],
   "source": [
    "# save as csv\n",
    "final_non_word_tickers.to_csv(path_or_buf='/Users/gregfinin/Project/non_word_tickers.csv',index=False)"
   ]
  },
  {
   "cell_type": "code",
   "execution_count": 101,
   "metadata": {},
   "outputs": [
    {
     "output_type": "execute_result",
     "data": {
      "text/plain": [
       "                                                    title        date_created\n",
       "0                               Any predictions for $WLL? 2021-01-12 03:17:42\n",
       "1                                        In Musk We Trust 2021-01-12 03:11:30\n",
       "2                          How to update your BTC targets 2021-01-12 03:11:22\n",
       "3               GME Short Squeeze: A WallStreetBets Movie 2021-01-12 03:06:45\n",
       "4                        Let’s coordinate a pump and dump 2021-01-12 03:02:44\n",
       "...                                                   ...                 ...\n",
       "717091                                      American weed 2021-02-04 22:34:45\n",
       "717092                                Relief Therapeutics 2021-02-04 22:34:38\n",
       "717093        $QTMM The ugliest stock page I've ever seen 2021-02-04 22:34:36\n",
       "717094  Send Doge to the moon so I can leave my abusiv... 2021-02-04 22:34:33\n",
       "717095  WE Raised the Curve on Thursday, Just as Hedgi... 2021-02-04 22:34:32\n",
       "\n",
       "[717096 rows x 2 columns]"
      ],
      "text/html": "<div>\n<style scoped>\n    .dataframe tbody tr th:only-of-type {\n        vertical-align: middle;\n    }\n\n    .dataframe tbody tr th {\n        vertical-align: top;\n    }\n\n    .dataframe thead th {\n        text-align: right;\n    }\n</style>\n<table border=\"1\" class=\"dataframe\">\n  <thead>\n    <tr style=\"text-align: right;\">\n      <th></th>\n      <th>title</th>\n      <th>date_created</th>\n    </tr>\n  </thead>\n  <tbody>\n    <tr>\n      <th>0</th>\n      <td>Any predictions for $WLL?</td>\n      <td>2021-01-12 03:17:42</td>\n    </tr>\n    <tr>\n      <th>1</th>\n      <td>In Musk We Trust</td>\n      <td>2021-01-12 03:11:30</td>\n    </tr>\n    <tr>\n      <th>2</th>\n      <td>How to update your BTC targets</td>\n      <td>2021-01-12 03:11:22</td>\n    </tr>\n    <tr>\n      <th>3</th>\n      <td>GME Short Squeeze: A WallStreetBets Movie</td>\n      <td>2021-01-12 03:06:45</td>\n    </tr>\n    <tr>\n      <th>4</th>\n      <td>Let’s coordinate a pump and dump</td>\n      <td>2021-01-12 03:02:44</td>\n    </tr>\n    <tr>\n      <th>...</th>\n      <td>...</td>\n      <td>...</td>\n    </tr>\n    <tr>\n      <th>717091</th>\n      <td>American weed</td>\n      <td>2021-02-04 22:34:45</td>\n    </tr>\n    <tr>\n      <th>717092</th>\n      <td>Relief Therapeutics</td>\n      <td>2021-02-04 22:34:38</td>\n    </tr>\n    <tr>\n      <th>717093</th>\n      <td>$QTMM The ugliest stock page I've ever seen</td>\n      <td>2021-02-04 22:34:36</td>\n    </tr>\n    <tr>\n      <th>717094</th>\n      <td>Send Doge to the moon so I can leave my abusiv...</td>\n      <td>2021-02-04 22:34:33</td>\n    </tr>\n    <tr>\n      <th>717095</th>\n      <td>WE Raised the Curve on Thursday, Just as Hedgi...</td>\n      <td>2021-02-04 22:34:32</td>\n    </tr>\n  </tbody>\n</table>\n<p>717096 rows × 2 columns</p>\n</div>"
     },
     "metadata": {},
     "execution_count": 101
    }
   ],
   "source": [
    "# make dataframe for titles andd dates\n",
    "title_df = pd.DataFrame({\n",
    "    'title': title_by_date['title'],\n",
    "    'date_created': pd.to_datetime(title_by_date['created_utc'], unit='s')\n",
    "})\n",
    "title_df"
   ]
  },
  {
   "cell_type": "code",
   "execution_count": 102,
   "metadata": {},
   "outputs": [],
   "source": [
    "# convert date created column\n",
    "title_df['date'] = title_df['date_created'].dt.date"
   ]
  },
  {
   "cell_type": "code",
   "execution_count": 103,
   "metadata": {},
   "outputs": [
    {
     "output_type": "execute_result",
     "data": {
      "text/plain": [
       "                                                    title        date\n",
       "0                               Any predictions for $WLL?  2021-01-12\n",
       "1                                        In Musk We Trust  2021-01-12\n",
       "2                          How to update your BTC targets  2021-01-12\n",
       "3               GME Short Squeeze: A WallStreetBets Movie  2021-01-12\n",
       "4                        Let’s coordinate a pump and dump  2021-01-12\n",
       "...                                                   ...         ...\n",
       "717091                                      American weed  2021-02-04\n",
       "717092                                Relief Therapeutics  2021-02-04\n",
       "717093        $QTMM The ugliest stock page I've ever seen  2021-02-04\n",
       "717094  Send Doge to the moon so I can leave my abusiv...  2021-02-04\n",
       "717095  WE Raised the Curve on Thursday, Just as Hedgi...  2021-02-04\n",
       "\n",
       "[717096 rows x 2 columns]"
      ],
      "text/html": "<div>\n<style scoped>\n    .dataframe tbody tr th:only-of-type {\n        vertical-align: middle;\n    }\n\n    .dataframe tbody tr th {\n        vertical-align: top;\n    }\n\n    .dataframe thead th {\n        text-align: right;\n    }\n</style>\n<table border=\"1\" class=\"dataframe\">\n  <thead>\n    <tr style=\"text-align: right;\">\n      <th></th>\n      <th>title</th>\n      <th>date</th>\n    </tr>\n  </thead>\n  <tbody>\n    <tr>\n      <th>0</th>\n      <td>Any predictions for $WLL?</td>\n      <td>2021-01-12</td>\n    </tr>\n    <tr>\n      <th>1</th>\n      <td>In Musk We Trust</td>\n      <td>2021-01-12</td>\n    </tr>\n    <tr>\n      <th>2</th>\n      <td>How to update your BTC targets</td>\n      <td>2021-01-12</td>\n    </tr>\n    <tr>\n      <th>3</th>\n      <td>GME Short Squeeze: A WallStreetBets Movie</td>\n      <td>2021-01-12</td>\n    </tr>\n    <tr>\n      <th>4</th>\n      <td>Let’s coordinate a pump and dump</td>\n      <td>2021-01-12</td>\n    </tr>\n    <tr>\n      <th>...</th>\n      <td>...</td>\n      <td>...</td>\n    </tr>\n    <tr>\n      <th>717091</th>\n      <td>American weed</td>\n      <td>2021-02-04</td>\n    </tr>\n    <tr>\n      <th>717092</th>\n      <td>Relief Therapeutics</td>\n      <td>2021-02-04</td>\n    </tr>\n    <tr>\n      <th>717093</th>\n      <td>$QTMM The ugliest stock page I've ever seen</td>\n      <td>2021-02-04</td>\n    </tr>\n    <tr>\n      <th>717094</th>\n      <td>Send Doge to the moon so I can leave my abusiv...</td>\n      <td>2021-02-04</td>\n    </tr>\n    <tr>\n      <th>717095</th>\n      <td>WE Raised the Curve on Thursday, Just as Hedgi...</td>\n      <td>2021-02-04</td>\n    </tr>\n  </tbody>\n</table>\n<p>717096 rows × 2 columns</p>\n</div>"
     },
     "metadata": {},
     "execution_count": 103
    }
   ],
   "source": [
    "#drop date created\n",
    "title_df.drop(columns='date_created')"
   ]
  },
  {
   "cell_type": "code",
   "execution_count": 111,
   "metadata": {},
   "outputs": [],
   "source": [
    "# One of the tickers was 0 as an int and was throwing off my for loop.\n",
    "list_of_non_zero_tickers.remove(0)"
   ]
  },
  {
   "cell_type": "code",
   "execution_count": 75,
   "metadata": {},
   "outputs": [],
   "source": [
    "list_of_non_zero_tickers = non_zero_tickers.to_list()"
   ]
  },
  {
   "cell_type": "code",
   "execution_count": 112,
   "metadata": {},
   "outputs": [
    {
     "output_type": "error",
     "ename": "KeyboardInterrupt",
     "evalue": "",
     "traceback": [
      "\u001b[0;31m---------------------------------------------------------------------------\u001b[0m",
      "\u001b[0;31mKeyboardInterrupt\u001b[0m                         Traceback (most recent call last)",
      "\u001b[0;32m<ipython-input-112-57c8a56ff5e5>\u001b[0m in \u001b[0;36m<module>\u001b[0;34m\u001b[0m\n\u001b[1;32m      1\u001b[0m \u001b[0;32mfor\u001b[0m \u001b[0mticker\u001b[0m \u001b[0;32min\u001b[0m \u001b[0mlist_of_non_zero_tickers\u001b[0m\u001b[0;34m:\u001b[0m\u001b[0;34m\u001b[0m\u001b[0;34m\u001b[0m\u001b[0m\n\u001b[0;32m----> 2\u001b[0;31m     \u001b[0mtitle_df\u001b[0m\u001b[0;34m[\u001b[0m\u001b[0mticker\u001b[0m\u001b[0;34m]\u001b[0m \u001b[0;34m=\u001b[0m \u001b[0mnp\u001b[0m\u001b[0;34m.\u001b[0m\u001b[0mwhere\u001b[0m\u001b[0;34m(\u001b[0m\u001b[0mtitle_df\u001b[0m\u001b[0;34m[\u001b[0m\u001b[0;34m'title'\u001b[0m\u001b[0;34m]\u001b[0m\u001b[0;34m.\u001b[0m\u001b[0mstr\u001b[0m\u001b[0;34m.\u001b[0m\u001b[0mlower\u001b[0m\u001b[0;34m(\u001b[0m\u001b[0;34m)\u001b[0m\u001b[0;34m.\u001b[0m\u001b[0mstr\u001b[0m\u001b[0;34m.\u001b[0m\u001b[0mcontains\u001b[0m\u001b[0;34m(\u001b[0m\u001b[0mticker\u001b[0m\u001b[0;34m)\u001b[0m\u001b[0;34m,\u001b[0m \u001b[0;36m1\u001b[0m\u001b[0;34m,\u001b[0m \u001b[0;36m0\u001b[0m\u001b[0;34m)\u001b[0m\u001b[0;34m\u001b[0m\u001b[0;34m\u001b[0m\u001b[0m\n\u001b[0m",
      "\u001b[0;32m~/opt/anaconda3/envs/PythonData/lib/python3.7/site-packages/pandas/core/strings.py\u001b[0m in \u001b[0;36mwrapper\u001b[0;34m(self, *args, **kwargs)\u001b[0m\n\u001b[1;32m   1952\u001b[0m                 )\n\u001b[1;32m   1953\u001b[0m                 \u001b[0;32mraise\u001b[0m \u001b[0mTypeError\u001b[0m\u001b[0;34m(\u001b[0m\u001b[0mmsg\u001b[0m\u001b[0;34m)\u001b[0m\u001b[0;34m\u001b[0m\u001b[0;34m\u001b[0m\u001b[0m\n\u001b[0;32m-> 1954\u001b[0;31m             \u001b[0;32mreturn\u001b[0m \u001b[0mfunc\u001b[0m\u001b[0;34m(\u001b[0m\u001b[0mself\u001b[0m\u001b[0;34m,\u001b[0m \u001b[0;34m*\u001b[0m\u001b[0margs\u001b[0m\u001b[0;34m,\u001b[0m \u001b[0;34m**\u001b[0m\u001b[0mkwargs\u001b[0m\u001b[0;34m)\u001b[0m\u001b[0;34m\u001b[0m\u001b[0;34m\u001b[0m\u001b[0m\n\u001b[0m\u001b[1;32m   1955\u001b[0m \u001b[0;34m\u001b[0m\u001b[0m\n\u001b[1;32m   1956\u001b[0m         \u001b[0mwrapper\u001b[0m\u001b[0;34m.\u001b[0m\u001b[0m__name__\u001b[0m \u001b[0;34m=\u001b[0m \u001b[0mfunc_name\u001b[0m\u001b[0;34m\u001b[0m\u001b[0;34m\u001b[0m\u001b[0m\n",
      "\u001b[0;32m~/opt/anaconda3/envs/PythonData/lib/python3.7/site-packages/pandas/core/strings.py\u001b[0m in \u001b[0;36mwrapper\u001b[0;34m(self)\u001b[0m\n\u001b[1;32m   1970\u001b[0m     \u001b[0;34m@\u001b[0m\u001b[0mforbid_nonstring_types\u001b[0m\u001b[0;34m(\u001b[0m\u001b[0mforbidden_types\u001b[0m\u001b[0;34m,\u001b[0m \u001b[0mname\u001b[0m\u001b[0;34m=\u001b[0m\u001b[0mname\u001b[0m\u001b[0;34m)\u001b[0m\u001b[0;34m\u001b[0m\u001b[0;34m\u001b[0m\u001b[0m\n\u001b[1;32m   1971\u001b[0m     \u001b[0;32mdef\u001b[0m \u001b[0mwrapper\u001b[0m\u001b[0;34m(\u001b[0m\u001b[0mself\u001b[0m\u001b[0;34m)\u001b[0m\u001b[0;34m:\u001b[0m\u001b[0;34m\u001b[0m\u001b[0;34m\u001b[0m\u001b[0m\n\u001b[0;32m-> 1972\u001b[0;31m         \u001b[0mresult\u001b[0m \u001b[0;34m=\u001b[0m \u001b[0m_na_map\u001b[0m\u001b[0;34m(\u001b[0m\u001b[0mf\u001b[0m\u001b[0;34m,\u001b[0m \u001b[0mself\u001b[0m\u001b[0;34m.\u001b[0m\u001b[0m_parent\u001b[0m\u001b[0;34m,\u001b[0m \u001b[0;34m**\u001b[0m\u001b[0mkargs\u001b[0m\u001b[0;34m)\u001b[0m\u001b[0;34m\u001b[0m\u001b[0;34m\u001b[0m\u001b[0m\n\u001b[0m\u001b[1;32m   1973\u001b[0m         \u001b[0;32mreturn\u001b[0m \u001b[0mself\u001b[0m\u001b[0;34m.\u001b[0m\u001b[0m_wrap_result\u001b[0m\u001b[0;34m(\u001b[0m\u001b[0mresult\u001b[0m\u001b[0;34m,\u001b[0m \u001b[0mreturns_string\u001b[0m\u001b[0;34m=\u001b[0m\u001b[0mreturns_string\u001b[0m\u001b[0;34m)\u001b[0m\u001b[0;34m\u001b[0m\u001b[0;34m\u001b[0m\u001b[0m\n\u001b[1;32m   1974\u001b[0m \u001b[0;34m\u001b[0m\u001b[0m\n",
      "\u001b[0;32m~/opt/anaconda3/envs/PythonData/lib/python3.7/site-packages/pandas/core/strings.py\u001b[0m in \u001b[0;36m_na_map\u001b[0;34m(f, arr, na_result, dtype)\u001b[0m\n\u001b[1;32m    129\u001b[0m     \u001b[0;32mif\u001b[0m \u001b[0mna_result\u001b[0m \u001b[0;32mis\u001b[0m \u001b[0;32mNone\u001b[0m\u001b[0;34m:\u001b[0m\u001b[0;34m\u001b[0m\u001b[0;34m\u001b[0m\u001b[0m\n\u001b[1;32m    130\u001b[0m         \u001b[0mna_result\u001b[0m \u001b[0;34m=\u001b[0m \u001b[0mnp\u001b[0m\u001b[0;34m.\u001b[0m\u001b[0mnan\u001b[0m\u001b[0;34m\u001b[0m\u001b[0;34m\u001b[0m\u001b[0m\n\u001b[0;32m--> 131\u001b[0;31m     \u001b[0;32mreturn\u001b[0m \u001b[0m_map_object\u001b[0m\u001b[0;34m(\u001b[0m\u001b[0mf\u001b[0m\u001b[0;34m,\u001b[0m \u001b[0marr\u001b[0m\u001b[0;34m,\u001b[0m \u001b[0mna_mask\u001b[0m\u001b[0;34m=\u001b[0m\u001b[0;32mTrue\u001b[0m\u001b[0;34m,\u001b[0m \u001b[0mna_value\u001b[0m\u001b[0;34m=\u001b[0m\u001b[0mna_result\u001b[0m\u001b[0;34m,\u001b[0m \u001b[0mdtype\u001b[0m\u001b[0;34m=\u001b[0m\u001b[0mdtype\u001b[0m\u001b[0;34m)\u001b[0m\u001b[0;34m\u001b[0m\u001b[0;34m\u001b[0m\u001b[0m\n\u001b[0m\u001b[1;32m    132\u001b[0m \u001b[0;34m\u001b[0m\u001b[0m\n\u001b[1;32m    133\u001b[0m \u001b[0;34m\u001b[0m\u001b[0m\n",
      "\u001b[0;32m~/opt/anaconda3/envs/PythonData/lib/python3.7/site-packages/pandas/core/strings.py\u001b[0m in \u001b[0;36m_map_object\u001b[0;34m(f, arr, na_mask, na_value, dtype)\u001b[0m\n\u001b[1;32m    214\u001b[0m         \u001b[0mconvert\u001b[0m \u001b[0;34m=\u001b[0m \u001b[0;32mnot\u001b[0m \u001b[0mnp\u001b[0m\u001b[0;34m.\u001b[0m\u001b[0mall\u001b[0m\u001b[0;34m(\u001b[0m\u001b[0mmask\u001b[0m\u001b[0;34m)\u001b[0m\u001b[0;34m\u001b[0m\u001b[0;34m\u001b[0m\u001b[0m\n\u001b[1;32m    215\u001b[0m         \u001b[0;32mtry\u001b[0m\u001b[0;34m:\u001b[0m\u001b[0;34m\u001b[0m\u001b[0;34m\u001b[0m\u001b[0m\n\u001b[0;32m--> 216\u001b[0;31m             \u001b[0mresult\u001b[0m \u001b[0;34m=\u001b[0m \u001b[0mlib\u001b[0m\u001b[0;34m.\u001b[0m\u001b[0mmap_infer_mask\u001b[0m\u001b[0;34m(\u001b[0m\u001b[0marr\u001b[0m\u001b[0;34m,\u001b[0m \u001b[0mf\u001b[0m\u001b[0;34m,\u001b[0m \u001b[0mmask\u001b[0m\u001b[0;34m.\u001b[0m\u001b[0mview\u001b[0m\u001b[0;34m(\u001b[0m\u001b[0mnp\u001b[0m\u001b[0;34m.\u001b[0m\u001b[0muint8\u001b[0m\u001b[0;34m)\u001b[0m\u001b[0;34m,\u001b[0m \u001b[0mconvert\u001b[0m\u001b[0;34m)\u001b[0m\u001b[0;34m\u001b[0m\u001b[0;34m\u001b[0m\u001b[0m\n\u001b[0m\u001b[1;32m    217\u001b[0m         \u001b[0;32mexcept\u001b[0m \u001b[0;34m(\u001b[0m\u001b[0mTypeError\u001b[0m\u001b[0;34m,\u001b[0m \u001b[0mAttributeError\u001b[0m\u001b[0;34m)\u001b[0m \u001b[0;32mas\u001b[0m \u001b[0me\u001b[0m\u001b[0;34m:\u001b[0m\u001b[0;34m\u001b[0m\u001b[0;34m\u001b[0m\u001b[0m\n\u001b[1;32m    218\u001b[0m             \u001b[0;31m# Reraise the exception if callable `f` got wrong number of args.\u001b[0m\u001b[0;34m\u001b[0m\u001b[0;34m\u001b[0m\u001b[0;34m\u001b[0m\u001b[0m\n",
      "\u001b[0;32mpandas/_libs/lib.pyx\u001b[0m in \u001b[0;36mpandas._libs.lib.map_infer_mask\u001b[0;34m()\u001b[0m\n",
      "\u001b[0;32m~/opt/anaconda3/envs/PythonData/lib/python3.7/site-packages/pandas/core/strings.py\u001b[0m in \u001b[0;36m<lambda>\u001b[0;34m(x)\u001b[0m\n\u001b[1;32m   3311\u001b[0m     )\n\u001b[1;32m   3312\u001b[0m     lower = _noarg_wrapper(\n\u001b[0;32m-> 3313\u001b[0;31m         \u001b[0;32mlambda\u001b[0m \u001b[0mx\u001b[0m\u001b[0;34m:\u001b[0m \u001b[0mx\u001b[0m\u001b[0;34m.\u001b[0m\u001b[0mlower\u001b[0m\u001b[0;34m(\u001b[0m\u001b[0;34m)\u001b[0m\u001b[0;34m,\u001b[0m\u001b[0;34m\u001b[0m\u001b[0;34m\u001b[0m\u001b[0m\n\u001b[0m\u001b[1;32m   3314\u001b[0m         \u001b[0mname\u001b[0m\u001b[0;34m=\u001b[0m\u001b[0;34m\"lower\"\u001b[0m\u001b[0;34m,\u001b[0m\u001b[0;34m\u001b[0m\u001b[0;34m\u001b[0m\u001b[0m\n\u001b[1;32m   3315\u001b[0m         \u001b[0mdocstring\u001b[0m\u001b[0;34m=\u001b[0m\u001b[0m_shared_docs\u001b[0m\u001b[0;34m[\u001b[0m\u001b[0;34m\"casemethods\"\u001b[0m\u001b[0;34m]\u001b[0m \u001b[0;34m%\u001b[0m \u001b[0m_doc_args\u001b[0m\u001b[0;34m[\u001b[0m\u001b[0;34m\"lower\"\u001b[0m\u001b[0;34m]\u001b[0m\u001b[0;34m,\u001b[0m\u001b[0;34m\u001b[0m\u001b[0;34m\u001b[0m\u001b[0m\n",
      "\u001b[0;31mKeyboardInterrupt\u001b[0m: "
     ]
    }
   ],
   "source": [
    "# ready to run this but it will create 1249 columns for each ticker - might want to review which ones before running\n",
    "for ticker in list_of_non_zero_tickers:\n",
    "    title_df[ticker] = np.where(title_df['title'].str.lower().str.contains(ticker), 1, 0)"
   ]
  },
  {
   "cell_type": "code",
   "execution_count": null,
   "metadata": {},
   "outputs": [],
   "source": []
  }
 ]
}