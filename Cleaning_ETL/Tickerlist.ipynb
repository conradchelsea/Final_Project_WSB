{
 "metadata": {
  "language_info": {
   "codemirror_mode": {
    "name": "ipython",
    "version": 3
   },
   "file_extension": ".py",
   "mimetype": "text/x-python",
   "name": "python",
   "nbconvert_exporter": "python",
   "pygments_lexer": "ipython3",
   "version": "3.7.9-final"
  },
  "orig_nbformat": 2,
  "kernelspec": {
   "name": "python3",
   "display_name": "Python 3.7.9 64-bit ('mlenv': conda)",
   "metadata": {
    "interpreter": {
     "hash": "048dad420f067fed17ce0fa3745b2d42d3aa5960af8b063192d7d7c1cf436e55"
    }
   }
  }
 },
 "nbformat": 4,
 "nbformat_minor": 2,
 "cells": [
  {
   "cell_type": "code",
   "execution_count": 1,
   "metadata": {},
   "outputs": [],
   "source": [
    "import pandas as pd"
   ]
  },
  {
   "cell_type": "code",
   "execution_count": 2,
   "metadata": {},
   "outputs": [],
   "source": [
    "ticker_list = pd.read_csv(\"../Data/non_word_tickers.csv\")"
   ]
  },
  {
   "cell_type": "code",
   "execution_count": 3,
   "metadata": {},
   "outputs": [
    {
     "output_type": "execute_result",
     "data": {
      "text/plain": [
       "         0    count\n",
       "0      GME  53911.0\n",
       "1      AMC  22993.0\n",
       "2      NOK   6498.0\n",
       "3     ELSE   3348.0\n",
       "4       TD   1248.0\n",
       "...    ...      ...\n",
       "1244   SAR      1.0\n",
       "1245   LYG      1.0\n",
       "1246   KMT      1.0\n",
       "1247  ZYXI      1.0\n",
       "1248  SPRT      1.0\n",
       "\n",
       "[1249 rows x 2 columns]"
      ],
      "text/html": "<div>\n<style scoped>\n    .dataframe tbody tr th:only-of-type {\n        vertical-align: middle;\n    }\n\n    .dataframe tbody tr th {\n        vertical-align: top;\n    }\n\n    .dataframe thead th {\n        text-align: right;\n    }\n</style>\n<table border=\"1\" class=\"dataframe\">\n  <thead>\n    <tr style=\"text-align: right;\">\n      <th></th>\n      <th>0</th>\n      <th>count</th>\n    </tr>\n  </thead>\n  <tbody>\n    <tr>\n      <th>0</th>\n      <td>GME</td>\n      <td>53911.0</td>\n    </tr>\n    <tr>\n      <th>1</th>\n      <td>AMC</td>\n      <td>22993.0</td>\n    </tr>\n    <tr>\n      <th>2</th>\n      <td>NOK</td>\n      <td>6498.0</td>\n    </tr>\n    <tr>\n      <th>3</th>\n      <td>ELSE</td>\n      <td>3348.0</td>\n    </tr>\n    <tr>\n      <th>4</th>\n      <td>TD</td>\n      <td>1248.0</td>\n    </tr>\n    <tr>\n      <th>...</th>\n      <td>...</td>\n      <td>...</td>\n    </tr>\n    <tr>\n      <th>1244</th>\n      <td>SAR</td>\n      <td>1.0</td>\n    </tr>\n    <tr>\n      <th>1245</th>\n      <td>LYG</td>\n      <td>1.0</td>\n    </tr>\n    <tr>\n      <th>1246</th>\n      <td>KMT</td>\n      <td>1.0</td>\n    </tr>\n    <tr>\n      <th>1247</th>\n      <td>ZYXI</td>\n      <td>1.0</td>\n    </tr>\n    <tr>\n      <th>1248</th>\n      <td>SPRT</td>\n      <td>1.0</td>\n    </tr>\n  </tbody>\n</table>\n<p>1249 rows × 2 columns</p>\n</div>"
     },
     "metadata": {},
     "execution_count": 3
    }
   ],
   "source": [
    "ticker_list"
   ]
  },
  {
   "cell_type": "code",
   "execution_count": 4,
   "metadata": {},
   "outputs": [],
   "source": [
    "ticker_list = ticker_list[ticker_list[\"count\"] >= 100]"
   ]
  },
  {
   "cell_type": "code",
   "execution_count": 5,
   "metadata": {},
   "outputs": [
    {
     "output_type": "execute_result",
     "data": {
      "text/plain": [
       "       0    count\n",
       "0    GME  53911.0\n",
       "1    AMC  22993.0\n",
       "2    NOK   6498.0\n",
       "3   ELSE   3348.0\n",
       "4     TD   1248.0\n",
       "5   NAKD   1180.0\n",
       "6   APPS   1089.0\n",
       "7   PLTR    923.0\n",
       "8   SNDL    919.0\n",
       "9    SLV    868.0\n",
       "10  TSLA    667.0\n",
       "11  ONTO    561.0\n",
       "12   NIO    435.0\n",
       "13   CUZ    364.0\n",
       "14  BBBY    280.0\n",
       "15     0    267.0\n",
       "16   AAL    254.0\n",
       "17    ST    241.0\n",
       "18  EXPR    241.0\n",
       "19  SPCE    231.0\n",
       "20   JOE    225.0\n",
       "21   PPL    201.0\n",
       "22  CTRM    183.0\n",
       "23  ALOT    171.0\n",
       "24  CCIV    161.0\n",
       "25  FUBO    137.0\n",
       "26    JP    130.0\n",
       "27  AAPL    124.0\n",
       "28    ET    120.0\n",
       "29   MSM    119.0\n",
       "30    FB    113.0\n",
       "31  TLRY    106.0\n",
       "32   BRO    105.0\n",
       "33  CRSR    105.0\n",
       "34  IBKR    105.0\n",
       "35   BIO    100.0"
      ],
      "text/html": "<div>\n<style scoped>\n    .dataframe tbody tr th:only-of-type {\n        vertical-align: middle;\n    }\n\n    .dataframe tbody tr th {\n        vertical-align: top;\n    }\n\n    .dataframe thead th {\n        text-align: right;\n    }\n</style>\n<table border=\"1\" class=\"dataframe\">\n  <thead>\n    <tr style=\"text-align: right;\">\n      <th></th>\n      <th>0</th>\n      <th>count</th>\n    </tr>\n  </thead>\n  <tbody>\n    <tr>\n      <th>0</th>\n      <td>GME</td>\n      <td>53911.0</td>\n    </tr>\n    <tr>\n      <th>1</th>\n      <td>AMC</td>\n      <td>22993.0</td>\n    </tr>\n    <tr>\n      <th>2</th>\n      <td>NOK</td>\n      <td>6498.0</td>\n    </tr>\n    <tr>\n      <th>3</th>\n      <td>ELSE</td>\n      <td>3348.0</td>\n    </tr>\n    <tr>\n      <th>4</th>\n      <td>TD</td>\n      <td>1248.0</td>\n    </tr>\n    <tr>\n      <th>5</th>\n      <td>NAKD</td>\n      <td>1180.0</td>\n    </tr>\n    <tr>\n      <th>6</th>\n      <td>APPS</td>\n      <td>1089.0</td>\n    </tr>\n    <tr>\n      <th>7</th>\n      <td>PLTR</td>\n      <td>923.0</td>\n    </tr>\n    <tr>\n      <th>8</th>\n      <td>SNDL</td>\n      <td>919.0</td>\n    </tr>\n    <tr>\n      <th>9</th>\n      <td>SLV</td>\n      <td>868.0</td>\n    </tr>\n    <tr>\n      <th>10</th>\n      <td>TSLA</td>\n      <td>667.0</td>\n    </tr>\n    <tr>\n      <th>11</th>\n      <td>ONTO</td>\n      <td>561.0</td>\n    </tr>\n    <tr>\n      <th>12</th>\n      <td>NIO</td>\n      <td>435.0</td>\n    </tr>\n    <tr>\n      <th>13</th>\n      <td>CUZ</td>\n      <td>364.0</td>\n    </tr>\n    <tr>\n      <th>14</th>\n      <td>BBBY</td>\n      <td>280.0</td>\n    </tr>\n    <tr>\n      <th>15</th>\n      <td>0</td>\n      <td>267.0</td>\n    </tr>\n    <tr>\n      <th>16</th>\n      <td>AAL</td>\n      <td>254.0</td>\n    </tr>\n    <tr>\n      <th>17</th>\n      <td>ST</td>\n      <td>241.0</td>\n    </tr>\n    <tr>\n      <th>18</th>\n      <td>EXPR</td>\n      <td>241.0</td>\n    </tr>\n    <tr>\n      <th>19</th>\n      <td>SPCE</td>\n      <td>231.0</td>\n    </tr>\n    <tr>\n      <th>20</th>\n      <td>JOE</td>\n      <td>225.0</td>\n    </tr>\n    <tr>\n      <th>21</th>\n      <td>PPL</td>\n      <td>201.0</td>\n    </tr>\n    <tr>\n      <th>22</th>\n      <td>CTRM</td>\n      <td>183.0</td>\n    </tr>\n    <tr>\n      <th>23</th>\n      <td>ALOT</td>\n      <td>171.0</td>\n    </tr>\n    <tr>\n      <th>24</th>\n      <td>CCIV</td>\n      <td>161.0</td>\n    </tr>\n    <tr>\n      <th>25</th>\n      <td>FUBO</td>\n      <td>137.0</td>\n    </tr>\n    <tr>\n      <th>26</th>\n      <td>JP</td>\n      <td>130.0</td>\n    </tr>\n    <tr>\n      <th>27</th>\n      <td>AAPL</td>\n      <td>124.0</td>\n    </tr>\n    <tr>\n      <th>28</th>\n      <td>ET</td>\n      <td>120.0</td>\n    </tr>\n    <tr>\n      <th>29</th>\n      <td>MSM</td>\n      <td>119.0</td>\n    </tr>\n    <tr>\n      <th>30</th>\n      <td>FB</td>\n      <td>113.0</td>\n    </tr>\n    <tr>\n      <th>31</th>\n      <td>TLRY</td>\n      <td>106.0</td>\n    </tr>\n    <tr>\n      <th>32</th>\n      <td>BRO</td>\n      <td>105.0</td>\n    </tr>\n    <tr>\n      <th>33</th>\n      <td>CRSR</td>\n      <td>105.0</td>\n    </tr>\n    <tr>\n      <th>34</th>\n      <td>IBKR</td>\n      <td>105.0</td>\n    </tr>\n    <tr>\n      <th>35</th>\n      <td>BIO</td>\n      <td>100.0</td>\n    </tr>\n  </tbody>\n</table>\n</div>"
     },
     "metadata": {},
     "execution_count": 5
    }
   ],
   "source": [
    "ticker_list"
   ]
  },
  {
   "cell_type": "code",
   "execution_count": 6,
   "metadata": {},
   "outputs": [],
   "source": [
    "ticker_list = ticker_list[ticker_list[\"0\"] != \"0\"]"
   ]
  },
  {
   "cell_type": "code",
   "execution_count": 7,
   "metadata": {},
   "outputs": [
    {
     "output_type": "execute_result",
     "data": {
      "text/plain": [
       "       0    count\n",
       "0    GME  53911.0\n",
       "1    AMC  22993.0\n",
       "2    NOK   6498.0\n",
       "3   ELSE   3348.0\n",
       "4     TD   1248.0\n",
       "5   NAKD   1180.0\n",
       "6   APPS   1089.0\n",
       "7   PLTR    923.0\n",
       "8   SNDL    919.0\n",
       "9    SLV    868.0\n",
       "10  TSLA    667.0\n",
       "11  ONTO    561.0\n",
       "12   NIO    435.0\n",
       "13   CUZ    364.0\n",
       "14  BBBY    280.0\n",
       "16   AAL    254.0\n",
       "17    ST    241.0\n",
       "18  EXPR    241.0\n",
       "19  SPCE    231.0\n",
       "20   JOE    225.0\n",
       "21   PPL    201.0\n",
       "22  CTRM    183.0\n",
       "23  ALOT    171.0\n",
       "24  CCIV    161.0\n",
       "25  FUBO    137.0\n",
       "26    JP    130.0\n",
       "27  AAPL    124.0\n",
       "28    ET    120.0\n",
       "29   MSM    119.0\n",
       "30    FB    113.0\n",
       "31  TLRY    106.0\n",
       "32   BRO    105.0\n",
       "33  CRSR    105.0\n",
       "34  IBKR    105.0\n",
       "35   BIO    100.0"
      ],
      "text/html": "<div>\n<style scoped>\n    .dataframe tbody tr th:only-of-type {\n        vertical-align: middle;\n    }\n\n    .dataframe tbody tr th {\n        vertical-align: top;\n    }\n\n    .dataframe thead th {\n        text-align: right;\n    }\n</style>\n<table border=\"1\" class=\"dataframe\">\n  <thead>\n    <tr style=\"text-align: right;\">\n      <th></th>\n      <th>0</th>\n      <th>count</th>\n    </tr>\n  </thead>\n  <tbody>\n    <tr>\n      <th>0</th>\n      <td>GME</td>\n      <td>53911.0</td>\n    </tr>\n    <tr>\n      <th>1</th>\n      <td>AMC</td>\n      <td>22993.0</td>\n    </tr>\n    <tr>\n      <th>2</th>\n      <td>NOK</td>\n      <td>6498.0</td>\n    </tr>\n    <tr>\n      <th>3</th>\n      <td>ELSE</td>\n      <td>3348.0</td>\n    </tr>\n    <tr>\n      <th>4</th>\n      <td>TD</td>\n      <td>1248.0</td>\n    </tr>\n    <tr>\n      <th>5</th>\n      <td>NAKD</td>\n      <td>1180.0</td>\n    </tr>\n    <tr>\n      <th>6</th>\n      <td>APPS</td>\n      <td>1089.0</td>\n    </tr>\n    <tr>\n      <th>7</th>\n      <td>PLTR</td>\n      <td>923.0</td>\n    </tr>\n    <tr>\n      <th>8</th>\n      <td>SNDL</td>\n      <td>919.0</td>\n    </tr>\n    <tr>\n      <th>9</th>\n      <td>SLV</td>\n      <td>868.0</td>\n    </tr>\n    <tr>\n      <th>10</th>\n      <td>TSLA</td>\n      <td>667.0</td>\n    </tr>\n    <tr>\n      <th>11</th>\n      <td>ONTO</td>\n      <td>561.0</td>\n    </tr>\n    <tr>\n      <th>12</th>\n      <td>NIO</td>\n      <td>435.0</td>\n    </tr>\n    <tr>\n      <th>13</th>\n      <td>CUZ</td>\n      <td>364.0</td>\n    </tr>\n    <tr>\n      <th>14</th>\n      <td>BBBY</td>\n      <td>280.0</td>\n    </tr>\n    <tr>\n      <th>16</th>\n      <td>AAL</td>\n      <td>254.0</td>\n    </tr>\n    <tr>\n      <th>17</th>\n      <td>ST</td>\n      <td>241.0</td>\n    </tr>\n    <tr>\n      <th>18</th>\n      <td>EXPR</td>\n      <td>241.0</td>\n    </tr>\n    <tr>\n      <th>19</th>\n      <td>SPCE</td>\n      <td>231.0</td>\n    </tr>\n    <tr>\n      <th>20</th>\n      <td>JOE</td>\n      <td>225.0</td>\n    </tr>\n    <tr>\n      <th>21</th>\n      <td>PPL</td>\n      <td>201.0</td>\n    </tr>\n    <tr>\n      <th>22</th>\n      <td>CTRM</td>\n      <td>183.0</td>\n    </tr>\n    <tr>\n      <th>23</th>\n      <td>ALOT</td>\n      <td>171.0</td>\n    </tr>\n    <tr>\n      <th>24</th>\n      <td>CCIV</td>\n      <td>161.0</td>\n    </tr>\n    <tr>\n      <th>25</th>\n      <td>FUBO</td>\n      <td>137.0</td>\n    </tr>\n    <tr>\n      <th>26</th>\n      <td>JP</td>\n      <td>130.0</td>\n    </tr>\n    <tr>\n      <th>27</th>\n      <td>AAPL</td>\n      <td>124.0</td>\n    </tr>\n    <tr>\n      <th>28</th>\n      <td>ET</td>\n      <td>120.0</td>\n    </tr>\n    <tr>\n      <th>29</th>\n      <td>MSM</td>\n      <td>119.0</td>\n    </tr>\n    <tr>\n      <th>30</th>\n      <td>FB</td>\n      <td>113.0</td>\n    </tr>\n    <tr>\n      <th>31</th>\n      <td>TLRY</td>\n      <td>106.0</td>\n    </tr>\n    <tr>\n      <th>32</th>\n      <td>BRO</td>\n      <td>105.0</td>\n    </tr>\n    <tr>\n      <th>33</th>\n      <td>CRSR</td>\n      <td>105.0</td>\n    </tr>\n    <tr>\n      <th>34</th>\n      <td>IBKR</td>\n      <td>105.0</td>\n    </tr>\n    <tr>\n      <th>35</th>\n      <td>BIO</td>\n      <td>100.0</td>\n    </tr>\n  </tbody>\n</table>\n</div>"
     },
     "metadata": {},
     "execution_count": 7
    }
   ],
   "source": [
    "ticker_list"
   ]
  },
  {
   "cell_type": "code",
   "execution_count": 8,
   "metadata": {},
   "outputs": [],
   "source": [
    "ticker_list['Tickers'] = ticker_list[\"0\"]"
   ]
  },
  {
   "cell_type": "code",
   "execution_count": 9,
   "metadata": {},
   "outputs": [],
   "source": [
    "ticker_list = ticker_list.drop([\"count\", \"0\"],1)"
   ]
  },
  {
   "cell_type": "code",
   "execution_count": 10,
   "metadata": {},
   "outputs": [
    {
     "output_type": "execute_result",
     "data": {
      "text/plain": [
       "   Tickers\n",
       "0      GME\n",
       "1      AMC\n",
       "2      NOK\n",
       "3     ELSE\n",
       "4       TD\n",
       "5     NAKD\n",
       "6     APPS\n",
       "7     PLTR\n",
       "8     SNDL\n",
       "9      SLV\n",
       "10    TSLA\n",
       "11    ONTO\n",
       "12     NIO\n",
       "13     CUZ\n",
       "14    BBBY\n",
       "16     AAL\n",
       "17      ST\n",
       "18    EXPR\n",
       "19    SPCE\n",
       "20     JOE\n",
       "21     PPL\n",
       "22    CTRM\n",
       "23    ALOT\n",
       "24    CCIV\n",
       "25    FUBO\n",
       "26      JP\n",
       "27    AAPL\n",
       "28      ET\n",
       "29     MSM\n",
       "30      FB\n",
       "31    TLRY\n",
       "32     BRO\n",
       "33    CRSR\n",
       "34    IBKR\n",
       "35     BIO"
      ],
      "text/html": "<div>\n<style scoped>\n    .dataframe tbody tr th:only-of-type {\n        vertical-align: middle;\n    }\n\n    .dataframe tbody tr th {\n        vertical-align: top;\n    }\n\n    .dataframe thead th {\n        text-align: right;\n    }\n</style>\n<table border=\"1\" class=\"dataframe\">\n  <thead>\n    <tr style=\"text-align: right;\">\n      <th></th>\n      <th>Tickers</th>\n    </tr>\n  </thead>\n  <tbody>\n    <tr>\n      <th>0</th>\n      <td>GME</td>\n    </tr>\n    <tr>\n      <th>1</th>\n      <td>AMC</td>\n    </tr>\n    <tr>\n      <th>2</th>\n      <td>NOK</td>\n    </tr>\n    <tr>\n      <th>3</th>\n      <td>ELSE</td>\n    </tr>\n    <tr>\n      <th>4</th>\n      <td>TD</td>\n    </tr>\n    <tr>\n      <th>5</th>\n      <td>NAKD</td>\n    </tr>\n    <tr>\n      <th>6</th>\n      <td>APPS</td>\n    </tr>\n    <tr>\n      <th>7</th>\n      <td>PLTR</td>\n    </tr>\n    <tr>\n      <th>8</th>\n      <td>SNDL</td>\n    </tr>\n    <tr>\n      <th>9</th>\n      <td>SLV</td>\n    </tr>\n    <tr>\n      <th>10</th>\n      <td>TSLA</td>\n    </tr>\n    <tr>\n      <th>11</th>\n      <td>ONTO</td>\n    </tr>\n    <tr>\n      <th>12</th>\n      <td>NIO</td>\n    </tr>\n    <tr>\n      <th>13</th>\n      <td>CUZ</td>\n    </tr>\n    <tr>\n      <th>14</th>\n      <td>BBBY</td>\n    </tr>\n    <tr>\n      <th>16</th>\n      <td>AAL</td>\n    </tr>\n    <tr>\n      <th>17</th>\n      <td>ST</td>\n    </tr>\n    <tr>\n      <th>18</th>\n      <td>EXPR</td>\n    </tr>\n    <tr>\n      <th>19</th>\n      <td>SPCE</td>\n    </tr>\n    <tr>\n      <th>20</th>\n      <td>JOE</td>\n    </tr>\n    <tr>\n      <th>21</th>\n      <td>PPL</td>\n    </tr>\n    <tr>\n      <th>22</th>\n      <td>CTRM</td>\n    </tr>\n    <tr>\n      <th>23</th>\n      <td>ALOT</td>\n    </tr>\n    <tr>\n      <th>24</th>\n      <td>CCIV</td>\n    </tr>\n    <tr>\n      <th>25</th>\n      <td>FUBO</td>\n    </tr>\n    <tr>\n      <th>26</th>\n      <td>JP</td>\n    </tr>\n    <tr>\n      <th>27</th>\n      <td>AAPL</td>\n    </tr>\n    <tr>\n      <th>28</th>\n      <td>ET</td>\n    </tr>\n    <tr>\n      <th>29</th>\n      <td>MSM</td>\n    </tr>\n    <tr>\n      <th>30</th>\n      <td>FB</td>\n    </tr>\n    <tr>\n      <th>31</th>\n      <td>TLRY</td>\n    </tr>\n    <tr>\n      <th>32</th>\n      <td>BRO</td>\n    </tr>\n    <tr>\n      <th>33</th>\n      <td>CRSR</td>\n    </tr>\n    <tr>\n      <th>34</th>\n      <td>IBKR</td>\n    </tr>\n    <tr>\n      <th>35</th>\n      <td>BIO</td>\n    </tr>\n  </tbody>\n</table>\n</div>"
     },
     "metadata": {},
     "execution_count": 10
    }
   ],
   "source": [
    "ticker_list"
   ]
  },
  {
   "cell_type": "code",
   "execution_count": 11,
   "metadata": {},
   "outputs": [],
   "source": [
    "shorted_list = pd.read_csv(\"../Data/shorted_tickers.csv\")"
   ]
  },
  {
   "cell_type": "code",
   "execution_count": 12,
   "metadata": {},
   "outputs": [],
   "source": [
    "final_ticker_list = shorted_list.append(ticker_list)"
   ]
  },
  {
   "cell_type": "code",
   "execution_count": 13,
   "metadata": {},
   "outputs": [],
   "source": [
    "final_ticker_list = final_ticker_list.drop_duplicates()"
   ]
  },
  {
   "cell_type": "code",
   "execution_count": 14,
   "metadata": {},
   "outputs": [],
   "source": [
    "final_ticker_list.to_csv(\"../Data/final_ticker_list.csv\", index=False)"
   ]
  },
  {
   "cell_type": "code",
   "execution_count": null,
   "metadata": {},
   "outputs": [],
   "source": []
  }
 ]
}