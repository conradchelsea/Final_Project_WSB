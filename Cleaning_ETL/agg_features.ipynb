{
 "metadata": {
  "language_info": {
   "codemirror_mode": {
    "name": "ipython",
    "version": 3
   },
   "file_extension": ".py",
   "mimetype": "text/x-python",
   "name": "python",
   "nbconvert_exporter": "python",
   "pygments_lexer": "ipython3",
   "version": "3.7.9-final"
  },
  "orig_nbformat": 2,
  "kernelspec": {
   "name": "python3",
   "display_name": "Python 3.7.9 64-bit ('mlenv': conda)",
   "metadata": {
    "interpreter": {
     "hash": "048dad420f067fed17ce0fa3745b2d42d3aa5960af8b063192d7d7c1cf436e55"
    }
   }
  }
 },
 "nbformat": 4,
 "nbformat_minor": 2,
 "cells": [
  {
   "cell_type": "code",
   "execution_count": 1,
   "metadata": {},
   "outputs": [],
   "source": [
    "import pandas as pd"
   ]
  },
  {
   "cell_type": "code",
   "execution_count": 2,
   "metadata": {},
   "outputs": [],
   "source": [
    "# create paths to each df to be parsed and aggregated\n",
    "comment_path = \"../Data/comment_body_count_df.csv\"\n",
    "title_path = \"../Data/post_title_count_df.csv\"\n",
    "selftext_path = \"../Data/post_selftext_count_df.csv\"\n",
    "ticker_path = \"../Data/final_ticker_list.csv\""
   ]
  },
  {
   "cell_type": "code",
   "execution_count": 3,
   "metadata": {},
   "outputs": [
    {
     "output_type": "stream",
     "name": "stdout",
     "text": [
      "CPU times: user 59.7 s, sys: 23.7 s, total: 1min 23s\n",
      "Wall time: 1min 30s\n",
      "CPU times: user 6.35 s, sys: 957 ms, total: 7.31 s\n",
      "Wall time: 7.38 s\n",
      "CPU times: user 6.13 s, sys: 905 ms, total: 7.03 s\n",
      "Wall time: 7.11 s\n",
      "CPU times: user 2.94 ms, sys: 744 µs, total: 3.69 ms\n",
      "Wall time: 9.65 ms\n"
     ]
    }
   ],
   "source": [
    "# create dfs for each source\n",
    "%time comment_df = pd.read_csv(comment_path)\n",
    "%time title_df = pd.read_csv(title_path)\n",
    "%time selftext_df = pd.read_csv(selftext_path)\n",
    "%time ticker_df = pd.read_csv(ticker_path)"
   ]
  },
  {
   "cell_type": "code",
   "execution_count": 4,
   "metadata": {},
   "outputs": [],
   "source": [
    "selftext_df = selftext_df.drop(['Unnamed: 0'],1)\n",
    "title_df = title_df.drop(['Unnamed: 0'],1)\n",
    "comment_df = comment_df.drop(['Unnamed: 0'],1)"
   ]
  },
  {
   "cell_type": "code",
   "execution_count": 12,
   "metadata": {},
   "outputs": [],
   "source": [
    "agg_title = title_df.groupby([\"date\",ticker_df[\"Tickers\"]]).sum()"
   ]
  },
  {
   "cell_type": "code",
   "execution_count": 14,
   "metadata": {},
   "outputs": [
    {
     "output_type": "execute_result",
     "data": {
      "text/plain": [
       "date        Tickers\n",
       "2020-12-14  AAL        1\n",
       "            AAPL       1\n",
       "            ALOT       1\n",
       "            AMC        1\n",
       "            AMCX       1\n",
       "                      ..\n",
       "            TRHC       1\n",
       "            TRIT       1\n",
       "            TSLA       1\n",
       "            VXRT       1\n",
       "            ZYXI       1\n",
       "Name: score, Length: 82, dtype: int64"
      ]
     },
     "metadata": {},
     "execution_count": 14
    }
   ],
   "source": []
  },
  {
   "cell_type": "code",
   "execution_count": null,
   "metadata": {},
   "outputs": [],
   "source": []
  }
 ]
}