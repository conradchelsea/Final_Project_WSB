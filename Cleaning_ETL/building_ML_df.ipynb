{
 "metadata": {
  "language_info": {
   "codemirror_mode": {
    "name": "ipython",
    "version": 3
   },
   "file_extension": ".py",
   "mimetype": "text/x-python",
   "name": "python",
   "nbconvert_exporter": "python",
   "pygments_lexer": "ipython3",
   "version": "3.7.9-final"
  },
  "orig_nbformat": 2,
  "kernelspec": {
   "name": "python3",
   "display_name": "Python 3.7.9 64-bit ('mlenv': conda)",
   "metadata": {
    "interpreter": {
     "hash": "048dad420f067fed17ce0fa3745b2d42d3aa5960af8b063192d7d7c1cf436e55"
    }
   }
  }
 },
 "nbformat": 4,
 "nbformat_minor": 2,
 "cells": [
  {
   "cell_type": "code",
   "execution_count": 193,
   "metadata": {},
   "outputs": [],
   "source": [
    "import pandas as pd\n",
    "import yfinance as yf\n",
    "import datetime\n",
    "from datetime import datetime"
   ]
  },
  {
   "cell_type": "code",
   "execution_count": 194,
   "metadata": {},
   "outputs": [],
   "source": [
    "combo_multi_path = \"../Data/combo_count_multiindex.csv\"\n",
    "ticker_path = \"../Data/final_ticker_list.csv\""
   ]
  },
  {
   "cell_type": "code",
   "execution_count": 195,
   "metadata": {},
   "outputs": [],
   "source": [
    "count_df = pd.read_csv(combo_multi_path, header=[0,1], index_col=0)\n",
    "ticker_list = pd.read_csv(ticker_path)"
   ]
  },
  {
   "cell_type": "code",
   "execution_count": 196,
   "metadata": {},
   "outputs": [],
   "source": [
    "ticker_list = ticker_list[\"Tickers\"].to_list()"
   ]
  },
  {
   "cell_type": "code",
   "execution_count": 197,
   "metadata": {},
   "outputs": [
    {
     "output_type": "execute_result",
     "data": {
      "text/plain": [
       "                AMC     PUBM     GOGO     ISUN     CLVS      GME      SKT  \\\n",
       "           mentions mentions mentions mentions mentions mentions mentions   \n",
       "date                                                                        \n",
       "2020-12-08     11.0      2.0      6.0      0.0      0.0   1841.0      0.0   \n",
       "2020-12-09      2.0     31.0      6.0      0.0      0.0   1938.0      0.0   \n",
       "2020-12-10     26.0      3.0      1.0      0.0      0.0    591.0      1.0   \n",
       "2020-12-11     15.0      3.0      0.0      0.0      0.0    428.0      2.0   \n",
       "2020-12-12     34.0      0.0      1.0      0.0      0.0    269.0      0.0   \n",
       "\n",
       "               LGND     TRIT     ESPR  ...       JP     AAPL       ET  \\\n",
       "           mentions mentions mentions  ... mentions mentions mentions   \n",
       "date                                   ...                              \n",
       "2020-12-08      0.0      0.0      0.0  ...      4.0     88.0    136.0   \n",
       "2020-12-09      0.0      0.0      1.0  ...     69.0    213.0    281.0   \n",
       "2020-12-10      0.0      2.0      0.0  ...     63.0    114.0    242.0   \n",
       "2020-12-11      2.0      0.0      0.0  ...     23.0    114.0    249.0   \n",
       "2020-12-12      0.0      0.0      0.0  ...     18.0     71.0    165.0   \n",
       "\n",
       "                MSM       FB     TLRY      BRO     CRSR     IBKR      BIO  \n",
       "           mentions mentions mentions mentions mentions mentions mentions  \n",
       "date                                                                       \n",
       "2020-12-08      0.0     11.0      1.0     84.0     46.0      5.0      2.0  \n",
       "2020-12-09      0.0    168.0      3.0    164.0     91.0     11.0      8.0  \n",
       "2020-12-10      4.0    159.0      1.0    135.0     52.0      8.0     13.0  \n",
       "2020-12-11      9.0     54.0      0.0    194.0    103.0     18.0     13.0  \n",
       "2020-12-12      0.0     35.0      0.0    144.0     42.0     15.0     11.0  \n",
       "\n",
       "[5 rows x 82 columns]"
      ],
      "text/html": "<div>\n<style scoped>\n    .dataframe tbody tr th:only-of-type {\n        vertical-align: middle;\n    }\n\n    .dataframe tbody tr th {\n        vertical-align: top;\n    }\n\n    .dataframe thead tr th {\n        text-align: left;\n    }\n\n    .dataframe thead tr:last-of-type th {\n        text-align: right;\n    }\n</style>\n<table border=\"1\" class=\"dataframe\">\n  <thead>\n    <tr>\n      <th></th>\n      <th>AMC</th>\n      <th>PUBM</th>\n      <th>GOGO</th>\n      <th>ISUN</th>\n      <th>CLVS</th>\n      <th>GME</th>\n      <th>SKT</th>\n      <th>LGND</th>\n      <th>TRIT</th>\n      <th>ESPR</th>\n      <th>...</th>\n      <th>JP</th>\n      <th>AAPL</th>\n      <th>ET</th>\n      <th>MSM</th>\n      <th>FB</th>\n      <th>TLRY</th>\n      <th>BRO</th>\n      <th>CRSR</th>\n      <th>IBKR</th>\n      <th>BIO</th>\n    </tr>\n    <tr>\n      <th></th>\n      <th>mentions</th>\n      <th>mentions</th>\n      <th>mentions</th>\n      <th>mentions</th>\n      <th>mentions</th>\n      <th>mentions</th>\n      <th>mentions</th>\n      <th>mentions</th>\n      <th>mentions</th>\n      <th>mentions</th>\n      <th>...</th>\n      <th>mentions</th>\n      <th>mentions</th>\n      <th>mentions</th>\n      <th>mentions</th>\n      <th>mentions</th>\n      <th>mentions</th>\n      <th>mentions</th>\n      <th>mentions</th>\n      <th>mentions</th>\n      <th>mentions</th>\n    </tr>\n    <tr>\n      <th>date</th>\n      <th></th>\n      <th></th>\n      <th></th>\n      <th></th>\n      <th></th>\n      <th></th>\n      <th></th>\n      <th></th>\n      <th></th>\n      <th></th>\n      <th></th>\n      <th></th>\n      <th></th>\n      <th></th>\n      <th></th>\n      <th></th>\n      <th></th>\n      <th></th>\n      <th></th>\n      <th></th>\n      <th></th>\n    </tr>\n  </thead>\n  <tbody>\n    <tr>\n      <th>2020-12-08</th>\n      <td>11.0</td>\n      <td>2.0</td>\n      <td>6.0</td>\n      <td>0.0</td>\n      <td>0.0</td>\n      <td>1841.0</td>\n      <td>0.0</td>\n      <td>0.0</td>\n      <td>0.0</td>\n      <td>0.0</td>\n      <td>...</td>\n      <td>4.0</td>\n      <td>88.0</td>\n      <td>136.0</td>\n      <td>0.0</td>\n      <td>11.0</td>\n      <td>1.0</td>\n      <td>84.0</td>\n      <td>46.0</td>\n      <td>5.0</td>\n      <td>2.0</td>\n    </tr>\n    <tr>\n      <th>2020-12-09</th>\n      <td>2.0</td>\n      <td>31.0</td>\n      <td>6.0</td>\n      <td>0.0</td>\n      <td>0.0</td>\n      <td>1938.0</td>\n      <td>0.0</td>\n      <td>0.0</td>\n      <td>0.0</td>\n      <td>1.0</td>\n      <td>...</td>\n      <td>69.0</td>\n      <td>213.0</td>\n      <td>281.0</td>\n      <td>0.0</td>\n      <td>168.0</td>\n      <td>3.0</td>\n      <td>164.0</td>\n      <td>91.0</td>\n      <td>11.0</td>\n      <td>8.0</td>\n    </tr>\n    <tr>\n      <th>2020-12-10</th>\n      <td>26.0</td>\n      <td>3.0</td>\n      <td>1.0</td>\n      <td>0.0</td>\n      <td>0.0</td>\n      <td>591.0</td>\n      <td>1.0</td>\n      <td>0.0</td>\n      <td>2.0</td>\n      <td>0.0</td>\n      <td>...</td>\n      <td>63.0</td>\n      <td>114.0</td>\n      <td>242.0</td>\n      <td>4.0</td>\n      <td>159.0</td>\n      <td>1.0</td>\n      <td>135.0</td>\n      <td>52.0</td>\n      <td>8.0</td>\n      <td>13.0</td>\n    </tr>\n    <tr>\n      <th>2020-12-11</th>\n      <td>15.0</td>\n      <td>3.0</td>\n      <td>0.0</td>\n      <td>0.0</td>\n      <td>0.0</td>\n      <td>428.0</td>\n      <td>2.0</td>\n      <td>2.0</td>\n      <td>0.0</td>\n      <td>0.0</td>\n      <td>...</td>\n      <td>23.0</td>\n      <td>114.0</td>\n      <td>249.0</td>\n      <td>9.0</td>\n      <td>54.0</td>\n      <td>0.0</td>\n      <td>194.0</td>\n      <td>103.0</td>\n      <td>18.0</td>\n      <td>13.0</td>\n    </tr>\n    <tr>\n      <th>2020-12-12</th>\n      <td>34.0</td>\n      <td>0.0</td>\n      <td>1.0</td>\n      <td>0.0</td>\n      <td>0.0</td>\n      <td>269.0</td>\n      <td>0.0</td>\n      <td>0.0</td>\n      <td>0.0</td>\n      <td>0.0</td>\n      <td>...</td>\n      <td>18.0</td>\n      <td>71.0</td>\n      <td>165.0</td>\n      <td>0.0</td>\n      <td>35.0</td>\n      <td>0.0</td>\n      <td>144.0</td>\n      <td>42.0</td>\n      <td>15.0</td>\n      <td>11.0</td>\n    </tr>\n  </tbody>\n</table>\n<p>5 rows × 82 columns</p>\n</div>"
     },
     "metadata": {},
     "execution_count": 197
    }
   ],
   "source": [
    "count_df.head()"
   ]
  },
  {
   "cell_type": "code",
   "execution_count": 198,
   "metadata": {},
   "outputs": [
    {
     "output_type": "stream",
     "name": "stdout",
     "text": [
      "[*********************100%***********************]  82 of 82 completed\n"
     ]
    }
   ],
   "source": [
    "df = pd.DataFrame(yf.download(ticker_list, start=\"2020-12-08\", end=\"2021-02-05\", interval=\"1d\", group_by='tickers', index=False))\n"
   ]
  },
  {
   "cell_type": "code",
   "execution_count": 199,
   "metadata": {},
   "outputs": [
    {
     "output_type": "execute_result",
     "data": {
      "text/plain": [
       "             SENS                                                  SLV  \\\n",
       "             Open   High    Low  Close Adj Close     Volume       Open   \n",
       "Date                                                                     \n",
       "2020-12-08  0.420  0.425  0.391  0.400     0.400  3669400.0  22.920000   \n",
       "2020-12-09  0.406  0.425  0.400  0.410     0.410  2087100.0  22.540001   \n",
       "2020-12-10  0.410  0.428  0.400  0.418     0.418  1773700.0  22.379999   \n",
       "2020-12-11  0.430  0.439  0.414  0.421     0.421  2161700.0  22.230000   \n",
       "2020-12-14  0.423  0.430  0.411  0.420     0.420  1371300.0  22.350000   \n",
       "\n",
       "                                         ...  PGEN                             \\\n",
       "                 High        Low  Close  ...   Low Close Adj Close     Volume   \n",
       "Date                                     ...                                    \n",
       "2020-12-08  23.120001  22.730000  22.82  ...  8.09  8.40      8.40  1440100.0   \n",
       "2020-12-09  22.570000  21.930000  22.23  ...  7.99  8.33      8.33   810400.0   \n",
       "2020-12-10  22.580000  22.190001  22.32  ...  8.16  8.30      8.30   663300.0   \n",
       "2020-12-11  22.430000  22.190001  22.26  ...  7.98  8.27      8.27   627800.0   \n",
       "2020-12-14  22.530001  22.120001  22.16  ...  8.46  9.23      9.23  1650400.0   \n",
       "\n",
       "              MCS                                            \n",
       "             Open   High    Low  Close Adj Close     Volume  \n",
       "Date                                                         \n",
       "2020-12-08  11.69  12.55  11.66  12.16     12.16   645200.0  \n",
       "2020-12-09  12.49  12.65  11.46  11.71     11.71   870600.0  \n",
       "2020-12-10  11.50  11.88  11.29  11.78     11.78   982100.0  \n",
       "2020-12-11  11.86  13.05  11.67  12.66     12.66  1205100.0  \n",
       "2020-12-14  13.09  13.23  12.16  12.28     12.28  1142600.0  \n",
       "\n",
       "[5 rows x 492 columns]"
      ],
      "text/html": "<div>\n<style scoped>\n    .dataframe tbody tr th:only-of-type {\n        vertical-align: middle;\n    }\n\n    .dataframe tbody tr th {\n        vertical-align: top;\n    }\n\n    .dataframe thead tr th {\n        text-align: left;\n    }\n\n    .dataframe thead tr:last-of-type th {\n        text-align: right;\n    }\n</style>\n<table border=\"1\" class=\"dataframe\">\n  <thead>\n    <tr>\n      <th></th>\n      <th colspan=\"6\" halign=\"left\">SENS</th>\n      <th colspan=\"4\" halign=\"left\">SLV</th>\n      <th>...</th>\n      <th colspan=\"4\" halign=\"left\">PGEN</th>\n      <th colspan=\"6\" halign=\"left\">MCS</th>\n    </tr>\n    <tr>\n      <th></th>\n      <th>Open</th>\n      <th>High</th>\n      <th>Low</th>\n      <th>Close</th>\n      <th>Adj Close</th>\n      <th>Volume</th>\n      <th>Open</th>\n      <th>High</th>\n      <th>Low</th>\n      <th>Close</th>\n      <th>...</th>\n      <th>Low</th>\n      <th>Close</th>\n      <th>Adj Close</th>\n      <th>Volume</th>\n      <th>Open</th>\n      <th>High</th>\n      <th>Low</th>\n      <th>Close</th>\n      <th>Adj Close</th>\n      <th>Volume</th>\n    </tr>\n    <tr>\n      <th>Date</th>\n      <th></th>\n      <th></th>\n      <th></th>\n      <th></th>\n      <th></th>\n      <th></th>\n      <th></th>\n      <th></th>\n      <th></th>\n      <th></th>\n      <th></th>\n      <th></th>\n      <th></th>\n      <th></th>\n      <th></th>\n      <th></th>\n      <th></th>\n      <th></th>\n      <th></th>\n      <th></th>\n      <th></th>\n    </tr>\n  </thead>\n  <tbody>\n    <tr>\n      <th>2020-12-08</th>\n      <td>0.420</td>\n      <td>0.425</td>\n      <td>0.391</td>\n      <td>0.400</td>\n      <td>0.400</td>\n      <td>3669400.0</td>\n      <td>22.920000</td>\n      <td>23.120001</td>\n      <td>22.730000</td>\n      <td>22.82</td>\n      <td>...</td>\n      <td>8.09</td>\n      <td>8.40</td>\n      <td>8.40</td>\n      <td>1440100.0</td>\n      <td>11.69</td>\n      <td>12.55</td>\n      <td>11.66</td>\n      <td>12.16</td>\n      <td>12.16</td>\n      <td>645200.0</td>\n    </tr>\n    <tr>\n      <th>2020-12-09</th>\n      <td>0.406</td>\n      <td>0.425</td>\n      <td>0.400</td>\n      <td>0.410</td>\n      <td>0.410</td>\n      <td>2087100.0</td>\n      <td>22.540001</td>\n      <td>22.570000</td>\n      <td>21.930000</td>\n      <td>22.23</td>\n      <td>...</td>\n      <td>7.99</td>\n      <td>8.33</td>\n      <td>8.33</td>\n      <td>810400.0</td>\n      <td>12.49</td>\n      <td>12.65</td>\n      <td>11.46</td>\n      <td>11.71</td>\n      <td>11.71</td>\n      <td>870600.0</td>\n    </tr>\n    <tr>\n      <th>2020-12-10</th>\n      <td>0.410</td>\n      <td>0.428</td>\n      <td>0.400</td>\n      <td>0.418</td>\n      <td>0.418</td>\n      <td>1773700.0</td>\n      <td>22.379999</td>\n      <td>22.580000</td>\n      <td>22.190001</td>\n      <td>22.32</td>\n      <td>...</td>\n      <td>8.16</td>\n      <td>8.30</td>\n      <td>8.30</td>\n      <td>663300.0</td>\n      <td>11.50</td>\n      <td>11.88</td>\n      <td>11.29</td>\n      <td>11.78</td>\n      <td>11.78</td>\n      <td>982100.0</td>\n    </tr>\n    <tr>\n      <th>2020-12-11</th>\n      <td>0.430</td>\n      <td>0.439</td>\n      <td>0.414</td>\n      <td>0.421</td>\n      <td>0.421</td>\n      <td>2161700.0</td>\n      <td>22.230000</td>\n      <td>22.430000</td>\n      <td>22.190001</td>\n      <td>22.26</td>\n      <td>...</td>\n      <td>7.98</td>\n      <td>8.27</td>\n      <td>8.27</td>\n      <td>627800.0</td>\n      <td>11.86</td>\n      <td>13.05</td>\n      <td>11.67</td>\n      <td>12.66</td>\n      <td>12.66</td>\n      <td>1205100.0</td>\n    </tr>\n    <tr>\n      <th>2020-12-14</th>\n      <td>0.423</td>\n      <td>0.430</td>\n      <td>0.411</td>\n      <td>0.420</td>\n      <td>0.420</td>\n      <td>1371300.0</td>\n      <td>22.350000</td>\n      <td>22.530001</td>\n      <td>22.120001</td>\n      <td>22.16</td>\n      <td>...</td>\n      <td>8.46</td>\n      <td>9.23</td>\n      <td>9.23</td>\n      <td>1650400.0</td>\n      <td>13.09</td>\n      <td>13.23</td>\n      <td>12.16</td>\n      <td>12.28</td>\n      <td>12.28</td>\n      <td>1142600.0</td>\n    </tr>\n  </tbody>\n</table>\n<p>5 rows × 492 columns</p>\n</div>"
     },
     "metadata": {},
     "execution_count": 199
    }
   ],
   "source": [
    "df.head()"
   ]
  },
  {
   "cell_type": "code",
   "execution_count": 200,
   "metadata": {},
   "outputs": [],
   "source": [
    "amc_count = pd.DataFrame(count_df[\"AMC\"])"
   ]
  },
  {
   "cell_type": "code",
   "execution_count": 201,
   "metadata": {},
   "outputs": [],
   "source": [
    "amc_price = df[\"AMC\"]"
   ]
  },
  {
   "cell_type": "code",
   "execution_count": 202,
   "metadata": {},
   "outputs": [
    {
     "output_type": "execute_result",
     "data": {
      "text/plain": [
       "            mentions   Open       High    Low  Close  Adj Close        Volume\n",
       "date                                                                         \n",
       "2020-12-08      11.0   3.61   4.020000   3.61   3.98       3.98  2.953060e+07\n",
       "2020-12-09       2.0   4.22   4.330000   3.75   3.86       3.86  2.099120e+07\n",
       "2020-12-10      26.0   3.79   4.100000   3.77   4.09       4.09  1.987280e+07\n",
       "2020-12-11      15.0   4.04   4.250000   3.87   3.92       3.92  2.231040e+07\n",
       "2020-12-12      34.0    NaN        NaN    NaN    NaN        NaN           NaN\n",
       "2020-12-13      12.0    NaN        NaN    NaN    NaN        NaN           NaN\n",
       "2020-12-14      47.0   4.01   4.010000   3.00   3.19       3.19  6.715900e+07\n",
       "2020-12-15      67.0   3.24   3.240000   2.76   2.86       2.86  5.443210e+07\n",
       "2020-12-16      67.0   2.87   2.890000   2.72   2.78       2.78  2.542320e+07\n",
       "2020-12-17      45.0   2.80   2.950000   2.74   2.85       2.85  2.379930e+07\n",
       "2020-12-18      16.0   2.85   2.850000   2.76   2.80       2.80  2.194170e+07\n",
       "2020-12-19      15.0    NaN        NaN    NaN    NaN        NaN           NaN\n",
       "2020-12-20       8.0    NaN        NaN    NaN    NaN        NaN           NaN\n",
       "2020-12-21      66.0   2.61   2.740000   2.58   2.68       2.68  2.269980e+07\n",
       "2020-12-22      31.0   2.73   2.750000   2.52   2.59       2.59  2.163840e+07\n",
       "2020-12-23      27.0   2.58   2.650000   2.54   2.56       2.56  1.572480e+07\n",
       "2020-12-24       7.0   2.59   2.600000   2.48   2.51       2.51  1.109420e+07\n",
       "2020-12-25      18.0    NaN        NaN    NaN    NaN        NaN           NaN\n",
       "2020-12-26      15.0    NaN        NaN    NaN    NaN        NaN           NaN\n",
       "2020-12-27      13.0    NaN        NaN    NaN    NaN        NaN           NaN\n",
       "2020-12-28      40.0   2.63   2.630000   2.36   2.39       2.39  2.394270e+07\n",
       "2020-12-29      41.0   2.44   2.460000   2.28   2.29       2.29  2.108610e+07\n",
       "2020-12-30      40.0   2.30   2.300000   2.13   2.16       2.16  4.027840e+07\n",
       "2020-12-31      32.0   2.17   2.220000   2.08   2.12       2.12  2.823430e+07\n",
       "2021-01-01       5.0    NaN        NaN    NaN    NaN        NaN           NaN\n",
       "2021-01-02       2.0    NaN        NaN    NaN    NaN        NaN           NaN\n",
       "2021-01-03       3.0    NaN        NaN    NaN    NaN        NaN           NaN\n",
       "2021-01-04       5.0   2.20   2.200000   2.00   2.01       2.01  2.987380e+07\n",
       "2021-01-05       8.0   1.99   2.030000   1.91   1.98       1.98  2.814830e+07\n",
       "2021-01-06       9.0   2.03   2.230000   1.97   2.01       2.01  6.736330e+07\n",
       "2021-01-07      10.0   2.08   2.110000   2.02   2.05       2.05  2.615050e+07\n",
       "2021-01-08       4.0   2.09   2.210000   2.07   2.14       2.14  3.955330e+07\n",
       "2021-01-09       2.0    NaN        NaN    NaN    NaN        NaN           NaN\n",
       "2021-01-10       1.0    NaN        NaN    NaN    NaN        NaN           NaN\n",
       "2021-01-11       8.0   2.16   2.270000   2.15   2.20       2.20  4.169580e+07\n",
       "2021-01-12       8.0   2.24   2.390000   2.24   2.29       2.29  4.178430e+07\n",
       "2021-01-13       9.0   2.33   2.380000   2.13   2.18       2.18  4.584770e+07\n",
       "2021-01-14      18.0   2.22   2.320000   2.13   2.18       2.18  4.963880e+07\n",
       "2021-01-15     104.0   2.20   2.550000   2.18   2.33       2.33  1.623564e+08\n",
       "2021-01-16      21.0    NaN        NaN    NaN    NaN        NaN           NaN\n",
       "2021-01-17      26.0    NaN        NaN    NaN    NaN        NaN           NaN\n",
       "2021-01-18      66.0    NaN        NaN    NaN    NaN        NaN           NaN\n",
       "2021-01-19     160.0   2.80   3.200000   2.57   3.06       3.06  2.562760e+08\n",
       "2021-01-20      89.0   3.29   3.340000   2.75   2.97       2.97  1.818622e+08\n",
       "2021-01-21      44.0   3.00   3.060000   2.85   2.98       2.98  6.482380e+07\n",
       "2021-01-22     611.0   2.91   3.740000   2.81   3.51       3.51  2.682734e+08\n",
       "2021-01-23     103.0    NaN        NaN    NaN    NaN        NaN           NaN\n",
       "2021-01-24      42.0    NaN        NaN    NaN    NaN        NaN           NaN\n",
       "2021-01-25     634.0   4.71   4.880000   3.85   4.42       4.42  4.432381e+08\n",
       "2021-01-26     231.0   5.09   5.190000   4.37   4.96       4.96  4.568502e+08\n",
       "2021-01-27   20976.0  20.34  20.360001  11.01  19.90      19.90  1.222342e+09\n",
       "2021-01-28   32927.0  11.98  16.500000   6.51   8.63       8.63  5.912239e+08\n",
       "2021-01-29   24385.0  14.31  16.000000  11.60  13.26      13.26  6.021933e+08\n",
       "2021-01-30   17968.0    NaN        NaN    NaN    NaN        NaN           NaN\n",
       "2021-01-31   13640.0    NaN        NaN    NaN    NaN        NaN           NaN\n",
       "2021-02-01   24050.0  17.00  17.250000  12.91  13.30      13.30  4.346080e+08\n",
       "2021-02-02   19798.0   9.48  10.100000   6.00   7.82       7.82  4.627759e+08\n",
       "2021-02-03    3630.0   8.85   9.770000   7.89   8.97       8.97  2.214051e+08\n",
       "2021-02-04      95.0   8.70   8.740000   7.00   7.09       7.09  1.629858e+08"
      ],
      "text/html": "<div>\n<style scoped>\n    .dataframe tbody tr th:only-of-type {\n        vertical-align: middle;\n    }\n\n    .dataframe tbody tr th {\n        vertical-align: top;\n    }\n\n    .dataframe thead th {\n        text-align: right;\n    }\n</style>\n<table border=\"1\" class=\"dataframe\">\n  <thead>\n    <tr style=\"text-align: right;\">\n      <th></th>\n      <th>mentions</th>\n      <th>Open</th>\n      <th>High</th>\n      <th>Low</th>\n      <th>Close</th>\n      <th>Adj Close</th>\n      <th>Volume</th>\n    </tr>\n    <tr>\n      <th>date</th>\n      <th></th>\n      <th></th>\n      <th></th>\n      <th></th>\n      <th></th>\n      <th></th>\n      <th></th>\n    </tr>\n  </thead>\n  <tbody>\n    <tr>\n      <th>2020-12-08</th>\n      <td>11.0</td>\n      <td>3.61</td>\n      <td>4.020000</td>\n      <td>3.61</td>\n      <td>3.98</td>\n      <td>3.98</td>\n      <td>2.953060e+07</td>\n    </tr>\n    <tr>\n      <th>2020-12-09</th>\n      <td>2.0</td>\n      <td>4.22</td>\n      <td>4.330000</td>\n      <td>3.75</td>\n      <td>3.86</td>\n      <td>3.86</td>\n      <td>2.099120e+07</td>\n    </tr>\n    <tr>\n      <th>2020-12-10</th>\n      <td>26.0</td>\n      <td>3.79</td>\n      <td>4.100000</td>\n      <td>3.77</td>\n      <td>4.09</td>\n      <td>4.09</td>\n      <td>1.987280e+07</td>\n    </tr>\n    <tr>\n      <th>2020-12-11</th>\n      <td>15.0</td>\n      <td>4.04</td>\n      <td>4.250000</td>\n      <td>3.87</td>\n      <td>3.92</td>\n      <td>3.92</td>\n      <td>2.231040e+07</td>\n    </tr>\n    <tr>\n      <th>2020-12-12</th>\n      <td>34.0</td>\n      <td>NaN</td>\n      <td>NaN</td>\n      <td>NaN</td>\n      <td>NaN</td>\n      <td>NaN</td>\n      <td>NaN</td>\n    </tr>\n    <tr>\n      <th>2020-12-13</th>\n      <td>12.0</td>\n      <td>NaN</td>\n      <td>NaN</td>\n      <td>NaN</td>\n      <td>NaN</td>\n      <td>NaN</td>\n      <td>NaN</td>\n    </tr>\n    <tr>\n      <th>2020-12-14</th>\n      <td>47.0</td>\n      <td>4.01</td>\n      <td>4.010000</td>\n      <td>3.00</td>\n      <td>3.19</td>\n      <td>3.19</td>\n      <td>6.715900e+07</td>\n    </tr>\n    <tr>\n      <th>2020-12-15</th>\n      <td>67.0</td>\n      <td>3.24</td>\n      <td>3.240000</td>\n      <td>2.76</td>\n      <td>2.86</td>\n      <td>2.86</td>\n      <td>5.443210e+07</td>\n    </tr>\n    <tr>\n      <th>2020-12-16</th>\n      <td>67.0</td>\n      <td>2.87</td>\n      <td>2.890000</td>\n      <td>2.72</td>\n      <td>2.78</td>\n      <td>2.78</td>\n      <td>2.542320e+07</td>\n    </tr>\n    <tr>\n      <th>2020-12-17</th>\n      <td>45.0</td>\n      <td>2.80</td>\n      <td>2.950000</td>\n      <td>2.74</td>\n      <td>2.85</td>\n      <td>2.85</td>\n      <td>2.379930e+07</td>\n    </tr>\n    <tr>\n      <th>2020-12-18</th>\n      <td>16.0</td>\n      <td>2.85</td>\n      <td>2.850000</td>\n      <td>2.76</td>\n      <td>2.80</td>\n      <td>2.80</td>\n      <td>2.194170e+07</td>\n    </tr>\n    <tr>\n      <th>2020-12-19</th>\n      <td>15.0</td>\n      <td>NaN</td>\n      <td>NaN</td>\n      <td>NaN</td>\n      <td>NaN</td>\n      <td>NaN</td>\n      <td>NaN</td>\n    </tr>\n    <tr>\n      <th>2020-12-20</th>\n      <td>8.0</td>\n      <td>NaN</td>\n      <td>NaN</td>\n      <td>NaN</td>\n      <td>NaN</td>\n      <td>NaN</td>\n      <td>NaN</td>\n    </tr>\n    <tr>\n      <th>2020-12-21</th>\n      <td>66.0</td>\n      <td>2.61</td>\n      <td>2.740000</td>\n      <td>2.58</td>\n      <td>2.68</td>\n      <td>2.68</td>\n      <td>2.269980e+07</td>\n    </tr>\n    <tr>\n      <th>2020-12-22</th>\n      <td>31.0</td>\n      <td>2.73</td>\n      <td>2.750000</td>\n      <td>2.52</td>\n      <td>2.59</td>\n      <td>2.59</td>\n      <td>2.163840e+07</td>\n    </tr>\n    <tr>\n      <th>2020-12-23</th>\n      <td>27.0</td>\n      <td>2.58</td>\n      <td>2.650000</td>\n      <td>2.54</td>\n      <td>2.56</td>\n      <td>2.56</td>\n      <td>1.572480e+07</td>\n    </tr>\n    <tr>\n      <th>2020-12-24</th>\n      <td>7.0</td>\n      <td>2.59</td>\n      <td>2.600000</td>\n      <td>2.48</td>\n      <td>2.51</td>\n      <td>2.51</td>\n      <td>1.109420e+07</td>\n    </tr>\n    <tr>\n      <th>2020-12-25</th>\n      <td>18.0</td>\n      <td>NaN</td>\n      <td>NaN</td>\n      <td>NaN</td>\n      <td>NaN</td>\n      <td>NaN</td>\n      <td>NaN</td>\n    </tr>\n    <tr>\n      <th>2020-12-26</th>\n      <td>15.0</td>\n      <td>NaN</td>\n      <td>NaN</td>\n      <td>NaN</td>\n      <td>NaN</td>\n      <td>NaN</td>\n      <td>NaN</td>\n    </tr>\n    <tr>\n      <th>2020-12-27</th>\n      <td>13.0</td>\n      <td>NaN</td>\n      <td>NaN</td>\n      <td>NaN</td>\n      <td>NaN</td>\n      <td>NaN</td>\n      <td>NaN</td>\n    </tr>\n    <tr>\n      <th>2020-12-28</th>\n      <td>40.0</td>\n      <td>2.63</td>\n      <td>2.630000</td>\n      <td>2.36</td>\n      <td>2.39</td>\n      <td>2.39</td>\n      <td>2.394270e+07</td>\n    </tr>\n    <tr>\n      <th>2020-12-29</th>\n      <td>41.0</td>\n      <td>2.44</td>\n      <td>2.460000</td>\n      <td>2.28</td>\n      <td>2.29</td>\n      <td>2.29</td>\n      <td>2.108610e+07</td>\n    </tr>\n    <tr>\n      <th>2020-12-30</th>\n      <td>40.0</td>\n      <td>2.30</td>\n      <td>2.300000</td>\n      <td>2.13</td>\n      <td>2.16</td>\n      <td>2.16</td>\n      <td>4.027840e+07</td>\n    </tr>\n    <tr>\n      <th>2020-12-31</th>\n      <td>32.0</td>\n      <td>2.17</td>\n      <td>2.220000</td>\n      <td>2.08</td>\n      <td>2.12</td>\n      <td>2.12</td>\n      <td>2.823430e+07</td>\n    </tr>\n    <tr>\n      <th>2021-01-01</th>\n      <td>5.0</td>\n      <td>NaN</td>\n      <td>NaN</td>\n      <td>NaN</td>\n      <td>NaN</td>\n      <td>NaN</td>\n      <td>NaN</td>\n    </tr>\n    <tr>\n      <th>2021-01-02</th>\n      <td>2.0</td>\n      <td>NaN</td>\n      <td>NaN</td>\n      <td>NaN</td>\n      <td>NaN</td>\n      <td>NaN</td>\n      <td>NaN</td>\n    </tr>\n    <tr>\n      <th>2021-01-03</th>\n      <td>3.0</td>\n      <td>NaN</td>\n      <td>NaN</td>\n      <td>NaN</td>\n      <td>NaN</td>\n      <td>NaN</td>\n      <td>NaN</td>\n    </tr>\n    <tr>\n      <th>2021-01-04</th>\n      <td>5.0</td>\n      <td>2.20</td>\n      <td>2.200000</td>\n      <td>2.00</td>\n      <td>2.01</td>\n      <td>2.01</td>\n      <td>2.987380e+07</td>\n    </tr>\n    <tr>\n      <th>2021-01-05</th>\n      <td>8.0</td>\n      <td>1.99</td>\n      <td>2.030000</td>\n      <td>1.91</td>\n      <td>1.98</td>\n      <td>1.98</td>\n      <td>2.814830e+07</td>\n    </tr>\n    <tr>\n      <th>2021-01-06</th>\n      <td>9.0</td>\n      <td>2.03</td>\n      <td>2.230000</td>\n      <td>1.97</td>\n      <td>2.01</td>\n      <td>2.01</td>\n      <td>6.736330e+07</td>\n    </tr>\n    <tr>\n      <th>2021-01-07</th>\n      <td>10.0</td>\n      <td>2.08</td>\n      <td>2.110000</td>\n      <td>2.02</td>\n      <td>2.05</td>\n      <td>2.05</td>\n      <td>2.615050e+07</td>\n    </tr>\n    <tr>\n      <th>2021-01-08</th>\n      <td>4.0</td>\n      <td>2.09</td>\n      <td>2.210000</td>\n      <td>2.07</td>\n      <td>2.14</td>\n      <td>2.14</td>\n      <td>3.955330e+07</td>\n    </tr>\n    <tr>\n      <th>2021-01-09</th>\n      <td>2.0</td>\n      <td>NaN</td>\n      <td>NaN</td>\n      <td>NaN</td>\n      <td>NaN</td>\n      <td>NaN</td>\n      <td>NaN</td>\n    </tr>\n    <tr>\n      <th>2021-01-10</th>\n      <td>1.0</td>\n      <td>NaN</td>\n      <td>NaN</td>\n      <td>NaN</td>\n      <td>NaN</td>\n      <td>NaN</td>\n      <td>NaN</td>\n    </tr>\n    <tr>\n      <th>2021-01-11</th>\n      <td>8.0</td>\n      <td>2.16</td>\n      <td>2.270000</td>\n      <td>2.15</td>\n      <td>2.20</td>\n      <td>2.20</td>\n      <td>4.169580e+07</td>\n    </tr>\n    <tr>\n      <th>2021-01-12</th>\n      <td>8.0</td>\n      <td>2.24</td>\n      <td>2.390000</td>\n      <td>2.24</td>\n      <td>2.29</td>\n      <td>2.29</td>\n      <td>4.178430e+07</td>\n    </tr>\n    <tr>\n      <th>2021-01-13</th>\n      <td>9.0</td>\n      <td>2.33</td>\n      <td>2.380000</td>\n      <td>2.13</td>\n      <td>2.18</td>\n      <td>2.18</td>\n      <td>4.584770e+07</td>\n    </tr>\n    <tr>\n      <th>2021-01-14</th>\n      <td>18.0</td>\n      <td>2.22</td>\n      <td>2.320000</td>\n      <td>2.13</td>\n      <td>2.18</td>\n      <td>2.18</td>\n      <td>4.963880e+07</td>\n    </tr>\n    <tr>\n      <th>2021-01-15</th>\n      <td>104.0</td>\n      <td>2.20</td>\n      <td>2.550000</td>\n      <td>2.18</td>\n      <td>2.33</td>\n      <td>2.33</td>\n      <td>1.623564e+08</td>\n    </tr>\n    <tr>\n      <th>2021-01-16</th>\n      <td>21.0</td>\n      <td>NaN</td>\n      <td>NaN</td>\n      <td>NaN</td>\n      <td>NaN</td>\n      <td>NaN</td>\n      <td>NaN</td>\n    </tr>\n    <tr>\n      <th>2021-01-17</th>\n      <td>26.0</td>\n      <td>NaN</td>\n      <td>NaN</td>\n      <td>NaN</td>\n      <td>NaN</td>\n      <td>NaN</td>\n      <td>NaN</td>\n    </tr>\n    <tr>\n      <th>2021-01-18</th>\n      <td>66.0</td>\n      <td>NaN</td>\n      <td>NaN</td>\n      <td>NaN</td>\n      <td>NaN</td>\n      <td>NaN</td>\n      <td>NaN</td>\n    </tr>\n    <tr>\n      <th>2021-01-19</th>\n      <td>160.0</td>\n      <td>2.80</td>\n      <td>3.200000</td>\n      <td>2.57</td>\n      <td>3.06</td>\n      <td>3.06</td>\n      <td>2.562760e+08</td>\n    </tr>\n    <tr>\n      <th>2021-01-20</th>\n      <td>89.0</td>\n      <td>3.29</td>\n      <td>3.340000</td>\n      <td>2.75</td>\n      <td>2.97</td>\n      <td>2.97</td>\n      <td>1.818622e+08</td>\n    </tr>\n    <tr>\n      <th>2021-01-21</th>\n      <td>44.0</td>\n      <td>3.00</td>\n      <td>3.060000</td>\n      <td>2.85</td>\n      <td>2.98</td>\n      <td>2.98</td>\n      <td>6.482380e+07</td>\n    </tr>\n    <tr>\n      <th>2021-01-22</th>\n      <td>611.0</td>\n      <td>2.91</td>\n      <td>3.740000</td>\n      <td>2.81</td>\n      <td>3.51</td>\n      <td>3.51</td>\n      <td>2.682734e+08</td>\n    </tr>\n    <tr>\n      <th>2021-01-23</th>\n      <td>103.0</td>\n      <td>NaN</td>\n      <td>NaN</td>\n      <td>NaN</td>\n      <td>NaN</td>\n      <td>NaN</td>\n      <td>NaN</td>\n    </tr>\n    <tr>\n      <th>2021-01-24</th>\n      <td>42.0</td>\n      <td>NaN</td>\n      <td>NaN</td>\n      <td>NaN</td>\n      <td>NaN</td>\n      <td>NaN</td>\n      <td>NaN</td>\n    </tr>\n    <tr>\n      <th>2021-01-25</th>\n      <td>634.0</td>\n      <td>4.71</td>\n      <td>4.880000</td>\n      <td>3.85</td>\n      <td>4.42</td>\n      <td>4.42</td>\n      <td>4.432381e+08</td>\n    </tr>\n    <tr>\n      <th>2021-01-26</th>\n      <td>231.0</td>\n      <td>5.09</td>\n      <td>5.190000</td>\n      <td>4.37</td>\n      <td>4.96</td>\n      <td>4.96</td>\n      <td>4.568502e+08</td>\n    </tr>\n    <tr>\n      <th>2021-01-27</th>\n      <td>20976.0</td>\n      <td>20.34</td>\n      <td>20.360001</td>\n      <td>11.01</td>\n      <td>19.90</td>\n      <td>19.90</td>\n      <td>1.222342e+09</td>\n    </tr>\n    <tr>\n      <th>2021-01-28</th>\n      <td>32927.0</td>\n      <td>11.98</td>\n      <td>16.500000</td>\n      <td>6.51</td>\n      <td>8.63</td>\n      <td>8.63</td>\n      <td>5.912239e+08</td>\n    </tr>\n    <tr>\n      <th>2021-01-29</th>\n      <td>24385.0</td>\n      <td>14.31</td>\n      <td>16.000000</td>\n      <td>11.60</td>\n      <td>13.26</td>\n      <td>13.26</td>\n      <td>6.021933e+08</td>\n    </tr>\n    <tr>\n      <th>2021-01-30</th>\n      <td>17968.0</td>\n      <td>NaN</td>\n      <td>NaN</td>\n      <td>NaN</td>\n      <td>NaN</td>\n      <td>NaN</td>\n      <td>NaN</td>\n    </tr>\n    <tr>\n      <th>2021-01-31</th>\n      <td>13640.0</td>\n      <td>NaN</td>\n      <td>NaN</td>\n      <td>NaN</td>\n      <td>NaN</td>\n      <td>NaN</td>\n      <td>NaN</td>\n    </tr>\n    <tr>\n      <th>2021-02-01</th>\n      <td>24050.0</td>\n      <td>17.00</td>\n      <td>17.250000</td>\n      <td>12.91</td>\n      <td>13.30</td>\n      <td>13.30</td>\n      <td>4.346080e+08</td>\n    </tr>\n    <tr>\n      <th>2021-02-02</th>\n      <td>19798.0</td>\n      <td>9.48</td>\n      <td>10.100000</td>\n      <td>6.00</td>\n      <td>7.82</td>\n      <td>7.82</td>\n      <td>4.627759e+08</td>\n    </tr>\n    <tr>\n      <th>2021-02-03</th>\n      <td>3630.0</td>\n      <td>8.85</td>\n      <td>9.770000</td>\n      <td>7.89</td>\n      <td>8.97</td>\n      <td>8.97</td>\n      <td>2.214051e+08</td>\n    </tr>\n    <tr>\n      <th>2021-02-04</th>\n      <td>95.0</td>\n      <td>8.70</td>\n      <td>8.740000</td>\n      <td>7.00</td>\n      <td>7.09</td>\n      <td>7.09</td>\n      <td>1.629858e+08</td>\n    </tr>\n  </tbody>\n</table>\n</div>"
     },
     "metadata": {},
     "execution_count": 202
    }
   ],
   "source": [
    "amc_result = amc_count.join(amc_price)\n",
    "amc_result"
   ]
  },
  {
   "cell_type": "code",
   "execution_count": 203,
   "metadata": {},
   "outputs": [],
   "source": [
    "# for ticker in ticker_list:\n",
    "#     df[ticker, \"Mentions\"] = count_df[ticker, \"mentions\"]"
   ]
  },
  {
   "cell_type": "code",
   "execution_count": 204,
   "metadata": {},
   "outputs": [],
   "source": [
    "# df = df.sort_index(axis=1)\n",
    "# df.head()"
   ]
  },
  {
   "cell_type": "code",
   "execution_count": 205,
   "metadata": {},
   "outputs": [],
   "source": [
    "# new_df = pd.concat([df, count_df], axis=1)"
   ]
  },
  {
   "cell_type": "code",
   "execution_count": 208,
   "metadata": {},
   "outputs": [],
   "source": [
    "# new_df =new_df.sort_index(axis=1)\n",
    "# new_df"
   ]
  },
  {
   "cell_type": "code",
   "execution_count": 215,
   "metadata": {},
   "outputs": [
    {
     "output_type": "execute_result",
     "data": {
      "text/plain": [
       "                AMC     PUBM     GOGO     ISUN     CLVS      GME      SKT  \\\n",
       "           mentions mentions mentions mentions mentions mentions mentions   \n",
       "date                                                                        \n",
       "2020-12-08     11.0      2.0      6.0      0.0      0.0   1841.0      0.0   \n",
       "2020-12-09      2.0     31.0      6.0      0.0      0.0   1938.0      0.0   \n",
       "2020-12-10     26.0      3.0      1.0      0.0      0.0    591.0      1.0   \n",
       "2020-12-11     15.0      3.0      0.0      0.0      0.0    428.0      2.0   \n",
       "2020-12-12     34.0      0.0      1.0      0.0      0.0    269.0      0.0   \n",
       "\n",
       "               LGND     TRIT     ESPR  ...  PGEN                             \\\n",
       "           mentions mentions mentions  ...   Low Close Adj Close     Volume   \n",
       "date                                   ...                                    \n",
       "2020-12-08      0.0      0.0      0.0  ...  8.09  8.40      8.40  1440100.0   \n",
       "2020-12-09      0.0      0.0      1.0  ...  7.99  8.33      8.33   810400.0   \n",
       "2020-12-10      0.0      2.0      0.0  ...  8.16  8.30      8.30   663300.0   \n",
       "2020-12-11      2.0      0.0      0.0  ...  7.98  8.27      8.27   627800.0   \n",
       "2020-12-12      0.0      0.0      0.0  ...   NaN   NaN       NaN        NaN   \n",
       "\n",
       "              MCS                                            \n",
       "             Open   High    Low  Close Adj Close     Volume  \n",
       "date                                                         \n",
       "2020-12-08  11.69  12.55  11.66  12.16     12.16   645200.0  \n",
       "2020-12-09  12.49  12.65  11.46  11.71     11.71   870600.0  \n",
       "2020-12-10  11.50  11.88  11.29  11.78     11.78   982100.0  \n",
       "2020-12-11  11.86  13.05  11.67  12.66     12.66  1205100.0  \n",
       "2020-12-12    NaN    NaN    NaN    NaN       NaN        NaN  \n",
       "\n",
       "[5 rows x 574 columns]"
      ],
      "text/html": "<div>\n<style scoped>\n    .dataframe tbody tr th:only-of-type {\n        vertical-align: middle;\n    }\n\n    .dataframe tbody tr th {\n        vertical-align: top;\n    }\n\n    .dataframe thead tr th {\n        text-align: left;\n    }\n\n    .dataframe thead tr:last-of-type th {\n        text-align: right;\n    }\n</style>\n<table border=\"1\" class=\"dataframe\">\n  <thead>\n    <tr>\n      <th></th>\n      <th>AMC</th>\n      <th>PUBM</th>\n      <th>GOGO</th>\n      <th>ISUN</th>\n      <th>CLVS</th>\n      <th>GME</th>\n      <th>SKT</th>\n      <th>LGND</th>\n      <th>TRIT</th>\n      <th>ESPR</th>\n      <th>...</th>\n      <th colspan=\"4\" halign=\"left\">PGEN</th>\n      <th colspan=\"6\" halign=\"left\">MCS</th>\n    </tr>\n    <tr>\n      <th></th>\n      <th>mentions</th>\n      <th>mentions</th>\n      <th>mentions</th>\n      <th>mentions</th>\n      <th>mentions</th>\n      <th>mentions</th>\n      <th>mentions</th>\n      <th>mentions</th>\n      <th>mentions</th>\n      <th>mentions</th>\n      <th>...</th>\n      <th>Low</th>\n      <th>Close</th>\n      <th>Adj Close</th>\n      <th>Volume</th>\n      <th>Open</th>\n      <th>High</th>\n      <th>Low</th>\n      <th>Close</th>\n      <th>Adj Close</th>\n      <th>Volume</th>\n    </tr>\n    <tr>\n      <th>date</th>\n      <th></th>\n      <th></th>\n      <th></th>\n      <th></th>\n      <th></th>\n      <th></th>\n      <th></th>\n      <th></th>\n      <th></th>\n      <th></th>\n      <th></th>\n      <th></th>\n      <th></th>\n      <th></th>\n      <th></th>\n      <th></th>\n      <th></th>\n      <th></th>\n      <th></th>\n      <th></th>\n      <th></th>\n    </tr>\n  </thead>\n  <tbody>\n    <tr>\n      <th>2020-12-08</th>\n      <td>11.0</td>\n      <td>2.0</td>\n      <td>6.0</td>\n      <td>0.0</td>\n      <td>0.0</td>\n      <td>1841.0</td>\n      <td>0.0</td>\n      <td>0.0</td>\n      <td>0.0</td>\n      <td>0.0</td>\n      <td>...</td>\n      <td>8.09</td>\n      <td>8.40</td>\n      <td>8.40</td>\n      <td>1440100.0</td>\n      <td>11.69</td>\n      <td>12.55</td>\n      <td>11.66</td>\n      <td>12.16</td>\n      <td>12.16</td>\n      <td>645200.0</td>\n    </tr>\n    <tr>\n      <th>2020-12-09</th>\n      <td>2.0</td>\n      <td>31.0</td>\n      <td>6.0</td>\n      <td>0.0</td>\n      <td>0.0</td>\n      <td>1938.0</td>\n      <td>0.0</td>\n      <td>0.0</td>\n      <td>0.0</td>\n      <td>1.0</td>\n      <td>...</td>\n      <td>7.99</td>\n      <td>8.33</td>\n      <td>8.33</td>\n      <td>810400.0</td>\n      <td>12.49</td>\n      <td>12.65</td>\n      <td>11.46</td>\n      <td>11.71</td>\n      <td>11.71</td>\n      <td>870600.0</td>\n    </tr>\n    <tr>\n      <th>2020-12-10</th>\n      <td>26.0</td>\n      <td>3.0</td>\n      <td>1.0</td>\n      <td>0.0</td>\n      <td>0.0</td>\n      <td>591.0</td>\n      <td>1.0</td>\n      <td>0.0</td>\n      <td>2.0</td>\n      <td>0.0</td>\n      <td>...</td>\n      <td>8.16</td>\n      <td>8.30</td>\n      <td>8.30</td>\n      <td>663300.0</td>\n      <td>11.50</td>\n      <td>11.88</td>\n      <td>11.29</td>\n      <td>11.78</td>\n      <td>11.78</td>\n      <td>982100.0</td>\n    </tr>\n    <tr>\n      <th>2020-12-11</th>\n      <td>15.0</td>\n      <td>3.0</td>\n      <td>0.0</td>\n      <td>0.0</td>\n      <td>0.0</td>\n      <td>428.0</td>\n      <td>2.0</td>\n      <td>2.0</td>\n      <td>0.0</td>\n      <td>0.0</td>\n      <td>...</td>\n      <td>7.98</td>\n      <td>8.27</td>\n      <td>8.27</td>\n      <td>627800.0</td>\n      <td>11.86</td>\n      <td>13.05</td>\n      <td>11.67</td>\n      <td>12.66</td>\n      <td>12.66</td>\n      <td>1205100.0</td>\n    </tr>\n    <tr>\n      <th>2020-12-12</th>\n      <td>34.0</td>\n      <td>0.0</td>\n      <td>1.0</td>\n      <td>0.0</td>\n      <td>0.0</td>\n      <td>269.0</td>\n      <td>0.0</td>\n      <td>0.0</td>\n      <td>0.0</td>\n      <td>0.0</td>\n      <td>...</td>\n      <td>NaN</td>\n      <td>NaN</td>\n      <td>NaN</td>\n      <td>NaN</td>\n      <td>NaN</td>\n      <td>NaN</td>\n      <td>NaN</td>\n      <td>NaN</td>\n      <td>NaN</td>\n      <td>NaN</td>\n    </tr>\n  </tbody>\n</table>\n<p>5 rows × 574 columns</p>\n</div>"
     },
     "metadata": {},
     "execution_count": 215
    }
   ],
   "source": [
    "joined_df = count_df.join(df)\n",
    "joined_df.head()"
   ]
  },
  {
   "cell_type": "code",
   "execution_count": 224,
   "metadata": {},
   "outputs": [
    {
     "output_type": "execute_result",
     "data": {
      "text/plain": [
       "                AMC     PUBM     GOGO     ISUN     CLVS      GME      SKT  \\\n",
       "           mentions mentions mentions mentions mentions mentions mentions   \n",
       "date                                                                        \n",
       "2020-12-08     11.0      2.0      6.0      0.0      0.0   1841.0      0.0   \n",
       "2020-12-09      2.0     31.0      6.0      0.0      0.0   1938.0      0.0   \n",
       "2020-12-10     26.0      3.0      1.0      0.0      0.0    591.0      1.0   \n",
       "2020-12-11     15.0      3.0      0.0      0.0      0.0    428.0      2.0   \n",
       "2020-12-12     34.0      0.0      1.0      0.0      0.0    269.0      0.0   \n",
       "\n",
       "               LGND     TRIT     ESPR  ...  PGEN                             \\\n",
       "           mentions mentions mentions  ...   Low Close Adj Close     Volume   \n",
       "date                                   ...                                    \n",
       "2020-12-08      0.0      0.0      0.0  ...  8.09  8.40      8.40  1440100.0   \n",
       "2020-12-09      0.0      0.0      1.0  ...  7.99  8.33      8.33   810400.0   \n",
       "2020-12-10      0.0      2.0      0.0  ...  8.16  8.30      8.30   663300.0   \n",
       "2020-12-11      2.0      0.0      0.0  ...  7.98  8.27      8.27   627800.0   \n",
       "2020-12-12      0.0      0.0      0.0  ...   NaN   NaN       NaN        NaN   \n",
       "\n",
       "              MCS                                            \n",
       "             Open   High    Low  Close Adj Close     Volume  \n",
       "date                                                         \n",
       "2020-12-08  11.69  12.55  11.66  12.16     12.16   645200.0  \n",
       "2020-12-09  12.49  12.65  11.46  11.71     11.71   870600.0  \n",
       "2020-12-10  11.50  11.88  11.29  11.78     11.78   982100.0  \n",
       "2020-12-11  11.86  13.05  11.67  12.66     12.66  1205100.0  \n",
       "2020-12-12    NaN    NaN    NaN    NaN       NaN        NaN  \n",
       "\n",
       "[5 rows x 574 columns]"
      ],
      "text/html": "<div>\n<style scoped>\n    .dataframe tbody tr th:only-of-type {\n        vertical-align: middle;\n    }\n\n    .dataframe tbody tr th {\n        vertical-align: top;\n    }\n\n    .dataframe thead tr th {\n        text-align: left;\n    }\n\n    .dataframe thead tr:last-of-type th {\n        text-align: right;\n    }\n</style>\n<table border=\"1\" class=\"dataframe\">\n  <thead>\n    <tr>\n      <th></th>\n      <th>AMC</th>\n      <th>PUBM</th>\n      <th>GOGO</th>\n      <th>ISUN</th>\n      <th>CLVS</th>\n      <th>GME</th>\n      <th>SKT</th>\n      <th>LGND</th>\n      <th>TRIT</th>\n      <th>ESPR</th>\n      <th>...</th>\n      <th colspan=\"4\" halign=\"left\">PGEN</th>\n      <th colspan=\"6\" halign=\"left\">MCS</th>\n    </tr>\n    <tr>\n      <th></th>\n      <th>mentions</th>\n      <th>mentions</th>\n      <th>mentions</th>\n      <th>mentions</th>\n      <th>mentions</th>\n      <th>mentions</th>\n      <th>mentions</th>\n      <th>mentions</th>\n      <th>mentions</th>\n      <th>mentions</th>\n      <th>...</th>\n      <th>Low</th>\n      <th>Close</th>\n      <th>Adj Close</th>\n      <th>Volume</th>\n      <th>Open</th>\n      <th>High</th>\n      <th>Low</th>\n      <th>Close</th>\n      <th>Adj Close</th>\n      <th>Volume</th>\n    </tr>\n    <tr>\n      <th>date</th>\n      <th></th>\n      <th></th>\n      <th></th>\n      <th></th>\n      <th></th>\n      <th></th>\n      <th></th>\n      <th></th>\n      <th></th>\n      <th></th>\n      <th></th>\n      <th></th>\n      <th></th>\n      <th></th>\n      <th></th>\n      <th></th>\n      <th></th>\n      <th></th>\n      <th></th>\n      <th></th>\n      <th></th>\n    </tr>\n  </thead>\n  <tbody>\n    <tr>\n      <th>2020-12-08</th>\n      <td>11.0</td>\n      <td>2.0</td>\n      <td>6.0</td>\n      <td>0.0</td>\n      <td>0.0</td>\n      <td>1841.0</td>\n      <td>0.0</td>\n      <td>0.0</td>\n      <td>0.0</td>\n      <td>0.0</td>\n      <td>...</td>\n      <td>8.09</td>\n      <td>8.40</td>\n      <td>8.40</td>\n      <td>1440100.0</td>\n      <td>11.69</td>\n      <td>12.55</td>\n      <td>11.66</td>\n      <td>12.16</td>\n      <td>12.16</td>\n      <td>645200.0</td>\n    </tr>\n    <tr>\n      <th>2020-12-09</th>\n      <td>2.0</td>\n      <td>31.0</td>\n      <td>6.0</td>\n      <td>0.0</td>\n      <td>0.0</td>\n      <td>1938.0</td>\n      <td>0.0</td>\n      <td>0.0</td>\n      <td>0.0</td>\n      <td>1.0</td>\n      <td>...</td>\n      <td>7.99</td>\n      <td>8.33</td>\n      <td>8.33</td>\n      <td>810400.0</td>\n      <td>12.49</td>\n      <td>12.65</td>\n      <td>11.46</td>\n      <td>11.71</td>\n      <td>11.71</td>\n      <td>870600.0</td>\n    </tr>\n    <tr>\n      <th>2020-12-10</th>\n      <td>26.0</td>\n      <td>3.0</td>\n      <td>1.0</td>\n      <td>0.0</td>\n      <td>0.0</td>\n      <td>591.0</td>\n      <td>1.0</td>\n      <td>0.0</td>\n      <td>2.0</td>\n      <td>0.0</td>\n      <td>...</td>\n      <td>8.16</td>\n      <td>8.30</td>\n      <td>8.30</td>\n      <td>663300.0</td>\n      <td>11.50</td>\n      <td>11.88</td>\n      <td>11.29</td>\n      <td>11.78</td>\n      <td>11.78</td>\n      <td>982100.0</td>\n    </tr>\n    <tr>\n      <th>2020-12-11</th>\n      <td>15.0</td>\n      <td>3.0</td>\n      <td>0.0</td>\n      <td>0.0</td>\n      <td>0.0</td>\n      <td>428.0</td>\n      <td>2.0</td>\n      <td>2.0</td>\n      <td>0.0</td>\n      <td>0.0</td>\n      <td>...</td>\n      <td>7.98</td>\n      <td>8.27</td>\n      <td>8.27</td>\n      <td>627800.0</td>\n      <td>11.86</td>\n      <td>13.05</td>\n      <td>11.67</td>\n      <td>12.66</td>\n      <td>12.66</td>\n      <td>1205100.0</td>\n    </tr>\n    <tr>\n      <th>2020-12-12</th>\n      <td>34.0</td>\n      <td>0.0</td>\n      <td>1.0</td>\n      <td>0.0</td>\n      <td>0.0</td>\n      <td>269.0</td>\n      <td>0.0</td>\n      <td>0.0</td>\n      <td>0.0</td>\n      <td>0.0</td>\n      <td>...</td>\n      <td>NaN</td>\n      <td>NaN</td>\n      <td>NaN</td>\n      <td>NaN</td>\n      <td>NaN</td>\n      <td>NaN</td>\n      <td>NaN</td>\n      <td>NaN</td>\n      <td>NaN</td>\n      <td>NaN</td>\n    </tr>\n  </tbody>\n</table>\n<p>5 rows × 574 columns</p>\n</div>"
     },
     "metadata": {},
     "execution_count": 224
    }
   ],
   "source": [
    "joined_df.sort_index(axis=1)\n",
    "joined_df.head()"
   ]
  },
  {
   "cell_type": "code",
   "execution_count": 232,
   "metadata": {},
   "outputs": [],
   "source": [
    "stack = joined_df.stack(list(range(joined_df.columns.nlevels - 1)))"
   ]
  },
  {
   "cell_type": "code",
   "execution_count": 233,
   "metadata": {},
   "outputs": [],
   "source": [
    "stack = pd.DataFrame(stack)"
   ]
  },
  {
   "cell_type": "code",
   "execution_count": 236,
   "metadata": {},
   "outputs": [
    {
     "output_type": "execute_result",
     "data": {
      "text/plain": [
       "                  Adj Close       Close        High         Low        Open  \\\n",
       "date                                                                          \n",
       "2020-12-08 AAL    17.629999   17.629999   17.920000   17.160000   17.469999   \n",
       "           AAPL  124.194412  124.379997  124.980003  123.089996  124.370003   \n",
       "           ALOT   11.680000   11.680000   11.740000   11.500000   11.520000   \n",
       "           AMC     3.980000    3.980000    4.020000    3.610000    3.610000   \n",
       "           AMCX   31.070000   31.070000   32.139999   30.889999   31.280001   \n",
       "...                     ...         ...         ...         ...         ...   \n",
       "2021-02-04 TRHC   53.450001   53.450001   54.490002   52.770000   54.290001   \n",
       "           TRIT    6.920000    6.920000    7.160000    6.900000    7.150000   \n",
       "           TSLA  849.989990  849.989990  856.500000  833.419983  855.000000   \n",
       "           VXRT    9.050000    9.050000   10.500000    8.910000    9.940000   \n",
       "           ZYXI   18.160000   18.160000   18.980000   17.910000   18.910000   \n",
       "\n",
       "                     Volume  mentions  \n",
       "date                                   \n",
       "2020-12-08 AAL   95855400.0      21.0  \n",
       "           AAPL  82225500.0      88.0  \n",
       "           ALOT     27100.0       4.0  \n",
       "           AMC   29530600.0      11.0  \n",
       "           AMCX    591300.0       0.0  \n",
       "...                     ...       ...  \n",
       "2021-02-04 TRHC    331900.0       0.0  \n",
       "           TRIT   4005300.0       0.0  \n",
       "           TSLA  15812700.0       0.0  \n",
       "           VXRT  37896600.0       6.0  \n",
       "           ZYXI    559300.0       0.0  \n",
       "\n",
       "[4838 rows x 7 columns]"
      ],
      "text/html": "<div>\n<style scoped>\n    .dataframe tbody tr th:only-of-type {\n        vertical-align: middle;\n    }\n\n    .dataframe tbody tr th {\n        vertical-align: top;\n    }\n\n    .dataframe thead th {\n        text-align: right;\n    }\n</style>\n<table border=\"1\" class=\"dataframe\">\n  <thead>\n    <tr style=\"text-align: right;\">\n      <th></th>\n      <th></th>\n      <th>Adj Close</th>\n      <th>Close</th>\n      <th>High</th>\n      <th>Low</th>\n      <th>Open</th>\n      <th>Volume</th>\n      <th>mentions</th>\n    </tr>\n    <tr>\n      <th>date</th>\n      <th></th>\n      <th></th>\n      <th></th>\n      <th></th>\n      <th></th>\n      <th></th>\n      <th></th>\n      <th></th>\n    </tr>\n  </thead>\n  <tbody>\n    <tr>\n      <th rowspan=\"5\" valign=\"top\">2020-12-08</th>\n      <th>AAL</th>\n      <td>17.629999</td>\n      <td>17.629999</td>\n      <td>17.920000</td>\n      <td>17.160000</td>\n      <td>17.469999</td>\n      <td>95855400.0</td>\n      <td>21.0</td>\n    </tr>\n    <tr>\n      <th>AAPL</th>\n      <td>124.194412</td>\n      <td>124.379997</td>\n      <td>124.980003</td>\n      <td>123.089996</td>\n      <td>124.370003</td>\n      <td>82225500.0</td>\n      <td>88.0</td>\n    </tr>\n    <tr>\n      <th>ALOT</th>\n      <td>11.680000</td>\n      <td>11.680000</td>\n      <td>11.740000</td>\n      <td>11.500000</td>\n      <td>11.520000</td>\n      <td>27100.0</td>\n      <td>4.0</td>\n    </tr>\n    <tr>\n      <th>AMC</th>\n      <td>3.980000</td>\n      <td>3.980000</td>\n      <td>4.020000</td>\n      <td>3.610000</td>\n      <td>3.610000</td>\n      <td>29530600.0</td>\n      <td>11.0</td>\n    </tr>\n    <tr>\n      <th>AMCX</th>\n      <td>31.070000</td>\n      <td>31.070000</td>\n      <td>32.139999</td>\n      <td>30.889999</td>\n      <td>31.280001</td>\n      <td>591300.0</td>\n      <td>0.0</td>\n    </tr>\n    <tr>\n      <th>...</th>\n      <th>...</th>\n      <td>...</td>\n      <td>...</td>\n      <td>...</td>\n      <td>...</td>\n      <td>...</td>\n      <td>...</td>\n      <td>...</td>\n    </tr>\n    <tr>\n      <th rowspan=\"5\" valign=\"top\">2021-02-04</th>\n      <th>TRHC</th>\n      <td>53.450001</td>\n      <td>53.450001</td>\n      <td>54.490002</td>\n      <td>52.770000</td>\n      <td>54.290001</td>\n      <td>331900.0</td>\n      <td>0.0</td>\n    </tr>\n    <tr>\n      <th>TRIT</th>\n      <td>6.920000</td>\n      <td>6.920000</td>\n      <td>7.160000</td>\n      <td>6.900000</td>\n      <td>7.150000</td>\n      <td>4005300.0</td>\n      <td>0.0</td>\n    </tr>\n    <tr>\n      <th>TSLA</th>\n      <td>849.989990</td>\n      <td>849.989990</td>\n      <td>856.500000</td>\n      <td>833.419983</td>\n      <td>855.000000</td>\n      <td>15812700.0</td>\n      <td>0.0</td>\n    </tr>\n    <tr>\n      <th>VXRT</th>\n      <td>9.050000</td>\n      <td>9.050000</td>\n      <td>10.500000</td>\n      <td>8.910000</td>\n      <td>9.940000</td>\n      <td>37896600.0</td>\n      <td>6.0</td>\n    </tr>\n    <tr>\n      <th>ZYXI</th>\n      <td>18.160000</td>\n      <td>18.160000</td>\n      <td>18.980000</td>\n      <td>17.910000</td>\n      <td>18.910000</td>\n      <td>559300.0</td>\n      <td>0.0</td>\n    </tr>\n  </tbody>\n</table>\n<p>4838 rows × 7 columns</p>\n</div>"
     },
     "metadata": {},
     "execution_count": 236
    }
   ],
   "source": [
    "stack"
   ]
  },
  {
   "cell_type": "code",
   "execution_count": null,
   "metadata": {},
   "outputs": [],
   "source": []
  }
 ]
}