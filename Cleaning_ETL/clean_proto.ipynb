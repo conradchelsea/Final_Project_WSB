{
 "metadata": {
  "language_info": {
   "codemirror_mode": {
    "name": "ipython",
    "version": 3
   },
   "file_extension": ".py",
   "mimetype": "text/x-python",
   "name": "python",
   "nbconvert_exporter": "python",
   "pygments_lexer": "ipython3",
   "version": "3.7.9"
  },
  "orig_nbformat": 2,
  "kernelspec": {
   "name": "python3",
   "display_name": "Python 3",
   "language": "python"
  }
 },
 "nbformat": 4,
 "nbformat_minor": 2,
 "cells": [
  {
   "cell_type": "code",
   "execution_count": 1,
   "metadata": {},
   "outputs": [],
   "source": [
    "import boto3\n",
    "import pandas as pd\n",
    "import s3fs\n",
    "import re\n",
    "import logging\n",
    "\n",
    "from botocore.exceptions import ClientError\n"
   ]
  },
  {
   "cell_type": "code",
   "execution_count": 23,
   "metadata": {},
   "outputs": [],
   "source": [
    "client = boto3.client('s3')"
   ]
  },
  {
   "cell_type": "code",
   "execution_count": 24,
   "metadata": {},
   "outputs": [
    {
     "output_type": "stream",
     "name": "stdout",
     "text": [
      "s3.ObjectSummary(bucket_name='wsb-final-project-bucket', key='aws-programmatic-access-test-object')\ns3.ObjectSummary(bucket_name='wsb-final-project-bucket', key='kaggle_wsb_comments_12:6-2:6.csv')\ns3.ObjectSummary(bucket_name='wsb-final-project-bucket', key='kaggle_wsb_posts_12:6-2:6.csv')\ns3.ObjectSummary(bucket_name='wsb-final-project-bucket', key='test/test/20210101-20210201/b1a0304a-737f-4cc0-bff8-a7911ddf79ba/test-1.csv.gz')\ns3.ObjectSummary(bucket_name='wsb-final-project-bucket', key='test/test/20210101-20210201/b1a0304a-737f-4cc0-bff8-a7911ddf79ba/test-Manifest.json')\ns3.ObjectSummary(bucket_name='wsb-final-project-bucket', key='test/test/20210101-20210201/test-Manifest.json')\ns3.ObjectSummary(bucket_name='wsb-final-project-bucket', key='test/test/20210201-20210301/305336a5-a905-4bf1-8b81-2f5d18953f59/test-1.csv.gz')\ns3.ObjectSummary(bucket_name='wsb-final-project-bucket', key='test/test/20210201-20210301/305336a5-a905-4bf1-8b81-2f5d18953f59/test-Manifest.json')\ns3.ObjectSummary(bucket_name='wsb-final-project-bucket', key='test/test/20210201-20210301/test-Manifest.json')\n"
     ]
    }
   ],
   "source": [
    "s3 = boto3.resource('s3')\n",
    "my_bucket = s3.Bucket('wsb-final-project-bucket')\n",
    "for my_bucket_object in my_bucket.objects.all():\n",
    "    print(my_bucket_object)"
   ]
  },
  {
   "cell_type": "code",
   "execution_count": 25,
   "metadata": {},
   "outputs": [],
   "source": [
    "# comment_path = \"s3://wsb-final-project-bucket/kaggle_wsb_comments_12:6-2:6.csv\"\n",
    "# post_path = \"s3://wsb-final-project-bucket/kaggle_wsb_posts_12:6-2:6.csv\""
   ]
  },
  {
   "cell_type": "code",
   "execution_count": 26,
   "metadata": {},
   "outputs": [],
   "source": [
    "post_path = \"../Data/wallstreetbets_posts.csv\"\n",
    "comment_path = \"../Data/wallstreetbets_comments.csv\""
   ]
  },
  {
   "cell_type": "code",
   "execution_count": 27,
   "metadata": {},
   "outputs": [],
   "source": [
    "# comment_df = pd.read_csv(comment_path)\n",
    "post_df = pd.read_csv(post_path)"
   ]
  },
  {
   "cell_type": "code",
   "execution_count": 28,
   "metadata": {},
   "outputs": [],
   "source": [
    "# comment_df.head()"
   ]
  },
  {
   "cell_type": "code",
   "execution_count": 29,
   "metadata": {},
   "outputs": [],
   "source": [
    "# post_df.columns.to_list()"
   ]
  },
  {
   "cell_type": "code",
   "execution_count": 30,
   "metadata": {},
   "outputs": [
    {
     "output_type": "execute_result",
     "data": {
      "text/plain": [
       "0                                   Ruled by the Theta Gods\n",
       "1                                        3k and I want more\n",
       "2         Thank you fellow retards and autists! Big ston...\n",
       "3         AZN fair value of $55, price of $50, vaccine c...\n",
       "4                                  I wanna be less retarded\n",
       "                                ...                        \n",
       "707456    bro this is the most true shit ever and i can’...\n",
       "707457    Took 5 years of losing on trading shares until...\n",
       "707458                                                  💎 ✋\n",
       "707459     Was it a dream??!😴 😴 GME opens on Monday up 100%\n",
       "707460     Trading Plan 2021 - Need your constructive input\n",
       "Name: title, Length: 707461, dtype: object"
      ]
     },
     "metadata": {},
     "execution_count": 30
    }
   ],
   "source": [
    "post_df[\"title\"]"
   ]
  },
  {
   "cell_type": "code",
   "execution_count": 31,
   "metadata": {},
   "outputs": [],
   "source": [
    "ticker_list = pd.read_csv(\"../Data/tickers.csv\")"
   ]
  },
  {
   "cell_type": "code",
   "execution_count": 32,
   "metadata": {},
   "outputs": [
    {
     "output_type": "execute_result",
     "data": {
      "text/plain": [
       "         AA,0\n",
       "0      AACG,0\n",
       "1      AACQ,0\n",
       "2     AACQU,0\n",
       "3     AACQW,0\n",
       "4      AAIC,0\n",
       "...       ...\n",
       "6929  ZWRKW,0\n",
       "6930   ZYME,0\n",
       "6931   ZYNE,0\n",
       "6932   ZYXI,0\n",
       "6933    SLV,0\n",
       "\n",
       "[6934 rows x 1 columns]"
      ],
      "text/html": "<div>\n<style scoped>\n    .dataframe tbody tr th:only-of-type {\n        vertical-align: middle;\n    }\n\n    .dataframe tbody tr th {\n        vertical-align: top;\n    }\n\n    .dataframe thead th {\n        text-align: right;\n    }\n</style>\n<table border=\"1\" class=\"dataframe\">\n  <thead>\n    <tr style=\"text-align: right;\">\n      <th></th>\n      <th>AA,0</th>\n    </tr>\n  </thead>\n  <tbody>\n    <tr>\n      <th>0</th>\n      <td>AACG,0</td>\n    </tr>\n    <tr>\n      <th>1</th>\n      <td>AACQ,0</td>\n    </tr>\n    <tr>\n      <th>2</th>\n      <td>AACQU,0</td>\n    </tr>\n    <tr>\n      <th>3</th>\n      <td>AACQW,0</td>\n    </tr>\n    <tr>\n      <th>4</th>\n      <td>AAIC,0</td>\n    </tr>\n    <tr>\n      <th>...</th>\n      <td>...</td>\n    </tr>\n    <tr>\n      <th>6929</th>\n      <td>ZWRKW,0</td>\n    </tr>\n    <tr>\n      <th>6930</th>\n      <td>ZYME,0</td>\n    </tr>\n    <tr>\n      <th>6931</th>\n      <td>ZYNE,0</td>\n    </tr>\n    <tr>\n      <th>6932</th>\n      <td>ZYXI,0</td>\n    </tr>\n    <tr>\n      <th>6933</th>\n      <td>SLV,0</td>\n    </tr>\n  </tbody>\n</table>\n<p>6934 rows × 1 columns</p>\n</div>"
     },
     "metadata": {},
     "execution_count": 32
    }
   ],
   "source": [
    "ticker_list"
   ]
  },
  {
   "cell_type": "code",
   "execution_count": 33,
   "metadata": {},
   "outputs": [],
   "source": [
    "#Regex out commas and 0's in Tickers csv.\n",
    "ticker_list = ticker_list.replace(',','', regex=True)\n",
    "ticker_list = ticker_list.replace('0', '', regex=True)"
   ]
  },
  {
   "cell_type": "code",
   "execution_count": 34,
   "metadata": {},
   "outputs": [],
   "source": [
    "ticker_list[\"Ticker\"] = ticker_list[\"AA,0\"]\n",
    "ticker_list = ticker_list.drop([\"AA,0\"], 1)"
   ]
  },
  {
   "cell_type": "code",
   "execution_count": 35,
   "metadata": {},
   "outputs": [
    {
     "output_type": "execute_result",
     "data": {
      "text/plain": [
       "     Ticker\n",
       "0      AACG\n",
       "1      AACQ\n",
       "2     AACQU\n",
       "3     AACQW\n",
       "4      AAIC\n",
       "...     ...\n",
       "6929  ZWRKW\n",
       "6930   ZYME\n",
       "6931   ZYNE\n",
       "6932   ZYXI\n",
       "6933    SLV\n",
       "\n",
       "[6934 rows x 1 columns]"
      ],
      "text/html": "<div>\n<style scoped>\n    .dataframe tbody tr th:only-of-type {\n        vertical-align: middle;\n    }\n\n    .dataframe tbody tr th {\n        vertical-align: top;\n    }\n\n    .dataframe thead th {\n        text-align: right;\n    }\n</style>\n<table border=\"1\" class=\"dataframe\">\n  <thead>\n    <tr style=\"text-align: right;\">\n      <th></th>\n      <th>Ticker</th>\n    </tr>\n  </thead>\n  <tbody>\n    <tr>\n      <th>0</th>\n      <td>AACG</td>\n    </tr>\n    <tr>\n      <th>1</th>\n      <td>AACQ</td>\n    </tr>\n    <tr>\n      <th>2</th>\n      <td>AACQU</td>\n    </tr>\n    <tr>\n      <th>3</th>\n      <td>AACQW</td>\n    </tr>\n    <tr>\n      <th>4</th>\n      <td>AAIC</td>\n    </tr>\n    <tr>\n      <th>...</th>\n      <td>...</td>\n    </tr>\n    <tr>\n      <th>6929</th>\n      <td>ZWRKW</td>\n    </tr>\n    <tr>\n      <th>6930</th>\n      <td>ZYME</td>\n    </tr>\n    <tr>\n      <th>6931</th>\n      <td>ZYNE</td>\n    </tr>\n    <tr>\n      <th>6932</th>\n      <td>ZYXI</td>\n    </tr>\n    <tr>\n      <th>6933</th>\n      <td>SLV</td>\n    </tr>\n  </tbody>\n</table>\n<p>6934 rows × 1 columns</p>\n</div>"
     },
     "metadata": {},
     "execution_count": 35
    }
   ],
   "source": [
    "ticker_list"
   ]
  },
  {
   "cell_type": "code",
   "execution_count": 36,
   "metadata": {},
   "outputs": [],
   "source": [
    "ticker_list_test = [\"GME\", \"AMC\", \"TSLA\"]"
   ]
  },
  {
   "cell_type": "code",
   "execution_count": 37,
   "metadata": {},
   "outputs": [],
   "source": [
    "# for row in post_df:\n",
    "#     for ticker in ticker_list_test:\n",
    "#         if post_df[\"title\"].str.extract(rf\"\\s({ticker})\\s\", flags=re.IGNORECASE) == True:\n",
    "#             ticker_name = ticker\n",
    "#             post_df[\"ticker_name\"] = ticker\n",
    "\n",
    "\n",
    "\n",
    "    "
   ]
  },
  {
   "cell_type": "code",
   "execution_count": 38,
   "metadata": {},
   "outputs": [],
   "source": [
    "\n",
    "for ticker in ticker_list_test:\n",
    "    post_df['ticker_name'] = post_df['title'].str.extract(rf\"\\s({ticker})\\s\", expand=False).str.strip()\n",
    "            "
   ]
  },
  {
   "cell_type": "code",
   "execution_count": 39,
   "metadata": {},
   "outputs": [],
   "source": [
    "for ticker in ticker_list_test:\n",
    "    post_df['ticker_name'] = post_df['title'].str.replace(rf\"\\s({ticker})\\s\", '').str.strip()"
   ]
  },
  {
   "cell_type": "code",
   "execution_count": 40,
   "metadata": {},
   "outputs": [
    {
     "output_type": "execute_result",
     "data": {
      "text/plain": [
       "count     707460\n",
       "unique    619745\n",
       "top          AMC\n",
       "freq        1826\n",
       "Name: ticker_name, dtype: object"
      ]
     },
     "metadata": {},
     "execution_count": 40
    }
   ],
   "source": [
    "post_df[\"ticker_name\"].describe()"
   ]
  },
  {
   "cell_type": "code",
   "execution_count": 41,
   "metadata": {},
   "outputs": [],
   "source": [
    "post_df[\"ticker_name\"] = None"
   ]
  },
  {
   "cell_type": "code",
   "execution_count": 42,
   "metadata": {},
   "outputs": [
    {
     "output_type": "stream",
     "name": "stdout",
     "text": [
      "56 85 0\n"
     ]
    }
   ],
   "source": [
    "index_title = post_df.columns.get_loc(\"title\")\n",
    "index_ticker_name = post_df.columns.get_loc(\"ticker_name\")\n",
    "index_ticker_list = ticker_list.columns.get_loc(\"Ticker\")\n",
    "print(index_title, index_ticker_name, index_ticker_list)"
   ]
  },
  {
   "cell_type": "code",
   "execution_count": 44,
   "metadata": {},
   "outputs": [],
   "source": [
    "post_df['title']=post_df['title'].apply(str)"
   ]
  },
  {
   "cell_type": "code",
   "execution_count": 45,
   "metadata": {},
   "outputs": [
    {
     "output_type": "stream",
     "name": "stdout",
     "text": [
      "CAR 9\n",
      "BEPC 22\n",
      "MTL 23\n",
      "BOOM 31\n",
      "CERT 32\n",
      "EV 33\n",
      "FORD 33\n",
      "CD 35\n",
      "PS 35\n",
      "BFT 39\n",
      "GOOD 45\n",
      "PUMP 51\n",
      "PUMP 53\n",
      "GOOD 61\n",
      "GME 64\n",
      "LI 88\n",
      "NIO 88\n",
      "XPEV 88\n",
      "NIO 94\n",
      "WKHS 96\n",
      "CPU times: user 1min 18s, sys: 829 ms, total: 1min 19s\n",
      "Wall time: 1min 19s\n"
     ]
    }
   ],
   "source": [
    "%%time\n",
    "for row in range(0, 100):\n",
    "    for ticker in ticker_list[\"Ticker\"]:\n",
    "        ticker_name = re.search(rf'\\s({ticker})\\s', post_df.iat[row, index_title], re.IGNORECASE)\n",
    "        if ticker_name is not None:\n",
    "            post_df.iat[row, index_ticker_name] = ticker_name.group()\n",
    "            print(ticker, row)"
   ]
  },
  {
   "cell_type": "code",
   "execution_count": 55,
   "metadata": {},
   "outputs": [
    {
     "output_type": "error",
     "ename": "ValueError",
     "evalue": "The truth value of a DataFrame is ambiguous. Use a.empty, a.bool(), a.item(), a.any() or a.all().",
     "traceback": [
      "\u001b[0;31m---------------------------------------------------------------------------\u001b[0m",
      "\u001b[0;31mValueError\u001b[0m                                Traceback (most recent call last)",
      "\u001b[0;32m<timed exec>\u001b[0m in \u001b[0;36m<module>\u001b[0;34m\u001b[0m\n",
      "\u001b[0;32m/opt/anaconda3/envs/mlenv/lib/python3.7/site-packages/pandas/core/indexing.py\u001b[0m in \u001b[0;36m__getitem__\u001b[0;34m(self, key)\u001b[0m\n\u001b[1;32m    876\u001b[0m             \u001b[0maxis\u001b[0m \u001b[0;34m=\u001b[0m \u001b[0mself\u001b[0m\u001b[0;34m.\u001b[0m\u001b[0maxis\u001b[0m \u001b[0;32mor\u001b[0m \u001b[0;36m0\u001b[0m\u001b[0;34m\u001b[0m\u001b[0;34m\u001b[0m\u001b[0m\n\u001b[1;32m    877\u001b[0m \u001b[0;34m\u001b[0m\u001b[0m\n\u001b[0;32m--> 878\u001b[0;31m             \u001b[0mmaybe_callable\u001b[0m \u001b[0;34m=\u001b[0m \u001b[0mcom\u001b[0m\u001b[0;34m.\u001b[0m\u001b[0mapply_if_callable\u001b[0m\u001b[0;34m(\u001b[0m\u001b[0mkey\u001b[0m\u001b[0;34m,\u001b[0m \u001b[0mself\u001b[0m\u001b[0;34m.\u001b[0m\u001b[0mobj\u001b[0m\u001b[0;34m)\u001b[0m\u001b[0;34m\u001b[0m\u001b[0;34m\u001b[0m\u001b[0m\n\u001b[0m\u001b[1;32m    879\u001b[0m             \u001b[0;32mreturn\u001b[0m \u001b[0mself\u001b[0m\u001b[0;34m.\u001b[0m\u001b[0m_getitem_axis\u001b[0m\u001b[0;34m(\u001b[0m\u001b[0mmaybe_callable\u001b[0m\u001b[0;34m,\u001b[0m \u001b[0maxis\u001b[0m\u001b[0;34m=\u001b[0m\u001b[0maxis\u001b[0m\u001b[0;34m)\u001b[0m\u001b[0;34m\u001b[0m\u001b[0;34m\u001b[0m\u001b[0m\n\u001b[1;32m    880\u001b[0m \u001b[0;34m\u001b[0m\u001b[0m\n",
      "\u001b[0;32m/opt/anaconda3/envs/mlenv/lib/python3.7/site-packages/pandas/core/common.py\u001b[0m in \u001b[0;36mapply_if_callable\u001b[0;34m(maybe_callable, obj, **kwargs)\u001b[0m\n\u001b[1;32m    339\u001b[0m     \"\"\"\n\u001b[1;32m    340\u001b[0m     \u001b[0;32mif\u001b[0m \u001b[0mcallable\u001b[0m\u001b[0;34m(\u001b[0m\u001b[0mmaybe_callable\u001b[0m\u001b[0;34m)\u001b[0m\u001b[0;34m:\u001b[0m\u001b[0;34m\u001b[0m\u001b[0;34m\u001b[0m\u001b[0m\n\u001b[0;32m--> 341\u001b[0;31m         \u001b[0;32mreturn\u001b[0m \u001b[0mmaybe_callable\u001b[0m\u001b[0;34m(\u001b[0m\u001b[0mobj\u001b[0m\u001b[0;34m,\u001b[0m \u001b[0;34m**\u001b[0m\u001b[0mkwargs\u001b[0m\u001b[0;34m)\u001b[0m\u001b[0;34m\u001b[0m\u001b[0;34m\u001b[0m\u001b[0m\n\u001b[0m\u001b[1;32m    342\u001b[0m \u001b[0;34m\u001b[0m\u001b[0m\n\u001b[1;32m    343\u001b[0m     \u001b[0;32mreturn\u001b[0m \u001b[0mmaybe_callable\u001b[0m\u001b[0;34m\u001b[0m\u001b[0;34m\u001b[0m\u001b[0m\n",
      "\u001b[0;32m/opt/anaconda3/envs/mlenv/lib/python3.7/site-packages/pandas/core/generic.py\u001b[0m in \u001b[0;36m__nonzero__\u001b[0;34m(self)\u001b[0m\n\u001b[1;32m   1328\u001b[0m     \u001b[0;32mdef\u001b[0m \u001b[0m__nonzero__\u001b[0m\u001b[0;34m(\u001b[0m\u001b[0mself\u001b[0m\u001b[0;34m)\u001b[0m\u001b[0;34m:\u001b[0m\u001b[0;34m\u001b[0m\u001b[0;34m\u001b[0m\u001b[0m\n\u001b[1;32m   1329\u001b[0m         raise ValueError(\n\u001b[0;32m-> 1330\u001b[0;31m             \u001b[0;34mf\"The truth value of a {type(self).__name__} is ambiguous. \"\u001b[0m\u001b[0;34m\u001b[0m\u001b[0;34m\u001b[0m\u001b[0m\n\u001b[0m\u001b[1;32m   1331\u001b[0m             \u001b[0;34m\"Use a.empty, a.bool(), a.item(), a.any() or a.all().\"\u001b[0m\u001b[0;34m\u001b[0m\u001b[0;34m\u001b[0m\u001b[0m\n\u001b[1;32m   1332\u001b[0m         )\n",
      "\u001b[0;31mValueError\u001b[0m: The truth value of a DataFrame is ambiguous. Use a.empty, a.bool(), a.item(), a.any() or a.all()."
     ]
    }
   ],
   "source": [
    "%%time\n",
    "count = 0\n",
    "for row in post_df.itertuples():\n",
    "    for ticker in ticker_list[\"Ticker\"]:\n",
    "        individual_ticker_name = re.search(rf'\\s({ticker})\\s', row.title, re.IGNORECASE)\n",
    "        if individual_ticker_name is not None:\n",
    "            post_df.iloc[row.index][index_ticker_name] = individual_ticker_name\n",
    "            "
   ]
  },
  {
   "cell_type": "code",
   "execution_count": 54,
   "metadata": {},
   "outputs": [
    {
     "output_type": "execute_result",
     "data": {
      "text/plain": [
       "all_awardings                         0\n",
       "allow_live_comments                   0\n",
       "author                                0\n",
       "author_flair_background_color    706340\n",
       "author_flair_css_class           707385\n",
       "                                  ...  \n",
       "distinguished                    707427\n",
       "collections                      707433\n",
       "crosspost_parent                 707460\n",
       "crosspost_parent_list            707460\n",
       "ticker_name                      707445\n",
       "Length: 86, dtype: int64"
      ]
     },
     "metadata": {},
     "execution_count": 54
    }
   ],
   "source": [
    "post_df.isna().sum()"
   ]
  },
  {
   "cell_type": "code",
   "execution_count": 49,
   "metadata": {},
   "outputs": [
    {
     "output_type": "stream",
     "name": "stdout",
     "text": [
      " car \n"
     ]
    }
   ],
   "source": [
    "print(post_df.iloc[9][index_ticker_name])"
   ]
  },
  {
   "cell_type": "code",
   "execution_count": null,
   "metadata": {},
   "outputs": [],
   "source": []
  }
 ]
}