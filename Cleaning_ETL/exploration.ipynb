{
 "metadata": {
  "language_info": {
   "codemirror_mode": {
    "name": "ipython",
    "version": 3
   },
   "file_extension": ".py",
   "mimetype": "text/x-python",
   "name": "python",
   "nbconvert_exporter": "python",
   "pygments_lexer": "ipython3",
   "version": "3.7.9"
  },
  "orig_nbformat": 2,
  "kernelspec": {
   "name": "python3",
   "display_name": "Python 3.7.9 64-bit ('mlenv': conda)",
   "metadata": {
    "interpreter": {
     "hash": "048dad420f067fed17ce0fa3745b2d42d3aa5960af8b063192d7d7c1cf436e55"
    }
   }
  }
 },
 "nbformat": 4,
 "nbformat_minor": 2,
 "cells": [
  {
   "cell_type": "code",
   "execution_count": 74,
   "metadata": {},
   "outputs": [],
   "source": [
    "# import pandas as pd\n",
    "import modin as pd\n",
    "import boto3\n",
    "# import pandas as pd\n",
    "import s3fs\n",
    "import re\n",
    "import logging\n",
    "\n",
    "from botocore.exceptions import ClientError\n"
   ]
  },
  {
   "cell_type": "code",
   "execution_count": 2,
   "metadata": {},
   "outputs": [],
   "source": [
    "post_path = \"../Data/wallstreetbets_posts.csv\"\n",
    "comment_path = \"../Data/wallstreetbets_comments.csv\""
   ]
  },
  {
   "cell_type": "code",
   "execution_count": 3,
   "metadata": {},
   "outputs": [],
   "source": [
    "comment_df = pd.read_csv(comment_path)\n",
    "post_df = pd.read_csv(post_path)"
   ]
  },
  {
   "cell_type": "code",
   "execution_count": 4,
   "metadata": {},
   "outputs": [
    {
     "output_type": "execute_result",
     "data": {
      "text/plain": [
       "['all_awardings',\n",
       " 'associated_award',\n",
       " 'author',\n",
       " 'author_flair_background_color',\n",
       " 'author_flair_css_class',\n",
       " 'author_flair_richtext',\n",
       " 'author_flair_template_id',\n",
       " 'author_flair_text',\n",
       " 'author_flair_text_color',\n",
       " 'author_flair_type',\n",
       " 'author_fullname',\n",
       " 'author_patreon_flair',\n",
       " 'author_premium',\n",
       " 'awarders',\n",
       " 'body',\n",
       " 'collapsed_because_crowd_control',\n",
       " 'comment_type',\n",
       " 'created_utc',\n",
       " 'gildings',\n",
       " 'id',\n",
       " 'is_submitter',\n",
       " 'link_id',\n",
       " 'locked',\n",
       " 'no_follow',\n",
       " 'parent_id',\n",
       " 'permalink',\n",
       " 'retrieved_on',\n",
       " 'score',\n",
       " 'send_replies',\n",
       " 'stickied',\n",
       " 'subreddit',\n",
       " 'subreddit_id',\n",
       " 'top_awarded_type',\n",
       " 'total_awards_received',\n",
       " 'treatment_tags',\n",
       " 'distinguished',\n",
       " 'author_cakeday']"
      ]
     },
     "metadata": {},
     "execution_count": 4
    }
   ],
   "source": [
    "comment_df.columns.to_list()"
   ]
  },
  {
   "cell_type": "code",
   "execution_count": 6,
   "metadata": {},
   "outputs": [
    {
     "output_type": "execute_result",
     "data": {
      "text/plain": [
       "['all_awardings',\n",
       " 'allow_live_comments',\n",
       " 'author',\n",
       " 'author_flair_background_color',\n",
       " 'author_flair_css_class',\n",
       " 'author_flair_richtext',\n",
       " 'author_flair_text',\n",
       " 'author_flair_text_color',\n",
       " 'author_flair_type',\n",
       " 'author_fullname',\n",
       " 'author_patreon_flair',\n",
       " 'author_premium',\n",
       " 'awarders',\n",
       " 'can_mod_post',\n",
       " 'contest_mode',\n",
       " 'created_utc',\n",
       " 'domain',\n",
       " 'full_link',\n",
       " 'gildings',\n",
       " 'id',\n",
       " 'is_crosspostable',\n",
       " 'is_meta',\n",
       " 'is_original_content',\n",
       " 'is_reddit_media_domain',\n",
       " 'is_robot_indexable',\n",
       " 'is_self',\n",
       " 'is_video',\n",
       " 'link_flair_background_color',\n",
       " 'link_flair_css_class',\n",
       " 'link_flair_richtext',\n",
       " 'link_flair_template_id',\n",
       " 'link_flair_text',\n",
       " 'link_flair_text_color',\n",
       " 'link_flair_type',\n",
       " 'locked',\n",
       " 'media_only',\n",
       " 'no_follow',\n",
       " 'num_comments',\n",
       " 'num_crossposts',\n",
       " 'over_18',\n",
       " 'parent_whitelist_status',\n",
       " 'permalink',\n",
       " 'pinned',\n",
       " 'pwls',\n",
       " 'retrieved_on',\n",
       " 'score',\n",
       " 'selftext',\n",
       " 'send_replies',\n",
       " 'spoiler',\n",
       " 'stickied',\n",
       " 'subreddit',\n",
       " 'subreddit_id',\n",
       " 'subreddit_subscribers',\n",
       " 'subreddit_type',\n",
       " 'suggested_sort',\n",
       " 'thumbnail',\n",
       " 'title',\n",
       " 'total_awards_received',\n",
       " 'treatment_tags',\n",
       " 'upvote_ratio',\n",
       " 'url',\n",
       " 'whitelist_status',\n",
       " 'wls',\n",
       " 'removed_by_category',\n",
       " 'post_hint',\n",
       " 'preview',\n",
       " 'thumbnail_height',\n",
       " 'thumbnail_width',\n",
       " 'url_overridden_by_dest',\n",
       " 'media_metadata',\n",
       " 'gallery_data',\n",
       " 'is_gallery',\n",
       " 'media',\n",
       " 'media_embed',\n",
       " 'secure_media',\n",
       " 'secure_media_embed',\n",
       " 'banned_by',\n",
       " 'author_flair_template_id',\n",
       " 'author_cakeday',\n",
       " 'edited',\n",
       " 'gilded',\n",
       " 'distinguished',\n",
       " 'collections',\n",
       " 'crosspost_parent',\n",
       " 'crosspost_parent_list']"
      ]
     },
     "metadata": {},
     "execution_count": 6
    }
   ],
   "source": [
    "post_df.columns.to_list()"
   ]
  },
  {
   "cell_type": "code",
   "execution_count": 11,
   "metadata": {},
   "outputs": [
    {
     "output_type": "execute_result",
     "data": {
      "text/plain": [
       "all_awardings                            0\n",
       "associated_award                   9559657\n",
       "author                                   0\n",
       "author_flair_background_color      9392288\n",
       "author_flair_css_class             9554484\n",
       "author_flair_richtext              2357655\n",
       "author_flair_template_id           9392288\n",
       "author_flair_text                  8581524\n",
       "author_flair_text_color            6223708\n",
       "author_flair_type                  2357655\n",
       "author_fullname                    2357655\n",
       "author_patreon_flair               2357655\n",
       "author_premium                     2357655\n",
       "awarders                                 0\n",
       "body                                    10\n",
       "collapsed_because_crowd_control    9559657\n",
       "comment_type                       9559657\n",
       "created_utc                              0\n",
       "gildings                                 0\n",
       "id                                       0\n",
       "is_submitter                             0\n",
       "link_id                                  0\n",
       "locked                                   0\n",
       "no_follow                                0\n",
       "parent_id                                0\n",
       "permalink                                0\n",
       "retrieved_on                             0\n",
       "score                                    0\n",
       "send_replies                             0\n",
       "stickied                                 0\n",
       "subreddit                                0\n",
       "subreddit_id                             0\n",
       "top_awarded_type                   9559657\n",
       "total_awards_received                    0\n",
       "treatment_tags                           0\n",
       "distinguished                      9481504\n",
       "author_cakeday                     9526524\n",
       "dtype: int64"
      ]
     },
     "metadata": {},
     "execution_count": 11
    }
   ],
   "source": [
    "comment_df.isnull().sum()"
   ]
  },
  {
   "cell_type": "code",
   "execution_count": 22,
   "metadata": {},
   "outputs": [
    {
     "output_type": "execute_result",
     "data": {
      "text/plain": [
       "9559657"
      ]
     },
     "metadata": {},
     "execution_count": 22
    }
   ],
   "source": [
    "len(comment_df)"
   ]
  },
  {
   "cell_type": "code",
   "execution_count": 27,
   "metadata": {},
   "outputs": [
    {
     "output_type": "execute_result",
     "data": {
      "text/plain": [
       "2929015                  Howdar\n",
       "297157                 phil6298\n",
       "2310328               [deleted]\n",
       "7176026           BeautifulBurd\n",
       "7353072          DOODJLIGHTNING\n",
       "7837273               [deleted]\n",
       "2408248                   takjp\n",
       "4311419               [deleted]\n",
       "4479861               [deleted]\n",
       "7607508             Swellyrides\n",
       "4368776              redstag191\n",
       "1918326               [deleted]\n",
       "7822045         Stonk_Collector\n",
       "9071726                  peetak\n",
       "9359739            FLUFFYFRUITS\n",
       "3849024    undergraduateproject\n",
       "6766954           AutoModerator\n",
       "9498849               [deleted]\n",
       "7740243                 M1chaeI\n",
       "2813179       existential_plant\n",
       "5745327         WastedKnowledge\n",
       "145852                [deleted]\n",
       "7031781               [deleted]\n",
       "5299413              Hicklarity\n",
       "6999057          I_StoleYourCar\n",
       "5067032               [deleted]\n",
       "4391079       Italianplayground\n",
       "1721605               [deleted]\n",
       "8840976         WagieInTheCagie\n",
       "7734507               CarRamRob\n",
       "8010011                Zdubzz19\n",
       "8559188               [deleted]\n",
       "1312623             nastypanass\n",
       "5492812                 Rafa_06\n",
       "2337956            bigbigbigwow\n",
       "933419                golobanks\n",
       "9255944         ModsHaveSmolPPs\n",
       "6048018            Godspeedhero\n",
       "6557671               [deleted]\n",
       "8423314           JadenSmithMan\n",
       "7849084               [deleted]\n",
       "3550731                Youngz33\n",
       "2347853     LUV2FUKMARRIEDMILFS\n",
       "5823857      DirkDiggler_Chiraq\n",
       "9403706                 noncere\n",
       "4849559               [deleted]\n",
       "7205136    wanttoseensfwcontent\n",
       "3309550               ricky8741\n",
       "1048590         random_hater122\n",
       "6685348         UnlikelyCoconut\n",
       "Name: author, dtype: object"
      ]
     },
     "metadata": {},
     "execution_count": 27
    }
   ],
   "source": [
    "comment_df[\"author\"].sample(50)"
   ]
  },
  {
   "cell_type": "code",
   "execution_count": 32,
   "metadata": {},
   "outputs": [
    {
     "output_type": "execute_result",
     "data": {
      "text/plain": [
       "[deleted]             2357655\n",
       "AutoModerator           72804\n",
       "PlaneIntroduction8      10237\n",
       "OptionsAndTren           6576\n",
       "WSBVoteBot               6397\n",
       "                       ...   \n",
       "ChefT1982                   1\n",
       "dustofdeath                 1\n",
       "Hoghead1000                 1\n",
       "keatoncollins100            1\n",
       "Oxyoverrimjobs              1\n",
       "Name: author, Length: 657292, dtype: int64"
      ]
     },
     "metadata": {},
     "execution_count": 32
    }
   ],
   "source": [
    "comment_df[\"author\"].value_counts()"
   ]
  },
  {
   "cell_type": "code",
   "execution_count": 36,
   "metadata": {},
   "outputs": [],
   "source": [
    "cleaned_df = comment_df[comment_df[\"author\"] != \"[deleted]\"]"
   ]
  },
  {
   "cell_type": "code",
   "execution_count": 37,
   "metadata": {},
   "outputs": [
    {
     "output_type": "execute_result",
     "data": {
      "text/plain": [
       "        all_awardings  associated_award            author  \\\n",
       "0                  []               NaN    guesswhatihate   \n",
       "1                  []               NaN         k12nmonky   \n",
       "2                  []               NaN         tnmtnmtnm   \n",
       "3                  []               NaN  everlastingdeath   \n",
       "4                  []               NaN       ZakkuTurner   \n",
       "...               ...               ...               ...   \n",
       "9559652            []               NaN      AngryBobRoss   \n",
       "9559653            []               NaN      Machin_Shins   \n",
       "9559654            []               NaN        testfire10   \n",
       "9559655            []               NaN     stupidlysweet   \n",
       "9559656            []               NaN     Book_it_again   \n",
       "\n",
       "        author_flair_background_color author_flair_css_class  \\\n",
       "0                                 NaN                    NaN   \n",
       "1                                 NaN                    NaN   \n",
       "2                                 NaN                    NaN   \n",
       "3                                 NaN                    NaN   \n",
       "4                                 NaN                    NaN   \n",
       "...                               ...                    ...   \n",
       "9559652                           NaN                    NaN   \n",
       "9559653                           NaN                    NaN   \n",
       "9559654                           NaN                    NaN   \n",
       "9559655                           NaN                    NaN   \n",
       "9559656                           NaN                    NaN   \n",
       "\n",
       "        author_flair_richtext author_flair_template_id author_flair_text  \\\n",
       "0                          []                      NaN               NaN   \n",
       "1                          []                      NaN               NaN   \n",
       "2                          []                      NaN               NaN   \n",
       "3                          []                      NaN               NaN   \n",
       "4                          []                      NaN               NaN   \n",
       "...                       ...                      ...               ...   \n",
       "9559652                    []                      NaN               NaN   \n",
       "9559653                    []                      NaN               NaN   \n",
       "9559654                    []                      NaN               NaN   \n",
       "9559655                    []                      NaN               NaN   \n",
       "9559656                    []                      NaN               NaN   \n",
       "\n",
       "        author_flair_text_color author_flair_type  ... score send_replies  \\\n",
       "0                           NaN              text  ...     1         True   \n",
       "1                           NaN              text  ...     1         True   \n",
       "2                           NaN              text  ...     1         True   \n",
       "3                           NaN              text  ...     1         True   \n",
       "4                           NaN              text  ...     1         True   \n",
       "...                         ...               ...  ...   ...          ...   \n",
       "9559652                     NaN              text  ...     1         True   \n",
       "9559653                     NaN              text  ...     2         True   \n",
       "9559654                     NaN              text  ...    22         True   \n",
       "9559655                     NaN              text  ...    12         True   \n",
       "9559656                     NaN              text  ...     4         True   \n",
       "\n",
       "        stickied       subreddit subreddit_id  top_awarded_type  \\\n",
       "0          False  wallstreetbets     t5_2th52               NaN   \n",
       "1          False  wallstreetbets     t5_2th52               NaN   \n",
       "2          False  wallstreetbets     t5_2th52               NaN   \n",
       "3          False  wallstreetbets     t5_2th52               NaN   \n",
       "4          False  wallstreetbets     t5_2th52               NaN   \n",
       "...          ...             ...          ...               ...   \n",
       "9559652    False  wallstreetbets     t5_2th52               NaN   \n",
       "9559653    False  wallstreetbets     t5_2th52               NaN   \n",
       "9559654    False  wallstreetbets     t5_2th52               NaN   \n",
       "9559655    False  wallstreetbets     t5_2th52               NaN   \n",
       "9559656    False  wallstreetbets     t5_2th52               NaN   \n",
       "\n",
       "         total_awards_received  treatment_tags distinguished author_cakeday  \n",
       "0                            0              []           NaN            NaN  \n",
       "1                            0              []           NaN            NaN  \n",
       "2                            0              []           NaN            NaN  \n",
       "3                            0              []           NaN            NaN  \n",
       "4                            0              []           NaN            NaN  \n",
       "...                        ...             ...           ...            ...  \n",
       "9559652                      0              []           NaN            NaN  \n",
       "9559653                      0              []           NaN            NaN  \n",
       "9559654                      0              []           NaN            NaN  \n",
       "9559655                      0              []           NaN            NaN  \n",
       "9559656                      0              []           NaN            NaN  \n",
       "\n",
       "[7202002 rows x 37 columns]"
      ],
      "text/html": "<div>\n<style scoped>\n    .dataframe tbody tr th:only-of-type {\n        vertical-align: middle;\n    }\n\n    .dataframe tbody tr th {\n        vertical-align: top;\n    }\n\n    .dataframe thead th {\n        text-align: right;\n    }\n</style>\n<table border=\"1\" class=\"dataframe\">\n  <thead>\n    <tr style=\"text-align: right;\">\n      <th></th>\n      <th>all_awardings</th>\n      <th>associated_award</th>\n      <th>author</th>\n      <th>author_flair_background_color</th>\n      <th>author_flair_css_class</th>\n      <th>author_flair_richtext</th>\n      <th>author_flair_template_id</th>\n      <th>author_flair_text</th>\n      <th>author_flair_text_color</th>\n      <th>author_flair_type</th>\n      <th>...</th>\n      <th>score</th>\n      <th>send_replies</th>\n      <th>stickied</th>\n      <th>subreddit</th>\n      <th>subreddit_id</th>\n      <th>top_awarded_type</th>\n      <th>total_awards_received</th>\n      <th>treatment_tags</th>\n      <th>distinguished</th>\n      <th>author_cakeday</th>\n    </tr>\n  </thead>\n  <tbody>\n    <tr>\n      <th>0</th>\n      <td>[]</td>\n      <td>NaN</td>\n      <td>guesswhatihate</td>\n      <td>NaN</td>\n      <td>NaN</td>\n      <td>[]</td>\n      <td>NaN</td>\n      <td>NaN</td>\n      <td>NaN</td>\n      <td>text</td>\n      <td>...</td>\n      <td>1</td>\n      <td>True</td>\n      <td>False</td>\n      <td>wallstreetbets</td>\n      <td>t5_2th52</td>\n      <td>NaN</td>\n      <td>0</td>\n      <td>[]</td>\n      <td>NaN</td>\n      <td>NaN</td>\n    </tr>\n    <tr>\n      <th>1</th>\n      <td>[]</td>\n      <td>NaN</td>\n      <td>k12nmonky</td>\n      <td>NaN</td>\n      <td>NaN</td>\n      <td>[]</td>\n      <td>NaN</td>\n      <td>NaN</td>\n      <td>NaN</td>\n      <td>text</td>\n      <td>...</td>\n      <td>1</td>\n      <td>True</td>\n      <td>False</td>\n      <td>wallstreetbets</td>\n      <td>t5_2th52</td>\n      <td>NaN</td>\n      <td>0</td>\n      <td>[]</td>\n      <td>NaN</td>\n      <td>NaN</td>\n    </tr>\n    <tr>\n      <th>2</th>\n      <td>[]</td>\n      <td>NaN</td>\n      <td>tnmtnmtnm</td>\n      <td>NaN</td>\n      <td>NaN</td>\n      <td>[]</td>\n      <td>NaN</td>\n      <td>NaN</td>\n      <td>NaN</td>\n      <td>text</td>\n      <td>...</td>\n      <td>1</td>\n      <td>True</td>\n      <td>False</td>\n      <td>wallstreetbets</td>\n      <td>t5_2th52</td>\n      <td>NaN</td>\n      <td>0</td>\n      <td>[]</td>\n      <td>NaN</td>\n      <td>NaN</td>\n    </tr>\n    <tr>\n      <th>3</th>\n      <td>[]</td>\n      <td>NaN</td>\n      <td>everlastingdeath</td>\n      <td>NaN</td>\n      <td>NaN</td>\n      <td>[]</td>\n      <td>NaN</td>\n      <td>NaN</td>\n      <td>NaN</td>\n      <td>text</td>\n      <td>...</td>\n      <td>1</td>\n      <td>True</td>\n      <td>False</td>\n      <td>wallstreetbets</td>\n      <td>t5_2th52</td>\n      <td>NaN</td>\n      <td>0</td>\n      <td>[]</td>\n      <td>NaN</td>\n      <td>NaN</td>\n    </tr>\n    <tr>\n      <th>4</th>\n      <td>[]</td>\n      <td>NaN</td>\n      <td>ZakkuTurner</td>\n      <td>NaN</td>\n      <td>NaN</td>\n      <td>[]</td>\n      <td>NaN</td>\n      <td>NaN</td>\n      <td>NaN</td>\n      <td>text</td>\n      <td>...</td>\n      <td>1</td>\n      <td>True</td>\n      <td>False</td>\n      <td>wallstreetbets</td>\n      <td>t5_2th52</td>\n      <td>NaN</td>\n      <td>0</td>\n      <td>[]</td>\n      <td>NaN</td>\n      <td>NaN</td>\n    </tr>\n    <tr>\n      <th>...</th>\n      <td>...</td>\n      <td>...</td>\n      <td>...</td>\n      <td>...</td>\n      <td>...</td>\n      <td>...</td>\n      <td>...</td>\n      <td>...</td>\n      <td>...</td>\n      <td>...</td>\n      <td>...</td>\n      <td>...</td>\n      <td>...</td>\n      <td>...</td>\n      <td>...</td>\n      <td>...</td>\n      <td>...</td>\n      <td>...</td>\n      <td>...</td>\n      <td>...</td>\n      <td>...</td>\n    </tr>\n    <tr>\n      <th>9559652</th>\n      <td>[]</td>\n      <td>NaN</td>\n      <td>AngryBobRoss</td>\n      <td>NaN</td>\n      <td>NaN</td>\n      <td>[]</td>\n      <td>NaN</td>\n      <td>NaN</td>\n      <td>NaN</td>\n      <td>text</td>\n      <td>...</td>\n      <td>1</td>\n      <td>True</td>\n      <td>False</td>\n      <td>wallstreetbets</td>\n      <td>t5_2th52</td>\n      <td>NaN</td>\n      <td>0</td>\n      <td>[]</td>\n      <td>NaN</td>\n      <td>NaN</td>\n    </tr>\n    <tr>\n      <th>9559653</th>\n      <td>[]</td>\n      <td>NaN</td>\n      <td>Machin_Shins</td>\n      <td>NaN</td>\n      <td>NaN</td>\n      <td>[]</td>\n      <td>NaN</td>\n      <td>NaN</td>\n      <td>NaN</td>\n      <td>text</td>\n      <td>...</td>\n      <td>2</td>\n      <td>True</td>\n      <td>False</td>\n      <td>wallstreetbets</td>\n      <td>t5_2th52</td>\n      <td>NaN</td>\n      <td>0</td>\n      <td>[]</td>\n      <td>NaN</td>\n      <td>NaN</td>\n    </tr>\n    <tr>\n      <th>9559654</th>\n      <td>[]</td>\n      <td>NaN</td>\n      <td>testfire10</td>\n      <td>NaN</td>\n      <td>NaN</td>\n      <td>[]</td>\n      <td>NaN</td>\n      <td>NaN</td>\n      <td>NaN</td>\n      <td>text</td>\n      <td>...</td>\n      <td>22</td>\n      <td>True</td>\n      <td>False</td>\n      <td>wallstreetbets</td>\n      <td>t5_2th52</td>\n      <td>NaN</td>\n      <td>0</td>\n      <td>[]</td>\n      <td>NaN</td>\n      <td>NaN</td>\n    </tr>\n    <tr>\n      <th>9559655</th>\n      <td>[]</td>\n      <td>NaN</td>\n      <td>stupidlysweet</td>\n      <td>NaN</td>\n      <td>NaN</td>\n      <td>[]</td>\n      <td>NaN</td>\n      <td>NaN</td>\n      <td>NaN</td>\n      <td>text</td>\n      <td>...</td>\n      <td>12</td>\n      <td>True</td>\n      <td>False</td>\n      <td>wallstreetbets</td>\n      <td>t5_2th52</td>\n      <td>NaN</td>\n      <td>0</td>\n      <td>[]</td>\n      <td>NaN</td>\n      <td>NaN</td>\n    </tr>\n    <tr>\n      <th>9559656</th>\n      <td>[]</td>\n      <td>NaN</td>\n      <td>Book_it_again</td>\n      <td>NaN</td>\n      <td>NaN</td>\n      <td>[]</td>\n      <td>NaN</td>\n      <td>NaN</td>\n      <td>NaN</td>\n      <td>text</td>\n      <td>...</td>\n      <td>4</td>\n      <td>True</td>\n      <td>False</td>\n      <td>wallstreetbets</td>\n      <td>t5_2th52</td>\n      <td>NaN</td>\n      <td>0</td>\n      <td>[]</td>\n      <td>NaN</td>\n      <td>NaN</td>\n    </tr>\n  </tbody>\n</table>\n<p>7202002 rows × 37 columns</p>\n</div>"
     },
     "metadata": {},
     "execution_count": 37
    }
   ],
   "source": [
    "cleaned_df"
   ]
  },
  {
   "cell_type": "code",
   "execution_count": 54,
   "metadata": {},
   "outputs": [],
   "source": [
    "cleaned_df = cleaned_df.drop([ 'author_flair_background_color',\n",
    " 'author_flair_css_class',\n",
    " 'author_flair_richtext',\n",
    " 'author_flair_template_id',\n",
    " 'author_flair_text',\n",
    " 'author_flair_text_color',\n",
    " 'author_flair_type',\n",
    " 'author_fullname',\n",
    " 'author_patreon_flair',\n",
    " 'author_premium',\n",
    " 'collapsed_because_crowd_control',\n",
    " 'comment_type', \n",
    " 'locked',\n",
    " 'no_follow', \n",
    " 'all_awardings',\n",
    " 'associated_award', \n",
    " 'send_replies', \n",
    " 'stickied', \n",
    " 'subreddit', \n",
    " 'subreddit_id', \n",
    " 'distinguished', \n",
    " 'author_cakeday'],1)"
   ]
  },
  {
   "cell_type": "code",
   "execution_count": 60,
   "metadata": {},
   "outputs": [
    {
     "output_type": "execute_result",
     "data": {
      "text/plain": [
       "                   author awarders  \\\n",
       "0          guesswhatihate       []   \n",
       "1               k12nmonky       []   \n",
       "2               tnmtnmtnm       []   \n",
       "3        everlastingdeath       []   \n",
       "4             ZakkuTurner       []   \n",
       "...                   ...      ...   \n",
       "9559652      AngryBobRoss       []   \n",
       "9559653      Machin_Shins       []   \n",
       "9559654        testfire10       []   \n",
       "9559655     stupidlysweet       []   \n",
       "9559656     Book_it_again       []   \n",
       "\n",
       "                                                      body  created_utc  \\\n",
       "0                                                 #DIPPING   1607957482   \n",
       "1                                         NIO and SPCE ftw   1607957482   \n",
       "2                                                     Flat   1607957482   \n",
       "3        Lol what happened to the limit up everyone's b...   1607957481   \n",
       "4                                        Jan 22 2021, 40.5   1607957481   \n",
       "...                                                    ...          ...   \n",
       "9559652  Lmao I got 2 nights to sleep over it. I might ...   1611412578   \n",
       "9559653  Squeeze aside. Are there price targets for GME...   1611412578   \n",
       "9559654                                      TD Ameritrade   1611412576   \n",
       "9559655  Same. I've got 30k in savings but thinking of ...   1611412575   \n",
       "9559656  Imagine being so uneducated and ingnorant you ...   1611412573   \n",
       "\n",
       "        gildings       id  is_submitter    link_id   parent_id  \\\n",
       "0             {}  gftdfol         False  t3_kcvkwx  t1_gftdcb8   \n",
       "1             {}  gftdfo4         False  t3_kcvkwx  t1_gftdc1s   \n",
       "2             {}  gftdfo3         False  t3_kcvkwx  t1_gftdbth   \n",
       "3             {}  gftdfnp         False  t3_kcvkwx   t3_kcvkwx   \n",
       "4             {}  gftdfmf         False  t3_kcvkwx  t1_gftddng   \n",
       "...          ...      ...           ...        ...         ...   \n",
       "9559652       {}  gkdmw91         False  t3_l2shj5  t1_gkceomw   \n",
       "9559653       {}  gkdmw6k         False  t3_l3c0hj   t3_l3c0hj   \n",
       "9559654       {}  gkdmw1y         False  t3_l3cp2s  t1_gkdloa8   \n",
       "9559655       {}  gkdmvxa         False  t3_l35s4w  t1_gkbyl29   \n",
       "9559656       {}  gkdmvqi         False  t3_l3aj4z  t1_gkdgfwc   \n",
       "\n",
       "                                                 permalink  retrieved_on  \\\n",
       "0        /r/wallstreetbets/comments/kcvkwx/daily_discus...    1607957494   \n",
       "1        /r/wallstreetbets/comments/kcvkwx/daily_discus...    1607957494   \n",
       "2        /r/wallstreetbets/comments/kcvkwx/daily_discus...    1607957494   \n",
       "3        /r/wallstreetbets/comments/kcvkwx/daily_discus...    1607957494   \n",
       "4        /r/wallstreetbets/comments/kcvkwx/daily_discus...    1607957493   \n",
       "...                                                    ...           ...   \n",
       "9559652  /r/wallstreetbets/comments/l2shj5/doing_my_par...    1611571732   \n",
       "9559653  /r/wallstreetbets/comments/l3c0hj/considering_...    1611571731   \n",
       "9559654  /r/wallstreetbets/comments/l3cp2s/gme_gainz_so...    1611571730   \n",
       "9559655  /r/wallstreetbets/comments/l35s4w/do_not_sell_...    1611571728   \n",
       "9559656  /r/wallstreetbets/comments/l3aj4z/i_love_you_g...    1611571726   \n",
       "\n",
       "         score  top_awarded_type  total_awards_received treatment_tags  \n",
       "0            1               NaN                      0             []  \n",
       "1            1               NaN                      0             []  \n",
       "2            1               NaN                      0             []  \n",
       "3            1               NaN                      0             []  \n",
       "4            1               NaN                      0             []  \n",
       "...        ...               ...                    ...            ...  \n",
       "9559652      1               NaN                      0             []  \n",
       "9559653      2               NaN                      0             []  \n",
       "9559654     22               NaN                      0             []  \n",
       "9559655     12               NaN                      0             []  \n",
       "9559656      4               NaN                      0             []  \n",
       "\n",
       "[7202002 rows x 15 columns]"
      ],
      "text/html": "<div>\n<style scoped>\n    .dataframe tbody tr th:only-of-type {\n        vertical-align: middle;\n    }\n\n    .dataframe tbody tr th {\n        vertical-align: top;\n    }\n\n    .dataframe thead th {\n        text-align: right;\n    }\n</style>\n<table border=\"1\" class=\"dataframe\">\n  <thead>\n    <tr style=\"text-align: right;\">\n      <th></th>\n      <th>author</th>\n      <th>awarders</th>\n      <th>body</th>\n      <th>created_utc</th>\n      <th>gildings</th>\n      <th>id</th>\n      <th>is_submitter</th>\n      <th>link_id</th>\n      <th>parent_id</th>\n      <th>permalink</th>\n      <th>retrieved_on</th>\n      <th>score</th>\n      <th>top_awarded_type</th>\n      <th>total_awards_received</th>\n      <th>treatment_tags</th>\n    </tr>\n  </thead>\n  <tbody>\n    <tr>\n      <th>0</th>\n      <td>guesswhatihate</td>\n      <td>[]</td>\n      <td>#DIPPING</td>\n      <td>1607957482</td>\n      <td>{}</td>\n      <td>gftdfol</td>\n      <td>False</td>\n      <td>t3_kcvkwx</td>\n      <td>t1_gftdcb8</td>\n      <td>/r/wallstreetbets/comments/kcvkwx/daily_discus...</td>\n      <td>1607957494</td>\n      <td>1</td>\n      <td>NaN</td>\n      <td>0</td>\n      <td>[]</td>\n    </tr>\n    <tr>\n      <th>1</th>\n      <td>k12nmonky</td>\n      <td>[]</td>\n      <td>NIO and SPCE ftw</td>\n      <td>1607957482</td>\n      <td>{}</td>\n      <td>gftdfo4</td>\n      <td>False</td>\n      <td>t3_kcvkwx</td>\n      <td>t1_gftdc1s</td>\n      <td>/r/wallstreetbets/comments/kcvkwx/daily_discus...</td>\n      <td>1607957494</td>\n      <td>1</td>\n      <td>NaN</td>\n      <td>0</td>\n      <td>[]</td>\n    </tr>\n    <tr>\n      <th>2</th>\n      <td>tnmtnmtnm</td>\n      <td>[]</td>\n      <td>Flat</td>\n      <td>1607957482</td>\n      <td>{}</td>\n      <td>gftdfo3</td>\n      <td>False</td>\n      <td>t3_kcvkwx</td>\n      <td>t1_gftdbth</td>\n      <td>/r/wallstreetbets/comments/kcvkwx/daily_discus...</td>\n      <td>1607957494</td>\n      <td>1</td>\n      <td>NaN</td>\n      <td>0</td>\n      <td>[]</td>\n    </tr>\n    <tr>\n      <th>3</th>\n      <td>everlastingdeath</td>\n      <td>[]</td>\n      <td>Lol what happened to the limit up everyone's b...</td>\n      <td>1607957481</td>\n      <td>{}</td>\n      <td>gftdfnp</td>\n      <td>False</td>\n      <td>t3_kcvkwx</td>\n      <td>t3_kcvkwx</td>\n      <td>/r/wallstreetbets/comments/kcvkwx/daily_discus...</td>\n      <td>1607957494</td>\n      <td>1</td>\n      <td>NaN</td>\n      <td>0</td>\n      <td>[]</td>\n    </tr>\n    <tr>\n      <th>4</th>\n      <td>ZakkuTurner</td>\n      <td>[]</td>\n      <td>Jan 22 2021, 40.5</td>\n      <td>1607957481</td>\n      <td>{}</td>\n      <td>gftdfmf</td>\n      <td>False</td>\n      <td>t3_kcvkwx</td>\n      <td>t1_gftddng</td>\n      <td>/r/wallstreetbets/comments/kcvkwx/daily_discus...</td>\n      <td>1607957493</td>\n      <td>1</td>\n      <td>NaN</td>\n      <td>0</td>\n      <td>[]</td>\n    </tr>\n    <tr>\n      <th>...</th>\n      <td>...</td>\n      <td>...</td>\n      <td>...</td>\n      <td>...</td>\n      <td>...</td>\n      <td>...</td>\n      <td>...</td>\n      <td>...</td>\n      <td>...</td>\n      <td>...</td>\n      <td>...</td>\n      <td>...</td>\n      <td>...</td>\n      <td>...</td>\n      <td>...</td>\n    </tr>\n    <tr>\n      <th>9559652</th>\n      <td>AngryBobRoss</td>\n      <td>[]</td>\n      <td>Lmao I got 2 nights to sleep over it. I might ...</td>\n      <td>1611412578</td>\n      <td>{}</td>\n      <td>gkdmw91</td>\n      <td>False</td>\n      <td>t3_l2shj5</td>\n      <td>t1_gkceomw</td>\n      <td>/r/wallstreetbets/comments/l2shj5/doing_my_par...</td>\n      <td>1611571732</td>\n      <td>1</td>\n      <td>NaN</td>\n      <td>0</td>\n      <td>[]</td>\n    </tr>\n    <tr>\n      <th>9559653</th>\n      <td>Machin_Shins</td>\n      <td>[]</td>\n      <td>Squeeze aside. Are there price targets for GME...</td>\n      <td>1611412578</td>\n      <td>{}</td>\n      <td>gkdmw6k</td>\n      <td>False</td>\n      <td>t3_l3c0hj</td>\n      <td>t3_l3c0hj</td>\n      <td>/r/wallstreetbets/comments/l3c0hj/considering_...</td>\n      <td>1611571731</td>\n      <td>2</td>\n      <td>NaN</td>\n      <td>0</td>\n      <td>[]</td>\n    </tr>\n    <tr>\n      <th>9559654</th>\n      <td>testfire10</td>\n      <td>[]</td>\n      <td>TD Ameritrade</td>\n      <td>1611412576</td>\n      <td>{}</td>\n      <td>gkdmw1y</td>\n      <td>False</td>\n      <td>t3_l3cp2s</td>\n      <td>t1_gkdloa8</td>\n      <td>/r/wallstreetbets/comments/l3cp2s/gme_gainz_so...</td>\n      <td>1611571730</td>\n      <td>22</td>\n      <td>NaN</td>\n      <td>0</td>\n      <td>[]</td>\n    </tr>\n    <tr>\n      <th>9559655</th>\n      <td>stupidlysweet</td>\n      <td>[]</td>\n      <td>Same. I've got 30k in savings but thinking of ...</td>\n      <td>1611412575</td>\n      <td>{}</td>\n      <td>gkdmvxa</td>\n      <td>False</td>\n      <td>t3_l35s4w</td>\n      <td>t1_gkbyl29</td>\n      <td>/r/wallstreetbets/comments/l35s4w/do_not_sell_...</td>\n      <td>1611571728</td>\n      <td>12</td>\n      <td>NaN</td>\n      <td>0</td>\n      <td>[]</td>\n    </tr>\n    <tr>\n      <th>9559656</th>\n      <td>Book_it_again</td>\n      <td>[]</td>\n      <td>Imagine being so uneducated and ingnorant you ...</td>\n      <td>1611412573</td>\n      <td>{}</td>\n      <td>gkdmvqi</td>\n      <td>False</td>\n      <td>t3_l3aj4z</td>\n      <td>t1_gkdgfwc</td>\n      <td>/r/wallstreetbets/comments/l3aj4z/i_love_you_g...</td>\n      <td>1611571726</td>\n      <td>4</td>\n      <td>NaN</td>\n      <td>0</td>\n      <td>[]</td>\n    </tr>\n  </tbody>\n</table>\n<p>7202002 rows × 15 columns</p>\n</div>"
     },
     "metadata": {},
     "execution_count": 60
    }
   ],
   "source": [
    "cleaned_df"
   ]
  },
  {
   "cell_type": "code",
   "execution_count": 69,
   "metadata": {},
   "outputs": [],
   "source": [
    "cleaned_df = cleaned_df.drop(['top_awarded_type','retrieved_on'],1)"
   ]
  },
  {
   "cell_type": "code",
   "execution_count": 70,
   "metadata": {},
   "outputs": [
    {
     "output_type": "execute_result",
     "data": {
      "text/plain": [
       "                   author                                               body  \\\n",
       "0          guesswhatihate                                           #DIPPING   \n",
       "1               k12nmonky                                   NIO and SPCE ftw   \n",
       "2               tnmtnmtnm                                               Flat   \n",
       "3        everlastingdeath  Lol what happened to the limit up everyone's b...   \n",
       "4             ZakkuTurner                                  Jan 22 2021, 40.5   \n",
       "...                   ...                                                ...   \n",
       "9559652      AngryBobRoss  Lmao I got 2 nights to sleep over it. I might ...   \n",
       "9559653      Machin_Shins  Squeeze aside. Are there price targets for GME...   \n",
       "9559654        testfire10                                      TD Ameritrade   \n",
       "9559655     stupidlysweet  Same. I've got 30k in savings but thinking of ...   \n",
       "9559656     Book_it_again  Imagine being so uneducated and ingnorant you ...   \n",
       "\n",
       "         created_utc       id    link_id   parent_id  \\\n",
       "0         1607957482  gftdfol  t3_kcvkwx  t1_gftdcb8   \n",
       "1         1607957482  gftdfo4  t3_kcvkwx  t1_gftdc1s   \n",
       "2         1607957482  gftdfo3  t3_kcvkwx  t1_gftdbth   \n",
       "3         1607957481  gftdfnp  t3_kcvkwx   t3_kcvkwx   \n",
       "4         1607957481  gftdfmf  t3_kcvkwx  t1_gftddng   \n",
       "...              ...      ...        ...         ...   \n",
       "9559652   1611412578  gkdmw91  t3_l2shj5  t1_gkceomw   \n",
       "9559653   1611412578  gkdmw6k  t3_l3c0hj   t3_l3c0hj   \n",
       "9559654   1611412576  gkdmw1y  t3_l3cp2s  t1_gkdloa8   \n",
       "9559655   1611412575  gkdmvxa  t3_l35s4w  t1_gkbyl29   \n",
       "9559656   1611412573  gkdmvqi  t3_l3aj4z  t1_gkdgfwc   \n",
       "\n",
       "                                                 permalink  score  \\\n",
       "0        /r/wallstreetbets/comments/kcvkwx/daily_discus...      1   \n",
       "1        /r/wallstreetbets/comments/kcvkwx/daily_discus...      1   \n",
       "2        /r/wallstreetbets/comments/kcvkwx/daily_discus...      1   \n",
       "3        /r/wallstreetbets/comments/kcvkwx/daily_discus...      1   \n",
       "4        /r/wallstreetbets/comments/kcvkwx/daily_discus...      1   \n",
       "...                                                    ...    ...   \n",
       "9559652  /r/wallstreetbets/comments/l2shj5/doing_my_par...      1   \n",
       "9559653  /r/wallstreetbets/comments/l3c0hj/considering_...      2   \n",
       "9559654  /r/wallstreetbets/comments/l3cp2s/gme_gainz_so...     22   \n",
       "9559655  /r/wallstreetbets/comments/l35s4w/do_not_sell_...     12   \n",
       "9559656  /r/wallstreetbets/comments/l3aj4z/i_love_you_g...      4   \n",
       "\n",
       "         total_awards_received  \n",
       "0                            0  \n",
       "1                            0  \n",
       "2                            0  \n",
       "3                            0  \n",
       "4                            0  \n",
       "...                        ...  \n",
       "9559652                      0  \n",
       "9559653                      0  \n",
       "9559654                      0  \n",
       "9559655                      0  \n",
       "9559656                      0  \n",
       "\n",
       "[7202002 rows x 9 columns]"
      ],
      "text/html": "<div>\n<style scoped>\n    .dataframe tbody tr th:only-of-type {\n        vertical-align: middle;\n    }\n\n    .dataframe tbody tr th {\n        vertical-align: top;\n    }\n\n    .dataframe thead th {\n        text-align: right;\n    }\n</style>\n<table border=\"1\" class=\"dataframe\">\n  <thead>\n    <tr style=\"text-align: right;\">\n      <th></th>\n      <th>author</th>\n      <th>body</th>\n      <th>created_utc</th>\n      <th>id</th>\n      <th>link_id</th>\n      <th>parent_id</th>\n      <th>permalink</th>\n      <th>score</th>\n      <th>total_awards_received</th>\n    </tr>\n  </thead>\n  <tbody>\n    <tr>\n      <th>0</th>\n      <td>guesswhatihate</td>\n      <td>#DIPPING</td>\n      <td>1607957482</td>\n      <td>gftdfol</td>\n      <td>t3_kcvkwx</td>\n      <td>t1_gftdcb8</td>\n      <td>/r/wallstreetbets/comments/kcvkwx/daily_discus...</td>\n      <td>1</td>\n      <td>0</td>\n    </tr>\n    <tr>\n      <th>1</th>\n      <td>k12nmonky</td>\n      <td>NIO and SPCE ftw</td>\n      <td>1607957482</td>\n      <td>gftdfo4</td>\n      <td>t3_kcvkwx</td>\n      <td>t1_gftdc1s</td>\n      <td>/r/wallstreetbets/comments/kcvkwx/daily_discus...</td>\n      <td>1</td>\n      <td>0</td>\n    </tr>\n    <tr>\n      <th>2</th>\n      <td>tnmtnmtnm</td>\n      <td>Flat</td>\n      <td>1607957482</td>\n      <td>gftdfo3</td>\n      <td>t3_kcvkwx</td>\n      <td>t1_gftdbth</td>\n      <td>/r/wallstreetbets/comments/kcvkwx/daily_discus...</td>\n      <td>1</td>\n      <td>0</td>\n    </tr>\n    <tr>\n      <th>3</th>\n      <td>everlastingdeath</td>\n      <td>Lol what happened to the limit up everyone's b...</td>\n      <td>1607957481</td>\n      <td>gftdfnp</td>\n      <td>t3_kcvkwx</td>\n      <td>t3_kcvkwx</td>\n      <td>/r/wallstreetbets/comments/kcvkwx/daily_discus...</td>\n      <td>1</td>\n      <td>0</td>\n    </tr>\n    <tr>\n      <th>4</th>\n      <td>ZakkuTurner</td>\n      <td>Jan 22 2021, 40.5</td>\n      <td>1607957481</td>\n      <td>gftdfmf</td>\n      <td>t3_kcvkwx</td>\n      <td>t1_gftddng</td>\n      <td>/r/wallstreetbets/comments/kcvkwx/daily_discus...</td>\n      <td>1</td>\n      <td>0</td>\n    </tr>\n    <tr>\n      <th>...</th>\n      <td>...</td>\n      <td>...</td>\n      <td>...</td>\n      <td>...</td>\n      <td>...</td>\n      <td>...</td>\n      <td>...</td>\n      <td>...</td>\n      <td>...</td>\n    </tr>\n    <tr>\n      <th>9559652</th>\n      <td>AngryBobRoss</td>\n      <td>Lmao I got 2 nights to sleep over it. I might ...</td>\n      <td>1611412578</td>\n      <td>gkdmw91</td>\n      <td>t3_l2shj5</td>\n      <td>t1_gkceomw</td>\n      <td>/r/wallstreetbets/comments/l2shj5/doing_my_par...</td>\n      <td>1</td>\n      <td>0</td>\n    </tr>\n    <tr>\n      <th>9559653</th>\n      <td>Machin_Shins</td>\n      <td>Squeeze aside. Are there price targets for GME...</td>\n      <td>1611412578</td>\n      <td>gkdmw6k</td>\n      <td>t3_l3c0hj</td>\n      <td>t3_l3c0hj</td>\n      <td>/r/wallstreetbets/comments/l3c0hj/considering_...</td>\n      <td>2</td>\n      <td>0</td>\n    </tr>\n    <tr>\n      <th>9559654</th>\n      <td>testfire10</td>\n      <td>TD Ameritrade</td>\n      <td>1611412576</td>\n      <td>gkdmw1y</td>\n      <td>t3_l3cp2s</td>\n      <td>t1_gkdloa8</td>\n      <td>/r/wallstreetbets/comments/l3cp2s/gme_gainz_so...</td>\n      <td>22</td>\n      <td>0</td>\n    </tr>\n    <tr>\n      <th>9559655</th>\n      <td>stupidlysweet</td>\n      <td>Same. I've got 30k in savings but thinking of ...</td>\n      <td>1611412575</td>\n      <td>gkdmvxa</td>\n      <td>t3_l35s4w</td>\n      <td>t1_gkbyl29</td>\n      <td>/r/wallstreetbets/comments/l35s4w/do_not_sell_...</td>\n      <td>12</td>\n      <td>0</td>\n    </tr>\n    <tr>\n      <th>9559656</th>\n      <td>Book_it_again</td>\n      <td>Imagine being so uneducated and ingnorant you ...</td>\n      <td>1611412573</td>\n      <td>gkdmvqi</td>\n      <td>t3_l3aj4z</td>\n      <td>t1_gkdgfwc</td>\n      <td>/r/wallstreetbets/comments/l3aj4z/i_love_you_g...</td>\n      <td>4</td>\n      <td>0</td>\n    </tr>\n  </tbody>\n</table>\n<p>7202002 rows × 9 columns</p>\n</div>"
     },
     "metadata": {},
     "execution_count": 70
    }
   ],
   "source": [
    "cleaned_df"
   ]
  },
  {
   "cell_type": "code",
   "execution_count": 75,
   "metadata": {},
   "outputs": [],
   "source": [
    "cleaned_df.to_csv(\"cleaned_wsb_comments.csv\", index=False)"
   ]
  },
  {
   "cell_type": "code",
   "execution_count": 72,
   "metadata": {},
   "outputs": [],
   "source": [
    "client = boto3.client('s3')"
   ]
  },
  {
   "cell_type": "code",
   "execution_count": 73,
   "metadata": {},
   "outputs": [
    {
     "output_type": "stream",
     "name": "stdout",
     "text": [
      "s3.ObjectSummary(bucket_name='wsb-final-project-bucket', key='aws-programmatic-access-test-object')\ns3.ObjectSummary(bucket_name='wsb-final-project-bucket', key='kaggle_wsb_comments_12:6-2:6.csv')\ns3.ObjectSummary(bucket_name='wsb-final-project-bucket', key='kaggle_wsb_posts_12:6-2:6.csv')\ns3.ObjectSummary(bucket_name='wsb-final-project-bucket', key='test/test/20210101-20210201/b1a0304a-737f-4cc0-bff8-a7911ddf79ba/test-1.csv.gz')\ns3.ObjectSummary(bucket_name='wsb-final-project-bucket', key='test/test/20210101-20210201/b1a0304a-737f-4cc0-bff8-a7911ddf79ba/test-Manifest.json')\ns3.ObjectSummary(bucket_name='wsb-final-project-bucket', key='test/test/20210101-20210201/test-Manifest.json')\ns3.ObjectSummary(bucket_name='wsb-final-project-bucket', key='test/test/20210201-20210301/305336a5-a905-4bf1-8b81-2f5d18953f59/test-1.csv.gz')\ns3.ObjectSummary(bucket_name='wsb-final-project-bucket', key='test/test/20210201-20210301/305336a5-a905-4bf1-8b81-2f5d18953f59/test-Manifest.json')\ns3.ObjectSummary(bucket_name='wsb-final-project-bucket', key='test/test/20210201-20210301/7d27027b-8cd9-4f00-a502-01a1203fa65e/test-1.csv.gz')\ns3.ObjectSummary(bucket_name='wsb-final-project-bucket', key='test/test/20210201-20210301/7d27027b-8cd9-4f00-a502-01a1203fa65e/test-Manifest.json')\ns3.ObjectSummary(bucket_name='wsb-final-project-bucket', key='test/test/20210201-20210301/bdb019f0-dff9-4313-ba1c-8e0bd61e38af/test-1.csv.gz')\ns3.ObjectSummary(bucket_name='wsb-final-project-bucket', key='test/test/20210201-20210301/bdb019f0-dff9-4313-ba1c-8e0bd61e38af/test-Manifest.json')\ns3.ObjectSummary(bucket_name='wsb-final-project-bucket', key='test/test/20210201-20210301/test-Manifest.json')\n"
     ]
    }
   ],
   "source": [
    "s3 = boto3.resource('s3')\n",
    "my_bucket = s3.Bucket('wsb-final-project-bucket')\n",
    "for my_bucket_object in my_bucket.objects.all():\n",
    "    print(my_bucket_object)"
   ]
  },
  {
   "cell_type": "code",
   "execution_count": 77,
   "metadata": {},
   "outputs": [
    {
     "output_type": "error",
     "ename": "KeyboardInterrupt",
     "evalue": "",
     "traceback": [
      "\u001b[0;31m---------------------------------------------------------------------------\u001b[0m",
      "\u001b[0;31mKeyboardInterrupt\u001b[0m                         Traceback (most recent call last)",
      "\u001b[0;32m<ipython-input-77-b2388abc0a45>\u001b[0m in \u001b[0;36m<module>\u001b[0;34m\u001b[0m\n\u001b[0;32m----> 1\u001b[0;31m \u001b[0mresponse\u001b[0m \u001b[0;34m=\u001b[0m \u001b[0mclient\u001b[0m\u001b[0;34m.\u001b[0m\u001b[0mupload_file\u001b[0m\u001b[0;34m(\u001b[0m\u001b[0;34m\"../Data/cleaned_wsb_comments.csv\"\u001b[0m\u001b[0;34m,\u001b[0m \u001b[0;34m\"wsb-final-project-bucket\"\u001b[0m\u001b[0;34m,\u001b[0m \u001b[0;34m\"cleaned_wsb_comments.csv\"\u001b[0m\u001b[0;34m)\u001b[0m\u001b[0;34m\u001b[0m\u001b[0;34m\u001b[0m\u001b[0m\n\u001b[0m",
      "\u001b[0;32m/opt/anaconda3/envs/mlenv/lib/python3.7/site-packages/boto3/s3/inject.py\u001b[0m in \u001b[0;36mupload_file\u001b[0;34m(self, Filename, Bucket, Key, ExtraArgs, Callback, Config)\u001b[0m\n\u001b[1;32m    129\u001b[0m         return transfer.upload_file(\n\u001b[1;32m    130\u001b[0m             \u001b[0mfilename\u001b[0m\u001b[0;34m=\u001b[0m\u001b[0mFilename\u001b[0m\u001b[0;34m,\u001b[0m \u001b[0mbucket\u001b[0m\u001b[0;34m=\u001b[0m\u001b[0mBucket\u001b[0m\u001b[0;34m,\u001b[0m \u001b[0mkey\u001b[0m\u001b[0;34m=\u001b[0m\u001b[0mKey\u001b[0m\u001b[0;34m,\u001b[0m\u001b[0;34m\u001b[0m\u001b[0;34m\u001b[0m\u001b[0m\n\u001b[0;32m--> 131\u001b[0;31m             extra_args=ExtraArgs, callback=Callback)\n\u001b[0m\u001b[1;32m    132\u001b[0m \u001b[0;34m\u001b[0m\u001b[0m\n\u001b[1;32m    133\u001b[0m \u001b[0;34m\u001b[0m\u001b[0m\n",
      "\u001b[0;32m/opt/anaconda3/envs/mlenv/lib/python3.7/site-packages/boto3/s3/transfer.py\u001b[0m in \u001b[0;36mupload_file\u001b[0;34m(self, filename, bucket, key, callback, extra_args)\u001b[0m\n\u001b[1;32m    277\u001b[0m             filename, bucket, key, extra_args, subscribers)\n\u001b[1;32m    278\u001b[0m         \u001b[0;32mtry\u001b[0m\u001b[0;34m:\u001b[0m\u001b[0;34m\u001b[0m\u001b[0;34m\u001b[0m\u001b[0m\n\u001b[0;32m--> 279\u001b[0;31m             \u001b[0mfuture\u001b[0m\u001b[0;34m.\u001b[0m\u001b[0mresult\u001b[0m\u001b[0;34m(\u001b[0m\u001b[0;34m)\u001b[0m\u001b[0;34m\u001b[0m\u001b[0;34m\u001b[0m\u001b[0m\n\u001b[0m\u001b[1;32m    280\u001b[0m         \u001b[0;31m# If a client error was raised, add the backwards compatibility layer\u001b[0m\u001b[0;34m\u001b[0m\u001b[0;34m\u001b[0m\u001b[0;34m\u001b[0m\u001b[0m\n\u001b[1;32m    281\u001b[0m         \u001b[0;31m# that raises a S3UploadFailedError. These specific errors were only\u001b[0m\u001b[0;34m\u001b[0m\u001b[0;34m\u001b[0m\u001b[0;34m\u001b[0m\u001b[0m\n",
      "\u001b[0;32m/opt/anaconda3/envs/mlenv/lib/python3.7/site-packages/s3transfer/futures.py\u001b[0m in \u001b[0;36mresult\u001b[0;34m(self)\u001b[0m\n\u001b[1;32m    107\u001b[0m         \u001b[0;32mexcept\u001b[0m \u001b[0mKeyboardInterrupt\u001b[0m \u001b[0;32mas\u001b[0m \u001b[0me\u001b[0m\u001b[0;34m:\u001b[0m\u001b[0;34m\u001b[0m\u001b[0;34m\u001b[0m\u001b[0m\n\u001b[1;32m    108\u001b[0m             \u001b[0mself\u001b[0m\u001b[0;34m.\u001b[0m\u001b[0mcancel\u001b[0m\u001b[0;34m(\u001b[0m\u001b[0;34m)\u001b[0m\u001b[0;34m\u001b[0m\u001b[0;34m\u001b[0m\u001b[0m\n\u001b[0;32m--> 109\u001b[0;31m             \u001b[0;32mraise\u001b[0m \u001b[0me\u001b[0m\u001b[0;34m\u001b[0m\u001b[0;34m\u001b[0m\u001b[0m\n\u001b[0m\u001b[1;32m    110\u001b[0m \u001b[0;34m\u001b[0m\u001b[0m\n\u001b[1;32m    111\u001b[0m     \u001b[0;32mdef\u001b[0m \u001b[0mcancel\u001b[0m\u001b[0;34m(\u001b[0m\u001b[0mself\u001b[0m\u001b[0;34m)\u001b[0m\u001b[0;34m:\u001b[0m\u001b[0;34m\u001b[0m\u001b[0;34m\u001b[0m\u001b[0m\n",
      "\u001b[0;32m/opt/anaconda3/envs/mlenv/lib/python3.7/site-packages/s3transfer/futures.py\u001b[0m in \u001b[0;36mresult\u001b[0;34m(self)\u001b[0m\n\u001b[1;32m    104\u001b[0m             \u001b[0;31m# however if a KeyboardInterrupt is raised we want want to exit\u001b[0m\u001b[0;34m\u001b[0m\u001b[0;34m\u001b[0m\u001b[0;34m\u001b[0m\u001b[0m\n\u001b[1;32m    105\u001b[0m             \u001b[0;31m# out of this and propogate the exception.\u001b[0m\u001b[0;34m\u001b[0m\u001b[0;34m\u001b[0m\u001b[0;34m\u001b[0m\u001b[0m\n\u001b[0;32m--> 106\u001b[0;31m             \u001b[0;32mreturn\u001b[0m \u001b[0mself\u001b[0m\u001b[0;34m.\u001b[0m\u001b[0m_coordinator\u001b[0m\u001b[0;34m.\u001b[0m\u001b[0mresult\u001b[0m\u001b[0;34m(\u001b[0m\u001b[0;34m)\u001b[0m\u001b[0;34m\u001b[0m\u001b[0;34m\u001b[0m\u001b[0m\n\u001b[0m\u001b[1;32m    107\u001b[0m         \u001b[0;32mexcept\u001b[0m \u001b[0mKeyboardInterrupt\u001b[0m \u001b[0;32mas\u001b[0m \u001b[0me\u001b[0m\u001b[0;34m:\u001b[0m\u001b[0;34m\u001b[0m\u001b[0;34m\u001b[0m\u001b[0m\n\u001b[1;32m    108\u001b[0m             \u001b[0mself\u001b[0m\u001b[0;34m.\u001b[0m\u001b[0mcancel\u001b[0m\u001b[0;34m(\u001b[0m\u001b[0;34m)\u001b[0m\u001b[0;34m\u001b[0m\u001b[0;34m\u001b[0m\u001b[0m\n",
      "\u001b[0;32m/opt/anaconda3/envs/mlenv/lib/python3.7/site-packages/s3transfer/futures.py\u001b[0m in \u001b[0;36mresult\u001b[0;34m(self)\u001b[0m\n\u001b[1;32m    258\u001b[0m         \u001b[0;31m# possible value integer value, which is on the scale of billions of\u001b[0m\u001b[0;34m\u001b[0m\u001b[0;34m\u001b[0m\u001b[0;34m\u001b[0m\u001b[0m\n\u001b[1;32m    259\u001b[0m         \u001b[0;31m# years...\u001b[0m\u001b[0;34m\u001b[0m\u001b[0;34m\u001b[0m\u001b[0;34m\u001b[0m\u001b[0m\n\u001b[0;32m--> 260\u001b[0;31m         \u001b[0mself\u001b[0m\u001b[0;34m.\u001b[0m\u001b[0m_done_event\u001b[0m\u001b[0;34m.\u001b[0m\u001b[0mwait\u001b[0m\u001b[0;34m(\u001b[0m\u001b[0mMAXINT\u001b[0m\u001b[0;34m)\u001b[0m\u001b[0;34m\u001b[0m\u001b[0;34m\u001b[0m\u001b[0m\n\u001b[0m\u001b[1;32m    261\u001b[0m \u001b[0;34m\u001b[0m\u001b[0m\n\u001b[1;32m    262\u001b[0m         \u001b[0;31m# Once done waiting, raise an exception if present or return the\u001b[0m\u001b[0;34m\u001b[0m\u001b[0;34m\u001b[0m\u001b[0;34m\u001b[0m\u001b[0m\n",
      "\u001b[0;32m/opt/anaconda3/envs/mlenv/lib/python3.7/threading.py\u001b[0m in \u001b[0;36mwait\u001b[0;34m(self, timeout)\u001b[0m\n\u001b[1;32m    550\u001b[0m             \u001b[0msignaled\u001b[0m \u001b[0;34m=\u001b[0m \u001b[0mself\u001b[0m\u001b[0;34m.\u001b[0m\u001b[0m_flag\u001b[0m\u001b[0;34m\u001b[0m\u001b[0;34m\u001b[0m\u001b[0m\n\u001b[1;32m    551\u001b[0m             \u001b[0;32mif\u001b[0m \u001b[0;32mnot\u001b[0m \u001b[0msignaled\u001b[0m\u001b[0;34m:\u001b[0m\u001b[0;34m\u001b[0m\u001b[0;34m\u001b[0m\u001b[0m\n\u001b[0;32m--> 552\u001b[0;31m                 \u001b[0msignaled\u001b[0m \u001b[0;34m=\u001b[0m \u001b[0mself\u001b[0m\u001b[0;34m.\u001b[0m\u001b[0m_cond\u001b[0m\u001b[0;34m.\u001b[0m\u001b[0mwait\u001b[0m\u001b[0;34m(\u001b[0m\u001b[0mtimeout\u001b[0m\u001b[0;34m)\u001b[0m\u001b[0;34m\u001b[0m\u001b[0;34m\u001b[0m\u001b[0m\n\u001b[0m\u001b[1;32m    553\u001b[0m             \u001b[0;32mreturn\u001b[0m \u001b[0msignaled\u001b[0m\u001b[0;34m\u001b[0m\u001b[0;34m\u001b[0m\u001b[0m\n\u001b[1;32m    554\u001b[0m \u001b[0;34m\u001b[0m\u001b[0m\n",
      "\u001b[0;32m/opt/anaconda3/envs/mlenv/lib/python3.7/threading.py\u001b[0m in \u001b[0;36mwait\u001b[0;34m(self, timeout)\u001b[0m\n\u001b[1;32m    294\u001b[0m         \u001b[0;32mtry\u001b[0m\u001b[0;34m:\u001b[0m    \u001b[0;31m# restore state no matter what (e.g., KeyboardInterrupt)\u001b[0m\u001b[0;34m\u001b[0m\u001b[0;34m\u001b[0m\u001b[0m\n\u001b[1;32m    295\u001b[0m             \u001b[0;32mif\u001b[0m \u001b[0mtimeout\u001b[0m \u001b[0;32mis\u001b[0m \u001b[0;32mNone\u001b[0m\u001b[0;34m:\u001b[0m\u001b[0;34m\u001b[0m\u001b[0;34m\u001b[0m\u001b[0m\n\u001b[0;32m--> 296\u001b[0;31m                 \u001b[0mwaiter\u001b[0m\u001b[0;34m.\u001b[0m\u001b[0macquire\u001b[0m\u001b[0;34m(\u001b[0m\u001b[0;34m)\u001b[0m\u001b[0;34m\u001b[0m\u001b[0;34m\u001b[0m\u001b[0m\n\u001b[0m\u001b[1;32m    297\u001b[0m                 \u001b[0mgotit\u001b[0m \u001b[0;34m=\u001b[0m \u001b[0;32mTrue\u001b[0m\u001b[0;34m\u001b[0m\u001b[0;34m\u001b[0m\u001b[0m\n\u001b[1;32m    298\u001b[0m             \u001b[0;32melse\u001b[0m\u001b[0;34m:\u001b[0m\u001b[0;34m\u001b[0m\u001b[0;34m\u001b[0m\u001b[0m\n",
      "\u001b[0;31mKeyboardInterrupt\u001b[0m: "
     ]
    }
   ],
   "source": [
    "response = client.upload_file(\"../Data/cleaned_wsb_comments.csv\", \"wsb-final-project-bucket\", \"cleaned_wsb_comments.csv\")"
   ]
  },
  {
   "cell_type": "code",
   "execution_count": null,
   "metadata": {},
   "outputs": [],
   "source": []
  }
 ]
}