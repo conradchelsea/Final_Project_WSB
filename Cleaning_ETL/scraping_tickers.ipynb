{
 "cells": [
  {
   "cell_type": "code",
   "execution_count": 1,
   "id": "dutch-preparation",
   "metadata": {},
   "outputs": [],
   "source": [
    "import requests\n",
    "import pandas as pd\n",
    "from bs4 import BeautifulSoup\n",
    "\n",
    "url = 'https://www.marketwatch.com/tools/screener/short-interest'\n",
    "page = requests.get(url)\n",
    "\n",
    "soup = BeautifulSoup(page.content, 'html.parser')\n",
    "table = soup.find(class_=\"table table--overflow align--right\")"
   ]
  },
  {
   "cell_type": "code",
   "execution_count": 2,
   "id": "correct-project",
   "metadata": {},
   "outputs": [],
   "source": [
    "table_rows = table.find_all('tr', class_=\"table__row\")"
   ]
  },
  {
   "cell_type": "code",
   "execution_count": 3,
   "id": "increasing-baker",
   "metadata": {},
   "outputs": [
    {
     "data": {
      "text/plain": [
       "['\\nAMC\\n', '\\nPUBM\\n', '\\nGOGO\\n', '\\nISUN\\n', '\\nCLVS\\n']"
      ]
     },
     "execution_count": 3,
     "metadata": {},
     "output_type": "execute_result"
    }
   ],
   "source": [
    "ticker_list = []\n",
    "for row in table_rows:\n",
    "    ticker = row.find('div', class_=\"cell__content\")\n",
    "    ticker_list.append(ticker.text)\n",
    "\n",
    "ticker_list.remove('Symbol')\n",
    "ticker_list[:5]"
   ]
  },
  {
   "cell_type": "code",
   "execution_count": 4,
   "id": "unsigned-spread",
   "metadata": {},
   "outputs": [
    {
     "data": {
      "text/plain": [
       "['AMC', 'PUBM', 'GOGO', 'ISUN', 'CLVS']"
      ]
     },
     "execution_count": 4,
     "metadata": {},
     "output_type": "execute_result"
    }
   ],
   "source": [
    "cleaned_ticker_list = []\n",
    "for ticker in ticker_list:\n",
    "    to_clean = ticker.split('\\n')\n",
    "    cleaned_ticker_list.append(to_clean[1])\n",
    "\n",
    "cleaned_ticker_list[:5]"
   ]
  },
  {
   "cell_type": "code",
   "execution_count": 5,
   "id": "civic-estonia",
   "metadata": {},
   "outputs": [],
   "source": [
    "df = pd.DataFrame(cleaned_ticker_list, columns=['Tickers'])"
   ]
  },
  {
   "cell_type": "code",
   "execution_count": 6,
   "id": "intellectual-funeral",
   "metadata": {},
   "outputs": [],
   "source": [
    "df.to_csv('shorted_tickers.csv', index=False)"
   ]
  },
  {
   "cell_type": "code",
   "execution_count": null,
   "id": "executed-jason",
   "metadata": {},
   "outputs": [],
   "source": []
  }
 ],
 "metadata": {
  "kernelspec": {
   "display_name": "Python 3",
   "language": "python",
   "name": "python3"
  },
  "language_info": {
   "codemirror_mode": {
    "name": "ipython",
    "version": 3
   },
   "file_extension": ".py",
   "mimetype": "text/x-python",
   "name": "python",
   "nbconvert_exporter": "python",
   "pygments_lexer": "ipython3",
   "version": "3.8.3"
  }
 },
 "nbformat": 4,
 "nbformat_minor": 5
}