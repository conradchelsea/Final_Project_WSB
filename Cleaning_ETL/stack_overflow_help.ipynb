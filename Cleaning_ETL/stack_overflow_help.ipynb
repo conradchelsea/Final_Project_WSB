{
 "metadata": {
  "language_info": {
   "codemirror_mode": {
    "name": "ipython",
    "version": 3
   },
   "file_extension": ".py",
   "mimetype": "text/x-python",
   "name": "python",
   "nbconvert_exporter": "python",
   "pygments_lexer": "ipython3",
   "version": "3.7.9-final"
  },
  "orig_nbformat": 2,
  "kernelspec": {
   "name": "python3",
   "display_name": "Python 3",
   "language": "python"
  }
 },
 "nbformat": 4,
 "nbformat_minor": 2,
 "cells": [
  {
   "cell_type": "code",
   "execution_count": 1,
   "metadata": {},
   "outputs": [],
   "source": [
    "import pandas as pd\n",
    "import re\n",
    "import numpy as np\n",
    "# import modin.pandas as pd"
   ]
  },
  {
   "cell_type": "code",
   "execution_count": 2,
   "metadata": {},
   "outputs": [],
   "source": [
    "post_path = \"../Data/cleaned_wsb_posts.csv\"\n",
    "# comment_path = \"../Data/wallstreetbets_comments.csv\"\n",
    "# title_path = \"title_df.csv\""
   ]
  },
  {
   "cell_type": "code",
   "execution_count": 3,
   "metadata": {},
   "outputs": [],
   "source": [
    "# comment_df = pd.read_csv(comment_path)\n",
    "post_df = pd.read_csv(post_path)\n",
    "# title_df = pd.read_csv(title_path)"
   ]
  },
  {
   "cell_type": "code",
   "execution_count": 4,
   "metadata": {},
   "outputs": [
    {
     "output_type": "execute_result",
     "data": {
      "text/plain": [
       "                      author  created_utc  \\\n",
       "0                readyrummy1   1607957430   \n",
       "1                 Pluto_Muto   1607957404   \n",
       "2                     Hiro08   1607957384   \n",
       "3                uslashuname   1607957282   \n",
       "4           dadwhomstfucks12   1607957280   \n",
       "...                      ...          ...   \n",
       "649540     Leather-Clock1917   1609093756   \n",
       "649541               TBJumbo   1609093502   \n",
       "649542      Thatcrazygoatman   1609093325   \n",
       "649543  ZookeepergameSoggy49   1609093189   \n",
       "649544        johnfhoustontx   1609093183   \n",
       "\n",
       "                                                full_link      id  \\\n",
       "0       https://www.reddit.com/r/wallstreetbets/commen...  kcz0hf   \n",
       "1       https://www.reddit.com/r/wallstreetbets/commen...  kcz07r   \n",
       "2       https://www.reddit.com/r/wallstreetbets/commen...  kcyzzz   \n",
       "3       https://www.reddit.com/r/wallstreetbets/commen...  kcyyw4   \n",
       "4       https://www.reddit.com/r/wallstreetbets/commen...  kcyyve   \n",
       "...                                                   ...     ...   \n",
       "649540  https://www.reddit.com/r/wallstreetbets/commen...  kl8lcn   \n",
       "649541  https://www.reddit.com/r/wallstreetbets/commen...  kl8ink   \n",
       "649542  https://www.reddit.com/r/wallstreetbets/commen...  kl8gni   \n",
       "649543  https://www.reddit.com/r/wallstreetbets/commen...  kl8f6l   \n",
       "649544  https://www.reddit.com/r/wallstreetbets/commen...  kl8f3t   \n",
       "\n",
       "        num_comments                                          permalink  \\\n",
       "0                  6  /r/wallstreetbets/comments/kcz0hf/ruled_by_the...   \n",
       "1                  0  /r/wallstreetbets/comments/kcz07r/3k_and_i_wan...   \n",
       "2                  0  /r/wallstreetbets/comments/kcyzzz/thank_you_fe...   \n",
       "3                  0  /r/wallstreetbets/comments/kcyyw4/azn_fair_val...   \n",
       "4                  0  /r/wallstreetbets/comments/kcyyve/i_wanna_be_l...   \n",
       "...              ...                                                ...   \n",
       "649540            15  /r/wallstreetbets/comments/kl8lcn/bro_this_is_...   \n",
       "649541            15  /r/wallstreetbets/comments/kl8ink/took_5_years...   \n",
       "649542             6               /r/wallstreetbets/comments/kl8gni/_/   \n",
       "649543            18  /r/wallstreetbets/comments/kl8f6l/was_it_a_dre...   \n",
       "649544            14  /r/wallstreetbets/comments/kl8f3t/trading_plan...   \n",
       "\n",
       "        score                                           selftext  \\\n",
       "0           1  5:30 AM\\n\\nWoke up five minutes ago.  Made som...   \n",
       "1           1                                          [removed]   \n",
       "2           1                                                NaN   \n",
       "3           1                                          [removed]   \n",
       "4           1                                          [removed]   \n",
       "...       ...                                                ...   \n",
       "649540      1                                                NaN   \n",
       "649541      1                                                NaN   \n",
       "649542      1                                                NaN   \n",
       "649543      1  Large GameStop Investor Ryan Cohen Buys More S...   \n",
       "649544      1    \\n\\n# Trading Plan 2021\\n\\n# Daily Routine (...   \n",
       "\n",
       "                                                    title  \\\n",
       "0                                 Ruled by the Theta Gods   \n",
       "1                                      3k and I want more   \n",
       "2       Thank you fellow retards and autists! Big ston...   \n",
       "3       AZN fair value of $55, price of $50, vaccine c...   \n",
       "4                                I wanna be less retarded   \n",
       "...                                                   ...   \n",
       "649540  bro this is the most true shit ever and i can’...   \n",
       "649541  Took 5 years of losing on trading shares until...   \n",
       "649542                                                💎 ✋   \n",
       "649543   Was it a dream??!😴 😴 GME opens on Monday up 100%   \n",
       "649544   Trading Plan 2021 - Need your constructive input   \n",
       "\n",
       "        total_awards_received  upvote_ratio  \\\n",
       "0                           0           1.0   \n",
       "1                           0           1.0   \n",
       "2                           0           1.0   \n",
       "3                           0           1.0   \n",
       "4                           0           1.0   \n",
       "...                       ...           ...   \n",
       "649540                      0           1.0   \n",
       "649541                      0           1.0   \n",
       "649542                      0           1.0   \n",
       "649543                      0           1.0   \n",
       "649544                      0           1.0   \n",
       "\n",
       "                                                      url  \n",
       "0       https://www.reddit.com/r/wallstreetbets/commen...  \n",
       "1       https://www.reddit.com/r/wallstreetbets/commen...  \n",
       "2                     https://i.redd.it/i6ae8w4c16561.jpg  \n",
       "3       https://www.reddit.com/r/wallstreetbets/commen...  \n",
       "4       https://www.reddit.com/r/wallstreetbets/commen...  \n",
       "...                                                   ...  \n",
       "649540                https://i.redd.it/mwk4t0tcwr761.jpg  \n",
       "649541                https://i.redd.it/rgt6krklvr761.jpg  \n",
       "649542                https://i.redd.it/hazc4oh2vr761.jpg  \n",
       "649543  https://www.reddit.com/r/wallstreetbets/commen...  \n",
       "649544  https://www.reddit.com/r/wallstreetbets/commen...  \n",
       "\n",
       "[649545 rows x 12 columns]"
      ],
      "text/html": "<div>\n<style scoped>\n    .dataframe tbody tr th:only-of-type {\n        vertical-align: middle;\n    }\n\n    .dataframe tbody tr th {\n        vertical-align: top;\n    }\n\n    .dataframe thead th {\n        text-align: right;\n    }\n</style>\n<table border=\"1\" class=\"dataframe\">\n  <thead>\n    <tr style=\"text-align: right;\">\n      <th></th>\n      <th>author</th>\n      <th>created_utc</th>\n      <th>full_link</th>\n      <th>id</th>\n      <th>num_comments</th>\n      <th>permalink</th>\n      <th>score</th>\n      <th>selftext</th>\n      <th>title</th>\n      <th>total_awards_received</th>\n      <th>upvote_ratio</th>\n      <th>url</th>\n    </tr>\n  </thead>\n  <tbody>\n    <tr>\n      <th>0</th>\n      <td>readyrummy1</td>\n      <td>1607957430</td>\n      <td>https://www.reddit.com/r/wallstreetbets/commen...</td>\n      <td>kcz0hf</td>\n      <td>6</td>\n      <td>/r/wallstreetbets/comments/kcz0hf/ruled_by_the...</td>\n      <td>1</td>\n      <td>5:30 AM\\n\\nWoke up five minutes ago.  Made som...</td>\n      <td>Ruled by the Theta Gods</td>\n      <td>0</td>\n      <td>1.0</td>\n      <td>https://www.reddit.com/r/wallstreetbets/commen...</td>\n    </tr>\n    <tr>\n      <th>1</th>\n      <td>Pluto_Muto</td>\n      <td>1607957404</td>\n      <td>https://www.reddit.com/r/wallstreetbets/commen...</td>\n      <td>kcz07r</td>\n      <td>0</td>\n      <td>/r/wallstreetbets/comments/kcz07r/3k_and_i_wan...</td>\n      <td>1</td>\n      <td>[removed]</td>\n      <td>3k and I want more</td>\n      <td>0</td>\n      <td>1.0</td>\n      <td>https://www.reddit.com/r/wallstreetbets/commen...</td>\n    </tr>\n    <tr>\n      <th>2</th>\n      <td>Hiro08</td>\n      <td>1607957384</td>\n      <td>https://www.reddit.com/r/wallstreetbets/commen...</td>\n      <td>kcyzzz</td>\n      <td>0</td>\n      <td>/r/wallstreetbets/comments/kcyzzz/thank_you_fe...</td>\n      <td>1</td>\n      <td>NaN</td>\n      <td>Thank you fellow retards and autists! Big ston...</td>\n      <td>0</td>\n      <td>1.0</td>\n      <td>https://i.redd.it/i6ae8w4c16561.jpg</td>\n    </tr>\n    <tr>\n      <th>3</th>\n      <td>uslashuname</td>\n      <td>1607957282</td>\n      <td>https://www.reddit.com/r/wallstreetbets/commen...</td>\n      <td>kcyyw4</td>\n      <td>0</td>\n      <td>/r/wallstreetbets/comments/kcyyw4/azn_fair_val...</td>\n      <td>1</td>\n      <td>[removed]</td>\n      <td>AZN fair value of $55, price of $50, vaccine c...</td>\n      <td>0</td>\n      <td>1.0</td>\n      <td>https://www.reddit.com/r/wallstreetbets/commen...</td>\n    </tr>\n    <tr>\n      <th>4</th>\n      <td>dadwhomstfucks12</td>\n      <td>1607957280</td>\n      <td>https://www.reddit.com/r/wallstreetbets/commen...</td>\n      <td>kcyyve</td>\n      <td>0</td>\n      <td>/r/wallstreetbets/comments/kcyyve/i_wanna_be_l...</td>\n      <td>1</td>\n      <td>[removed]</td>\n      <td>I wanna be less retarded</td>\n      <td>0</td>\n      <td>1.0</td>\n      <td>https://www.reddit.com/r/wallstreetbets/commen...</td>\n    </tr>\n    <tr>\n      <th>...</th>\n      <td>...</td>\n      <td>...</td>\n      <td>...</td>\n      <td>...</td>\n      <td>...</td>\n      <td>...</td>\n      <td>...</td>\n      <td>...</td>\n      <td>...</td>\n      <td>...</td>\n      <td>...</td>\n      <td>...</td>\n    </tr>\n    <tr>\n      <th>649540</th>\n      <td>Leather-Clock1917</td>\n      <td>1609093756</td>\n      <td>https://www.reddit.com/r/wallstreetbets/commen...</td>\n      <td>kl8lcn</td>\n      <td>15</td>\n      <td>/r/wallstreetbets/comments/kl8lcn/bro_this_is_...</td>\n      <td>1</td>\n      <td>NaN</td>\n      <td>bro this is the most true shit ever and i can’...</td>\n      <td>0</td>\n      <td>1.0</td>\n      <td>https://i.redd.it/mwk4t0tcwr761.jpg</td>\n    </tr>\n    <tr>\n      <th>649541</th>\n      <td>TBJumbo</td>\n      <td>1609093502</td>\n      <td>https://www.reddit.com/r/wallstreetbets/commen...</td>\n      <td>kl8ink</td>\n      <td>15</td>\n      <td>/r/wallstreetbets/comments/kl8ink/took_5_years...</td>\n      <td>1</td>\n      <td>NaN</td>\n      <td>Took 5 years of losing on trading shares until...</td>\n      <td>0</td>\n      <td>1.0</td>\n      <td>https://i.redd.it/rgt6krklvr761.jpg</td>\n    </tr>\n    <tr>\n      <th>649542</th>\n      <td>Thatcrazygoatman</td>\n      <td>1609093325</td>\n      <td>https://www.reddit.com/r/wallstreetbets/commen...</td>\n      <td>kl8gni</td>\n      <td>6</td>\n      <td>/r/wallstreetbets/comments/kl8gni/_/</td>\n      <td>1</td>\n      <td>NaN</td>\n      <td>💎 ✋</td>\n      <td>0</td>\n      <td>1.0</td>\n      <td>https://i.redd.it/hazc4oh2vr761.jpg</td>\n    </tr>\n    <tr>\n      <th>649543</th>\n      <td>ZookeepergameSoggy49</td>\n      <td>1609093189</td>\n      <td>https://www.reddit.com/r/wallstreetbets/commen...</td>\n      <td>kl8f6l</td>\n      <td>18</td>\n      <td>/r/wallstreetbets/comments/kl8f6l/was_it_a_dre...</td>\n      <td>1</td>\n      <td>Large GameStop Investor Ryan Cohen Buys More S...</td>\n      <td>Was it a dream??!😴 😴 GME opens on Monday up 100%</td>\n      <td>0</td>\n      <td>1.0</td>\n      <td>https://www.reddit.com/r/wallstreetbets/commen...</td>\n    </tr>\n    <tr>\n      <th>649544</th>\n      <td>johnfhoustontx</td>\n      <td>1609093183</td>\n      <td>https://www.reddit.com/r/wallstreetbets/commen...</td>\n      <td>kl8f3t</td>\n      <td>14</td>\n      <td>/r/wallstreetbets/comments/kl8f3t/trading_plan...</td>\n      <td>1</td>\n      <td>\\n\\n# Trading Plan 2021\\n\\n# Daily Routine (...</td>\n      <td>Trading Plan 2021 - Need your constructive input</td>\n      <td>0</td>\n      <td>1.0</td>\n      <td>https://www.reddit.com/r/wallstreetbets/commen...</td>\n    </tr>\n  </tbody>\n</table>\n<p>649545 rows × 12 columns</p>\n</div>"
     },
     "metadata": {},
     "execution_count": 4
    }
   ],
   "source": [
    "post_df"
   ]
  },
  {
   "cell_type": "code",
   "execution_count": 5,
   "metadata": {},
   "outputs": [],
   "source": [
    "ticker_list = pd.read_csv(\"../Data/final_ticker_list.csv\")"
   ]
  },
  {
   "cell_type": "code",
   "execution_count": 6,
   "metadata": {},
   "outputs": [],
   "source": [
    "post_df[\"ticker_name\"] = None"
   ]
  },
  {
   "cell_type": "code",
   "execution_count": 7,
   "metadata": {},
   "outputs": [
    {
     "output_type": "stream",
     "name": "stdout",
     "text": [
      "8 12 0\n"
     ]
    }
   ],
   "source": [
    "index_title = post_df.columns.get_loc(\"title\")\n",
    "index_ticker_name = post_df.columns.get_loc(\"ticker_name\")\n",
    "index_ticker_list = ticker_list.columns.get_loc(\"Tickers\")\n",
    "print(index_title, index_ticker_name, index_ticker_list)"
   ]
  },
  {
   "cell_type": "code",
   "execution_count": 8,
   "metadata": {},
   "outputs": [
    {
     "output_type": "execute_result",
     "data": {
      "text/plain": [
       "   Tickers\n",
       "0      AMC\n",
       "1     PUBM\n",
       "2     GOGO\n",
       "3     ISUN\n",
       "4     CLVS\n",
       "..     ...\n",
       "77    TLRY\n",
       "78     BRO\n",
       "79    CRSR\n",
       "80    IBKR\n",
       "81     BIO\n",
       "\n",
       "[82 rows x 1 columns]"
      ],
      "text/html": "<div>\n<style scoped>\n    .dataframe tbody tr th:only-of-type {\n        vertical-align: middle;\n    }\n\n    .dataframe tbody tr th {\n        vertical-align: top;\n    }\n\n    .dataframe thead th {\n        text-align: right;\n    }\n</style>\n<table border=\"1\" class=\"dataframe\">\n  <thead>\n    <tr style=\"text-align: right;\">\n      <th></th>\n      <th>Tickers</th>\n    </tr>\n  </thead>\n  <tbody>\n    <tr>\n      <th>0</th>\n      <td>AMC</td>\n    </tr>\n    <tr>\n      <th>1</th>\n      <td>PUBM</td>\n    </tr>\n    <tr>\n      <th>2</th>\n      <td>GOGO</td>\n    </tr>\n    <tr>\n      <th>3</th>\n      <td>ISUN</td>\n    </tr>\n    <tr>\n      <th>4</th>\n      <td>CLVS</td>\n    </tr>\n    <tr>\n      <th>...</th>\n      <td>...</td>\n    </tr>\n    <tr>\n      <th>77</th>\n      <td>TLRY</td>\n    </tr>\n    <tr>\n      <th>78</th>\n      <td>BRO</td>\n    </tr>\n    <tr>\n      <th>79</th>\n      <td>CRSR</td>\n    </tr>\n    <tr>\n      <th>80</th>\n      <td>IBKR</td>\n    </tr>\n    <tr>\n      <th>81</th>\n      <td>BIO</td>\n    </tr>\n  </tbody>\n</table>\n<p>82 rows × 1 columns</p>\n</div>"
     },
     "metadata": {},
     "execution_count": 8
    }
   ],
   "source": [
    "ticker_list"
   ]
  },
  {
   "cell_type": "code",
   "execution_count": 9,
   "metadata": {},
   "outputs": [],
   "source": [
    "\n",
    "post_df['title']=post_df['title'].apply(str)"
   ]
  },
  {
   "cell_type": "code",
   "execution_count": 18,
   "metadata": {},
   "outputs": [
    {
     "output_type": "error",
     "ename": "KilledWorker",
     "evalue": "('parse-92afd8d1d408905b189d4b46b02737ad', <Worker 'tcp://127.0.0.1:56776', name: 7, memory: 0, processing: 1>)",
     "traceback": [
      "\u001b[0;31m---------------------------------------------------------------------------\u001b[0m",
      "\u001b[0;31mKilledWorker\u001b[0m                              Traceback (most recent call last)",
      "\u001b[0;32m<timed exec>\u001b[0m in \u001b[0;36m<module>\u001b[0;34m\u001b[0m\n",
      "\u001b[0;32m/opt/anaconda3/envs/mlenv/lib/python3.7/site-packages/modin/pandas/series.py\u001b[0m in \u001b[0;36m__iter__\u001b[0;34m(self)\u001b[0m\n\u001b[1;32m    201\u001b[0m \u001b[0;34m\u001b[0m\u001b[0m\n\u001b[1;32m    202\u001b[0m     \u001b[0;32mdef\u001b[0m \u001b[0m__iter__\u001b[0m\u001b[0;34m(\u001b[0m\u001b[0mself\u001b[0m\u001b[0;34m)\u001b[0m\u001b[0;34m:\u001b[0m\u001b[0;34m\u001b[0m\u001b[0;34m\u001b[0m\u001b[0m\n\u001b[0;32m--> 203\u001b[0;31m         \u001b[0;32mreturn\u001b[0m \u001b[0mself\u001b[0m\u001b[0;34m.\u001b[0m\u001b[0m_to_pandas\u001b[0m\u001b[0;34m(\u001b[0m\u001b[0;34m)\u001b[0m\u001b[0;34m.\u001b[0m\u001b[0m__iter__\u001b[0m\u001b[0;34m(\u001b[0m\u001b[0;34m)\u001b[0m\u001b[0;34m\u001b[0m\u001b[0;34m\u001b[0m\u001b[0m\n\u001b[0m\u001b[1;32m    204\u001b[0m \u001b[0;34m\u001b[0m\u001b[0m\n\u001b[1;32m    205\u001b[0m     \u001b[0;32mdef\u001b[0m \u001b[0m__mod__\u001b[0m\u001b[0;34m(\u001b[0m\u001b[0mself\u001b[0m\u001b[0;34m,\u001b[0m \u001b[0mright\u001b[0m\u001b[0;34m)\u001b[0m\u001b[0;34m:\u001b[0m\u001b[0;34m\u001b[0m\u001b[0;34m\u001b[0m\u001b[0m\n",
      "\u001b[0;32m/opt/anaconda3/envs/mlenv/lib/python3.7/site-packages/modin/pandas/series.py\u001b[0m in \u001b[0;36m_to_pandas\u001b[0;34m(self)\u001b[0m\n\u001b[1;32m   1498\u001b[0m         \u001b[0mWhat\u001b[0m \u001b[0mthis\u001b[0m \u001b[0mreturns\u001b[0m \u001b[0;34m(\u001b[0m\u001b[0;32mif\u001b[0m \u001b[0manything\u001b[0m\u001b[0;34m)\u001b[0m\u001b[0;34m\u001b[0m\u001b[0;34m\u001b[0m\u001b[0m\n\u001b[1;32m   1499\u001b[0m         \"\"\"\n\u001b[0;32m-> 1500\u001b[0;31m         \u001b[0mdf\u001b[0m \u001b[0;34m=\u001b[0m \u001b[0mself\u001b[0m\u001b[0;34m.\u001b[0m\u001b[0m_query_compiler\u001b[0m\u001b[0;34m.\u001b[0m\u001b[0mto_pandas\u001b[0m\u001b[0;34m(\u001b[0m\u001b[0;34m)\u001b[0m\u001b[0;34m\u001b[0m\u001b[0;34m\u001b[0m\u001b[0m\n\u001b[0m\u001b[1;32m   1501\u001b[0m         \u001b[0mseries\u001b[0m \u001b[0;34m=\u001b[0m \u001b[0mdf\u001b[0m\u001b[0;34m[\u001b[0m\u001b[0mdf\u001b[0m\u001b[0;34m.\u001b[0m\u001b[0mcolumns\u001b[0m\u001b[0;34m[\u001b[0m\u001b[0;36m0\u001b[0m\u001b[0;34m]\u001b[0m\u001b[0;34m]\u001b[0m\u001b[0;34m\u001b[0m\u001b[0;34m\u001b[0m\u001b[0m\n\u001b[1;32m   1502\u001b[0m         \u001b[0;32mif\u001b[0m \u001b[0mself\u001b[0m\u001b[0;34m.\u001b[0m\u001b[0m_query_compiler\u001b[0m\u001b[0;34m.\u001b[0m\u001b[0mcolumns\u001b[0m\u001b[0;34m[\u001b[0m\u001b[0;36m0\u001b[0m\u001b[0;34m]\u001b[0m \u001b[0;34m==\u001b[0m \u001b[0;34m\"__reduced__\"\u001b[0m\u001b[0;34m:\u001b[0m\u001b[0;34m\u001b[0m\u001b[0;34m\u001b[0m\u001b[0m\n",
      "\u001b[0;32m/opt/anaconda3/envs/mlenv/lib/python3.7/site-packages/modin/backends/pandas/query_compiler.py\u001b[0m in \u001b[0;36mto_pandas\u001b[0;34m(self)\u001b[0m\n\u001b[1;32m    233\u001b[0m \u001b[0;34m\u001b[0m\u001b[0m\n\u001b[1;32m    234\u001b[0m     \u001b[0;32mdef\u001b[0m \u001b[0mto_pandas\u001b[0m\u001b[0;34m(\u001b[0m\u001b[0mself\u001b[0m\u001b[0;34m)\u001b[0m\u001b[0;34m:\u001b[0m\u001b[0;34m\u001b[0m\u001b[0;34m\u001b[0m\u001b[0m\n\u001b[0;32m--> 235\u001b[0;31m         \u001b[0;32mreturn\u001b[0m \u001b[0mself\u001b[0m\u001b[0;34m.\u001b[0m\u001b[0m_modin_frame\u001b[0m\u001b[0;34m.\u001b[0m\u001b[0mto_pandas\u001b[0m\u001b[0;34m(\u001b[0m\u001b[0;34m)\u001b[0m\u001b[0;34m\u001b[0m\u001b[0;34m\u001b[0m\u001b[0m\n\u001b[0m\u001b[1;32m    236\u001b[0m \u001b[0;34m\u001b[0m\u001b[0m\n\u001b[1;32m    237\u001b[0m     \u001b[0;34m@\u001b[0m\u001b[0mclassmethod\u001b[0m\u001b[0;34m\u001b[0m\u001b[0;34m\u001b[0m\u001b[0m\n",
      "\u001b[0;32m/opt/anaconda3/envs/mlenv/lib/python3.7/site-packages/modin/engines/base/frame/data.py\u001b[0m in \u001b[0;36mto_pandas\u001b[0;34m(self)\u001b[0m\n\u001b[1;32m   2122\u001b[0m             \u001b[0mPandas\u001b[0m \u001b[0mDataFrame\u001b[0m\u001b[0;34m.\u001b[0m\u001b[0;34m\u001b[0m\u001b[0;34m\u001b[0m\u001b[0m\n\u001b[1;32m   2123\u001b[0m         \"\"\"\n\u001b[0;32m-> 2124\u001b[0;31m         \u001b[0mdf\u001b[0m \u001b[0;34m=\u001b[0m \u001b[0mself\u001b[0m\u001b[0;34m.\u001b[0m\u001b[0m_frame_mgr_cls\u001b[0m\u001b[0;34m.\u001b[0m\u001b[0mto_pandas\u001b[0m\u001b[0;34m(\u001b[0m\u001b[0mself\u001b[0m\u001b[0;34m.\u001b[0m\u001b[0m_partitions\u001b[0m\u001b[0;34m)\u001b[0m\u001b[0;34m\u001b[0m\u001b[0;34m\u001b[0m\u001b[0m\n\u001b[0m\u001b[1;32m   2125\u001b[0m         \u001b[0;32mif\u001b[0m \u001b[0mdf\u001b[0m\u001b[0;34m.\u001b[0m\u001b[0mempty\u001b[0m\u001b[0;34m:\u001b[0m\u001b[0;34m\u001b[0m\u001b[0;34m\u001b[0m\u001b[0m\n\u001b[1;32m   2126\u001b[0m             \u001b[0;32mif\u001b[0m \u001b[0mlen\u001b[0m\u001b[0;34m(\u001b[0m\u001b[0mself\u001b[0m\u001b[0;34m.\u001b[0m\u001b[0mcolumns\u001b[0m\u001b[0;34m)\u001b[0m \u001b[0;34m!=\u001b[0m \u001b[0;36m0\u001b[0m\u001b[0;34m:\u001b[0m\u001b[0;34m\u001b[0m\u001b[0;34m\u001b[0m\u001b[0m\n",
      "\u001b[0;32m/opt/anaconda3/envs/mlenv/lib/python3.7/site-packages/modin/engines/base/frame/partition_manager.py\u001b[0m in \u001b[0;36mto_pandas\u001b[0;34m(cls, partitions)\u001b[0m\n\u001b[1;32m    529\u001b[0m             \u001b[0mA\u001b[0m \u001b[0mPandas\u001b[0m \u001b[0mDataFrame\u001b[0m\u001b[0;34m\u001b[0m\u001b[0;34m\u001b[0m\u001b[0m\n\u001b[1;32m    530\u001b[0m         \"\"\"\n\u001b[0;32m--> 531\u001b[0;31m         \u001b[0mretrieved_objects\u001b[0m \u001b[0;34m=\u001b[0m \u001b[0;34m[\u001b[0m\u001b[0;34m[\u001b[0m\u001b[0mobj\u001b[0m\u001b[0;34m.\u001b[0m\u001b[0mto_pandas\u001b[0m\u001b[0;34m(\u001b[0m\u001b[0;34m)\u001b[0m \u001b[0;32mfor\u001b[0m \u001b[0mobj\u001b[0m \u001b[0;32min\u001b[0m \u001b[0mpart\u001b[0m\u001b[0;34m]\u001b[0m \u001b[0;32mfor\u001b[0m \u001b[0mpart\u001b[0m \u001b[0;32min\u001b[0m \u001b[0mpartitions\u001b[0m\u001b[0;34m]\u001b[0m\u001b[0;34m\u001b[0m\u001b[0;34m\u001b[0m\u001b[0m\n\u001b[0m\u001b[1;32m    532\u001b[0m         if all(\n\u001b[1;32m    533\u001b[0m             \u001b[0misinstance\u001b[0m\u001b[0;34m(\u001b[0m\u001b[0mpart\u001b[0m\u001b[0;34m,\u001b[0m \u001b[0mpandas\u001b[0m\u001b[0;34m.\u001b[0m\u001b[0mSeries\u001b[0m\u001b[0;34m)\u001b[0m \u001b[0;32mfor\u001b[0m \u001b[0mrow\u001b[0m \u001b[0;32min\u001b[0m \u001b[0mretrieved_objects\u001b[0m \u001b[0;32mfor\u001b[0m \u001b[0mpart\u001b[0m \u001b[0;32min\u001b[0m \u001b[0mrow\u001b[0m\u001b[0;34m\u001b[0m\u001b[0;34m\u001b[0m\u001b[0m\n",
      "\u001b[0;32m/opt/anaconda3/envs/mlenv/lib/python3.7/site-packages/modin/engines/base/frame/partition_manager.py\u001b[0m in \u001b[0;36m<listcomp>\u001b[0;34m(.0)\u001b[0m\n\u001b[1;32m    529\u001b[0m             \u001b[0mA\u001b[0m \u001b[0mPandas\u001b[0m \u001b[0mDataFrame\u001b[0m\u001b[0;34m\u001b[0m\u001b[0;34m\u001b[0m\u001b[0m\n\u001b[1;32m    530\u001b[0m         \"\"\"\n\u001b[0;32m--> 531\u001b[0;31m         \u001b[0mretrieved_objects\u001b[0m \u001b[0;34m=\u001b[0m \u001b[0;34m[\u001b[0m\u001b[0;34m[\u001b[0m\u001b[0mobj\u001b[0m\u001b[0;34m.\u001b[0m\u001b[0mto_pandas\u001b[0m\u001b[0;34m(\u001b[0m\u001b[0;34m)\u001b[0m \u001b[0;32mfor\u001b[0m \u001b[0mobj\u001b[0m \u001b[0;32min\u001b[0m \u001b[0mpart\u001b[0m\u001b[0;34m]\u001b[0m \u001b[0;32mfor\u001b[0m \u001b[0mpart\u001b[0m \u001b[0;32min\u001b[0m \u001b[0mpartitions\u001b[0m\u001b[0;34m]\u001b[0m\u001b[0;34m\u001b[0m\u001b[0;34m\u001b[0m\u001b[0m\n\u001b[0m\u001b[1;32m    532\u001b[0m         if all(\n\u001b[1;32m    533\u001b[0m             \u001b[0misinstance\u001b[0m\u001b[0;34m(\u001b[0m\u001b[0mpart\u001b[0m\u001b[0;34m,\u001b[0m \u001b[0mpandas\u001b[0m\u001b[0;34m.\u001b[0m\u001b[0mSeries\u001b[0m\u001b[0;34m)\u001b[0m \u001b[0;32mfor\u001b[0m \u001b[0mrow\u001b[0m \u001b[0;32min\u001b[0m \u001b[0mretrieved_objects\u001b[0m \u001b[0;32mfor\u001b[0m \u001b[0mpart\u001b[0m \u001b[0;32min\u001b[0m \u001b[0mrow\u001b[0m\u001b[0;34m\u001b[0m\u001b[0;34m\u001b[0m\u001b[0m\n",
      "\u001b[0;32m/opt/anaconda3/envs/mlenv/lib/python3.7/site-packages/modin/engines/base/frame/partition_manager.py\u001b[0m in \u001b[0;36m<listcomp>\u001b[0;34m(.0)\u001b[0m\n\u001b[1;32m    529\u001b[0m             \u001b[0mA\u001b[0m \u001b[0mPandas\u001b[0m \u001b[0mDataFrame\u001b[0m\u001b[0;34m\u001b[0m\u001b[0;34m\u001b[0m\u001b[0m\n\u001b[1;32m    530\u001b[0m         \"\"\"\n\u001b[0;32m--> 531\u001b[0;31m         \u001b[0mretrieved_objects\u001b[0m \u001b[0;34m=\u001b[0m \u001b[0;34m[\u001b[0m\u001b[0;34m[\u001b[0m\u001b[0mobj\u001b[0m\u001b[0;34m.\u001b[0m\u001b[0mto_pandas\u001b[0m\u001b[0;34m(\u001b[0m\u001b[0;34m)\u001b[0m \u001b[0;32mfor\u001b[0m \u001b[0mobj\u001b[0m \u001b[0;32min\u001b[0m \u001b[0mpart\u001b[0m\u001b[0;34m]\u001b[0m \u001b[0;32mfor\u001b[0m \u001b[0mpart\u001b[0m \u001b[0;32min\u001b[0m \u001b[0mpartitions\u001b[0m\u001b[0;34m]\u001b[0m\u001b[0;34m\u001b[0m\u001b[0;34m\u001b[0m\u001b[0m\n\u001b[0m\u001b[1;32m    532\u001b[0m         if all(\n\u001b[1;32m    533\u001b[0m             \u001b[0misinstance\u001b[0m\u001b[0;34m(\u001b[0m\u001b[0mpart\u001b[0m\u001b[0;34m,\u001b[0m \u001b[0mpandas\u001b[0m\u001b[0;34m.\u001b[0m\u001b[0mSeries\u001b[0m\u001b[0;34m)\u001b[0m \u001b[0;32mfor\u001b[0m \u001b[0mrow\u001b[0m \u001b[0;32min\u001b[0m \u001b[0mretrieved_objects\u001b[0m \u001b[0;32mfor\u001b[0m \u001b[0mpart\u001b[0m \u001b[0;32min\u001b[0m \u001b[0mrow\u001b[0m\u001b[0;34m\u001b[0m\u001b[0;34m\u001b[0m\u001b[0m\n",
      "\u001b[0;32m/opt/anaconda3/envs/mlenv/lib/python3.7/site-packages/modin/engines/dask/pandas_on_dask/frame/partition.py\u001b[0m in \u001b[0;36mto_pandas\u001b[0;34m(self)\u001b[0m\n\u001b[1;32m    119\u001b[0m             \u001b[0mA\u001b[0m \u001b[0mPandas\u001b[0m \u001b[0mDataFrame\u001b[0m\u001b[0;34m.\u001b[0m\u001b[0;34m\u001b[0m\u001b[0;34m\u001b[0m\u001b[0m\n\u001b[1;32m    120\u001b[0m         \"\"\"\n\u001b[0;32m--> 121\u001b[0;31m         \u001b[0mdataframe\u001b[0m \u001b[0;34m=\u001b[0m \u001b[0mself\u001b[0m\u001b[0;34m.\u001b[0m\u001b[0mget\u001b[0m\u001b[0;34m(\u001b[0m\u001b[0;34m)\u001b[0m\u001b[0;34m\u001b[0m\u001b[0;34m\u001b[0m\u001b[0m\n\u001b[0m\u001b[1;32m    122\u001b[0m         \u001b[0;32massert\u001b[0m \u001b[0mtype\u001b[0m\u001b[0;34m(\u001b[0m\u001b[0mdataframe\u001b[0m\u001b[0;34m)\u001b[0m \u001b[0;32mis\u001b[0m \u001b[0mpandas\u001b[0m\u001b[0;34m.\u001b[0m\u001b[0mDataFrame\u001b[0m \u001b[0;32mor\u001b[0m \u001b[0mtype\u001b[0m\u001b[0;34m(\u001b[0m\u001b[0mdataframe\u001b[0m\u001b[0;34m)\u001b[0m \u001b[0;32mis\u001b[0m \u001b[0mpandas\u001b[0m\u001b[0;34m.\u001b[0m\u001b[0mSeries\u001b[0m\u001b[0;34m\u001b[0m\u001b[0;34m\u001b[0m\u001b[0m\n\u001b[1;32m    123\u001b[0m \u001b[0;34m\u001b[0m\u001b[0m\n",
      "\u001b[0;32m/opt/anaconda3/envs/mlenv/lib/python3.7/site-packages/modin/engines/dask/pandas_on_dask/frame/partition.py\u001b[0m in \u001b[0;36mget\u001b[0;34m(self)\u001b[0m\n\u001b[1;32m     61\u001b[0m         \u001b[0;32mif\u001b[0m \u001b[0misinstance\u001b[0m\u001b[0;34m(\u001b[0m\u001b[0mself\u001b[0m\u001b[0;34m.\u001b[0m\u001b[0mfuture\u001b[0m\u001b[0;34m,\u001b[0m \u001b[0mpandas\u001b[0m\u001b[0;34m.\u001b[0m\u001b[0mDataFrame\u001b[0m\u001b[0;34m)\u001b[0m\u001b[0;34m:\u001b[0m\u001b[0;34m\u001b[0m\u001b[0;34m\u001b[0m\u001b[0m\n\u001b[1;32m     62\u001b[0m             \u001b[0;32mreturn\u001b[0m \u001b[0mself\u001b[0m\u001b[0;34m.\u001b[0m\u001b[0mfuture\u001b[0m\u001b[0;34m\u001b[0m\u001b[0;34m\u001b[0m\u001b[0m\n\u001b[0;32m---> 63\u001b[0;31m         \u001b[0;32mreturn\u001b[0m \u001b[0mself\u001b[0m\u001b[0;34m.\u001b[0m\u001b[0mfuture\u001b[0m\u001b[0;34m.\u001b[0m\u001b[0mresult\u001b[0m\u001b[0;34m(\u001b[0m\u001b[0;34m)\u001b[0m\u001b[0;34m\u001b[0m\u001b[0;34m\u001b[0m\u001b[0m\n\u001b[0m\u001b[1;32m     64\u001b[0m \u001b[0;34m\u001b[0m\u001b[0m\n\u001b[1;32m     65\u001b[0m     \u001b[0;32mdef\u001b[0m \u001b[0mapply\u001b[0m\u001b[0;34m(\u001b[0m\u001b[0mself\u001b[0m\u001b[0;34m,\u001b[0m \u001b[0mfunc\u001b[0m\u001b[0;34m,\u001b[0m \u001b[0;34m**\u001b[0m\u001b[0mkwargs\u001b[0m\u001b[0;34m)\u001b[0m\u001b[0;34m:\u001b[0m\u001b[0;34m\u001b[0m\u001b[0;34m\u001b[0m\u001b[0m\n",
      "\u001b[0;32m/opt/anaconda3/envs/mlenv/lib/python3.7/site-packages/distributed/client.py\u001b[0m in \u001b[0;36mresult\u001b[0;34m(self, timeout)\u001b[0m\n\u001b[1;32m    221\u001b[0m         \u001b[0;32mif\u001b[0m \u001b[0mself\u001b[0m\u001b[0;34m.\u001b[0m\u001b[0mstatus\u001b[0m \u001b[0;34m==\u001b[0m \u001b[0;34m\"error\"\u001b[0m\u001b[0;34m:\u001b[0m\u001b[0;34m\u001b[0m\u001b[0;34m\u001b[0m\u001b[0m\n\u001b[1;32m    222\u001b[0m             \u001b[0mtyp\u001b[0m\u001b[0;34m,\u001b[0m \u001b[0mexc\u001b[0m\u001b[0;34m,\u001b[0m \u001b[0mtb\u001b[0m \u001b[0;34m=\u001b[0m \u001b[0mresult\u001b[0m\u001b[0;34m\u001b[0m\u001b[0;34m\u001b[0m\u001b[0m\n\u001b[0;32m--> 223\u001b[0;31m             \u001b[0;32mraise\u001b[0m \u001b[0mexc\u001b[0m\u001b[0;34m.\u001b[0m\u001b[0mwith_traceback\u001b[0m\u001b[0;34m(\u001b[0m\u001b[0mtb\u001b[0m\u001b[0;34m)\u001b[0m\u001b[0;34m\u001b[0m\u001b[0;34m\u001b[0m\u001b[0m\n\u001b[0m\u001b[1;32m    224\u001b[0m         \u001b[0;32melif\u001b[0m \u001b[0mself\u001b[0m\u001b[0;34m.\u001b[0m\u001b[0mstatus\u001b[0m \u001b[0;34m==\u001b[0m \u001b[0;34m\"cancelled\"\u001b[0m\u001b[0;34m:\u001b[0m\u001b[0;34m\u001b[0m\u001b[0;34m\u001b[0m\u001b[0m\n\u001b[1;32m    225\u001b[0m             \u001b[0;32mraise\u001b[0m \u001b[0mresult\u001b[0m\u001b[0;34m\u001b[0m\u001b[0;34m\u001b[0m\u001b[0m\n",
      "\u001b[0;31mKilledWorker\u001b[0m: ('parse-92afd8d1d408905b189d4b46b02737ad', <Worker 'tcp://127.0.0.1:56776', name: 7, memory: 0, processing: 1>)"
     ]
    }
   ],
   "source": [
    "%%time\n",
    "for row in range(0, len(post_df)):\n",
    "    for ticker in ticker_list[\"Tickers\"]:\n",
    "        ticker_name = re.search(rf'\\s({ticker})\\s', post_df.iat[row, index_title], re.IGNORECASE)\n",
    "        if ticker_name is not None:\n",
    "            post_df.iat[row, index_ticker_name] = ticker_name\n",
    "            print(ticker, row)"
   ]
  },
  {
   "cell_type": "code",
   "execution_count": 24,
   "metadata": {},
   "outputs": [],
   "source": [
    "# [[ticker for ticker in title if ticker in ticker_list] for title in title_df['title'].str.split()[:80]]"
   ]
  },
  {
   "cell_type": "code",
   "execution_count": null,
   "metadata": {},
   "outputs": [],
   "source": [
    "%%time\n",
    "for row in post_df.itertuples():\n",
    "    for ticker in ticker_list[\"Ticker\"]:\n",
    "        individual_ticker_name = re.search(rf'\\s({ticker})\\s', row.title, re.IGNORECASE)\n",
    "        if individual_ticker_name is not None:\n",
    "            post_df.iloc[row.index][index_ticker_name] = individual_ticker_name"
   ]
  },
  {
   "cell_type": "code",
   "execution_count": 42,
   "metadata": {},
   "outputs": [
    {
     "output_type": "error",
     "ename": "AttributeError",
     "evalue": "'str' object has no attribute 'matches'",
     "traceback": [
      "\u001b[0;31m---------------------------------------------------------------------------\u001b[0m",
      "\u001b[0;31mAttributeError\u001b[0m                            Traceback (most recent call last)",
      "\u001b[0;32m<ipython-input-42-270638addec7>\u001b[0m in \u001b[0;36m<module>\u001b[0;34m\u001b[0m\n\u001b[1;32m      2\u001b[0m \u001b[0mmatches\u001b[0m \u001b[0;34m=\u001b[0m \u001b[0;34m[\u001b[0m\u001b[0;34m\"more\"\u001b[0m\u001b[0;34m,\u001b[0m \u001b[0;34m\"wholesome\"\u001b[0m\u001b[0;34m,\u001b[0m \u001b[0;34m\"milk\"\u001b[0m\u001b[0;34m]\u001b[0m\u001b[0;34m\u001b[0m\u001b[0;34m\u001b[0m\u001b[0m\n\u001b[1;32m      3\u001b[0m \u001b[0;34m\u001b[0m\u001b[0m\n\u001b[0;32m----> 4\u001b[0;31m \u001b[0many\u001b[0m\u001b[0;34m(\u001b[0m\u001b[0mx\u001b[0m\u001b[0;34m.\u001b[0m\u001b[0mmatches\u001b[0m \u001b[0;32min\u001b[0m \u001b[0ma_string\u001b[0m \u001b[0;32mfor\u001b[0m \u001b[0mx\u001b[0m \u001b[0;32min\u001b[0m \u001b[0mmatches\u001b[0m\u001b[0;34m)\u001b[0m\u001b[0;34m\u001b[0m\u001b[0;34m\u001b[0m\u001b[0m\n\u001b[0m",
      "\u001b[0;32m<ipython-input-42-270638addec7>\u001b[0m in \u001b[0;36m<genexpr>\u001b[0;34m(.0)\u001b[0m\n\u001b[1;32m      2\u001b[0m \u001b[0mmatches\u001b[0m \u001b[0;34m=\u001b[0m \u001b[0;34m[\u001b[0m\u001b[0;34m\"more\"\u001b[0m\u001b[0;34m,\u001b[0m \u001b[0;34m\"wholesome\"\u001b[0m\u001b[0;34m,\u001b[0m \u001b[0;34m\"milk\"\u001b[0m\u001b[0;34m]\u001b[0m\u001b[0;34m\u001b[0m\u001b[0;34m\u001b[0m\u001b[0m\n\u001b[1;32m      3\u001b[0m \u001b[0;34m\u001b[0m\u001b[0m\n\u001b[0;32m----> 4\u001b[0;31m \u001b[0many\u001b[0m\u001b[0;34m(\u001b[0m\u001b[0mx\u001b[0m\u001b[0;34m.\u001b[0m\u001b[0mmatches\u001b[0m \u001b[0;32min\u001b[0m \u001b[0ma_string\u001b[0m \u001b[0;32mfor\u001b[0m \u001b[0mx\u001b[0m \u001b[0;32min\u001b[0m \u001b[0mmatches\u001b[0m\u001b[0;34m)\u001b[0m\u001b[0;34m\u001b[0m\u001b[0;34m\u001b[0m\u001b[0m\n\u001b[0m",
      "\u001b[0;31mAttributeError\u001b[0m: 'str' object has no attribute 'matches'"
     ]
    }
   ],
   "source": [
    "a_string = \"A string is more than its parts!\"\n",
    "matches = [\"more\", \"wholesome\", \"milk\"]\n",
    "\n",
    "any(x in a_string for x in matches)"
   ]
  },
  {
   "cell_type": "code",
   "execution_count": null,
   "metadata": {},
   "outputs": [],
   "source": []
  }
 ]
}