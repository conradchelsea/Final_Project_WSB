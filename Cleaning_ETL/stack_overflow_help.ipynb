{
 "metadata": {
  "language_info": {
   "codemirror_mode": {
    "name": "ipython",
    "version": 3
   },
   "file_extension": ".py",
   "mimetype": "text/x-python",
   "name": "python",
   "nbconvert_exporter": "python",
   "pygments_lexer": "ipython3",
   "version": "3.7.9"
  },
  "orig_nbformat": 2,
  "kernelspec": {
   "name": "python3",
   "display_name": "Python 3",
   "language": "python"
  }
 },
 "nbformat": 4,
 "nbformat_minor": 2,
 "cells": [
  {
   "cell_type": "code",
   "execution_count": 5,
   "metadata": {},
   "outputs": [],
   "source": [
    "import pandas as pd\n",
    "import re\n",
    "import numpy as np"
   ]
  },
  {
   "cell_type": "code",
   "execution_count": 6,
   "metadata": {},
   "outputs": [],
   "source": [
    "post_path = \"../Data/wallstreetbets_posts.csv\"\n",
    "# comment_path = \"../Data/wallstreetbets_comments.csv\"\n",
    "title_path = \"title_df.csv\""
   ]
  },
  {
   "cell_type": "code",
   "execution_count": 9,
   "metadata": {},
   "outputs": [],
   "source": [
    "# comment_df = pd.read_csv(comment_path)\n",
    "# post_df = pd.read_csv(post_path)\n",
    "title_df = pd.read_csv(title_path)"
   ]
  },
  {
   "cell_type": "code",
   "execution_count": 35,
   "metadata": {},
   "outputs": [
    {
     "output_type": "execute_result",
     "data": {
      "text/plain": [
       "        Unnamed: 0                                              title  \\\n",
       "0                0                            Ruled by the Theta Gods   \n",
       "1                1                                 3k and I want more   \n",
       "2                2  Thank you fellow retards and autists! Big ston...   \n",
       "3                3  AZN fair value of $55, price of $50, vaccine c...   \n",
       "4                4                           I wanna be less retarded   \n",
       "...            ...                                                ...   \n",
       "707456      707456  bro this is the most true shit ever and i can’...   \n",
       "707457      707457  Took 5 years of losing on trading shares until...   \n",
       "707458      707458                                                💎 ✋   \n",
       "707459      707459   Was it a dream??!😴 😴 GME opens on Monday up 100%   \n",
       "707460      707460   Trading Plan 2021 - Need your constructive input   \n",
       "\n",
       "       ticker_name  \n",
       "0              NaN  \n",
       "1              NaN  \n",
       "2              NaN  \n",
       "3              NaN  \n",
       "4              NaN  \n",
       "...            ...  \n",
       "707456         NaN  \n",
       "707457         NaN  \n",
       "707458         NaN  \n",
       "707459         NaN  \n",
       "707460         NaN  \n",
       "\n",
       "[707461 rows x 3 columns]"
      ],
      "text/html": "<div>\n<style scoped>\n    .dataframe tbody tr th:only-of-type {\n        vertical-align: middle;\n    }\n\n    .dataframe tbody tr th {\n        vertical-align: top;\n    }\n\n    .dataframe thead th {\n        text-align: right;\n    }\n</style>\n<table border=\"1\" class=\"dataframe\">\n  <thead>\n    <tr style=\"text-align: right;\">\n      <th></th>\n      <th>Unnamed: 0</th>\n      <th>title</th>\n      <th>ticker_name</th>\n    </tr>\n  </thead>\n  <tbody>\n    <tr>\n      <th>0</th>\n      <td>0</td>\n      <td>Ruled by the Theta Gods</td>\n      <td>NaN</td>\n    </tr>\n    <tr>\n      <th>1</th>\n      <td>1</td>\n      <td>3k and I want more</td>\n      <td>NaN</td>\n    </tr>\n    <tr>\n      <th>2</th>\n      <td>2</td>\n      <td>Thank you fellow retards and autists! Big ston...</td>\n      <td>NaN</td>\n    </tr>\n    <tr>\n      <th>3</th>\n      <td>3</td>\n      <td>AZN fair value of $55, price of $50, vaccine c...</td>\n      <td>NaN</td>\n    </tr>\n    <tr>\n      <th>4</th>\n      <td>4</td>\n      <td>I wanna be less retarded</td>\n      <td>NaN</td>\n    </tr>\n    <tr>\n      <th>...</th>\n      <td>...</td>\n      <td>...</td>\n      <td>...</td>\n    </tr>\n    <tr>\n      <th>707456</th>\n      <td>707456</td>\n      <td>bro this is the most true shit ever and i can’...</td>\n      <td>NaN</td>\n    </tr>\n    <tr>\n      <th>707457</th>\n      <td>707457</td>\n      <td>Took 5 years of losing on trading shares until...</td>\n      <td>NaN</td>\n    </tr>\n    <tr>\n      <th>707458</th>\n      <td>707458</td>\n      <td>💎 ✋</td>\n      <td>NaN</td>\n    </tr>\n    <tr>\n      <th>707459</th>\n      <td>707459</td>\n      <td>Was it a dream??!😴 😴 GME opens on Monday up 100%</td>\n      <td>NaN</td>\n    </tr>\n    <tr>\n      <th>707460</th>\n      <td>707460</td>\n      <td>Trading Plan 2021 - Need your constructive input</td>\n      <td>NaN</td>\n    </tr>\n  </tbody>\n</table>\n<p>707461 rows × 3 columns</p>\n</div>"
     },
     "metadata": {},
     "execution_count": 35
    }
   ],
   "source": [
    "title_df"
   ]
  },
  {
   "cell_type": "code",
   "execution_count": 14,
   "metadata": {},
   "outputs": [],
   "source": [
    "ticker_list = pd.read_csv(\"../Data/tickers.csv\")"
   ]
  },
  {
   "cell_type": "code",
   "execution_count": 15,
   "metadata": {},
   "outputs": [
    {
     "output_type": "stream",
     "name": "stdout",
     "text": [
      "1 2 1\n"
     ]
    }
   ],
   "source": [
    "index_title = title_df.columns.get_loc(\"title\")\n",
    "index_ticker_name = title_df.columns.get_loc(\"ticker_name\")\n",
    "index_ticker_list = ticker_list.columns.get_loc(\"Ticker\")\n",
    "print(index_title, index_ticker_name, index_ticker_list)"
   ]
  },
  {
   "cell_type": "code",
   "execution_count": 34,
   "metadata": {},
   "outputs": [
    {
     "output_type": "execute_result",
     "data": {
      "text/plain": [
       "      Unnamed: 0 Ticker\n",
       "0              0   AACG\n",
       "1              1   AACQ\n",
       "2              2  AACQU\n",
       "3              3  AACQW\n",
       "4              4   AAIC\n",
       "...          ...    ...\n",
       "6929        6929  ZWRKW\n",
       "6930        6930   ZYME\n",
       "6931        6931   ZYNE\n",
       "6932        6932   ZYXI\n",
       "6933        6933    SLV\n",
       "\n",
       "[6934 rows x 2 columns]"
      ],
      "text/html": "<div>\n<style scoped>\n    .dataframe tbody tr th:only-of-type {\n        vertical-align: middle;\n    }\n\n    .dataframe tbody tr th {\n        vertical-align: top;\n    }\n\n    .dataframe thead th {\n        text-align: right;\n    }\n</style>\n<table border=\"1\" class=\"dataframe\">\n  <thead>\n    <tr style=\"text-align: right;\">\n      <th></th>\n      <th>Unnamed: 0</th>\n      <th>Ticker</th>\n    </tr>\n  </thead>\n  <tbody>\n    <tr>\n      <th>0</th>\n      <td>0</td>\n      <td>AACG</td>\n    </tr>\n    <tr>\n      <th>1</th>\n      <td>1</td>\n      <td>AACQ</td>\n    </tr>\n    <tr>\n      <th>2</th>\n      <td>2</td>\n      <td>AACQU</td>\n    </tr>\n    <tr>\n      <th>3</th>\n      <td>3</td>\n      <td>AACQW</td>\n    </tr>\n    <tr>\n      <th>4</th>\n      <td>4</td>\n      <td>AAIC</td>\n    </tr>\n    <tr>\n      <th>...</th>\n      <td>...</td>\n      <td>...</td>\n    </tr>\n    <tr>\n      <th>6929</th>\n      <td>6929</td>\n      <td>ZWRKW</td>\n    </tr>\n    <tr>\n      <th>6930</th>\n      <td>6930</td>\n      <td>ZYME</td>\n    </tr>\n    <tr>\n      <th>6931</th>\n      <td>6931</td>\n      <td>ZYNE</td>\n    </tr>\n    <tr>\n      <th>6932</th>\n      <td>6932</td>\n      <td>ZYXI</td>\n    </tr>\n    <tr>\n      <th>6933</th>\n      <td>6933</td>\n      <td>SLV</td>\n    </tr>\n  </tbody>\n</table>\n<p>6934 rows × 2 columns</p>\n</div>"
     },
     "metadata": {},
     "execution_count": 34
    }
   ],
   "source": [
    "ticker_list"
   ]
  },
  {
   "cell_type": "code",
   "execution_count": 16,
   "metadata": {},
   "outputs": [],
   "source": [
    "\n",
    "title_df['title']=title_df['title'].apply(str)"
   ]
  },
  {
   "cell_type": "code",
   "execution_count": 23,
   "metadata": {},
   "outputs": [
    {
     "output_type": "stream",
     "name": "stdout",
     "text": [
      "CAR 9\n",
      "BEPC 22\n",
      "MTL 23\n",
      "BOOM 31\n",
      "CERT 32\n",
      "EV 33\n",
      "FORD 33\n",
      "CD 35\n",
      "PS 35\n",
      "BFT 39\n",
      "GOOD 45\n",
      "PUMP 51\n",
      "PUMP 53\n",
      "GOOD 61\n",
      "GME 64\n",
      "LI 88\n",
      "NIO 88\n",
      "XPEV 88\n",
      "NIO 94\n",
      "WKHS 96\n",
      "CPU times: user 1min 46s, sys: 3.18 s, total: 1min 49s\n",
      "Wall time: 1min 55s\n"
     ]
    }
   ],
   "source": [
    "%%time\n",
    "for row in range(0, 100):\n",
    "    for ticker in ticker_list[\"Ticker\"]:\n",
    "        ticker_name = re.search(rf'\\s({ticker})\\s', title_df.iat[row, index_title], re.IGNORECASE)\n",
    "        if ticker_name is not None:\n",
    "            title_df.iat[row, index_ticker_name] = ticker_name\n",
    "            print(ticker, row)"
   ]
  },
  {
   "cell_type": "code",
   "execution_count": 33,
   "metadata": {},
   "outputs": [
    {
     "output_type": "execute_result",
     "data": {
      "text/plain": [
       "[[],\n",
       " [],\n",
       " [],\n",
       " [],\n",
       " [],\n",
       " [],\n",
       " [],\n",
       " [],\n",
       " [],\n",
       " [],\n",
       " [],\n",
       " [],\n",
       " [],\n",
       " [],\n",
       " [],\n",
       " [],\n",
       " [],\n",
       " [],\n",
       " [],\n",
       " [],\n",
       " [],\n",
       " [],\n",
       " [],\n",
       " [],\n",
       " [],\n",
       " [],\n",
       " [],\n",
       " [],\n",
       " [],\n",
       " [],\n",
       " [],\n",
       " [],\n",
       " [],\n",
       " [],\n",
       " [],\n",
       " [],\n",
       " [],\n",
       " [],\n",
       " [],\n",
       " [],\n",
       " [],\n",
       " [],\n",
       " [],\n",
       " [],\n",
       " [],\n",
       " [],\n",
       " [],\n",
       " [],\n",
       " [],\n",
       " [],\n",
       " [],\n",
       " [],\n",
       " [],\n",
       " [],\n",
       " [],\n",
       " [],\n",
       " [],\n",
       " [],\n",
       " [],\n",
       " [],\n",
       " [],\n",
       " [],\n",
       " [],\n",
       " [],\n",
       " [],\n",
       " [],\n",
       " [],\n",
       " [],\n",
       " [],\n",
       " [],\n",
       " [],\n",
       " [],\n",
       " [],\n",
       " [],\n",
       " [],\n",
       " [],\n",
       " [],\n",
       " [],\n",
       " [],\n",
       " []]"
      ]
     },
     "metadata": {},
     "execution_count": 33
    }
   ],
   "source": [
    "[[ticker for ticker in title if ticker in ticker_list] for title in title_df['title'].str.split()[:80]]"
   ]
  },
  {
   "cell_type": "code",
   "execution_count": null,
   "metadata": {},
   "outputs": [],
   "source": [
    "%%time\n",
    "for row in post_df.itertuples():\n",
    "    for ticker in ticker_list[\"Ticker\"]:\n",
    "        individual_ticker_name = re.search(rf'\\s({ticker})\\s', row.title, re.IGNORECASE)\n",
    "        if individual_ticker_name is not None:\n",
    "            post_df.iloc[row.index][index_ticker_name] = individual_ticker_name"
   ]
  },
  {
   "cell_type": "code",
   "execution_count": 42,
   "metadata": {},
   "outputs": [
    {
     "output_type": "error",
     "ename": "AttributeError",
     "evalue": "'str' object has no attribute 'matches'",
     "traceback": [
      "\u001b[0;31m---------------------------------------------------------------------------\u001b[0m",
      "\u001b[0;31mAttributeError\u001b[0m                            Traceback (most recent call last)",
      "\u001b[0;32m<ipython-input-42-270638addec7>\u001b[0m in \u001b[0;36m<module>\u001b[0;34m\u001b[0m\n\u001b[1;32m      2\u001b[0m \u001b[0mmatches\u001b[0m \u001b[0;34m=\u001b[0m \u001b[0;34m[\u001b[0m\u001b[0;34m\"more\"\u001b[0m\u001b[0;34m,\u001b[0m \u001b[0;34m\"wholesome\"\u001b[0m\u001b[0;34m,\u001b[0m \u001b[0;34m\"milk\"\u001b[0m\u001b[0;34m]\u001b[0m\u001b[0;34m\u001b[0m\u001b[0;34m\u001b[0m\u001b[0m\n\u001b[1;32m      3\u001b[0m \u001b[0;34m\u001b[0m\u001b[0m\n\u001b[0;32m----> 4\u001b[0;31m \u001b[0many\u001b[0m\u001b[0;34m(\u001b[0m\u001b[0mx\u001b[0m\u001b[0;34m.\u001b[0m\u001b[0mmatches\u001b[0m \u001b[0;32min\u001b[0m \u001b[0ma_string\u001b[0m \u001b[0;32mfor\u001b[0m \u001b[0mx\u001b[0m \u001b[0;32min\u001b[0m \u001b[0mmatches\u001b[0m\u001b[0;34m)\u001b[0m\u001b[0;34m\u001b[0m\u001b[0;34m\u001b[0m\u001b[0m\n\u001b[0m",
      "\u001b[0;32m<ipython-input-42-270638addec7>\u001b[0m in \u001b[0;36m<genexpr>\u001b[0;34m(.0)\u001b[0m\n\u001b[1;32m      2\u001b[0m \u001b[0mmatches\u001b[0m \u001b[0;34m=\u001b[0m \u001b[0;34m[\u001b[0m\u001b[0;34m\"more\"\u001b[0m\u001b[0;34m,\u001b[0m \u001b[0;34m\"wholesome\"\u001b[0m\u001b[0;34m,\u001b[0m \u001b[0;34m\"milk\"\u001b[0m\u001b[0;34m]\u001b[0m\u001b[0;34m\u001b[0m\u001b[0;34m\u001b[0m\u001b[0m\n\u001b[1;32m      3\u001b[0m \u001b[0;34m\u001b[0m\u001b[0m\n\u001b[0;32m----> 4\u001b[0;31m \u001b[0many\u001b[0m\u001b[0;34m(\u001b[0m\u001b[0mx\u001b[0m\u001b[0;34m.\u001b[0m\u001b[0mmatches\u001b[0m \u001b[0;32min\u001b[0m \u001b[0ma_string\u001b[0m \u001b[0;32mfor\u001b[0m \u001b[0mx\u001b[0m \u001b[0;32min\u001b[0m \u001b[0mmatches\u001b[0m\u001b[0;34m)\u001b[0m\u001b[0;34m\u001b[0m\u001b[0;34m\u001b[0m\u001b[0m\n\u001b[0m",
      "\u001b[0;31mAttributeError\u001b[0m: 'str' object has no attribute 'matches'"
     ]
    }
   ],
   "source": [
    "a_string = \"A string is more than its parts!\"\n",
    "matches = [\"more\", \"wholesome\", \"milk\"]\n",
    "\n",
    "any(x in a_string for x in matches)"
   ]
  },
  {
   "cell_type": "code",
   "execution_count": null,
   "metadata": {},
   "outputs": [],
   "source": []
  }
 ]
}