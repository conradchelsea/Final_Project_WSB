{
 "cells": [
  {
   "cell_type": "code",
   "execution_count": 21,
   "metadata": {},
   "outputs": [],
   "source": [
    "import re\n",
    "import pandas as pd\n",
    "from datetime import datetime\n",
    "import numpy as np"
   ]
  },
  {
   "cell_type": "code",
   "execution_count": 22,
   "metadata": {},
   "outputs": [],
   "source": [
    "# stonk_df = pd.read_csv('/Users/gregfinin/Class/Final_Project_WSB/stocks_df_final.csv')\n",
    "# stonk_df"
   ]
  },
  {
   "cell_type": "code",
   "execution_count": 23,
   "metadata": {},
   "outputs": [],
   "source": [
    "path = \"s3://wsb-final-project-bucket/kaggle_wsb_posts_12:6-2:6.csv\""
   ]
  },
  {
   "cell_type": "code",
   "execution_count": 24,
   "metadata": {},
   "outputs": [],
   "source": [
    "# df = pd.read_csv(\"path\")\n",
    "df = pd.read_csv(\"../Data/cleaned_wsb_posts.csv\")"
   ]
  },
  {
   "cell_type": "code",
   "execution_count": 25,
   "metadata": {},
   "outputs": [
    {
     "output_type": "execute_result",
     "data": {
      "text/plain": [
       "                                                    title        date_created\n",
       "0                                 Ruled by the Theta Gods 2020-12-14 14:50:30\n",
       "1                                      3k and I want more 2020-12-14 14:50:04\n",
       "2       Thank you fellow retards and autists! Big ston... 2020-12-14 14:49:44\n",
       "3       AZN fair value of $55, price of $50, vaccine c... 2020-12-14 14:48:02\n",
       "4                                I wanna be less retarded 2020-12-14 14:48:00\n",
       "...                                                   ...                 ...\n",
       "649540  bro this is the most true shit ever and i can’... 2020-12-27 18:29:16\n",
       "649541  Took 5 years of losing on trading shares until... 2020-12-27 18:25:02\n",
       "649542                                                💎 ✋ 2020-12-27 18:22:05\n",
       "649543   Was it a dream??!😴 😴 GME opens on Monday up 100% 2020-12-27 18:19:49\n",
       "649544   Trading Plan 2021 - Need your constructive input 2020-12-27 18:19:43\n",
       "\n",
       "[649545 rows x 2 columns]"
      ],
      "text/html": "<div>\n<style scoped>\n    .dataframe tbody tr th:only-of-type {\n        vertical-align: middle;\n    }\n\n    .dataframe tbody tr th {\n        vertical-align: top;\n    }\n\n    .dataframe thead th {\n        text-align: right;\n    }\n</style>\n<table border=\"1\" class=\"dataframe\">\n  <thead>\n    <tr style=\"text-align: right;\">\n      <th></th>\n      <th>title</th>\n      <th>date_created</th>\n    </tr>\n  </thead>\n  <tbody>\n    <tr>\n      <th>0</th>\n      <td>Ruled by the Theta Gods</td>\n      <td>2020-12-14 14:50:30</td>\n    </tr>\n    <tr>\n      <th>1</th>\n      <td>3k and I want more</td>\n      <td>2020-12-14 14:50:04</td>\n    </tr>\n    <tr>\n      <th>2</th>\n      <td>Thank you fellow retards and autists! Big ston...</td>\n      <td>2020-12-14 14:49:44</td>\n    </tr>\n    <tr>\n      <th>3</th>\n      <td>AZN fair value of $55, price of $50, vaccine c...</td>\n      <td>2020-12-14 14:48:02</td>\n    </tr>\n    <tr>\n      <th>4</th>\n      <td>I wanna be less retarded</td>\n      <td>2020-12-14 14:48:00</td>\n    </tr>\n    <tr>\n      <th>...</th>\n      <td>...</td>\n      <td>...</td>\n    </tr>\n    <tr>\n      <th>649540</th>\n      <td>bro this is the most true shit ever and i can’...</td>\n      <td>2020-12-27 18:29:16</td>\n    </tr>\n    <tr>\n      <th>649541</th>\n      <td>Took 5 years of losing on trading shares until...</td>\n      <td>2020-12-27 18:25:02</td>\n    </tr>\n    <tr>\n      <th>649542</th>\n      <td>💎 ✋</td>\n      <td>2020-12-27 18:22:05</td>\n    </tr>\n    <tr>\n      <th>649543</th>\n      <td>Was it a dream??!😴 😴 GME opens on Monday up 100%</td>\n      <td>2020-12-27 18:19:49</td>\n    </tr>\n    <tr>\n      <th>649544</th>\n      <td>Trading Plan 2021 - Need your constructive input</td>\n      <td>2020-12-27 18:19:43</td>\n    </tr>\n  </tbody>\n</table>\n<p>649545 rows × 2 columns</p>\n</div>"
     },
     "metadata": {},
     "execution_count": 25
    }
   ],
   "source": [
    "title_df = pd.DataFrame({\n",
    "    'title': df['title'],\n",
    "    'date_created': pd.to_datetime(df['created_utc'], unit='s')\n",
    "})\n",
    "title_df"
   ]
  },
  {
   "cell_type": "code",
   "execution_count": 26,
   "metadata": {},
   "outputs": [],
   "source": [
    "ticker_tester = ['gme', 'amc', 'bb']"
   ]
  },
  {
   "cell_type": "code",
   "execution_count": 27,
   "metadata": {},
   "outputs": [
    {
     "output_type": "execute_result",
     "data": {
      "text/plain": [
       "(Timestamp('2020-12-08 14:51:38'), Timestamp('2021-02-04 05:42:21'))"
      ]
     },
     "metadata": {},
     "execution_count": 27
    }
   ],
   "source": [
    "title_df['date_created'].min(), title_df['date_created'].max()"
   ]
  },
  {
   "cell_type": "code",
   "execution_count": 28,
   "metadata": {},
   "outputs": [
    {
     "output_type": "error",
     "ename": "NameError",
     "evalue": "name 'da' is not defined",
     "traceback": [
      "\u001b[0;31m---------------------------------------------------------------------------\u001b[0m",
      "\u001b[0;31mNameError\u001b[0m                                 Traceback (most recent call last)",
      "\u001b[0;32m<ipython-input-28-7f3f436bc840>\u001b[0m in \u001b[0;36m<module>\u001b[0;34m\u001b[0m\n\u001b[0;32m----> 1\u001b[0;31m \u001b[0mdate_df\u001b[0m \u001b[0;34m=\u001b[0m \u001b[0mpd\u001b[0m\u001b[0;34m.\u001b[0m\u001b[0mto_datetime\u001b[0m\u001b[0;34m(\u001b[0m\u001b[0mda\u001b[0m\u001b[0;34m,\u001b[0m \u001b[0munit\u001b[0m\u001b[0;34m=\u001b[0m\u001b[0;34m's'\u001b[0m\u001b[0;34m)\u001b[0m\u001b[0;34m\u001b[0m\u001b[0;34m\u001b[0m\u001b[0m\n\u001b[0m\u001b[1;32m      2\u001b[0m \u001b[0mdate_df\u001b[0m\u001b[0;34m\u001b[0m\u001b[0;34m\u001b[0m\u001b[0m\n",
      "\u001b[0;31mNameError\u001b[0m: name 'da' is not defined"
     ]
    }
   ],
   "source": [
    "date_df = pd.to_datetime(da, unit='s')\n",
    "date_df"
   ]
  },
  {
   "cell_type": "code",
   "execution_count": 10,
   "metadata": {},
   "outputs": [],
   "source": [
    "for ticker in ticker_tester:\n",
    "    title_df[ticker] = np.where(title_df['title'].str.lower().str.contains(ticker), 1, 0)"
   ]
  },
  {
   "cell_type": "code",
   "execution_count": 11,
   "metadata": {},
   "outputs": [
    {
     "output_type": "execute_result",
     "data": {
      "text/plain": [
       "                                               title        date_created  gme  \\\n",
       "0                            Ruled by the Theta Gods 2020-12-14 14:50:30    0   \n",
       "1                                 3k and I want more 2020-12-14 14:50:04    0   \n",
       "2  Thank you fellow retards and autists! Big ston... 2020-12-14 14:49:44    0   \n",
       "3  AZN fair value of $55, price of $50, vaccine c... 2020-12-14 14:48:02    0   \n",
       "4                           I wanna be less retarded 2020-12-14 14:48:00    0   \n",
       "\n",
       "   amc  bb  \n",
       "0    0   0  \n",
       "1    0   0  \n",
       "2    0   0  \n",
       "3    0   0  \n",
       "4    0   0  "
      ],
      "text/html": "<div>\n<style scoped>\n    .dataframe tbody tr th:only-of-type {\n        vertical-align: middle;\n    }\n\n    .dataframe tbody tr th {\n        vertical-align: top;\n    }\n\n    .dataframe thead th {\n        text-align: right;\n    }\n</style>\n<table border=\"1\" class=\"dataframe\">\n  <thead>\n    <tr style=\"text-align: right;\">\n      <th></th>\n      <th>title</th>\n      <th>date_created</th>\n      <th>gme</th>\n      <th>amc</th>\n      <th>bb</th>\n    </tr>\n  </thead>\n  <tbody>\n    <tr>\n      <th>0</th>\n      <td>Ruled by the Theta Gods</td>\n      <td>2020-12-14 14:50:30</td>\n      <td>0</td>\n      <td>0</td>\n      <td>0</td>\n    </tr>\n    <tr>\n      <th>1</th>\n      <td>3k and I want more</td>\n      <td>2020-12-14 14:50:04</td>\n      <td>0</td>\n      <td>0</td>\n      <td>0</td>\n    </tr>\n    <tr>\n      <th>2</th>\n      <td>Thank you fellow retards and autists! Big ston...</td>\n      <td>2020-12-14 14:49:44</td>\n      <td>0</td>\n      <td>0</td>\n      <td>0</td>\n    </tr>\n    <tr>\n      <th>3</th>\n      <td>AZN fair value of $55, price of $50, vaccine c...</td>\n      <td>2020-12-14 14:48:02</td>\n      <td>0</td>\n      <td>0</td>\n      <td>0</td>\n    </tr>\n    <tr>\n      <th>4</th>\n      <td>I wanna be less retarded</td>\n      <td>2020-12-14 14:48:00</td>\n      <td>0</td>\n      <td>0</td>\n      <td>0</td>\n    </tr>\n  </tbody>\n</table>\n</div>"
     },
     "metadata": {},
     "execution_count": 11
    }
   ],
   "source": [
    "title_df.head()"
   ]
  },
  {
   "cell_type": "code",
   "execution_count": 12,
   "metadata": {},
   "outputs": [],
   "source": [
    "title_df['gme_count'] = np.where(title_df['gme'] == True, 1, 0)"
   ]
  },
  {
   "cell_type": "code",
   "execution_count": 13,
   "metadata": {},
   "outputs": [
    {
     "output_type": "execute_result",
     "data": {
      "text/plain": [
       "                                               title        date_created  gme  \\\n",
       "0                            Ruled by the Theta Gods 2020-12-14 14:50:30    0   \n",
       "1                                 3k and I want more 2020-12-14 14:50:04    0   \n",
       "2  Thank you fellow retards and autists! Big ston... 2020-12-14 14:49:44    0   \n",
       "3  AZN fair value of $55, price of $50, vaccine c... 2020-12-14 14:48:02    0   \n",
       "4                           I wanna be less retarded 2020-12-14 14:48:00    0   \n",
       "\n",
       "   amc  bb  gme_count  \n",
       "0    0   0          0  \n",
       "1    0   0          0  \n",
       "2    0   0          0  \n",
       "3    0   0          0  \n",
       "4    0   0          0  "
      ],
      "text/html": "<div>\n<style scoped>\n    .dataframe tbody tr th:only-of-type {\n        vertical-align: middle;\n    }\n\n    .dataframe tbody tr th {\n        vertical-align: top;\n    }\n\n    .dataframe thead th {\n        text-align: right;\n    }\n</style>\n<table border=\"1\" class=\"dataframe\">\n  <thead>\n    <tr style=\"text-align: right;\">\n      <th></th>\n      <th>title</th>\n      <th>date_created</th>\n      <th>gme</th>\n      <th>amc</th>\n      <th>bb</th>\n      <th>gme_count</th>\n    </tr>\n  </thead>\n  <tbody>\n    <tr>\n      <th>0</th>\n      <td>Ruled by the Theta Gods</td>\n      <td>2020-12-14 14:50:30</td>\n      <td>0</td>\n      <td>0</td>\n      <td>0</td>\n      <td>0</td>\n    </tr>\n    <tr>\n      <th>1</th>\n      <td>3k and I want more</td>\n      <td>2020-12-14 14:50:04</td>\n      <td>0</td>\n      <td>0</td>\n      <td>0</td>\n      <td>0</td>\n    </tr>\n    <tr>\n      <th>2</th>\n      <td>Thank you fellow retards and autists! Big ston...</td>\n      <td>2020-12-14 14:49:44</td>\n      <td>0</td>\n      <td>0</td>\n      <td>0</td>\n      <td>0</td>\n    </tr>\n    <tr>\n      <th>3</th>\n      <td>AZN fair value of $55, price of $50, vaccine c...</td>\n      <td>2020-12-14 14:48:02</td>\n      <td>0</td>\n      <td>0</td>\n      <td>0</td>\n      <td>0</td>\n    </tr>\n    <tr>\n      <th>4</th>\n      <td>I wanna be less retarded</td>\n      <td>2020-12-14 14:48:00</td>\n      <td>0</td>\n      <td>0</td>\n      <td>0</td>\n      <td>0</td>\n    </tr>\n  </tbody>\n</table>\n</div>"
     },
     "metadata": {},
     "execution_count": 13
    }
   ],
   "source": [
    "title_df.head()"
   ]
  },
  {
   "cell_type": "code",
   "execution_count": 18,
   "metadata": {},
   "outputs": [],
   "source": [
    "title_df['date'] = title_df['date_created'].dt.date"
   ]
  },
  {
   "cell_type": "code",
   "execution_count": 20,
   "metadata": {},
   "outputs": [
    {
     "output_type": "execute_result",
     "data": {
      "text/plain": [
       "              gme    amc    bb\n",
       "date                          \n",
       "2020-12-08     68      0    16\n",
       "2020-12-09    116      1    17\n",
       "2020-12-10     31      3    17\n",
       "2020-12-11     35      0    28\n",
       "2020-12-12     22      2    11\n",
       "2020-12-13     14      0     4\n",
       "2020-12-14     35      4    13\n",
       "2020-12-15     33      5    10\n",
       "2020-12-16     21      1     6\n",
       "2020-12-17     24      2    33\n",
       "2020-12-18     19      0    15\n",
       "2020-12-19     11      1     7\n",
       "2020-12-20     22      0    12\n",
       "2020-12-21     42      2     6\n",
       "2020-12-22    109      2     6\n",
       "2020-12-23    149      3     9\n",
       "2020-12-24     85      1     6\n",
       "2020-12-25     29      0     3\n",
       "2020-12-26     49      2     1\n",
       "2020-12-27     71      0     2\n",
       "2020-12-28    120      1    13\n",
       "2020-12-29    125      4    21\n",
       "2020-12-30    101     12    12\n",
       "2020-12-31    133      3     9\n",
       "2021-01-01     93      3     3\n",
       "2021-01-02     66      1     5\n",
       "2021-01-03     35      2    10\n",
       "2021-01-04    103      2     9\n",
       "2021-01-05     81      0    13\n",
       "2021-01-06     64      5    10\n",
       "2021-01-07     48      1    19\n",
       "2021-01-08     64      1    47\n",
       "2021-01-09     28      0    15\n",
       "2021-01-10     52      0     8\n",
       "2021-01-11    119      5    14\n",
       "2021-01-12     51      6    16\n",
       "2021-01-13    634      5    18\n",
       "2021-01-14    694      6   155\n",
       "2021-01-15    812     53   474\n",
       "2021-01-16    389     20   114\n",
       "2021-01-17    244     24    60\n",
       "2021-01-18    454     18   131\n",
       "2021-01-19    784     80   366\n",
       "2021-01-20    540     39   374\n",
       "2021-01-21    644     16   348\n",
       "2021-01-22   1776    155   663\n",
       "2021-01-23    972     54   319\n",
       "2021-01-24    887     36   207\n",
       "2021-01-25   3643    554  1935\n",
       "2021-01-26   1887    231   923\n",
       "2021-01-27   8805   6315  3230\n",
       "2021-01-28  26393  13967  6705\n",
       "2021-01-29  15373   8134  3396\n",
       "2021-01-30   7939   3802  1199\n",
       "2021-01-31   6274   3034   774\n",
       "2021-02-01  10219   6969  1213\n",
       "2021-02-02  11574   7454   737\n",
       "2021-02-03   4717   2801   358\n",
       "2021-02-04    238     94    15"
      ],
      "text/html": "<div>\n<style scoped>\n    .dataframe tbody tr th:only-of-type {\n        vertical-align: middle;\n    }\n\n    .dataframe tbody tr th {\n        vertical-align: top;\n    }\n\n    .dataframe thead th {\n        text-align: right;\n    }\n</style>\n<table border=\"1\" class=\"dataframe\">\n  <thead>\n    <tr style=\"text-align: right;\">\n      <th></th>\n      <th>gme</th>\n      <th>amc</th>\n      <th>bb</th>\n    </tr>\n    <tr>\n      <th>date</th>\n      <th></th>\n      <th></th>\n      <th></th>\n    </tr>\n  </thead>\n  <tbody>\n    <tr>\n      <th>2020-12-08</th>\n      <td>68</td>\n      <td>0</td>\n      <td>16</td>\n    </tr>\n    <tr>\n      <th>2020-12-09</th>\n      <td>116</td>\n      <td>1</td>\n      <td>17</td>\n    </tr>\n    <tr>\n      <th>2020-12-10</th>\n      <td>31</td>\n      <td>3</td>\n      <td>17</td>\n    </tr>\n    <tr>\n      <th>2020-12-11</th>\n      <td>35</td>\n      <td>0</td>\n      <td>28</td>\n    </tr>\n    <tr>\n      <th>2020-12-12</th>\n      <td>22</td>\n      <td>2</td>\n      <td>11</td>\n    </tr>\n    <tr>\n      <th>2020-12-13</th>\n      <td>14</td>\n      <td>0</td>\n      <td>4</td>\n    </tr>\n    <tr>\n      <th>2020-12-14</th>\n      <td>35</td>\n      <td>4</td>\n      <td>13</td>\n    </tr>\n    <tr>\n      <th>2020-12-15</th>\n      <td>33</td>\n      <td>5</td>\n      <td>10</td>\n    </tr>\n    <tr>\n      <th>2020-12-16</th>\n      <td>21</td>\n      <td>1</td>\n      <td>6</td>\n    </tr>\n    <tr>\n      <th>2020-12-17</th>\n      <td>24</td>\n      <td>2</td>\n      <td>33</td>\n    </tr>\n    <tr>\n      <th>2020-12-18</th>\n      <td>19</td>\n      <td>0</td>\n      <td>15</td>\n    </tr>\n    <tr>\n      <th>2020-12-19</th>\n      <td>11</td>\n      <td>1</td>\n      <td>7</td>\n    </tr>\n    <tr>\n      <th>2020-12-20</th>\n      <td>22</td>\n      <td>0</td>\n      <td>12</td>\n    </tr>\n    <tr>\n      <th>2020-12-21</th>\n      <td>42</td>\n      <td>2</td>\n      <td>6</td>\n    </tr>\n    <tr>\n      <th>2020-12-22</th>\n      <td>109</td>\n      <td>2</td>\n      <td>6</td>\n    </tr>\n    <tr>\n      <th>2020-12-23</th>\n      <td>149</td>\n      <td>3</td>\n      <td>9</td>\n    </tr>\n    <tr>\n      <th>2020-12-24</th>\n      <td>85</td>\n      <td>1</td>\n      <td>6</td>\n    </tr>\n    <tr>\n      <th>2020-12-25</th>\n      <td>29</td>\n      <td>0</td>\n      <td>3</td>\n    </tr>\n    <tr>\n      <th>2020-12-26</th>\n      <td>49</td>\n      <td>2</td>\n      <td>1</td>\n    </tr>\n    <tr>\n      <th>2020-12-27</th>\n      <td>71</td>\n      <td>0</td>\n      <td>2</td>\n    </tr>\n    <tr>\n      <th>2020-12-28</th>\n      <td>120</td>\n      <td>1</td>\n      <td>13</td>\n    </tr>\n    <tr>\n      <th>2020-12-29</th>\n      <td>125</td>\n      <td>4</td>\n      <td>21</td>\n    </tr>\n    <tr>\n      <th>2020-12-30</th>\n      <td>101</td>\n      <td>12</td>\n      <td>12</td>\n    </tr>\n    <tr>\n      <th>2020-12-31</th>\n      <td>133</td>\n      <td>3</td>\n      <td>9</td>\n    </tr>\n    <tr>\n      <th>2021-01-01</th>\n      <td>93</td>\n      <td>3</td>\n      <td>3</td>\n    </tr>\n    <tr>\n      <th>2021-01-02</th>\n      <td>66</td>\n      <td>1</td>\n      <td>5</td>\n    </tr>\n    <tr>\n      <th>2021-01-03</th>\n      <td>35</td>\n      <td>2</td>\n      <td>10</td>\n    </tr>\n    <tr>\n      <th>2021-01-04</th>\n      <td>103</td>\n      <td>2</td>\n      <td>9</td>\n    </tr>\n    <tr>\n      <th>2021-01-05</th>\n      <td>81</td>\n      <td>0</td>\n      <td>13</td>\n    </tr>\n    <tr>\n      <th>2021-01-06</th>\n      <td>64</td>\n      <td>5</td>\n      <td>10</td>\n    </tr>\n    <tr>\n      <th>2021-01-07</th>\n      <td>48</td>\n      <td>1</td>\n      <td>19</td>\n    </tr>\n    <tr>\n      <th>2021-01-08</th>\n      <td>64</td>\n      <td>1</td>\n      <td>47</td>\n    </tr>\n    <tr>\n      <th>2021-01-09</th>\n      <td>28</td>\n      <td>0</td>\n      <td>15</td>\n    </tr>\n    <tr>\n      <th>2021-01-10</th>\n      <td>52</td>\n      <td>0</td>\n      <td>8</td>\n    </tr>\n    <tr>\n      <th>2021-01-11</th>\n      <td>119</td>\n      <td>5</td>\n      <td>14</td>\n    </tr>\n    <tr>\n      <th>2021-01-12</th>\n      <td>51</td>\n      <td>6</td>\n      <td>16</td>\n    </tr>\n    <tr>\n      <th>2021-01-13</th>\n      <td>634</td>\n      <td>5</td>\n      <td>18</td>\n    </tr>\n    <tr>\n      <th>2021-01-14</th>\n      <td>694</td>\n      <td>6</td>\n      <td>155</td>\n    </tr>\n    <tr>\n      <th>2021-01-15</th>\n      <td>812</td>\n      <td>53</td>\n      <td>474</td>\n    </tr>\n    <tr>\n      <th>2021-01-16</th>\n      <td>389</td>\n      <td>20</td>\n      <td>114</td>\n    </tr>\n    <tr>\n      <th>2021-01-17</th>\n      <td>244</td>\n      <td>24</td>\n      <td>60</td>\n    </tr>\n    <tr>\n      <th>2021-01-18</th>\n      <td>454</td>\n      <td>18</td>\n      <td>131</td>\n    </tr>\n    <tr>\n      <th>2021-01-19</th>\n      <td>784</td>\n      <td>80</td>\n      <td>366</td>\n    </tr>\n    <tr>\n      <th>2021-01-20</th>\n      <td>540</td>\n      <td>39</td>\n      <td>374</td>\n    </tr>\n    <tr>\n      <th>2021-01-21</th>\n      <td>644</td>\n      <td>16</td>\n      <td>348</td>\n    </tr>\n    <tr>\n      <th>2021-01-22</th>\n      <td>1776</td>\n      <td>155</td>\n      <td>663</td>\n    </tr>\n    <tr>\n      <th>2021-01-23</th>\n      <td>972</td>\n      <td>54</td>\n      <td>319</td>\n    </tr>\n    <tr>\n      <th>2021-01-24</th>\n      <td>887</td>\n      <td>36</td>\n      <td>207</td>\n    </tr>\n    <tr>\n      <th>2021-01-25</th>\n      <td>3643</td>\n      <td>554</td>\n      <td>1935</td>\n    </tr>\n    <tr>\n      <th>2021-01-26</th>\n      <td>1887</td>\n      <td>231</td>\n      <td>923</td>\n    </tr>\n    <tr>\n      <th>2021-01-27</th>\n      <td>8805</td>\n      <td>6315</td>\n      <td>3230</td>\n    </tr>\n    <tr>\n      <th>2021-01-28</th>\n      <td>26393</td>\n      <td>13967</td>\n      <td>6705</td>\n    </tr>\n    <tr>\n      <th>2021-01-29</th>\n      <td>15373</td>\n      <td>8134</td>\n      <td>3396</td>\n    </tr>\n    <tr>\n      <th>2021-01-30</th>\n      <td>7939</td>\n      <td>3802</td>\n      <td>1199</td>\n    </tr>\n    <tr>\n      <th>2021-01-31</th>\n      <td>6274</td>\n      <td>3034</td>\n      <td>774</td>\n    </tr>\n    <tr>\n      <th>2021-02-01</th>\n      <td>10219</td>\n      <td>6969</td>\n      <td>1213</td>\n    </tr>\n    <tr>\n      <th>2021-02-02</th>\n      <td>11574</td>\n      <td>7454</td>\n      <td>737</td>\n    </tr>\n    <tr>\n      <th>2021-02-03</th>\n      <td>4717</td>\n      <td>2801</td>\n      <td>358</td>\n    </tr>\n    <tr>\n      <th>2021-02-04</th>\n      <td>238</td>\n      <td>94</td>\n      <td>15</td>\n    </tr>\n  </tbody>\n</table>\n</div>"
     },
     "metadata": {},
     "execution_count": 20
    }
   ],
   "source": [
    "agg_df = title_df.groupby('date')[ticker_tester].sum()\n",
    "agg_df"
   ]
  },
  {
   "cell_type": "code",
   "execution_count": null,
   "metadata": {},
   "outputs": [],
   "source": []
  }
 ],
 "metadata": {
  "kernelspec": {
   "display_name": "mlenv",
   "language": "python",
   "name": "mlenv"
  },
  "language_info": {
   "codemirror_mode": {
    "name": "ipython",
    "version": 3
   },
   "file_extension": ".py",
   "mimetype": "text/x-python",
   "name": "python",
   "nbconvert_exporter": "python",
   "pygments_lexer": "ipython3",
   "version": "3.7.9-final"
  }
 },
 "nbformat": 4,
 "nbformat_minor": 4
}