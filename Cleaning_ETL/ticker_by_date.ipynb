{
 "cells": [
  {
   "cell_type": "code",
   "execution_count": 24,
   "metadata": {},
   "outputs": [],
   "source": [
    "import re\n",
    "import pandas as pd\n",
    "from datetime import datetime\n",
    "import numpy as np"
   ]
  },
  {
   "cell_type": "code",
   "execution_count": 4,
   "metadata": {},
   "outputs": [
    {
     "output_type": "execute_result",
     "data": {
      "text/plain": [
       "     Ticker Name  Ticker Count\n",
       "0             AA            20\n",
       "1           AACG             0\n",
       "2           AACQ             0\n",
       "3          AACQU             0\n",
       "4          AACQW             0\n",
       "...          ...           ...\n",
       "6930       ZWRKW             0\n",
       "6931        ZYME             1\n",
       "6932        ZYNE             2\n",
       "6933        ZYXI             1\n",
       "6934         SLV           862\n",
       "\n",
       "[6935 rows x 2 columns]"
      ],
      "text/html": "<div>\n<style scoped>\n    .dataframe tbody tr th:only-of-type {\n        vertical-align: middle;\n    }\n\n    .dataframe tbody tr th {\n        vertical-align: top;\n    }\n\n    .dataframe thead th {\n        text-align: right;\n    }\n</style>\n<table border=\"1\" class=\"dataframe\">\n  <thead>\n    <tr style=\"text-align: right;\">\n      <th></th>\n      <th>Ticker Name</th>\n      <th>Ticker Count</th>\n    </tr>\n  </thead>\n  <tbody>\n    <tr>\n      <th>0</th>\n      <td>AA</td>\n      <td>20</td>\n    </tr>\n    <tr>\n      <th>1</th>\n      <td>AACG</td>\n      <td>0</td>\n    </tr>\n    <tr>\n      <th>2</th>\n      <td>AACQ</td>\n      <td>0</td>\n    </tr>\n    <tr>\n      <th>3</th>\n      <td>AACQU</td>\n      <td>0</td>\n    </tr>\n    <tr>\n      <th>4</th>\n      <td>AACQW</td>\n      <td>0</td>\n    </tr>\n    <tr>\n      <th>...</th>\n      <td>...</td>\n      <td>...</td>\n    </tr>\n    <tr>\n      <th>6930</th>\n      <td>ZWRKW</td>\n      <td>0</td>\n    </tr>\n    <tr>\n      <th>6931</th>\n      <td>ZYME</td>\n      <td>1</td>\n    </tr>\n    <tr>\n      <th>6932</th>\n      <td>ZYNE</td>\n      <td>2</td>\n    </tr>\n    <tr>\n      <th>6933</th>\n      <td>ZYXI</td>\n      <td>1</td>\n    </tr>\n    <tr>\n      <th>6934</th>\n      <td>SLV</td>\n      <td>862</td>\n    </tr>\n  </tbody>\n</table>\n<p>6935 rows × 2 columns</p>\n</div>"
     },
     "metadata": {},
     "execution_count": 4
    }
   ],
   "source": [
    "stonk_df = pd.read_csv('/Users/gregfinin/Class/Final_Project_WSB/stocks_df_final.csv')\n",
    "stonk_df"
   ]
  },
  {
   "cell_type": "code",
   "execution_count": 5,
   "metadata": {},
   "outputs": [],
   "source": [
    "path = \"s3://wsb-final-project-bucket/kaggle_wsb_posts_12:6-2:6.csv\""
   ]
  },
  {
   "cell_type": "code",
   "execution_count": 6,
   "metadata": {},
   "outputs": [],
   "source": [
    "df = pd.read_csv(path)"
   ]
  },
  {
   "cell_type": "code",
   "execution_count": 20,
   "metadata": {},
   "outputs": [
    {
     "output_type": "execute_result",
     "data": {
      "text/plain": [
       "                                                    title        date_created\n",
       "0                                 Ruled by the Theta Gods 2020-12-14 14:50:30\n",
       "1                                      3k and I want more 2020-12-14 14:50:04\n",
       "2       Thank you fellow retards and autists! Big ston... 2020-12-14 14:49:44\n",
       "3       AZN fair value of $55, price of $50, vaccine c... 2020-12-14 14:48:02\n",
       "4                                I wanna be less retarded 2020-12-14 14:48:00\n",
       "...                                                   ...                 ...\n",
       "707456  bro this is the most true shit ever and i can’... 2020-12-27 18:29:16\n",
       "707457  Took 5 years of losing on trading shares until... 2020-12-27 18:25:02\n",
       "707458                                                💎 ✋ 2020-12-27 18:22:05\n",
       "707459   Was it a dream??!😴 😴 GME opens on Monday up 100% 2020-12-27 18:19:49\n",
       "707460   Trading Plan 2021 - Need your constructive input 2020-12-27 18:19:43\n",
       "\n",
       "[707461 rows x 2 columns]"
      ],
      "text/html": "<div>\n<style scoped>\n    .dataframe tbody tr th:only-of-type {\n        vertical-align: middle;\n    }\n\n    .dataframe tbody tr th {\n        vertical-align: top;\n    }\n\n    .dataframe thead th {\n        text-align: right;\n    }\n</style>\n<table border=\"1\" class=\"dataframe\">\n  <thead>\n    <tr style=\"text-align: right;\">\n      <th></th>\n      <th>title</th>\n      <th>date_created</th>\n    </tr>\n  </thead>\n  <tbody>\n    <tr>\n      <th>0</th>\n      <td>Ruled by the Theta Gods</td>\n      <td>2020-12-14 14:50:30</td>\n    </tr>\n    <tr>\n      <th>1</th>\n      <td>3k and I want more</td>\n      <td>2020-12-14 14:50:04</td>\n    </tr>\n    <tr>\n      <th>2</th>\n      <td>Thank you fellow retards and autists! Big ston...</td>\n      <td>2020-12-14 14:49:44</td>\n    </tr>\n    <tr>\n      <th>3</th>\n      <td>AZN fair value of $55, price of $50, vaccine c...</td>\n      <td>2020-12-14 14:48:02</td>\n    </tr>\n    <tr>\n      <th>4</th>\n      <td>I wanna be less retarded</td>\n      <td>2020-12-14 14:48:00</td>\n    </tr>\n    <tr>\n      <th>...</th>\n      <td>...</td>\n      <td>...</td>\n    </tr>\n    <tr>\n      <th>707456</th>\n      <td>bro this is the most true shit ever and i can’...</td>\n      <td>2020-12-27 18:29:16</td>\n    </tr>\n    <tr>\n      <th>707457</th>\n      <td>Took 5 years of losing on trading shares until...</td>\n      <td>2020-12-27 18:25:02</td>\n    </tr>\n    <tr>\n      <th>707458</th>\n      <td>💎 ✋</td>\n      <td>2020-12-27 18:22:05</td>\n    </tr>\n    <tr>\n      <th>707459</th>\n      <td>Was it a dream??!😴 😴 GME opens on Monday up 100%</td>\n      <td>2020-12-27 18:19:49</td>\n    </tr>\n    <tr>\n      <th>707460</th>\n      <td>Trading Plan 2021 - Need your constructive input</td>\n      <td>2020-12-27 18:19:43</td>\n    </tr>\n  </tbody>\n</table>\n<p>707461 rows × 2 columns</p>\n</div>"
     },
     "metadata": {},
     "execution_count": 20
    }
   ],
   "source": [
    "title_df = pd.DataFrame({\n",
    "    'title': df['title'],\n",
    "    'date_created': pd.to_datetime(df['created_utc'], unit='s')\n",
    "})\n",
    "title_df"
   ]
  },
  {
   "cell_type": "code",
   "execution_count": 8,
   "metadata": {},
   "outputs": [],
   "source": [
    "ticker_tester = ['gme', 'amc', 'bb']"
   ]
  },
  {
   "cell_type": "code",
   "execution_count": 21,
   "metadata": {},
   "outputs": [
    {
     "output_type": "execute_result",
     "data": {
      "text/plain": [
       "(Timestamp('2020-12-08 14:51:38'), Timestamp('2021-02-04 05:42:21'))"
      ]
     },
     "metadata": {},
     "execution_count": 21
    }
   ],
   "source": [
    "title_df['date_created'].min(), title_df['date_created'].max()"
   ]
  },
  {
   "cell_type": "code",
   "execution_count": 16,
   "metadata": {},
   "outputs": [
    {
     "output_type": "error",
     "ename": "NameError",
     "evalue": "name 'da' is not defined",
     "traceback": [
      "\u001b[0;31m---------------------------------------------------------------------------\u001b[0m",
      "\u001b[0;31mNameError\u001b[0m                                 Traceback (most recent call last)",
      "\u001b[0;32m<ipython-input-16-7f3f436bc840>\u001b[0m in \u001b[0;36m<module>\u001b[0;34m\u001b[0m\n\u001b[0;32m----> 1\u001b[0;31m \u001b[0mdate_df\u001b[0m \u001b[0;34m=\u001b[0m \u001b[0mpd\u001b[0m\u001b[0;34m.\u001b[0m\u001b[0mto_datetime\u001b[0m\u001b[0;34m(\u001b[0m\u001b[0mda\u001b[0m\u001b[0;34m,\u001b[0m \u001b[0munit\u001b[0m\u001b[0;34m=\u001b[0m\u001b[0;34m's'\u001b[0m\u001b[0;34m)\u001b[0m\u001b[0;34m\u001b[0m\u001b[0;34m\u001b[0m\u001b[0m\n\u001b[0m\u001b[1;32m      2\u001b[0m \u001b[0mdate_df\u001b[0m\u001b[0;34m\u001b[0m\u001b[0;34m\u001b[0m\u001b[0m\n",
      "\u001b[0;31mNameError\u001b[0m: name 'da' is not defined"
     ]
    }
   ],
   "source": [
    "date_df = pd.to_datetime(da, unit='s')\n",
    "date_df"
   ]
  },
  {
   "cell_type": "code",
   "execution_count": 30,
   "metadata": {},
   "outputs": [],
   "source": [
    "for ticker in ticker_tester:\n",
    "    title_df[ticker] = np.where(title_df['title'].str.lower().str.contains(ticker), 1, 0)"
   ]
  },
  {
   "cell_type": "code",
   "execution_count": 23,
   "metadata": {},
   "outputs": [
    {
     "output_type": "execute_result",
     "data": {
      "text/plain": [
       "                                               title        date_created  \\\n",
       "0                            Ruled by the Theta Gods 2020-12-14 14:50:30   \n",
       "1                                 3k and I want more 2020-12-14 14:50:04   \n",
       "2  Thank you fellow retards and autists! Big ston... 2020-12-14 14:49:44   \n",
       "3  AZN fair value of $55, price of $50, vaccine c... 2020-12-14 14:48:02   \n",
       "4                           I wanna be less retarded 2020-12-14 14:48:00   \n",
       "\n",
       "     gme    amc     bb  \n",
       "0  False  False  False  \n",
       "1  False  False  False  \n",
       "2  False  False  False  \n",
       "3  False  False  False  \n",
       "4  False  False  False  "
      ],
      "text/html": "<div>\n<style scoped>\n    .dataframe tbody tr th:only-of-type {\n        vertical-align: middle;\n    }\n\n    .dataframe tbody tr th {\n        vertical-align: top;\n    }\n\n    .dataframe thead th {\n        text-align: right;\n    }\n</style>\n<table border=\"1\" class=\"dataframe\">\n  <thead>\n    <tr style=\"text-align: right;\">\n      <th></th>\n      <th>title</th>\n      <th>date_created</th>\n      <th>gme</th>\n      <th>amc</th>\n      <th>bb</th>\n    </tr>\n  </thead>\n  <tbody>\n    <tr>\n      <th>0</th>\n      <td>Ruled by the Theta Gods</td>\n      <td>2020-12-14 14:50:30</td>\n      <td>False</td>\n      <td>False</td>\n      <td>False</td>\n    </tr>\n    <tr>\n      <th>1</th>\n      <td>3k and I want more</td>\n      <td>2020-12-14 14:50:04</td>\n      <td>False</td>\n      <td>False</td>\n      <td>False</td>\n    </tr>\n    <tr>\n      <th>2</th>\n      <td>Thank you fellow retards and autists! Big ston...</td>\n      <td>2020-12-14 14:49:44</td>\n      <td>False</td>\n      <td>False</td>\n      <td>False</td>\n    </tr>\n    <tr>\n      <th>3</th>\n      <td>AZN fair value of $55, price of $50, vaccine c...</td>\n      <td>2020-12-14 14:48:02</td>\n      <td>False</td>\n      <td>False</td>\n      <td>False</td>\n    </tr>\n    <tr>\n      <th>4</th>\n      <td>I wanna be less retarded</td>\n      <td>2020-12-14 14:48:00</td>\n      <td>False</td>\n      <td>False</td>\n      <td>False</td>\n    </tr>\n  </tbody>\n</table>\n</div>"
     },
     "metadata": {},
     "execution_count": 23
    }
   ],
   "source": [
    "title_df.head()"
   ]
  },
  {
   "cell_type": "code",
   "execution_count": 25,
   "metadata": {},
   "outputs": [],
   "source": [
    "title_df['gme_count'] = np.where(title_df['gme'] == True, 1, 0)"
   ]
  },
  {
   "cell_type": "code",
   "execution_count": 26,
   "metadata": {},
   "outputs": [
    {
     "output_type": "execute_result",
     "data": {
      "text/plain": [
       "                                               title        date_created  \\\n",
       "0                            Ruled by the Theta Gods 2020-12-14 14:50:30   \n",
       "1                                 3k and I want more 2020-12-14 14:50:04   \n",
       "2  Thank you fellow retards and autists! Big ston... 2020-12-14 14:49:44   \n",
       "3  AZN fair value of $55, price of $50, vaccine c... 2020-12-14 14:48:02   \n",
       "4                           I wanna be less retarded 2020-12-14 14:48:00   \n",
       "\n",
       "     gme    amc     bb  gme_count  \n",
       "0  False  False  False          0  \n",
       "1  False  False  False          0  \n",
       "2  False  False  False          0  \n",
       "3  False  False  False          0  \n",
       "4  False  False  False          0  "
      ],
      "text/html": "<div>\n<style scoped>\n    .dataframe tbody tr th:only-of-type {\n        vertical-align: middle;\n    }\n\n    .dataframe tbody tr th {\n        vertical-align: top;\n    }\n\n    .dataframe thead th {\n        text-align: right;\n    }\n</style>\n<table border=\"1\" class=\"dataframe\">\n  <thead>\n    <tr style=\"text-align: right;\">\n      <th></th>\n      <th>title</th>\n      <th>date_created</th>\n      <th>gme</th>\n      <th>amc</th>\n      <th>bb</th>\n      <th>gme_count</th>\n    </tr>\n  </thead>\n  <tbody>\n    <tr>\n      <th>0</th>\n      <td>Ruled by the Theta Gods</td>\n      <td>2020-12-14 14:50:30</td>\n      <td>False</td>\n      <td>False</td>\n      <td>False</td>\n      <td>0</td>\n    </tr>\n    <tr>\n      <th>1</th>\n      <td>3k and I want more</td>\n      <td>2020-12-14 14:50:04</td>\n      <td>False</td>\n      <td>False</td>\n      <td>False</td>\n      <td>0</td>\n    </tr>\n    <tr>\n      <th>2</th>\n      <td>Thank you fellow retards and autists! Big ston...</td>\n      <td>2020-12-14 14:49:44</td>\n      <td>False</td>\n      <td>False</td>\n      <td>False</td>\n      <td>0</td>\n    </tr>\n    <tr>\n      <th>3</th>\n      <td>AZN fair value of $55, price of $50, vaccine c...</td>\n      <td>2020-12-14 14:48:02</td>\n      <td>False</td>\n      <td>False</td>\n      <td>False</td>\n      <td>0</td>\n    </tr>\n    <tr>\n      <th>4</th>\n      <td>I wanna be less retarded</td>\n      <td>2020-12-14 14:48:00</td>\n      <td>False</td>\n      <td>False</td>\n      <td>False</td>\n      <td>0</td>\n    </tr>\n  </tbody>\n</table>\n</div>"
     },
     "metadata": {},
     "execution_count": 26
    }
   ],
   "source": [
    "title_df.head()"
   ]
  },
  {
   "cell_type": "code",
   "execution_count": 31,
   "metadata": {},
   "outputs": [
    {
     "output_type": "execute_result",
     "data": {
      "text/plain": [
       "              gme    amc    bb\n",
       "date                          \n",
       "2020-12-08     68      0    16\n",
       "2020-12-09    116      1    17\n",
       "2020-12-10     31      3    17\n",
       "2020-12-11     35      0    28\n",
       "2020-12-12     22      2    11\n",
       "2020-12-13     14      0     4\n",
       "2020-12-14     35      4    13\n",
       "2020-12-15     33      5    10\n",
       "2020-12-16     21      1     8\n",
       "2020-12-17     28      4    34\n",
       "2020-12-18     24      1    19\n",
       "2020-12-19     16      2     7\n",
       "2020-12-20     22      0    12\n",
       "2020-12-21     42      2     6\n",
       "2020-12-22    109      2     6\n",
       "2020-12-23    151      3     9\n",
       "2020-12-24     85      1     6\n",
       "2020-12-25     29      0     3\n",
       "2020-12-26     49      2     1\n",
       "2020-12-27     71      0     2\n",
       "2020-12-28    121      1    13\n",
       "2020-12-29    125      4    21\n",
       "2020-12-30    102     12    12\n",
       "2020-12-31    134      3     9\n",
       "2021-01-01     93      3     3\n",
       "2021-01-02     66      1     5\n",
       "2021-01-03     35      2    10\n",
       "2021-01-04    103      2     9\n",
       "2021-01-05     81      0    13\n",
       "2021-01-06     69      5    11\n",
       "2021-01-07     53      1    19\n",
       "2021-01-08     70      1    51\n",
       "2021-01-09     31      0    17\n",
       "2021-01-10     54      0     8\n",
       "2021-01-11    129      5    15\n",
       "2021-01-12     58      6    19\n",
       "2021-01-13    718      5    20\n",
       "2021-01-14    802      6   190\n",
       "2021-01-15    908     63   517\n",
       "2021-01-16    415     20   124\n",
       "2021-01-17    250     24    60\n",
       "2021-01-18    455     18   133\n",
       "2021-01-19    828     86   410\n",
       "2021-01-20    593     39   416\n",
       "2021-01-21    677     16   383\n",
       "2021-01-22   1779    155   664\n",
       "2021-01-23    973     54   319\n",
       "2021-01-24    890     36   209\n",
       "2021-01-25   3653    554  1938\n",
       "2021-01-26   1896    233   925\n",
       "2021-01-27   9382   6554  3379\n",
       "2021-01-28  27482  14250  6893\n",
       "2021-01-29  15431   8157  3413\n",
       "2021-01-30   8177   3870  1214\n",
       "2021-01-31   7478   3363   887\n",
       "2021-02-01  13198   8200  1503\n",
       "2021-02-02  14570   8670   899\n",
       "2021-02-03   5948   3206   430\n",
       "2021-02-04    305    112    24"
      ],
      "text/html": "<div>\n<style scoped>\n    .dataframe tbody tr th:only-of-type {\n        vertical-align: middle;\n    }\n\n    .dataframe tbody tr th {\n        vertical-align: top;\n    }\n\n    .dataframe thead th {\n        text-align: right;\n    }\n</style>\n<table border=\"1\" class=\"dataframe\">\n  <thead>\n    <tr style=\"text-align: right;\">\n      <th></th>\n      <th>gme</th>\n      <th>amc</th>\n      <th>bb</th>\n    </tr>\n    <tr>\n      <th>date</th>\n      <th></th>\n      <th></th>\n      <th></th>\n    </tr>\n  </thead>\n  <tbody>\n    <tr>\n      <th>2020-12-08</th>\n      <td>68</td>\n      <td>0</td>\n      <td>16</td>\n    </tr>\n    <tr>\n      <th>2020-12-09</th>\n      <td>116</td>\n      <td>1</td>\n      <td>17</td>\n    </tr>\n    <tr>\n      <th>2020-12-10</th>\n      <td>31</td>\n      <td>3</td>\n      <td>17</td>\n    </tr>\n    <tr>\n      <th>2020-12-11</th>\n      <td>35</td>\n      <td>0</td>\n      <td>28</td>\n    </tr>\n    <tr>\n      <th>2020-12-12</th>\n      <td>22</td>\n      <td>2</td>\n      <td>11</td>\n    </tr>\n    <tr>\n      <th>2020-12-13</th>\n      <td>14</td>\n      <td>0</td>\n      <td>4</td>\n    </tr>\n    <tr>\n      <th>2020-12-14</th>\n      <td>35</td>\n      <td>4</td>\n      <td>13</td>\n    </tr>\n    <tr>\n      <th>2020-12-15</th>\n      <td>33</td>\n      <td>5</td>\n      <td>10</td>\n    </tr>\n    <tr>\n      <th>2020-12-16</th>\n      <td>21</td>\n      <td>1</td>\n      <td>8</td>\n    </tr>\n    <tr>\n      <th>2020-12-17</th>\n      <td>28</td>\n      <td>4</td>\n      <td>34</td>\n    </tr>\n    <tr>\n      <th>2020-12-18</th>\n      <td>24</td>\n      <td>1</td>\n      <td>19</td>\n    </tr>\n    <tr>\n      <th>2020-12-19</th>\n      <td>16</td>\n      <td>2</td>\n      <td>7</td>\n    </tr>\n    <tr>\n      <th>2020-12-20</th>\n      <td>22</td>\n      <td>0</td>\n      <td>12</td>\n    </tr>\n    <tr>\n      <th>2020-12-21</th>\n      <td>42</td>\n      <td>2</td>\n      <td>6</td>\n    </tr>\n    <tr>\n      <th>2020-12-22</th>\n      <td>109</td>\n      <td>2</td>\n      <td>6</td>\n    </tr>\n    <tr>\n      <th>2020-12-23</th>\n      <td>151</td>\n      <td>3</td>\n      <td>9</td>\n    </tr>\n    <tr>\n      <th>2020-12-24</th>\n      <td>85</td>\n      <td>1</td>\n      <td>6</td>\n    </tr>\n    <tr>\n      <th>2020-12-25</th>\n      <td>29</td>\n      <td>0</td>\n      <td>3</td>\n    </tr>\n    <tr>\n      <th>2020-12-26</th>\n      <td>49</td>\n      <td>2</td>\n      <td>1</td>\n    </tr>\n    <tr>\n      <th>2020-12-27</th>\n      <td>71</td>\n      <td>0</td>\n      <td>2</td>\n    </tr>\n    <tr>\n      <th>2020-12-28</th>\n      <td>121</td>\n      <td>1</td>\n      <td>13</td>\n    </tr>\n    <tr>\n      <th>2020-12-29</th>\n      <td>125</td>\n      <td>4</td>\n      <td>21</td>\n    </tr>\n    <tr>\n      <th>2020-12-30</th>\n      <td>102</td>\n      <td>12</td>\n      <td>12</td>\n    </tr>\n    <tr>\n      <th>2020-12-31</th>\n      <td>134</td>\n      <td>3</td>\n      <td>9</td>\n    </tr>\n    <tr>\n      <th>2021-01-01</th>\n      <td>93</td>\n      <td>3</td>\n      <td>3</td>\n    </tr>\n    <tr>\n      <th>2021-01-02</th>\n      <td>66</td>\n      <td>1</td>\n      <td>5</td>\n    </tr>\n    <tr>\n      <th>2021-01-03</th>\n      <td>35</td>\n      <td>2</td>\n      <td>10</td>\n    </tr>\n    <tr>\n      <th>2021-01-04</th>\n      <td>103</td>\n      <td>2</td>\n      <td>9</td>\n    </tr>\n    <tr>\n      <th>2021-01-05</th>\n      <td>81</td>\n      <td>0</td>\n      <td>13</td>\n    </tr>\n    <tr>\n      <th>2021-01-06</th>\n      <td>69</td>\n      <td>5</td>\n      <td>11</td>\n    </tr>\n    <tr>\n      <th>2021-01-07</th>\n      <td>53</td>\n      <td>1</td>\n      <td>19</td>\n    </tr>\n    <tr>\n      <th>2021-01-08</th>\n      <td>70</td>\n      <td>1</td>\n      <td>51</td>\n    </tr>\n    <tr>\n      <th>2021-01-09</th>\n      <td>31</td>\n      <td>0</td>\n      <td>17</td>\n    </tr>\n    <tr>\n      <th>2021-01-10</th>\n      <td>54</td>\n      <td>0</td>\n      <td>8</td>\n    </tr>\n    <tr>\n      <th>2021-01-11</th>\n      <td>129</td>\n      <td>5</td>\n      <td>15</td>\n    </tr>\n    <tr>\n      <th>2021-01-12</th>\n      <td>58</td>\n      <td>6</td>\n      <td>19</td>\n    </tr>\n    <tr>\n      <th>2021-01-13</th>\n      <td>718</td>\n      <td>5</td>\n      <td>20</td>\n    </tr>\n    <tr>\n      <th>2021-01-14</th>\n      <td>802</td>\n      <td>6</td>\n      <td>190</td>\n    </tr>\n    <tr>\n      <th>2021-01-15</th>\n      <td>908</td>\n      <td>63</td>\n      <td>517</td>\n    </tr>\n    <tr>\n      <th>2021-01-16</th>\n      <td>415</td>\n      <td>20</td>\n      <td>124</td>\n    </tr>\n    <tr>\n      <th>2021-01-17</th>\n      <td>250</td>\n      <td>24</td>\n      <td>60</td>\n    </tr>\n    <tr>\n      <th>2021-01-18</th>\n      <td>455</td>\n      <td>18</td>\n      <td>133</td>\n    </tr>\n    <tr>\n      <th>2021-01-19</th>\n      <td>828</td>\n      <td>86</td>\n      <td>410</td>\n    </tr>\n    <tr>\n      <th>2021-01-20</th>\n      <td>593</td>\n      <td>39</td>\n      <td>416</td>\n    </tr>\n    <tr>\n      <th>2021-01-21</th>\n      <td>677</td>\n      <td>16</td>\n      <td>383</td>\n    </tr>\n    <tr>\n      <th>2021-01-22</th>\n      <td>1779</td>\n      <td>155</td>\n      <td>664</td>\n    </tr>\n    <tr>\n      <th>2021-01-23</th>\n      <td>973</td>\n      <td>54</td>\n      <td>319</td>\n    </tr>\n    <tr>\n      <th>2021-01-24</th>\n      <td>890</td>\n      <td>36</td>\n      <td>209</td>\n    </tr>\n    <tr>\n      <th>2021-01-25</th>\n      <td>3653</td>\n      <td>554</td>\n      <td>1938</td>\n    </tr>\n    <tr>\n      <th>2021-01-26</th>\n      <td>1896</td>\n      <td>233</td>\n      <td>925</td>\n    </tr>\n    <tr>\n      <th>2021-01-27</th>\n      <td>9382</td>\n      <td>6554</td>\n      <td>3379</td>\n    </tr>\n    <tr>\n      <th>2021-01-28</th>\n      <td>27482</td>\n      <td>14250</td>\n      <td>6893</td>\n    </tr>\n    <tr>\n      <th>2021-01-29</th>\n      <td>15431</td>\n      <td>8157</td>\n      <td>3413</td>\n    </tr>\n    <tr>\n      <th>2021-01-30</th>\n      <td>8177</td>\n      <td>3870</td>\n      <td>1214</td>\n    </tr>\n    <tr>\n      <th>2021-01-31</th>\n      <td>7478</td>\n      <td>3363</td>\n      <td>887</td>\n    </tr>\n    <tr>\n      <th>2021-02-01</th>\n      <td>13198</td>\n      <td>8200</td>\n      <td>1503</td>\n    </tr>\n    <tr>\n      <th>2021-02-02</th>\n      <td>14570</td>\n      <td>8670</td>\n      <td>899</td>\n    </tr>\n    <tr>\n      <th>2021-02-03</th>\n      <td>5948</td>\n      <td>3206</td>\n      <td>430</td>\n    </tr>\n    <tr>\n      <th>2021-02-04</th>\n      <td>305</td>\n      <td>112</td>\n      <td>24</td>\n    </tr>\n  </tbody>\n</table>\n</div>"
     },
     "metadata": {},
     "execution_count": 31
    }
   ],
   "source": [
    "agg_df = title_df.groupby('date')[ticker_tester].sum()\n",
    "agg_df"
   ]
  },
  {
   "cell_type": "code",
   "execution_count": 28,
   "metadata": {},
   "outputs": [],
   "source": [
    "title_df['date'] = title_df['date_created'].dt.date"
   ]
  },
  {
   "cell_type": "code",
   "execution_count": null,
   "metadata": {},
   "outputs": [],
   "source": []
  }
 ],
 "metadata": {
  "kernelspec": {
   "display_name": "mlenv",
   "language": "python",
   "name": "mlenv"
  },
  "language_info": {
   "codemirror_mode": {
    "name": "ipython",
    "version": 3
   },
   "file_extension": ".py",
   "mimetype": "text/x-python",
   "name": "python",
   "nbconvert_exporter": "python",
   "pygments_lexer": "ipython3",
   "version": "3.7.9-final"
  }
 },
 "nbformat": 4,
 "nbformat_minor": 4
}