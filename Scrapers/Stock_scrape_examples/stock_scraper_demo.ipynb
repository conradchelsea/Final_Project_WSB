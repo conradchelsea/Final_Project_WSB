{
  "nbformat": 4,
  "nbformat_minor": 0,
  "metadata": {
    "colab": {
      "name": "stock_scraper.ipynb",
      "provenance": []
    },
    "kernelspec": {
      "name": "python3",
      "display_name": "Python 3",
      "language": "python"
    }
  },
  "cells": [
    {
      "cell_type": "code",
      "metadata": {
        "id": "azwdIYoDMHzX"
      },
      "source": [],
      "execution_count": null,
      "outputs": []
    },
    {
      "cell_type": "code",
      "metadata": {
        "id": "yQ9NW0ibMN9p"
      },
      "source": [],
      "execution_count": null,
      "outputs": []
    },
    {
      "cell_type": "code",
      "metadata": {
        "colab": {
          "base_uri": "https://localhost:8080/"
        },
        "id": "pNYJsTs_MOGh",
        "outputId": "17d98f44-34f7-4a59-e651-8625736e0df6"
      },
      "source": [
        "import pandas as pd\n",
        "import yfinance as yf\n",
        "import datetime\n",
        "import time\n",
        "import requests\n",
        "import io"
      ],
      "execution_count": 51,
      "outputs": []
    },
    {
      "cell_type": "code",
      "metadata": {
        "id": "Q6rH2BNAMOM-"
      },
      "source": [
        "start = datetime.datetime(2020,2,1)\n",
        "end = datetime.datetime(2020,10,11)"
      ],
      "execution_count": 52,
      "outputs": []
    },
    {
      "cell_type": "code",
      "metadata": {
        "id": "JHcOGBjNMbb4"
      },
      "source": [
        "Symbols = [\"GME\",\"AMC\"]"
      ],
      "execution_count": 53,
      "outputs": []
    },
    {
      "cell_type": "code",
      "metadata": {
        "colab": {
          "base_uri": "https://localhost:8080/"
        },
        "id": "HvtFT9rHMEhI",
        "outputId": "56fa7942-d3d1-4518-ef60-a4709c6d77a7"
      },
      "source": [
        "# create empty dataframe\n",
        "stock_final = pd.DataFrame()\n",
        "# iterate over each symbol\n",
        "for i in Symbols:  \n",
        "    \n",
        "    # print the symbol which is being downloaded\n",
        "    print( str(Symbols.index(i)) + str(' : ') + i, sep=',', end=',', flush=True)  \n",
        "    \n",
        "    try:\n",
        "        # download the stock price \n",
        "        stock = []\n",
        "        stock = yf.ticker(i).history(period=\"1mo\", interval= \"60m\")\n",
        "        \n",
        "        # append the individual stock prices \n",
        "        if len(stock) == 0:\n",
        "            None\n",
        "        else:\n",
        "            stock['Name']=i\n",
        "            stock_final = stock_final.append(stock,sort=False)\n",
        "    except Exception:\n",
        "        None"
      ],
      "execution_count": 54,
      "outputs": [
        {
          "output_type": "stream",
          "name": "stdout",
          "text": [
            "0 : GME,1 : AMC,"
          ]
        }
      ]
    },
    {
      "cell_type": "code",
      "metadata": {
        "colab": {
          "base_uri": "https://localhost:8080/",
          "height": 32
        },
        "id": "qMeNK65qMlnt",
        "outputId": "eb4ebed8-15db-494d-c953-e87f138c258f"
      },
      "source": [
        "stock_final.head()\n"
      ],
      "execution_count": 55,
      "outputs": [
        {
          "output_type": "execute_result",
          "data": {
            "text/plain": [
              "Empty DataFrame\n",
              "Columns: []\n",
              "Index: []"
            ],
            "text/html": "<div>\n<style scoped>\n    .dataframe tbody tr th:only-of-type {\n        vertical-align: middle;\n    }\n\n    .dataframe tbody tr th {\n        vertical-align: top;\n    }\n\n    .dataframe thead th {\n        text-align: right;\n    }\n</style>\n<table border=\"1\" class=\"dataframe\">\n  <thead>\n    <tr style=\"text-align: right;\">\n      <th></th>\n    </tr>\n  </thead>\n  <tbody>\n  </tbody>\n</table>\n</div>"
          },
          "metadata": {},
          "execution_count": 55
        }
      ]
    },
    {
      "cell_type": "code",
      "metadata": {
        "id": "q97kIX1VfALJ"
      },
      "source": [],
      "execution_count": null,
      "outputs": []
    },
    {
      "cell_type": "code",
      "metadata": {
        "id": "-YL4zBJnMzFf",
        "colab": {
          "base_uri": "https://localhost:8080/"
        },
        "outputId": "d0e57b28-76f2-4f75-cf90-6e0d516cd79b"
      },
      "source": [
        "aapl= yf.Ticker(\"aapl\")\n",
        "aapl"
      ],
      "execution_count": 56,
      "outputs": [
        {
          "output_type": "execute_result",
          "data": {
            "text/plain": [
              "yfinance.Ticker object <AAPL>"
            ]
          },
          "metadata": {},
          "execution_count": 56
        }
      ]
    },
    {
      "cell_type": "code",
      "metadata": {
        "id": "GeKaG7YnfGmW"
      },
      "source": [
        "# stock_df = pd.DataFrame()\n",
        "# for i in Symbols:\n",
        "#   stock_list = []\n",
        "#   ticker = yf.Ticker(i)\n",
        "#   stock_list.append(stock.history(period=\"1mo\", interval=\"60m\"))\n",
        "#   ticker['Name']=i\n",
        "#   stock_df = stock_df.append(ticker,sort=False)"
      ],
      "execution_count": 57,
      "outputs": []
    },
    {
      "cell_type": "code",
      "metadata": {
        "colab": {
          "base_uri": "https://localhost:8080/",
          "height": 450
        },
        "id": "YsAnQLlNZNAd",
        "outputId": "1d4000b4-d197-4bda-ac24-fd85a4dc9b24"
      },
      "source": [
        "aapl_historical = aapl.history(period=\"1mo\", interval=\"60m\")\n",
        "aapl_historical"
      ],
      "execution_count": 58,
      "outputs": [
        {
          "output_type": "execute_result",
          "data": {
            "text/plain": [
              "                                 Open        High         Low       Close  \\\n",
              "Datetime                                                                    \n",
              "2021-01-25 09:30:00-05:00  143.222702  145.080002  142.948196  144.229996   \n",
              "2021-01-25 10:30:00-05:00  144.229996  144.320007  136.539993  141.220001   \n",
              "2021-01-25 11:30:00-05:00  141.220001  142.949997  140.910004  141.190002   \n",
              "2021-01-25 12:30:00-05:00  141.179993  143.289993  141.039993  142.989899   \n",
              "2021-01-25 13:30:00-05:00  143.009995  143.250000  141.789993  142.582001   \n",
              "...                               ...         ...         ...         ...   \n",
              "2021-02-23 11:30:00-05:00  123.010101  123.250000  121.309998  122.422401   \n",
              "2021-02-23 12:30:00-05:00  122.419998  123.750000  121.500000  123.540001   \n",
              "2021-02-23 13:30:00-05:00  123.559998  125.192001  123.459999  124.750000   \n",
              "2021-02-23 14:30:00-05:00  124.765602  126.699997  124.400002  126.650002   \n",
              "2021-02-23 15:30:00-05:00  126.639999  126.709999  125.660004  125.849998   \n",
              "\n",
              "                             Volume  Dividends  Stock Splits  \n",
              "Datetime                                                      \n",
              "2021-01-25 09:30:00-05:00  46354729        0.0             0  \n",
              "2021-01-25 10:30:00-05:00  37087128        0.0             0  \n",
              "2021-01-25 11:30:00-05:00  18948572        0.0             0  \n",
              "2021-01-25 12:30:00-05:00  14505566        0.0             0  \n",
              "2021-01-25 13:30:00-05:00  11219998        0.0             0  \n",
              "...                             ...        ...           ...  \n",
              "2021-02-23 11:30:00-05:00  16440941        0.0             0  \n",
              "2021-02-23 12:30:00-05:00  16077145        0.0             0  \n",
              "2021-02-23 13:30:00-05:00  15368938        0.0             0  \n",
              "2021-02-23 14:30:00-05:00  16831412        0.0             0  \n",
              "2021-02-23 15:30:00-05:00  10688071        0.0             0  \n",
              "\n",
              "[147 rows x 7 columns]"
            ],
            "text/html": "<div>\n<style scoped>\n    .dataframe tbody tr th:only-of-type {\n        vertical-align: middle;\n    }\n\n    .dataframe tbody tr th {\n        vertical-align: top;\n    }\n\n    .dataframe thead th {\n        text-align: right;\n    }\n</style>\n<table border=\"1\" class=\"dataframe\">\n  <thead>\n    <tr style=\"text-align: right;\">\n      <th></th>\n      <th>Open</th>\n      <th>High</th>\n      <th>Low</th>\n      <th>Close</th>\n      <th>Volume</th>\n      <th>Dividends</th>\n      <th>Stock Splits</th>\n    </tr>\n    <tr>\n      <th>Datetime</th>\n      <th></th>\n      <th></th>\n      <th></th>\n      <th></th>\n      <th></th>\n      <th></th>\n      <th></th>\n    </tr>\n  </thead>\n  <tbody>\n    <tr>\n      <th>2021-01-25 09:30:00-05:00</th>\n      <td>143.222702</td>\n      <td>145.080002</td>\n      <td>142.948196</td>\n      <td>144.229996</td>\n      <td>46354729</td>\n      <td>0.0</td>\n      <td>0</td>\n    </tr>\n    <tr>\n      <th>2021-01-25 10:30:00-05:00</th>\n      <td>144.229996</td>\n      <td>144.320007</td>\n      <td>136.539993</td>\n      <td>141.220001</td>\n      <td>37087128</td>\n      <td>0.0</td>\n      <td>0</td>\n    </tr>\n    <tr>\n      <th>2021-01-25 11:30:00-05:00</th>\n      <td>141.220001</td>\n      <td>142.949997</td>\n      <td>140.910004</td>\n      <td>141.190002</td>\n      <td>18948572</td>\n      <td>0.0</td>\n      <td>0</td>\n    </tr>\n    <tr>\n      <th>2021-01-25 12:30:00-05:00</th>\n      <td>141.179993</td>\n      <td>143.289993</td>\n      <td>141.039993</td>\n      <td>142.989899</td>\n      <td>14505566</td>\n      <td>0.0</td>\n      <td>0</td>\n    </tr>\n    <tr>\n      <th>2021-01-25 13:30:00-05:00</th>\n      <td>143.009995</td>\n      <td>143.250000</td>\n      <td>141.789993</td>\n      <td>142.582001</td>\n      <td>11219998</td>\n      <td>0.0</td>\n      <td>0</td>\n    </tr>\n    <tr>\n      <th>...</th>\n      <td>...</td>\n      <td>...</td>\n      <td>...</td>\n      <td>...</td>\n      <td>...</td>\n      <td>...</td>\n      <td>...</td>\n    </tr>\n    <tr>\n      <th>2021-02-23 11:30:00-05:00</th>\n      <td>123.010101</td>\n      <td>123.250000</td>\n      <td>121.309998</td>\n      <td>122.422401</td>\n      <td>16440941</td>\n      <td>0.0</td>\n      <td>0</td>\n    </tr>\n    <tr>\n      <th>2021-02-23 12:30:00-05:00</th>\n      <td>122.419998</td>\n      <td>123.750000</td>\n      <td>121.500000</td>\n      <td>123.540001</td>\n      <td>16077145</td>\n      <td>0.0</td>\n      <td>0</td>\n    </tr>\n    <tr>\n      <th>2021-02-23 13:30:00-05:00</th>\n      <td>123.559998</td>\n      <td>125.192001</td>\n      <td>123.459999</td>\n      <td>124.750000</td>\n      <td>15368938</td>\n      <td>0.0</td>\n      <td>0</td>\n    </tr>\n    <tr>\n      <th>2021-02-23 14:30:00-05:00</th>\n      <td>124.765602</td>\n      <td>126.699997</td>\n      <td>124.400002</td>\n      <td>126.650002</td>\n      <td>16831412</td>\n      <td>0.0</td>\n      <td>0</td>\n    </tr>\n    <tr>\n      <th>2021-02-23 15:30:00-05:00</th>\n      <td>126.639999</td>\n      <td>126.709999</td>\n      <td>125.660004</td>\n      <td>125.849998</td>\n      <td>10688071</td>\n      <td>0.0</td>\n      <td>0</td>\n    </tr>\n  </tbody>\n</table>\n<p>147 rows × 7 columns</p>\n</div>"
          },
          "metadata": {},
          "execution_count": 58
        }
      ]
    },
    {
      "cell_type": "code",
      "metadata": {
        "id": "ql6Z0a9BddaP"
      },
      "source": [
        "tickers_list = [\"aapl\", \"goog\", \"amzn\", \"BAC\", \"BA\"] # example list\n",
        "tickers_data= {} # empty dictionary"
      ],
      "execution_count": 59,
      "outputs": []
    },
    {
      "cell_type": "code",
      "metadata": {
        "colab": {
          "base_uri": "https://localhost:8080/"
        },
        "id": "2RpKsV2mikb3",
        "outputId": "ccb3cc52-9e38-443c-93f3-0f8f4de0b617"
      },
      "source": [
        "for ticker in tickers_list:\n",
        "    ticker_object = yf.Ticker(ticker)\n",
        "\n",
        "    #convert info() output from dictionary to dataframe\n",
        "    # temp = pd.DataFrame.from_dict(ticker_object.history(period=\"1mo\", interval=\"60m\"), orient=\"index\")\n",
        "    temp = ticker_object.history(period=\"1mo\", interval=\"60m\")\n",
        "    # temp.reset_index(inplace=True)\n",
        "    # temp.columns = [\"Open\",\t\"High,\"\t\"Low\",\t\"Close\tVolume\",\t\"Dividends\",\t\"Stock Splits\"]\n",
        "    \n",
        "    # add (ticker, dataframe) to main dictionary\n",
        "    tickers_data[ticker] = temp\n",
        "\n",
        "tickers_data"
      ],
      "execution_count": 60,
      "outputs": [
        {
          "output_type": "execute_result",
          "data": {
            "text/plain": [
              "{'aapl':                                  Open        High         Low       Close  \\\n",
              " Datetime                                                                    \n",
              " 2021-01-25 09:30:00-05:00  143.222702  145.080002  142.948196  144.229996   \n",
              " 2021-01-25 10:30:00-05:00  144.229996  144.320007  136.539993  141.220001   \n",
              " 2021-01-25 11:30:00-05:00  141.220001  142.949997  140.910004  141.190002   \n",
              " 2021-01-25 12:30:00-05:00  141.179993  143.289993  141.039993  142.989899   \n",
              " 2021-01-25 13:30:00-05:00  143.009995  143.250000  141.789993  142.582001   \n",
              " ...                               ...         ...         ...         ...   \n",
              " 2021-02-23 11:30:00-05:00  123.010101  123.250000  121.309998  122.422401   \n",
              " 2021-02-23 12:30:00-05:00  122.419998  123.750000  121.500000  123.540001   \n",
              " 2021-02-23 13:30:00-05:00  123.559998  125.192001  123.459999  124.750000   \n",
              " 2021-02-23 14:30:00-05:00  124.765602  126.699997  124.400002  126.650002   \n",
              " 2021-02-23 15:30:00-05:00  126.639999  126.709999  125.660004  125.849998   \n",
              " \n",
              "                              Volume  Dividends  Stock Splits  \n",
              " Datetime                                                      \n",
              " 2021-01-25 09:30:00-05:00  46354729        0.0             0  \n",
              " 2021-01-25 10:30:00-05:00  37087128        0.0             0  \n",
              " 2021-01-25 11:30:00-05:00  18948572        0.0             0  \n",
              " 2021-01-25 12:30:00-05:00  14505566        0.0             0  \n",
              " 2021-01-25 13:30:00-05:00  11219998        0.0             0  \n",
              " ...                             ...        ...           ...  \n",
              " 2021-02-23 11:30:00-05:00  16440941        0.0             0  \n",
              " 2021-02-23 12:30:00-05:00  16077145        0.0             0  \n",
              " 2021-02-23 13:30:00-05:00  15368938        0.0             0  \n",
              " 2021-02-23 14:30:00-05:00  16831412        0.0             0  \n",
              " 2021-02-23 15:30:00-05:00  10688071        0.0             0  \n",
              " \n",
              " [147 rows x 7 columns],\n",
              " 'goog':                                   Open         High          Low        Close  \\\n",
              " Datetime                                                                        \n",
              " 2021-01-25 09:30:00-05:00  1920.670044  1929.000000  1905.709961  1908.430054   \n",
              " 2021-01-25 10:30:00-05:00  1907.780029  1908.400024  1867.530029  1885.829956   \n",
              " 2021-01-25 11:30:00-05:00  1885.160034  1887.449951  1870.520020  1874.489990   \n",
              " 2021-01-25 12:30:00-05:00  1872.579956  1887.479980  1871.920044  1880.762939   \n",
              " 2021-01-25 13:30:00-05:00  1881.609985  1881.719971  1870.540039  1880.339966   \n",
              " ...                                ...          ...          ...          ...   \n",
              " 2021-02-23 11:30:00-05:00  2047.760010  2057.639893  2039.020020  2050.850098   \n",
              " 2021-02-23 12:30:00-05:00  2050.850098  2052.280029  2023.290039  2047.939941   \n",
              " 2021-02-23 13:30:00-05:00  2046.939941  2054.699951  2041.329956  2053.320068   \n",
              " 2021-02-23 14:30:00-05:00  2053.320068  2082.010010  2042.469971  2080.120117   \n",
              " 2021-02-23 15:30:00-05:00  2079.790039  2079.790039  2066.229980  2071.360107   \n",
              " \n",
              "                            Volume  Dividends  Stock Splits  \n",
              " Datetime                                                    \n",
              " 2021-01-25 09:30:00-05:00  459528          0             0  \n",
              " 2021-01-25 10:30:00-05:00  346145          0             0  \n",
              " 2021-01-25 11:30:00-05:00  225327          0             0  \n",
              " 2021-01-25 12:30:00-05:00  180478          0             0  \n",
              " 2021-01-25 13:30:00-05:00  143510          0             0  \n",
              " ...                           ...        ...           ...  \n",
              " 2021-02-23 11:30:00-05:00  144657          0             0  \n",
              " 2021-02-23 12:30:00-05:00  157659          0             0  \n",
              " 2021-02-23 13:30:00-05:00  109973          0             0  \n",
              " 2021-02-23 14:30:00-05:00  158460          0             0  \n",
              " 2021-02-23 15:30:00-05:00  130558          0             0  \n",
              " \n",
              " [147 rows x 7 columns],\n",
              " 'amzn':                                   Open         High          Low        Close  \\\n",
              " Datetime                                                                        \n",
              " 2021-01-25 09:30:00-05:00  3328.500000  3363.889893  3322.438965  3323.989990   \n",
              " 2021-01-25 10:30:00-05:00  3323.750000  3325.000000  3243.146240  3271.919922   \n",
              " 2021-01-25 11:30:00-05:00  3272.989990  3298.280029  3266.689941  3284.379883   \n",
              " 2021-01-25 12:30:00-05:00  3281.659912  3315.979980  3280.550049  3308.280029   \n",
              " 2021-01-25 13:30:00-05:00  3309.000000  3310.239990  3291.010010  3300.820068   \n",
              " ...                                ...          ...          ...          ...   \n",
              " 2021-02-23 11:30:00-05:00  3141.697510  3156.209961  3133.070068  3154.709961   \n",
              " 2021-02-23 12:30:00-05:00  3153.935059  3155.419922  3123.010010  3147.000000   \n",
              " 2021-02-23 13:30:00-05:00  3144.395996  3157.689941  3135.419922  3155.918213   \n",
              " 2021-02-23 14:30:00-05:00  3156.939941  3197.199951  3143.030029  3196.800049   \n",
              " 2021-02-23 15:30:00-05:00  3197.199951  3204.729980  3187.760010  3195.649902   \n",
              " \n",
              "                             Volume  Dividends  Stock Splits  \n",
              " Datetime                                                     \n",
              " 2021-01-25 09:30:00-05:00  1078011          0             0  \n",
              " 2021-01-25 10:30:00-05:00   878730          0             0  \n",
              " 2021-01-25 11:30:00-05:00   383187          0             0  \n",
              " 2021-01-25 12:30:00-05:00   336392          0             0  \n",
              " 2021-01-25 13:30:00-05:00   220346          0             0  \n",
              " ...                            ...        ...           ...  \n",
              " 2021-02-23 11:30:00-05:00   341532          0             0  \n",
              " 2021-02-23 12:30:00-05:00   301392          0             0  \n",
              " 2021-02-23 13:30:00-05:00  1018632          0             0  \n",
              " 2021-02-23 14:30:00-05:00   408092          0             0  \n",
              " 2021-02-23 15:30:00-05:00   418972          0             0  \n",
              " \n",
              " [147 rows x 7 columns],\n",
              " 'BAC':                                 Open       High        Low      Close  \\\n",
              " Datetime                                                                \n",
              " 2021-01-25 09:30:00-05:00  31.270000  31.299999  30.830000  30.965000   \n",
              " 2021-01-25 10:30:00-05:00  30.961300  31.030001  30.580000  30.620001   \n",
              " 2021-01-25 11:30:00-05:00  30.615000  30.900000  30.570000  30.840000   \n",
              " 2021-01-25 12:30:00-05:00  30.840000  31.070000  30.809999  31.020000   \n",
              " 2021-01-25 13:30:00-05:00  31.020000  31.100000  30.980000  31.025000   \n",
              " ...                              ...        ...        ...        ...   \n",
              " 2021-02-23 11:30:00-05:00  35.560001  35.649899  35.470001  35.525002   \n",
              " 2021-02-23 12:30:00-05:00  35.529999  35.560001  35.380001  35.450001   \n",
              " 2021-02-23 13:30:00-05:00  35.455002  35.480000  35.340000  35.445000   \n",
              " 2021-02-23 14:30:00-05:00  35.439999  35.540001  35.310101  35.474998   \n",
              " 2021-02-23 15:30:00-05:00  35.474998  35.560001  35.410000  35.540001   \n",
              " \n",
              "                              Volume  Dividends  Stock Splits  \n",
              " Datetime                                                      \n",
              " 2021-01-25 09:30:00-05:00  12795804          0             0  \n",
              " 2021-01-25 10:30:00-05:00   9241912          0             0  \n",
              " 2021-01-25 11:30:00-05:00   5750072          0             0  \n",
              " 2021-01-25 12:30:00-05:00   4462611          0             0  \n",
              " 2021-01-25 13:30:00-05:00   4281348          0             0  \n",
              " ...                             ...        ...           ...  \n",
              " 2021-02-23 11:30:00-05:00   7383661          0             0  \n",
              " 2021-02-23 12:30:00-05:00   7011086          0             0  \n",
              " 2021-02-23 13:30:00-05:00   4156900          0             0  \n",
              " 2021-02-23 14:30:00-05:00   7481272          0             0  \n",
              " 2021-02-23 15:30:00-05:00   6229212          0             0  \n",
              " \n",
              " [147 rows x 7 columns],\n",
              " 'BA':                                  Open        High         Low       Close  \\\n",
              " Datetime                                                                    \n",
              " 2021-01-25 09:30:00-05:00  203.264999  203.800003  200.479996  202.716797   \n",
              " 2021-01-25 10:30:00-05:00  202.720001  203.149994  199.300003  200.339996   \n",
              " 2021-01-25 11:30:00-05:00  200.354996  201.500000  200.000000  200.600006   \n",
              " 2021-01-25 12:30:00-05:00  200.600006  202.889999  200.410004  202.600006   \n",
              " 2021-01-25 13:30:00-05:00  202.699997  203.149994  202.000000  202.399994   \n",
              " ...                               ...         ...         ...         ...   \n",
              " 2021-02-23 11:30:00-05:00  211.410004  212.627701  208.444107  209.035004   \n",
              " 2021-02-23 12:30:00-05:00  209.039993  210.059998  207.410004  209.889999   \n",
              " 2021-02-23 13:30:00-05:00  209.940002  211.369995  208.929993  211.164993   \n",
              " 2021-02-23 14:30:00-05:00  211.110001  212.959900  210.169998  212.845001   \n",
              " 2021-02-23 15:30:00-05:00  212.880005  213.449997  211.970001  212.130005   \n",
              " \n",
              "                             Volume  Dividends  Stock Splits  \n",
              " Datetime                                                     \n",
              " 2021-01-25 09:30:00-05:00  5026996          0             0  \n",
              " 2021-01-25 10:30:00-05:00  2823783          0             0  \n",
              " 2021-01-25 11:30:00-05:00  1982160          0             0  \n",
              " 2021-01-25 12:30:00-05:00  1141698          0             0  \n",
              " 2021-01-25 13:30:00-05:00   882624          0             0  \n",
              " ...                            ...        ...           ...  \n",
              " 2021-02-23 11:30:00-05:00  2044352          0             0  \n",
              " 2021-02-23 12:30:00-05:00  1821443          0             0  \n",
              " 2021-02-23 13:30:00-05:00  1111583          0             0  \n",
              " 2021-02-23 14:30:00-05:00  1205711          0             0  \n",
              " 2021-02-23 15:30:00-05:00  1041122          0             0  \n",
              " \n",
              " [147 rows x 7 columns]}"
            ]
          },
          "metadata": {},
          "execution_count": 60
        }
      ]
    },
    {
      "cell_type": "code",
      "metadata": {
        "colab": {
          "base_uri": "https://localhost:8080/"
        },
        "id": "HZ3iQ5uBoq4_",
        "outputId": "1bc2116a-e731-4b10-c64d-f5fa38d277ed"
      },
      "source": [
        "tickers_data[\"BAC\"].columns"
      ],
      "execution_count": 61,
      "outputs": [
        {
          "output_type": "execute_result",
          "data": {
            "text/plain": [
              "Index(['Open', 'High', 'Low', 'Close', 'Volume', 'Dividends', 'Stock Splits'], dtype='object')"
            ]
          },
          "metadata": {},
          "execution_count": 61
        }
      ]
    },
    {
      "cell_type": "code",
      "metadata": {
        "colab": {
          "base_uri": "https://localhost:8080/"
        },
        "id": "t8X47Ih7pscO",
        "outputId": "8f8e5058-417c-40c2-de25-faeb396c7657"
      },
      "source": [
        "tickers_data.keys()"
      ],
      "execution_count": 62,
      "outputs": [
        {
          "output_type": "execute_result",
          "data": {
            "text/plain": [
              "dict_keys(['aapl', 'goog', 'amzn', 'BAC', 'BA'])"
            ]
          },
          "metadata": {},
          "execution_count": 62
        }
      ]
    },
    {
      "cell_type": "code",
      "metadata": {
        "colab": {
          "base_uri": "https://localhost:8080/"
        },
        "id": "3A4yOhq8pyBS",
        "outputId": "a71f0a5d-753a-4f66-e568-ab54f1ce5bdb"
      },
      "source": [
        "for key in tickers_data.keys():\n",
        "  print(key)"
      ],
      "execution_count": 63,
      "outputs": [
        {
          "output_type": "stream",
          "name": "stdout",
          "text": [
            "aapl\ngoog\namzn\nBAC\nBA\n"
          ]
        }
      ]
    },
    {
      "cell_type": "code",
      "metadata": {
        "id": "6Jh-1ov0jDvE"
      },
      "source": [],
      "execution_count": null,
      "outputs": []
    },
    {
      "cell_type": "code",
      "metadata": {
        "colab": {
          "base_uri": "https://localhost:8080/"
        },
        "id": "wQss507mjsrW",
        "outputId": "9e70b4e6-4eb3-46f5-ad18-66953e559a21"
      },
      "source": [
        "df = pd.DataFrame(yf.download(tickers_list, period=\"3mo\", interval=\"60m\", group_by='tickers', index=False))"
      ],
      "execution_count": 64,
      "outputs": [
        {
          "output_type": "stream",
          "name": "stdout",
          "text": [
            "[*********************100%***********************]  5 of 5 completed\n"
          ]
        }
      ]
    },
    {
      "cell_type": "code",
      "metadata": {
        "colab": {
          "base_uri": "https://localhost:8080/",
          "height": 450
        },
        "id": "quamHp2m2IDe",
        "outputId": "57c562f2-06f1-47a2-c8c6-27db040d02c9"
      },
      "source": [
        "ba_df = df[\"BA\"]\n",
        "ba_df"
      ],
      "execution_count": 82,
      "outputs": [
        {
          "output_type": "execute_result",
          "data": {
            "text/plain": [
              "                                 Open        High         Low       Close  \\\n",
              "Datetime                                                                    \n",
              "2020-11-24 09:30:00-05:00  219.429993  222.949997  215.759995  222.119995   \n",
              "2020-11-24 10:30:00-05:00  222.184998  222.241104  216.990005  220.350006   \n",
              "2020-11-24 11:30:00-05:00  220.345001  221.383408  217.850006  221.059998   \n",
              "2020-11-24 12:30:00-05:00  221.059998  221.289993  218.890900  219.529999   \n",
              "2020-11-24 13:30:00-05:00  219.516098  220.080002  217.360001  217.729996   \n",
              "...                               ...         ...         ...         ...   \n",
              "2021-02-23 11:30:00-05:00  211.410004  212.627701  208.444107  209.035004   \n",
              "2021-02-23 12:30:00-05:00  209.039993  210.059998  207.410004  209.889999   \n",
              "2021-02-23 13:30:00-05:00  209.940002  211.369995  208.929993  211.164993   \n",
              "2021-02-23 14:30:00-05:00  211.110001  212.959900  210.169998  212.845001   \n",
              "2021-02-23 15:30:00-05:00  212.880005  213.449997  211.970001  212.130005   \n",
              "\n",
              "                            Adj Close    Volume  \n",
              "Datetime                                         \n",
              "2020-11-24 09:30:00-05:00  222.119995  10936423  \n",
              "2020-11-24 10:30:00-05:00  220.350006   5271632  \n",
              "2020-11-24 11:30:00-05:00  221.059998   3763616  \n",
              "2020-11-24 12:30:00-05:00  219.529999   2380204  \n",
              "2020-11-24 13:30:00-05:00  217.729996   2447618  \n",
              "...                               ...       ...  \n",
              "2021-02-23 11:30:00-05:00  209.035004   2044352  \n",
              "2021-02-23 12:30:00-05:00  209.889999   1821443  \n",
              "2021-02-23 13:30:00-05:00  211.164993   1111583  \n",
              "2021-02-23 14:30:00-05:00  212.845001   1205711  \n",
              "2021-02-23 15:30:00-05:00  212.130005   1041122  \n",
              "\n",
              "[421 rows x 6 columns]"
            ],
            "text/html": "<div>\n<style scoped>\n    .dataframe tbody tr th:only-of-type {\n        vertical-align: middle;\n    }\n\n    .dataframe tbody tr th {\n        vertical-align: top;\n    }\n\n    .dataframe thead th {\n        text-align: right;\n    }\n</style>\n<table border=\"1\" class=\"dataframe\">\n  <thead>\n    <tr style=\"text-align: right;\">\n      <th></th>\n      <th>Open</th>\n      <th>High</th>\n      <th>Low</th>\n      <th>Close</th>\n      <th>Adj Close</th>\n      <th>Volume</th>\n    </tr>\n    <tr>\n      <th>Datetime</th>\n      <th></th>\n      <th></th>\n      <th></th>\n      <th></th>\n      <th></th>\n      <th></th>\n    </tr>\n  </thead>\n  <tbody>\n    <tr>\n      <th>2020-11-24 09:30:00-05:00</th>\n      <td>219.429993</td>\n      <td>222.949997</td>\n      <td>215.759995</td>\n      <td>222.119995</td>\n      <td>222.119995</td>\n      <td>10936423</td>\n    </tr>\n    <tr>\n      <th>2020-11-24 10:30:00-05:00</th>\n      <td>222.184998</td>\n      <td>222.241104</td>\n      <td>216.990005</td>\n      <td>220.350006</td>\n      <td>220.350006</td>\n      <td>5271632</td>\n    </tr>\n    <tr>\n      <th>2020-11-24 11:30:00-05:00</th>\n      <td>220.345001</td>\n      <td>221.383408</td>\n      <td>217.850006</td>\n      <td>221.059998</td>\n      <td>221.059998</td>\n      <td>3763616</td>\n    </tr>\n    <tr>\n      <th>2020-11-24 12:30:00-05:00</th>\n      <td>221.059998</td>\n      <td>221.289993</td>\n      <td>218.890900</td>\n      <td>219.529999</td>\n      <td>219.529999</td>\n      <td>2380204</td>\n    </tr>\n    <tr>\n      <th>2020-11-24 13:30:00-05:00</th>\n      <td>219.516098</td>\n      <td>220.080002</td>\n      <td>217.360001</td>\n      <td>217.729996</td>\n      <td>217.729996</td>\n      <td>2447618</td>\n    </tr>\n    <tr>\n      <th>...</th>\n      <td>...</td>\n      <td>...</td>\n      <td>...</td>\n      <td>...</td>\n      <td>...</td>\n      <td>...</td>\n    </tr>\n    <tr>\n      <th>2021-02-23 11:30:00-05:00</th>\n      <td>211.410004</td>\n      <td>212.627701</td>\n      <td>208.444107</td>\n      <td>209.035004</td>\n      <td>209.035004</td>\n      <td>2044352</td>\n    </tr>\n    <tr>\n      <th>2021-02-23 12:30:00-05:00</th>\n      <td>209.039993</td>\n      <td>210.059998</td>\n      <td>207.410004</td>\n      <td>209.889999</td>\n      <td>209.889999</td>\n      <td>1821443</td>\n    </tr>\n    <tr>\n      <th>2021-02-23 13:30:00-05:00</th>\n      <td>209.940002</td>\n      <td>211.369995</td>\n      <td>208.929993</td>\n      <td>211.164993</td>\n      <td>211.164993</td>\n      <td>1111583</td>\n    </tr>\n    <tr>\n      <th>2021-02-23 14:30:00-05:00</th>\n      <td>211.110001</td>\n      <td>212.959900</td>\n      <td>210.169998</td>\n      <td>212.845001</td>\n      <td>212.845001</td>\n      <td>1205711</td>\n    </tr>\n    <tr>\n      <th>2021-02-23 15:30:00-05:00</th>\n      <td>212.880005</td>\n      <td>213.449997</td>\n      <td>211.970001</td>\n      <td>212.130005</td>\n      <td>212.130005</td>\n      <td>1041122</td>\n    </tr>\n  </tbody>\n</table>\n<p>421 rows × 6 columns</p>\n</div>"
          },
          "metadata": {},
          "execution_count": 82
        }
      ]
    },
    {
      "cell_type": "code",
      "execution_count": 66,
      "metadata": {},
      "outputs": [
        {
          "output_type": "execute_result",
          "data": {
            "text/plain": [
              "                                 Open        High         Low       Close  \\\n",
              "Datetime                                                                    \n",
              "2020-11-24 09:30:00-05:00  219.429993  222.949997  215.759995  222.119995   \n",
              "2020-11-24 10:30:00-05:00  222.184998  222.241104  216.990005  220.350006   \n",
              "2020-11-24 11:30:00-05:00  220.345001  221.383408  217.850006  221.059998   \n",
              "2020-11-24 12:30:00-05:00  221.059998  221.289993  218.890900  219.529999   \n",
              "2020-11-24 13:30:00-05:00  219.516098  220.080002  217.360001  217.729996   \n",
              "...                               ...         ...         ...         ...   \n",
              "2021-02-23 11:30:00-05:00  211.410004  212.627701  208.444107  209.035004   \n",
              "2021-02-23 12:30:00-05:00  209.039993  210.059998  207.410004  209.889999   \n",
              "2021-02-23 13:30:00-05:00  209.940002  211.369995  208.929993  211.164993   \n",
              "2021-02-23 14:30:00-05:00  211.110001  212.959900  210.169998  212.845001   \n",
              "2021-02-23 15:30:00-05:00  212.880005  213.449997  211.970001  212.130005   \n",
              "\n",
              "                            Adj Close    Volume mentions  \n",
              "Datetime                                                  \n",
              "2020-11-24 09:30:00-05:00  222.119995  10936423     None  \n",
              "2020-11-24 10:30:00-05:00  220.350006   5271632     None  \n",
              "2020-11-24 11:30:00-05:00  221.059998   3763616     None  \n",
              "2020-11-24 12:30:00-05:00  219.529999   2380204     None  \n",
              "2020-11-24 13:30:00-05:00  217.729996   2447618     None  \n",
              "...                               ...       ...      ...  \n",
              "2021-02-23 11:30:00-05:00  209.035004   2044352     None  \n",
              "2021-02-23 12:30:00-05:00  209.889999   1821443     None  \n",
              "2021-02-23 13:30:00-05:00  211.164993   1111583     None  \n",
              "2021-02-23 14:30:00-05:00  212.845001   1205711     None  \n",
              "2021-02-23 15:30:00-05:00  212.130005   1041122     None  \n",
              "\n",
              "[421 rows x 7 columns]"
            ],
            "text/html": "<div>\n<style scoped>\n    .dataframe tbody tr th:only-of-type {\n        vertical-align: middle;\n    }\n\n    .dataframe tbody tr th {\n        vertical-align: top;\n    }\n\n    .dataframe thead th {\n        text-align: right;\n    }\n</style>\n<table border=\"1\" class=\"dataframe\">\n  <thead>\n    <tr style=\"text-align: right;\">\n      <th></th>\n      <th>Open</th>\n      <th>High</th>\n      <th>Low</th>\n      <th>Close</th>\n      <th>Adj Close</th>\n      <th>Volume</th>\n      <th>mentions</th>\n    </tr>\n    <tr>\n      <th>Datetime</th>\n      <th></th>\n      <th></th>\n      <th></th>\n      <th></th>\n      <th></th>\n      <th></th>\n      <th></th>\n    </tr>\n  </thead>\n  <tbody>\n    <tr>\n      <th>2020-11-24 09:30:00-05:00</th>\n      <td>219.429993</td>\n      <td>222.949997</td>\n      <td>215.759995</td>\n      <td>222.119995</td>\n      <td>222.119995</td>\n      <td>10936423</td>\n      <td>None</td>\n    </tr>\n    <tr>\n      <th>2020-11-24 10:30:00-05:00</th>\n      <td>222.184998</td>\n      <td>222.241104</td>\n      <td>216.990005</td>\n      <td>220.350006</td>\n      <td>220.350006</td>\n      <td>5271632</td>\n      <td>None</td>\n    </tr>\n    <tr>\n      <th>2020-11-24 11:30:00-05:00</th>\n      <td>220.345001</td>\n      <td>221.383408</td>\n      <td>217.850006</td>\n      <td>221.059998</td>\n      <td>221.059998</td>\n      <td>3763616</td>\n      <td>None</td>\n    </tr>\n    <tr>\n      <th>2020-11-24 12:30:00-05:00</th>\n      <td>221.059998</td>\n      <td>221.289993</td>\n      <td>218.890900</td>\n      <td>219.529999</td>\n      <td>219.529999</td>\n      <td>2380204</td>\n      <td>None</td>\n    </tr>\n    <tr>\n      <th>2020-11-24 13:30:00-05:00</th>\n      <td>219.516098</td>\n      <td>220.080002</td>\n      <td>217.360001</td>\n      <td>217.729996</td>\n      <td>217.729996</td>\n      <td>2447618</td>\n      <td>None</td>\n    </tr>\n    <tr>\n      <th>...</th>\n      <td>...</td>\n      <td>...</td>\n      <td>...</td>\n      <td>...</td>\n      <td>...</td>\n      <td>...</td>\n      <td>...</td>\n    </tr>\n    <tr>\n      <th>2021-02-23 11:30:00-05:00</th>\n      <td>211.410004</td>\n      <td>212.627701</td>\n      <td>208.444107</td>\n      <td>209.035004</td>\n      <td>209.035004</td>\n      <td>2044352</td>\n      <td>None</td>\n    </tr>\n    <tr>\n      <th>2021-02-23 12:30:00-05:00</th>\n      <td>209.039993</td>\n      <td>210.059998</td>\n      <td>207.410004</td>\n      <td>209.889999</td>\n      <td>209.889999</td>\n      <td>1821443</td>\n      <td>None</td>\n    </tr>\n    <tr>\n      <th>2021-02-23 13:30:00-05:00</th>\n      <td>209.940002</td>\n      <td>211.369995</td>\n      <td>208.929993</td>\n      <td>211.164993</td>\n      <td>211.164993</td>\n      <td>1111583</td>\n      <td>None</td>\n    </tr>\n    <tr>\n      <th>2021-02-23 14:30:00-05:00</th>\n      <td>211.110001</td>\n      <td>212.959900</td>\n      <td>210.169998</td>\n      <td>212.845001</td>\n      <td>212.845001</td>\n      <td>1205711</td>\n      <td>None</td>\n    </tr>\n    <tr>\n      <th>2021-02-23 15:30:00-05:00</th>\n      <td>212.880005</td>\n      <td>213.449997</td>\n      <td>211.970001</td>\n      <td>212.130005</td>\n      <td>212.130005</td>\n      <td>1041122</td>\n      <td>None</td>\n    </tr>\n  </tbody>\n</table>\n<p>421 rows × 7 columns</p>\n</div>"
          },
          "metadata": {},
          "execution_count": 66
        }
      ],
      "source": [
        "ba_df[\"mentions\"] = None\n",
        "ba_df"
      ]
    },
    {
      "cell_type": "code",
      "execution_count": 67,
      "metadata": {},
      "outputs": [
        {
          "output_type": "execute_result",
          "data": {
            "text/plain": [
              "[('BAC', 'Open'),\n",
              " ('BAC', 'High'),\n",
              " ('BAC', 'Low'),\n",
              " ('BAC', 'Close'),\n",
              " ('BAC', 'Adj Close'),\n",
              " ('BAC', 'Volume'),\n",
              " ('GOOG', 'Open'),\n",
              " ('GOOG', 'High'),\n",
              " ('GOOG', 'Low'),\n",
              " ('GOOG', 'Close'),\n",
              " ('GOOG', 'Adj Close'),\n",
              " ('GOOG', 'Volume'),\n",
              " ('AAPL', 'Open'),\n",
              " ('AAPL', 'High'),\n",
              " ('AAPL', 'Low'),\n",
              " ('AAPL', 'Close'),\n",
              " ('AAPL', 'Adj Close'),\n",
              " ('AAPL', 'Volume'),\n",
              " ('BA', 'Open'),\n",
              " ('BA', 'High'),\n",
              " ('BA', 'Low'),\n",
              " ('BA', 'Close'),\n",
              " ('BA', 'Adj Close'),\n",
              " ('BA', 'Volume'),\n",
              " ('AMZN', 'Open'),\n",
              " ('AMZN', 'High'),\n",
              " ('AMZN', 'Low'),\n",
              " ('AMZN', 'Close'),\n",
              " ('AMZN', 'Adj Close'),\n",
              " ('AMZN', 'Volume')]"
            ]
          },
          "metadata": {},
          "execution_count": 67
        }
      ],
      "source": [
        "df.columns.to_list()"
      ]
    },
    {
      "cell_type": "code",
      "execution_count": 86,
      "metadata": {},
      "outputs": [],
      "source": [
        "new_df = pd.DataFrame\n",
        "for ticker in tickers_list:\n",
        "   df[ticker, \"mentions\"] = None"
      ]
    },
    {
      "cell_type": "code",
      "execution_count": 84,
      "metadata": {},
      "outputs": [],
      "source": [
        "df[\"AAPL\", \"mentions\"] = None"
      ]
    },
    {
      "cell_type": "code",
      "execution_count": 88,
      "metadata": {},
      "outputs": [
        {
          "output_type": "execute_result",
          "data": {
            "text/plain": [
              "[('BAC', 'Open'),\n",
              " ('BAC', 'High'),\n",
              " ('BAC', 'Low'),\n",
              " ('BAC', 'Close'),\n",
              " ('BAC', 'Adj Close'),\n",
              " ('BAC', 'Volume'),\n",
              " ('GOOG', 'Open'),\n",
              " ('GOOG', 'High'),\n",
              " ('GOOG', 'Low'),\n",
              " ('GOOG', 'Close'),\n",
              " ('GOOG', 'Adj Close'),\n",
              " ('GOOG', 'Volume'),\n",
              " ('AAPL', 'Open'),\n",
              " ('AAPL', 'High'),\n",
              " ('AAPL', 'Low'),\n",
              " ('AAPL', 'Close'),\n",
              " ('AAPL', 'Adj Close'),\n",
              " ('AAPL', 'Volume'),\n",
              " ('BA', 'Open'),\n",
              " ('BA', 'High'),\n",
              " ('BA', 'Low'),\n",
              " ('BA', 'Close'),\n",
              " ('BA', 'Adj Close'),\n",
              " ('BA', 'Volume'),\n",
              " ('AMZN', 'Open'),\n",
              " ('AMZN', 'High'),\n",
              " ('AMZN', 'Low'),\n",
              " ('AMZN', 'Close'),\n",
              " ('AMZN', 'Adj Close'),\n",
              " ('AMZN', 'Volume'),\n",
              " ('AAPL', 'mentions'),\n",
              " ('aapl', 'mentions'),\n",
              " ('goog', 'mentions'),\n",
              " ('amzn', 'mentions'),\n",
              " ('BAC', 'mentions'),\n",
              " ('BA', 'mentions')]"
            ]
          },
          "metadata": {},
          "execution_count": 88
        }
      ],
      "source": [
        "df.columns.to_list()"
      ]
    },
    {
      "cell_type": "code",
      "execution_count": 90,
      "metadata": {},
      "outputs": [],
      "source": [
        "df = df.sort_index(axis=1)"
      ]
    },
    {
      "cell_type": "code",
      "execution_count": 91,
      "metadata": {},
      "outputs": [
        {
          "output_type": "execute_result",
          "data": {
            "text/plain": [
              "                                 AAPL                                      \\\n",
              "                            Adj Close       Close        High         Low   \n",
              "Datetime                                                                    \n",
              "2020-11-24 09:30:00-05:00  113.404999  113.404999  114.029999  112.589996   \n",
              "2020-11-24 10:30:00-05:00  114.919998  114.919998  115.120003  113.339996   \n",
              "2020-11-24 11:30:00-05:00  114.660004  114.660004  115.370003  114.230003   \n",
              "2020-11-24 12:30:00-05:00  115.040001  115.040001  115.309998  114.550697   \n",
              "2020-11-24 13:30:00-05:00  115.074997  115.074997  115.849998  114.970001   \n",
              "...                               ...         ...         ...         ...   \n",
              "2021-02-23 11:30:00-05:00  122.422401  122.422401  123.250000  121.309998   \n",
              "2021-02-23 12:30:00-05:00  123.540001  123.540001  123.750000  121.500000   \n",
              "2021-02-23 13:30:00-05:00  124.750000  124.750000  125.192001  123.459999   \n",
              "2021-02-23 14:30:00-05:00  126.650002  126.650002  126.699997  124.400002   \n",
              "2021-02-23 15:30:00-05:00  125.849998  125.849998  126.709999  125.660004   \n",
              "\n",
              "                                                                 AMZN  \\\n",
              "                                 Open    Volume mentions    Adj Close   \n",
              "Datetime                                                                \n",
              "2020-11-24 09:30:00-05:00  113.839996  33477148     None  3095.270020   \n",
              "2020-11-24 10:30:00-05:00  113.400002  18001545     None  3109.186768   \n",
              "2020-11-24 11:30:00-05:00  114.919998  12525075     None  3114.379883   \n",
              "2020-11-24 12:30:00-05:00  114.669998   8877179     None  3123.050049   \n",
              "2020-11-24 13:30:00-05:00  115.044998  12060020     None  3124.574951   \n",
              "...                               ...       ...      ...          ...   \n",
              "2021-02-23 11:30:00-05:00  123.010101  16440941     None  3154.709961   \n",
              "2021-02-23 12:30:00-05:00  122.419998  16077145     None  3147.000000   \n",
              "2021-02-23 13:30:00-05:00  123.559998  15368938     None  3155.918213   \n",
              "2021-02-23 14:30:00-05:00  124.765602  16831412     None  3196.800049   \n",
              "2021-02-23 15:30:00-05:00  126.639999  10688071     None  3195.649902   \n",
              "\n",
              "                                                     ...      BAC  \\\n",
              "                                 Close         High  ... mentions   \n",
              "Datetime                                             ...            \n",
              "2020-11-24 09:30:00-05:00  3095.270020  3111.235107  ...     None   \n",
              "2020-11-24 10:30:00-05:00  3109.186768  3116.989990  ...     None   \n",
              "2020-11-24 11:30:00-05:00  3114.379883  3120.080078  ...     None   \n",
              "2020-11-24 12:30:00-05:00  3123.050049  3131.264893  ...     None   \n",
              "2020-11-24 13:30:00-05:00  3124.574951  3134.250000  ...     None   \n",
              "...                                ...          ...  ...      ...   \n",
              "2021-02-23 11:30:00-05:00  3154.709961  3156.209961  ...     None   \n",
              "2021-02-23 12:30:00-05:00  3147.000000  3155.419922  ...     None   \n",
              "2021-02-23 13:30:00-05:00  3155.918213  3157.689941  ...     None   \n",
              "2021-02-23 14:30:00-05:00  3196.800049  3197.199951  ...     None   \n",
              "2021-02-23 15:30:00-05:00  3195.649902  3204.729980  ...     None   \n",
              "\n",
              "                                  GOOG                                         \\\n",
              "                             Adj Close        Close         High          Low   \n",
              "Datetime                                                                        \n",
              "2020-11-24 09:30:00-05:00  1732.000000  1732.000000  1741.270020  1727.689941   \n",
              "2020-11-24 10:30:00-05:00  1754.867554  1754.867554  1756.159912  1729.509521   \n",
              "2020-11-24 11:30:00-05:00  1757.959961  1757.959961  1762.949951  1752.180054   \n",
              "2020-11-24 12:30:00-05:00  1761.890015  1761.890015  1765.000000  1757.227783   \n",
              "2020-11-24 13:30:00-05:00  1763.979980  1763.979980  1769.119995  1762.010010   \n",
              "...                                ...          ...          ...          ...   \n",
              "2021-02-23 11:30:00-05:00  2050.850098  2050.850098  2057.639893  2039.020020   \n",
              "2021-02-23 12:30:00-05:00  2047.939941  2047.939941  2052.280029  2023.290039   \n",
              "2021-02-23 13:30:00-05:00  2053.320068  2053.320068  2054.699951  2041.329956   \n",
              "2021-02-23 14:30:00-05:00  2080.120117  2080.120117  2082.010010  2042.469971   \n",
              "2021-02-23 15:30:00-05:00  2071.360107  2071.360107  2079.790039  2066.229980   \n",
              "\n",
              "                                                   aapl     amzn     goog  \n",
              "                                  Open  Volume mentions mentions mentions  \n",
              "Datetime                                                                   \n",
              "2020-11-24 09:30:00-05:00  1730.500000  334548     None     None     None  \n",
              "2020-11-24 10:30:00-05:00  1732.000000  196850     None     None     None  \n",
              "2020-11-24 11:30:00-05:00  1754.859985  127929     None     None     None  \n",
              "2020-11-24 12:30:00-05:00  1757.869995  165173     None     None     None  \n",
              "2020-11-24 13:30:00-05:00  1763.199951  126399     None     None     None  \n",
              "...                                ...     ...      ...      ...      ...  \n",
              "2021-02-23 11:30:00-05:00  2047.760010  144657     None     None     None  \n",
              "2021-02-23 12:30:00-05:00  2050.850098  157659     None     None     None  \n",
              "2021-02-23 13:30:00-05:00  2046.939941  109973     None     None     None  \n",
              "2021-02-23 14:30:00-05:00  2053.320068  158460     None     None     None  \n",
              "2021-02-23 15:30:00-05:00  2079.790039  130558     None     None     None  \n",
              "\n",
              "[421 rows x 36 columns]"
            ],
            "text/html": "<div>\n<style scoped>\n    .dataframe tbody tr th:only-of-type {\n        vertical-align: middle;\n    }\n\n    .dataframe tbody tr th {\n        vertical-align: top;\n    }\n\n    .dataframe thead tr th {\n        text-align: left;\n    }\n\n    .dataframe thead tr:last-of-type th {\n        text-align: right;\n    }\n</style>\n<table border=\"1\" class=\"dataframe\">\n  <thead>\n    <tr>\n      <th></th>\n      <th colspan=\"7\" halign=\"left\">AAPL</th>\n      <th colspan=\"3\" halign=\"left\">AMZN</th>\n      <th>...</th>\n      <th>BAC</th>\n      <th colspan=\"6\" halign=\"left\">GOOG</th>\n      <th>aapl</th>\n      <th>amzn</th>\n      <th>goog</th>\n    </tr>\n    <tr>\n      <th></th>\n      <th>Adj Close</th>\n      <th>Close</th>\n      <th>High</th>\n      <th>Low</th>\n      <th>Open</th>\n      <th>Volume</th>\n      <th>mentions</th>\n      <th>Adj Close</th>\n      <th>Close</th>\n      <th>High</th>\n      <th>...</th>\n      <th>mentions</th>\n      <th>Adj Close</th>\n      <th>Close</th>\n      <th>High</th>\n      <th>Low</th>\n      <th>Open</th>\n      <th>Volume</th>\n      <th>mentions</th>\n      <th>mentions</th>\n      <th>mentions</th>\n    </tr>\n    <tr>\n      <th>Datetime</th>\n      <th></th>\n      <th></th>\n      <th></th>\n      <th></th>\n      <th></th>\n      <th></th>\n      <th></th>\n      <th></th>\n      <th></th>\n      <th></th>\n      <th></th>\n      <th></th>\n      <th></th>\n      <th></th>\n      <th></th>\n      <th></th>\n      <th></th>\n      <th></th>\n      <th></th>\n      <th></th>\n      <th></th>\n    </tr>\n  </thead>\n  <tbody>\n    <tr>\n      <th>2020-11-24 09:30:00-05:00</th>\n      <td>113.404999</td>\n      <td>113.404999</td>\n      <td>114.029999</td>\n      <td>112.589996</td>\n      <td>113.839996</td>\n      <td>33477148</td>\n      <td>None</td>\n      <td>3095.270020</td>\n      <td>3095.270020</td>\n      <td>3111.235107</td>\n      <td>...</td>\n      <td>None</td>\n      <td>1732.000000</td>\n      <td>1732.000000</td>\n      <td>1741.270020</td>\n      <td>1727.689941</td>\n      <td>1730.500000</td>\n      <td>334548</td>\n      <td>None</td>\n      <td>None</td>\n      <td>None</td>\n    </tr>\n    <tr>\n      <th>2020-11-24 10:30:00-05:00</th>\n      <td>114.919998</td>\n      <td>114.919998</td>\n      <td>115.120003</td>\n      <td>113.339996</td>\n      <td>113.400002</td>\n      <td>18001545</td>\n      <td>None</td>\n      <td>3109.186768</td>\n      <td>3109.186768</td>\n      <td>3116.989990</td>\n      <td>...</td>\n      <td>None</td>\n      <td>1754.867554</td>\n      <td>1754.867554</td>\n      <td>1756.159912</td>\n      <td>1729.509521</td>\n      <td>1732.000000</td>\n      <td>196850</td>\n      <td>None</td>\n      <td>None</td>\n      <td>None</td>\n    </tr>\n    <tr>\n      <th>2020-11-24 11:30:00-05:00</th>\n      <td>114.660004</td>\n      <td>114.660004</td>\n      <td>115.370003</td>\n      <td>114.230003</td>\n      <td>114.919998</td>\n      <td>12525075</td>\n      <td>None</td>\n      <td>3114.379883</td>\n      <td>3114.379883</td>\n      <td>3120.080078</td>\n      <td>...</td>\n      <td>None</td>\n      <td>1757.959961</td>\n      <td>1757.959961</td>\n      <td>1762.949951</td>\n      <td>1752.180054</td>\n      <td>1754.859985</td>\n      <td>127929</td>\n      <td>None</td>\n      <td>None</td>\n      <td>None</td>\n    </tr>\n    <tr>\n      <th>2020-11-24 12:30:00-05:00</th>\n      <td>115.040001</td>\n      <td>115.040001</td>\n      <td>115.309998</td>\n      <td>114.550697</td>\n      <td>114.669998</td>\n      <td>8877179</td>\n      <td>None</td>\n      <td>3123.050049</td>\n      <td>3123.050049</td>\n      <td>3131.264893</td>\n      <td>...</td>\n      <td>None</td>\n      <td>1761.890015</td>\n      <td>1761.890015</td>\n      <td>1765.000000</td>\n      <td>1757.227783</td>\n      <td>1757.869995</td>\n      <td>165173</td>\n      <td>None</td>\n      <td>None</td>\n      <td>None</td>\n    </tr>\n    <tr>\n      <th>2020-11-24 13:30:00-05:00</th>\n      <td>115.074997</td>\n      <td>115.074997</td>\n      <td>115.849998</td>\n      <td>114.970001</td>\n      <td>115.044998</td>\n      <td>12060020</td>\n      <td>None</td>\n      <td>3124.574951</td>\n      <td>3124.574951</td>\n      <td>3134.250000</td>\n      <td>...</td>\n      <td>None</td>\n      <td>1763.979980</td>\n      <td>1763.979980</td>\n      <td>1769.119995</td>\n      <td>1762.010010</td>\n      <td>1763.199951</td>\n      <td>126399</td>\n      <td>None</td>\n      <td>None</td>\n      <td>None</td>\n    </tr>\n    <tr>\n      <th>...</th>\n      <td>...</td>\n      <td>...</td>\n      <td>...</td>\n      <td>...</td>\n      <td>...</td>\n      <td>...</td>\n      <td>...</td>\n      <td>...</td>\n      <td>...</td>\n      <td>...</td>\n      <td>...</td>\n      <td>...</td>\n      <td>...</td>\n      <td>...</td>\n      <td>...</td>\n      <td>...</td>\n      <td>...</td>\n      <td>...</td>\n      <td>...</td>\n      <td>...</td>\n      <td>...</td>\n    </tr>\n    <tr>\n      <th>2021-02-23 11:30:00-05:00</th>\n      <td>122.422401</td>\n      <td>122.422401</td>\n      <td>123.250000</td>\n      <td>121.309998</td>\n      <td>123.010101</td>\n      <td>16440941</td>\n      <td>None</td>\n      <td>3154.709961</td>\n      <td>3154.709961</td>\n      <td>3156.209961</td>\n      <td>...</td>\n      <td>None</td>\n      <td>2050.850098</td>\n      <td>2050.850098</td>\n      <td>2057.639893</td>\n      <td>2039.020020</td>\n      <td>2047.760010</td>\n      <td>144657</td>\n      <td>None</td>\n      <td>None</td>\n      <td>None</td>\n    </tr>\n    <tr>\n      <th>2021-02-23 12:30:00-05:00</th>\n      <td>123.540001</td>\n      <td>123.540001</td>\n      <td>123.750000</td>\n      <td>121.500000</td>\n      <td>122.419998</td>\n      <td>16077145</td>\n      <td>None</td>\n      <td>3147.000000</td>\n      <td>3147.000000</td>\n      <td>3155.419922</td>\n      <td>...</td>\n      <td>None</td>\n      <td>2047.939941</td>\n      <td>2047.939941</td>\n      <td>2052.280029</td>\n      <td>2023.290039</td>\n      <td>2050.850098</td>\n      <td>157659</td>\n      <td>None</td>\n      <td>None</td>\n      <td>None</td>\n    </tr>\n    <tr>\n      <th>2021-02-23 13:30:00-05:00</th>\n      <td>124.750000</td>\n      <td>124.750000</td>\n      <td>125.192001</td>\n      <td>123.459999</td>\n      <td>123.559998</td>\n      <td>15368938</td>\n      <td>None</td>\n      <td>3155.918213</td>\n      <td>3155.918213</td>\n      <td>3157.689941</td>\n      <td>...</td>\n      <td>None</td>\n      <td>2053.320068</td>\n      <td>2053.320068</td>\n      <td>2054.699951</td>\n      <td>2041.329956</td>\n      <td>2046.939941</td>\n      <td>109973</td>\n      <td>None</td>\n      <td>None</td>\n      <td>None</td>\n    </tr>\n    <tr>\n      <th>2021-02-23 14:30:00-05:00</th>\n      <td>126.650002</td>\n      <td>126.650002</td>\n      <td>126.699997</td>\n      <td>124.400002</td>\n      <td>124.765602</td>\n      <td>16831412</td>\n      <td>None</td>\n      <td>3196.800049</td>\n      <td>3196.800049</td>\n      <td>3197.199951</td>\n      <td>...</td>\n      <td>None</td>\n      <td>2080.120117</td>\n      <td>2080.120117</td>\n      <td>2082.010010</td>\n      <td>2042.469971</td>\n      <td>2053.320068</td>\n      <td>158460</td>\n      <td>None</td>\n      <td>None</td>\n      <td>None</td>\n    </tr>\n    <tr>\n      <th>2021-02-23 15:30:00-05:00</th>\n      <td>125.849998</td>\n      <td>125.849998</td>\n      <td>126.709999</td>\n      <td>125.660004</td>\n      <td>126.639999</td>\n      <td>10688071</td>\n      <td>None</td>\n      <td>3195.649902</td>\n      <td>3195.649902</td>\n      <td>3204.729980</td>\n      <td>...</td>\n      <td>None</td>\n      <td>2071.360107</td>\n      <td>2071.360107</td>\n      <td>2079.790039</td>\n      <td>2066.229980</td>\n      <td>2079.790039</td>\n      <td>130558</td>\n      <td>None</td>\n      <td>None</td>\n      <td>None</td>\n    </tr>\n  </tbody>\n</table>\n<p>421 rows × 36 columns</p>\n</div>"
          },
          "metadata": {},
          "execution_count": 91
        }
      ],
      "source": [
        "df"
      ]
    },
    {
      "cell_type": "code",
      "execution_count": 74,
      "metadata": {},
      "outputs": [
        {
          "output_type": "execute_result",
          "data": {
            "text/plain": [
              "                                Open       High        Low      Close  \\\n",
              "Datetime                                                                \n",
              "2020-11-24 09:30:00-05:00  27.930000  28.495001  27.920000  28.480101   \n",
              "2020-11-24 10:30:00-05:00  28.480000  28.530001  28.270000  28.395000   \n",
              "2020-11-24 11:30:00-05:00  28.400000  28.799999  28.379999  28.617399   \n",
              "2020-11-24 12:30:00-05:00  28.615499  28.780001  28.520000  28.645000   \n",
              "2020-11-24 13:30:00-05:00  28.645000  28.660000  28.500000  28.540001   \n",
              "...                              ...        ...        ...        ...   \n",
              "2021-02-23 11:30:00-05:00  35.560001  35.649899  35.470001  35.525002   \n",
              "2021-02-23 12:30:00-05:00  35.529999  35.560001  35.380001  35.450001   \n",
              "2021-02-23 13:30:00-05:00  35.455002  35.480000  35.340000  35.445000   \n",
              "2021-02-23 14:30:00-05:00  35.439999  35.540001  35.310101  35.474998   \n",
              "2021-02-23 15:30:00-05:00  35.474998  35.560001  35.410000  35.540001   \n",
              "\n",
              "                           Adj Close    Volume  \n",
              "Datetime                                        \n",
              "2020-11-24 09:30:00-05:00  28.480101  25595049  \n",
              "2020-11-24 10:30:00-05:00  28.395000   9278188  \n",
              "2020-11-24 11:30:00-05:00  28.617399   7983811  \n",
              "2020-11-24 12:30:00-05:00  28.645000   5965121  \n",
              "2020-11-24 13:30:00-05:00  28.540001   5132400  \n",
              "...                              ...       ...  \n",
              "2021-02-23 11:30:00-05:00  35.525002   7383661  \n",
              "2021-02-23 12:30:00-05:00  35.450001   7011086  \n",
              "2021-02-23 13:30:00-05:00  35.445000   4156900  \n",
              "2021-02-23 14:30:00-05:00  35.474998   7481272  \n",
              "2021-02-23 15:30:00-05:00  35.540001   6229212  \n",
              "\n",
              "[421 rows x 6 columns]"
            ],
            "text/html": "<div>\n<style scoped>\n    .dataframe tbody tr th:only-of-type {\n        vertical-align: middle;\n    }\n\n    .dataframe tbody tr th {\n        vertical-align: top;\n    }\n\n    .dataframe thead th {\n        text-align: right;\n    }\n</style>\n<table border=\"1\" class=\"dataframe\">\n  <thead>\n    <tr style=\"text-align: right;\">\n      <th></th>\n      <th>Open</th>\n      <th>High</th>\n      <th>Low</th>\n      <th>Close</th>\n      <th>Adj Close</th>\n      <th>Volume</th>\n    </tr>\n    <tr>\n      <th>Datetime</th>\n      <th></th>\n      <th></th>\n      <th></th>\n      <th></th>\n      <th></th>\n      <th></th>\n    </tr>\n  </thead>\n  <tbody>\n    <tr>\n      <th>2020-11-24 09:30:00-05:00</th>\n      <td>27.930000</td>\n      <td>28.495001</td>\n      <td>27.920000</td>\n      <td>28.480101</td>\n      <td>28.480101</td>\n      <td>25595049</td>\n    </tr>\n    <tr>\n      <th>2020-11-24 10:30:00-05:00</th>\n      <td>28.480000</td>\n      <td>28.530001</td>\n      <td>28.270000</td>\n      <td>28.395000</td>\n      <td>28.395000</td>\n      <td>9278188</td>\n    </tr>\n    <tr>\n      <th>2020-11-24 11:30:00-05:00</th>\n      <td>28.400000</td>\n      <td>28.799999</td>\n      <td>28.379999</td>\n      <td>28.617399</td>\n      <td>28.617399</td>\n      <td>7983811</td>\n    </tr>\n    <tr>\n      <th>2020-11-24 12:30:00-05:00</th>\n      <td>28.615499</td>\n      <td>28.780001</td>\n      <td>28.520000</td>\n      <td>28.645000</td>\n      <td>28.645000</td>\n      <td>5965121</td>\n    </tr>\n    <tr>\n      <th>2020-11-24 13:30:00-05:00</th>\n      <td>28.645000</td>\n      <td>28.660000</td>\n      <td>28.500000</td>\n      <td>28.540001</td>\n      <td>28.540001</td>\n      <td>5132400</td>\n    </tr>\n    <tr>\n      <th>...</th>\n      <td>...</td>\n      <td>...</td>\n      <td>...</td>\n      <td>...</td>\n      <td>...</td>\n      <td>...</td>\n    </tr>\n    <tr>\n      <th>2021-02-23 11:30:00-05:00</th>\n      <td>35.560001</td>\n      <td>35.649899</td>\n      <td>35.470001</td>\n      <td>35.525002</td>\n      <td>35.525002</td>\n      <td>7383661</td>\n    </tr>\n    <tr>\n      <th>2021-02-23 12:30:00-05:00</th>\n      <td>35.529999</td>\n      <td>35.560001</td>\n      <td>35.380001</td>\n      <td>35.450001</td>\n      <td>35.450001</td>\n      <td>7011086</td>\n    </tr>\n    <tr>\n      <th>2021-02-23 13:30:00-05:00</th>\n      <td>35.455002</td>\n      <td>35.480000</td>\n      <td>35.340000</td>\n      <td>35.445000</td>\n      <td>35.445000</td>\n      <td>4156900</td>\n    </tr>\n    <tr>\n      <th>2021-02-23 14:30:00-05:00</th>\n      <td>35.439999</td>\n      <td>35.540001</td>\n      <td>35.310101</td>\n      <td>35.474998</td>\n      <td>35.474998</td>\n      <td>7481272</td>\n    </tr>\n    <tr>\n      <th>2021-02-23 15:30:00-05:00</th>\n      <td>35.474998</td>\n      <td>35.560001</td>\n      <td>35.410000</td>\n      <td>35.540001</td>\n      <td>35.540001</td>\n      <td>6229212</td>\n    </tr>\n  </tbody>\n</table>\n<p>421 rows × 6 columns</p>\n</div>"
          },
          "metadata": {},
          "execution_count": 74
        }
      ],
      "source": []
    },
    {
      "cell_type": "code",
      "metadata": {
        "id": "fmk4HwjL3mTq"
      },
      "source": [
        "df[\"timestamp\"] = df.index"
      ],
      "execution_count": 16,
      "outputs": []
    },
    {
      "cell_type": "code",
      "metadata": {
        "colab": {
          "base_uri": "https://localhost:8080/",
          "height": 1000
        },
        "id": "i_TH_8Mlqiv0",
        "outputId": "45300e17-1850-4cec-f748-20812899120f"
      },
      "source": [
        "df"
      ],
      "execution_count": 17,
      "outputs": [
        {
          "output_type": "execute_result",
          "data": {
            "text/plain": [
              "                                  AMZN                                         \\\n",
              "                                  Open         High          Low        Close   \n",
              "Datetime                                                                        \n",
              "2020-11-24 09:30:00-05:00  3100.500000  3111.235107  3086.258057  3095.270020   \n",
              "2020-11-24 10:30:00-05:00  3094.689941  3116.989990  3093.010010  3109.186768   \n",
              "2020-11-24 11:30:00-05:00  3108.389893  3120.080078  3105.000000  3114.379883   \n",
              "2020-11-24 12:30:00-05:00  3113.850098  3131.264893  3113.794922  3123.050049   \n",
              "2020-11-24 13:30:00-05:00  3124.409912  3134.250000  3123.300049  3124.574951   \n",
              "...                                ...          ...          ...          ...   \n",
              "2021-02-23 11:30:00-05:00  3141.697510  3156.209961  3133.070068  3154.709961   \n",
              "2021-02-23 12:30:00-05:00  3153.935059  3155.419922  3123.010010  3147.000000   \n",
              "2021-02-23 13:30:00-05:00  3144.395996  3157.689941  3135.419922  3155.918213   \n",
              "2021-02-23 14:30:00-05:00  3156.939941  3197.199951  3143.030029  3196.800049   \n",
              "2021-02-23 15:30:00-05:00  3197.199951  3204.729980  3187.760010  3195.649902   \n",
              "\n",
              "                                                         BA              \\\n",
              "                             Adj Close   Volume        Open        High   \n",
              "Datetime                                                                  \n",
              "2020-11-24 09:30:00-05:00  3095.270020  1056662  219.429993  222.949997   \n",
              "2020-11-24 10:30:00-05:00  3109.186768   547723  222.184998  222.241104   \n",
              "2020-11-24 11:30:00-05:00  3114.379883   374198  220.345001  221.383408   \n",
              "2020-11-24 12:30:00-05:00  3123.050049   421525  221.059998  221.289993   \n",
              "2020-11-24 13:30:00-05:00  3124.574951   314198  219.516098  220.080002   \n",
              "...                                ...      ...         ...         ...   \n",
              "2021-02-23 11:30:00-05:00  3154.709961   341532  211.410004  212.627701   \n",
              "2021-02-23 12:30:00-05:00  3147.000000   301392  209.039993  210.059998   \n",
              "2021-02-23 13:30:00-05:00  3155.918213  1018632  209.940002  211.369995   \n",
              "2021-02-23 14:30:00-05:00  3196.800049   408092  211.110001  212.959900   \n",
              "2021-02-23 15:30:00-05:00  3195.649902   418972  212.880005  213.449997   \n",
              "\n",
              "                                                   ...         GOOG  \\\n",
              "                                  Low       Close  ...        Close   \n",
              "Datetime                                           ...                \n",
              "2020-11-24 09:30:00-05:00  215.759995  222.119995  ...  1732.000000   \n",
              "2020-11-24 10:30:00-05:00  216.990005  220.350006  ...  1754.867554   \n",
              "2020-11-24 11:30:00-05:00  217.850006  221.059998  ...  1757.959961   \n",
              "2020-11-24 12:30:00-05:00  218.890900  219.529999  ...  1761.890015   \n",
              "2020-11-24 13:30:00-05:00  217.360001  217.729996  ...  1763.979980   \n",
              "...                               ...         ...  ...          ...   \n",
              "2021-02-23 11:30:00-05:00  208.444107  209.035004  ...  2050.850098   \n",
              "2021-02-23 12:30:00-05:00  207.410004  209.889999  ...  2047.939941   \n",
              "2021-02-23 13:30:00-05:00  208.929993  211.164993  ...  2053.320068   \n",
              "2021-02-23 14:30:00-05:00  210.169998  212.845001  ...  2080.120117   \n",
              "2021-02-23 15:30:00-05:00  211.970001  212.130005  ...  2071.360107   \n",
              "\n",
              "                                                      BAC             \\\n",
              "                             Adj Close  Volume       Open       High   \n",
              "Datetime                                                               \n",
              "2020-11-24 09:30:00-05:00  1732.000000  334548  27.930000  28.495001   \n",
              "2020-11-24 10:30:00-05:00  1754.867554  196850  28.480000  28.530001   \n",
              "2020-11-24 11:30:00-05:00  1757.959961  127929  28.400000  28.799999   \n",
              "2020-11-24 12:30:00-05:00  1761.890015  165173  28.615499  28.780001   \n",
              "2020-11-24 13:30:00-05:00  1763.979980  126399  28.645000  28.660000   \n",
              "...                                ...     ...        ...        ...   \n",
              "2021-02-23 11:30:00-05:00  2050.850098  144657  35.560001  35.649899   \n",
              "2021-02-23 12:30:00-05:00  2047.939941  157659  35.529999  35.560001   \n",
              "2021-02-23 13:30:00-05:00  2053.320068  109973  35.455002  35.480000   \n",
              "2021-02-23 14:30:00-05:00  2080.120117  158460  35.439999  35.540001   \n",
              "2021-02-23 15:30:00-05:00  2071.360107  130558  35.474998  35.560001   \n",
              "\n",
              "                                                                      \\\n",
              "                                 Low      Close  Adj Close    Volume   \n",
              "Datetime                                                               \n",
              "2020-11-24 09:30:00-05:00  27.920000  28.480101  28.480101  25595049   \n",
              "2020-11-24 10:30:00-05:00  28.270000  28.395000  28.395000   9278188   \n",
              "2020-11-24 11:30:00-05:00  28.379999  28.617399  28.617399   7983811   \n",
              "2020-11-24 12:30:00-05:00  28.520000  28.645000  28.645000   5965121   \n",
              "2020-11-24 13:30:00-05:00  28.500000  28.540001  28.540001   5132400   \n",
              "...                              ...        ...        ...       ...   \n",
              "2021-02-23 11:30:00-05:00  35.470001  35.525002  35.525002   7383661   \n",
              "2021-02-23 12:30:00-05:00  35.380001  35.450001  35.450001   7011086   \n",
              "2021-02-23 13:30:00-05:00  35.340000  35.445000  35.445000   4156900   \n",
              "2021-02-23 14:30:00-05:00  35.310101  35.474998  35.474998   7481272   \n",
              "2021-02-23 15:30:00-05:00  35.410000  35.540001  35.540001   6229212   \n",
              "\n",
              "                                          timestamp  \n",
              "                                                     \n",
              "Datetime                                             \n",
              "2020-11-24 09:30:00-05:00 2020-11-24 09:30:00-05:00  \n",
              "2020-11-24 10:30:00-05:00 2020-11-24 10:30:00-05:00  \n",
              "2020-11-24 11:30:00-05:00 2020-11-24 11:30:00-05:00  \n",
              "2020-11-24 12:30:00-05:00 2020-11-24 12:30:00-05:00  \n",
              "2020-11-24 13:30:00-05:00 2020-11-24 13:30:00-05:00  \n",
              "...                                             ...  \n",
              "2021-02-23 11:30:00-05:00 2021-02-23 11:30:00-05:00  \n",
              "2021-02-23 12:30:00-05:00 2021-02-23 12:30:00-05:00  \n",
              "2021-02-23 13:30:00-05:00 2021-02-23 13:30:00-05:00  \n",
              "2021-02-23 14:30:00-05:00 2021-02-23 14:30:00-05:00  \n",
              "2021-02-23 15:30:00-05:00 2021-02-23 15:30:00-05:00  \n",
              "\n",
              "[421 rows x 31 columns]"
            ],
            "text/html": "<div>\n<style scoped>\n    .dataframe tbody tr th:only-of-type {\n        vertical-align: middle;\n    }\n\n    .dataframe tbody tr th {\n        vertical-align: top;\n    }\n\n    .dataframe thead tr th {\n        text-align: left;\n    }\n\n    .dataframe thead tr:last-of-type th {\n        text-align: right;\n    }\n</style>\n<table border=\"1\" class=\"dataframe\">\n  <thead>\n    <tr>\n      <th></th>\n      <th colspan=\"6\" halign=\"left\">AMZN</th>\n      <th colspan=\"4\" halign=\"left\">BA</th>\n      <th>...</th>\n      <th colspan=\"3\" halign=\"left\">GOOG</th>\n      <th colspan=\"6\" halign=\"left\">BAC</th>\n      <th>timestamp</th>\n    </tr>\n    <tr>\n      <th></th>\n      <th>Open</th>\n      <th>High</th>\n      <th>Low</th>\n      <th>Close</th>\n      <th>Adj Close</th>\n      <th>Volume</th>\n      <th>Open</th>\n      <th>High</th>\n      <th>Low</th>\n      <th>Close</th>\n      <th>...</th>\n      <th>Close</th>\n      <th>Adj Close</th>\n      <th>Volume</th>\n      <th>Open</th>\n      <th>High</th>\n      <th>Low</th>\n      <th>Close</th>\n      <th>Adj Close</th>\n      <th>Volume</th>\n      <th></th>\n    </tr>\n    <tr>\n      <th>Datetime</th>\n      <th></th>\n      <th></th>\n      <th></th>\n      <th></th>\n      <th></th>\n      <th></th>\n      <th></th>\n      <th></th>\n      <th></th>\n      <th></th>\n      <th></th>\n      <th></th>\n      <th></th>\n      <th></th>\n      <th></th>\n      <th></th>\n      <th></th>\n      <th></th>\n      <th></th>\n      <th></th>\n      <th></th>\n    </tr>\n  </thead>\n  <tbody>\n    <tr>\n      <th>2020-11-24 09:30:00-05:00</th>\n      <td>3100.500000</td>\n      <td>3111.235107</td>\n      <td>3086.258057</td>\n      <td>3095.270020</td>\n      <td>3095.270020</td>\n      <td>1056662</td>\n      <td>219.429993</td>\n      <td>222.949997</td>\n      <td>215.759995</td>\n      <td>222.119995</td>\n      <td>...</td>\n      <td>1732.000000</td>\n      <td>1732.000000</td>\n      <td>334548</td>\n      <td>27.930000</td>\n      <td>28.495001</td>\n      <td>27.920000</td>\n      <td>28.480101</td>\n      <td>28.480101</td>\n      <td>25595049</td>\n      <td>2020-11-24 09:30:00-05:00</td>\n    </tr>\n    <tr>\n      <th>2020-11-24 10:30:00-05:00</th>\n      <td>3094.689941</td>\n      <td>3116.989990</td>\n      <td>3093.010010</td>\n      <td>3109.186768</td>\n      <td>3109.186768</td>\n      <td>547723</td>\n      <td>222.184998</td>\n      <td>222.241104</td>\n      <td>216.990005</td>\n      <td>220.350006</td>\n      <td>...</td>\n      <td>1754.867554</td>\n      <td>1754.867554</td>\n      <td>196850</td>\n      <td>28.480000</td>\n      <td>28.530001</td>\n      <td>28.270000</td>\n      <td>28.395000</td>\n      <td>28.395000</td>\n      <td>9278188</td>\n      <td>2020-11-24 10:30:00-05:00</td>\n    </tr>\n    <tr>\n      <th>2020-11-24 11:30:00-05:00</th>\n      <td>3108.389893</td>\n      <td>3120.080078</td>\n      <td>3105.000000</td>\n      <td>3114.379883</td>\n      <td>3114.379883</td>\n      <td>374198</td>\n      <td>220.345001</td>\n      <td>221.383408</td>\n      <td>217.850006</td>\n      <td>221.059998</td>\n      <td>...</td>\n      <td>1757.959961</td>\n      <td>1757.959961</td>\n      <td>127929</td>\n      <td>28.400000</td>\n      <td>28.799999</td>\n      <td>28.379999</td>\n      <td>28.617399</td>\n      <td>28.617399</td>\n      <td>7983811</td>\n      <td>2020-11-24 11:30:00-05:00</td>\n    </tr>\n    <tr>\n      <th>2020-11-24 12:30:00-05:00</th>\n      <td>3113.850098</td>\n      <td>3131.264893</td>\n      <td>3113.794922</td>\n      <td>3123.050049</td>\n      <td>3123.050049</td>\n      <td>421525</td>\n      <td>221.059998</td>\n      <td>221.289993</td>\n      <td>218.890900</td>\n      <td>219.529999</td>\n      <td>...</td>\n      <td>1761.890015</td>\n      <td>1761.890015</td>\n      <td>165173</td>\n      <td>28.615499</td>\n      <td>28.780001</td>\n      <td>28.520000</td>\n      <td>28.645000</td>\n      <td>28.645000</td>\n      <td>5965121</td>\n      <td>2020-11-24 12:30:00-05:00</td>\n    </tr>\n    <tr>\n      <th>2020-11-24 13:30:00-05:00</th>\n      <td>3124.409912</td>\n      <td>3134.250000</td>\n      <td>3123.300049</td>\n      <td>3124.574951</td>\n      <td>3124.574951</td>\n      <td>314198</td>\n      <td>219.516098</td>\n      <td>220.080002</td>\n      <td>217.360001</td>\n      <td>217.729996</td>\n      <td>...</td>\n      <td>1763.979980</td>\n      <td>1763.979980</td>\n      <td>126399</td>\n      <td>28.645000</td>\n      <td>28.660000</td>\n      <td>28.500000</td>\n      <td>28.540001</td>\n      <td>28.540001</td>\n      <td>5132400</td>\n      <td>2020-11-24 13:30:00-05:00</td>\n    </tr>\n    <tr>\n      <th>...</th>\n      <td>...</td>\n      <td>...</td>\n      <td>...</td>\n      <td>...</td>\n      <td>...</td>\n      <td>...</td>\n      <td>...</td>\n      <td>...</td>\n      <td>...</td>\n      <td>...</td>\n      <td>...</td>\n      <td>...</td>\n      <td>...</td>\n      <td>...</td>\n      <td>...</td>\n      <td>...</td>\n      <td>...</td>\n      <td>...</td>\n      <td>...</td>\n      <td>...</td>\n      <td>...</td>\n    </tr>\n    <tr>\n      <th>2021-02-23 11:30:00-05:00</th>\n      <td>3141.697510</td>\n      <td>3156.209961</td>\n      <td>3133.070068</td>\n      <td>3154.709961</td>\n      <td>3154.709961</td>\n      <td>341532</td>\n      <td>211.410004</td>\n      <td>212.627701</td>\n      <td>208.444107</td>\n      <td>209.035004</td>\n      <td>...</td>\n      <td>2050.850098</td>\n      <td>2050.850098</td>\n      <td>144657</td>\n      <td>35.560001</td>\n      <td>35.649899</td>\n      <td>35.470001</td>\n      <td>35.525002</td>\n      <td>35.525002</td>\n      <td>7383661</td>\n      <td>2021-02-23 11:30:00-05:00</td>\n    </tr>\n    <tr>\n      <th>2021-02-23 12:30:00-05:00</th>\n      <td>3153.935059</td>\n      <td>3155.419922</td>\n      <td>3123.010010</td>\n      <td>3147.000000</td>\n      <td>3147.000000</td>\n      <td>301392</td>\n      <td>209.039993</td>\n      <td>210.059998</td>\n      <td>207.410004</td>\n      <td>209.889999</td>\n      <td>...</td>\n      <td>2047.939941</td>\n      <td>2047.939941</td>\n      <td>157659</td>\n      <td>35.529999</td>\n      <td>35.560001</td>\n      <td>35.380001</td>\n      <td>35.450001</td>\n      <td>35.450001</td>\n      <td>7011086</td>\n      <td>2021-02-23 12:30:00-05:00</td>\n    </tr>\n    <tr>\n      <th>2021-02-23 13:30:00-05:00</th>\n      <td>3144.395996</td>\n      <td>3157.689941</td>\n      <td>3135.419922</td>\n      <td>3155.918213</td>\n      <td>3155.918213</td>\n      <td>1018632</td>\n      <td>209.940002</td>\n      <td>211.369995</td>\n      <td>208.929993</td>\n      <td>211.164993</td>\n      <td>...</td>\n      <td>2053.320068</td>\n      <td>2053.320068</td>\n      <td>109973</td>\n      <td>35.455002</td>\n      <td>35.480000</td>\n      <td>35.340000</td>\n      <td>35.445000</td>\n      <td>35.445000</td>\n      <td>4156900</td>\n      <td>2021-02-23 13:30:00-05:00</td>\n    </tr>\n    <tr>\n      <th>2021-02-23 14:30:00-05:00</th>\n      <td>3156.939941</td>\n      <td>3197.199951</td>\n      <td>3143.030029</td>\n      <td>3196.800049</td>\n      <td>3196.800049</td>\n      <td>408092</td>\n      <td>211.110001</td>\n      <td>212.959900</td>\n      <td>210.169998</td>\n      <td>212.845001</td>\n      <td>...</td>\n      <td>2080.120117</td>\n      <td>2080.120117</td>\n      <td>158460</td>\n      <td>35.439999</td>\n      <td>35.540001</td>\n      <td>35.310101</td>\n      <td>35.474998</td>\n      <td>35.474998</td>\n      <td>7481272</td>\n      <td>2021-02-23 14:30:00-05:00</td>\n    </tr>\n    <tr>\n      <th>2021-02-23 15:30:00-05:00</th>\n      <td>3197.199951</td>\n      <td>3204.729980</td>\n      <td>3187.760010</td>\n      <td>3195.649902</td>\n      <td>3195.649902</td>\n      <td>418972</td>\n      <td>212.880005</td>\n      <td>213.449997</td>\n      <td>211.970001</td>\n      <td>212.130005</td>\n      <td>...</td>\n      <td>2071.360107</td>\n      <td>2071.360107</td>\n      <td>130558</td>\n      <td>35.474998</td>\n      <td>35.560001</td>\n      <td>35.410000</td>\n      <td>35.540001</td>\n      <td>35.540001</td>\n      <td>6229212</td>\n      <td>2021-02-23 15:30:00-05:00</td>\n    </tr>\n  </tbody>\n</table>\n<p>421 rows × 31 columns</p>\n</div>"
          },
          "metadata": {},
          "execution_count": 17
        }
      ]
    },
    {
      "cell_type": "code",
      "metadata": {
        "id": "3u3e8Gzy6vnf"
      },
      "source": [
        "for i in df:\n",
        "  df[i][\"timestamp\"] = df.index"
      ],
      "execution_count": 18,
      "outputs": []
    },
    {
      "cell_type": "code",
      "metadata": {
        "colab": {
          "base_uri": "https://localhost:8080/",
          "height": 450
        },
        "id": "ZkrbI8XkRHfK",
        "outputId": "42173d5f-bdb6-4d87-a6ba-3e0154e98b84"
      },
      "source": [
        "df.stack()"
      ],
      "execution_count": 19,
      "outputs": [
        {
          "output_type": "execute_result",
          "data": {
            "text/plain": [
              "                                              AMZN            BA  \\\n",
              "Datetime                                                           \n",
              "2020-11-24 09:30:00-05:00 Open         3100.500000  2.194300e+02   \n",
              "                          High         3111.235107  2.229500e+02   \n",
              "                          Low          3086.258057  2.157600e+02   \n",
              "                          Close        3095.270020  2.221200e+02   \n",
              "                          Adj Close    3095.270020  2.221200e+02   \n",
              "...                                            ...           ...   \n",
              "2021-02-23 15:30:00-05:00 Low          3187.760010  2.119700e+02   \n",
              "                          Close        3195.649902  2.121300e+02   \n",
              "                          Adj Close    3195.649902  2.121300e+02   \n",
              "                          Volume     418972.000000  1.041122e+06   \n",
              "                                               NaN           NaN   \n",
              "\n",
              "                                             AAPL           GOOG  \\\n",
              "Datetime                                                           \n",
              "2020-11-24 09:30:00-05:00 Open       1.138400e+02    1730.500000   \n",
              "                          High       1.140300e+02    1741.270020   \n",
              "                          Low        1.125900e+02    1727.689941   \n",
              "                          Close      1.134050e+02    1732.000000   \n",
              "                          Adj Close  1.134050e+02    1732.000000   \n",
              "...                                           ...            ...   \n",
              "2021-02-23 15:30:00-05:00 Low        1.256600e+02    2066.229980   \n",
              "                          Close      1.258500e+02    2071.360107   \n",
              "                          Adj Close  1.258500e+02    2071.360107   \n",
              "                          Volume     1.068807e+07  130558.000000   \n",
              "                                              NaN            NaN   \n",
              "\n",
              "                                              BAC                 timestamp  \n",
              "Datetime                                                                     \n",
              "2020-11-24 09:30:00-05:00 Open       2.793000e+01                       NaT  \n",
              "                          High       2.849500e+01                       NaT  \n",
              "                          Low        2.792000e+01                       NaT  \n",
              "                          Close      2.848010e+01                       NaT  \n",
              "                          Adj Close  2.848010e+01                       NaT  \n",
              "...                                           ...                       ...  \n",
              "2021-02-23 15:30:00-05:00 Low        3.541000e+01                       NaT  \n",
              "                          Close      3.554000e+01                       NaT  \n",
              "                          Adj Close  3.554000e+01                       NaT  \n",
              "                          Volume     6.229212e+06                       NaT  \n",
              "                                              NaN 2021-02-23 15:30:00-05:00  \n",
              "\n",
              "[2947 rows x 6 columns]"
            ],
            "text/html": "<div>\n<style scoped>\n    .dataframe tbody tr th:only-of-type {\n        vertical-align: middle;\n    }\n\n    .dataframe tbody tr th {\n        vertical-align: top;\n    }\n\n    .dataframe thead th {\n        text-align: right;\n    }\n</style>\n<table border=\"1\" class=\"dataframe\">\n  <thead>\n    <tr style=\"text-align: right;\">\n      <th></th>\n      <th></th>\n      <th>AMZN</th>\n      <th>BA</th>\n      <th>AAPL</th>\n      <th>GOOG</th>\n      <th>BAC</th>\n      <th>timestamp</th>\n    </tr>\n    <tr>\n      <th>Datetime</th>\n      <th></th>\n      <th></th>\n      <th></th>\n      <th></th>\n      <th></th>\n      <th></th>\n      <th></th>\n    </tr>\n  </thead>\n  <tbody>\n    <tr>\n      <th rowspan=\"5\" valign=\"top\">2020-11-24 09:30:00-05:00</th>\n      <th>Open</th>\n      <td>3100.500000</td>\n      <td>2.194300e+02</td>\n      <td>1.138400e+02</td>\n      <td>1730.500000</td>\n      <td>2.793000e+01</td>\n      <td>NaT</td>\n    </tr>\n    <tr>\n      <th>High</th>\n      <td>3111.235107</td>\n      <td>2.229500e+02</td>\n      <td>1.140300e+02</td>\n      <td>1741.270020</td>\n      <td>2.849500e+01</td>\n      <td>NaT</td>\n    </tr>\n    <tr>\n      <th>Low</th>\n      <td>3086.258057</td>\n      <td>2.157600e+02</td>\n      <td>1.125900e+02</td>\n      <td>1727.689941</td>\n      <td>2.792000e+01</td>\n      <td>NaT</td>\n    </tr>\n    <tr>\n      <th>Close</th>\n      <td>3095.270020</td>\n      <td>2.221200e+02</td>\n      <td>1.134050e+02</td>\n      <td>1732.000000</td>\n      <td>2.848010e+01</td>\n      <td>NaT</td>\n    </tr>\n    <tr>\n      <th>Adj Close</th>\n      <td>3095.270020</td>\n      <td>2.221200e+02</td>\n      <td>1.134050e+02</td>\n      <td>1732.000000</td>\n      <td>2.848010e+01</td>\n      <td>NaT</td>\n    </tr>\n    <tr>\n      <th>...</th>\n      <th>...</th>\n      <td>...</td>\n      <td>...</td>\n      <td>...</td>\n      <td>...</td>\n      <td>...</td>\n      <td>...</td>\n    </tr>\n    <tr>\n      <th rowspan=\"5\" valign=\"top\">2021-02-23 15:30:00-05:00</th>\n      <th>Low</th>\n      <td>3187.760010</td>\n      <td>2.119700e+02</td>\n      <td>1.256600e+02</td>\n      <td>2066.229980</td>\n      <td>3.541000e+01</td>\n      <td>NaT</td>\n    </tr>\n    <tr>\n      <th>Close</th>\n      <td>3195.649902</td>\n      <td>2.121300e+02</td>\n      <td>1.258500e+02</td>\n      <td>2071.360107</td>\n      <td>3.554000e+01</td>\n      <td>NaT</td>\n    </tr>\n    <tr>\n      <th>Adj Close</th>\n      <td>3195.649902</td>\n      <td>2.121300e+02</td>\n      <td>1.258500e+02</td>\n      <td>2071.360107</td>\n      <td>3.554000e+01</td>\n      <td>NaT</td>\n    </tr>\n    <tr>\n      <th>Volume</th>\n      <td>418972.000000</td>\n      <td>1.041122e+06</td>\n      <td>1.068807e+07</td>\n      <td>130558.000000</td>\n      <td>6.229212e+06</td>\n      <td>NaT</td>\n    </tr>\n    <tr>\n      <th></th>\n      <td>NaN</td>\n      <td>NaN</td>\n      <td>NaN</td>\n      <td>NaN</td>\n      <td>NaN</td>\n      <td>2021-02-23 15:30:00-05:00</td>\n    </tr>\n  </tbody>\n</table>\n<p>2947 rows × 6 columns</p>\n</div>"
          },
          "metadata": {},
          "execution_count": 19
        }
      ]
    },
    {
      "cell_type": "code",
      "execution_count": 28,
      "metadata": {},
      "outputs": [
        {
          "output_type": "execute_result",
          "data": {
            "text/plain": [
              "Datetime             2020-11-24 09:30:00-05:00  2020-11-24 10:30:00-05:00  \\\n",
              "AMZN      Open                          3100.5                    3094.69   \n",
              "          High                         3111.24                    3116.99   \n",
              "          Low                          3086.26                    3093.01   \n",
              "          Close                        3095.27                    3109.19   \n",
              "          Adj Close                    3095.27                    3109.19   \n",
              "          Volume                       1056662                     547723   \n",
              "BA        Open                          219.43                    222.185   \n",
              "          High                          222.95                    222.241   \n",
              "          Low                           215.76                     216.99   \n",
              "          Close                         222.12                     220.35   \n",
              "          Adj Close                     222.12                     220.35   \n",
              "          Volume                      10936423                    5271632   \n",
              "AAPL      Open                          113.84                      113.4   \n",
              "          High                          114.03                     115.12   \n",
              "          Low                           112.59                     113.34   \n",
              "          Close                        113.405                     114.92   \n",
              "          Adj Close                    113.405                     114.92   \n",
              "          Volume                      33477148                   18001545   \n",
              "GOOG      Open                          1730.5                       1732   \n",
              "          High                         1741.27                    1756.16   \n",
              "          Low                          1727.69                    1729.51   \n",
              "          Close                           1732                    1754.87   \n",
              "          Adj Close                       1732                    1754.87   \n",
              "          Volume                        334548                     196850   \n",
              "BAC       Open                           27.93                      28.48   \n",
              "          High                          28.495                      28.53   \n",
              "          Low                            27.92                      28.27   \n",
              "          Close                        28.4801                     28.395   \n",
              "          Adj Close                    28.4801                     28.395   \n",
              "          Volume                      25595049                    9278188   \n",
              "timestamp            2020-11-24 09:30:00-05:00  2020-11-24 10:30:00-05:00   \n",
              "\n",
              "Datetime             2020-11-24 11:30:00-05:00  2020-11-24 12:30:00-05:00  \\\n",
              "AMZN      Open                         3108.39                    3113.85   \n",
              "          High                         3120.08                    3131.26   \n",
              "          Low                             3105                    3113.79   \n",
              "          Close                        3114.38                    3123.05   \n",
              "          Adj Close                    3114.38                    3123.05   \n",
              "          Volume                        374198                     421525   \n",
              "BA        Open                         220.345                     221.06   \n",
              "          High                         221.383                     221.29   \n",
              "          Low                           217.85                    218.891   \n",
              "          Close                         221.06                     219.53   \n",
              "          Adj Close                     221.06                     219.53   \n",
              "          Volume                       3763616                    2380204   \n",
              "AAPL      Open                          114.92                     114.67   \n",
              "          High                          115.37                     115.31   \n",
              "          Low                           114.23                    114.551   \n",
              "          Close                         114.66                     115.04   \n",
              "          Adj Close                     114.66                     115.04   \n",
              "          Volume                      12525075                    8877179   \n",
              "GOOG      Open                         1754.86                    1757.87   \n",
              "          High                         1762.95                       1765   \n",
              "          Low                          1752.18                    1757.23   \n",
              "          Close                        1757.96                    1761.89   \n",
              "          Adj Close                    1757.96                    1761.89   \n",
              "          Volume                        127929                     165173   \n",
              "BAC       Open                            28.4                    28.6155   \n",
              "          High                            28.8                      28.78   \n",
              "          Low                            28.38                      28.52   \n",
              "          Close                        28.6174                     28.645   \n",
              "          Adj Close                    28.6174                     28.645   \n",
              "          Volume                       7983811                    5965121   \n",
              "timestamp            2020-11-24 11:30:00-05:00  2020-11-24 12:30:00-05:00   \n",
              "\n",
              "Datetime             2020-11-24 13:30:00-05:00  2020-11-24 14:30:00-05:00  \\\n",
              "AMZN      Open                         3124.41                    3124.61   \n",
              "          High                         3134.25                    3128.43   \n",
              "          Low                           3123.3                    3113.13   \n",
              "          Close                        3124.57                    3120.41   \n",
              "          Adj Close                    3124.57                    3120.41   \n",
              "          Volume                        314198                     339627   \n",
              "BA        Open                         219.516                     217.74   \n",
              "          High                          220.08                     219.52   \n",
              "          Low                           217.36                      216.8   \n",
              "          Close                         217.73                      219.3   \n",
              "          Adj Close                     217.73                      219.3   \n",
              "          Volume                       2447618                    2996207   \n",
              "AAPL      Open                         115.045                     115.08   \n",
              "          High                          115.85                     115.72   \n",
              "          Low                           114.97                        115   \n",
              "          Close                        115.075                    115.675   \n",
              "          Adj Close                    115.075                    115.675   \n",
              "          Volume                      12060020                    9252988   \n",
              "GOOG      Open                          1763.2                     1764.5   \n",
              "          High                         1769.12                    1768.14   \n",
              "          Low                          1762.01                    1762.05   \n",
              "          Close                        1763.98                    1768.14   \n",
              "          Adj Close                    1763.98                    1768.14   \n",
              "          Volume                        126399                     135235   \n",
              "BAC       Open                          28.645                     28.545   \n",
              "          High                           28.66                      28.74   \n",
              "          Low                             28.5                     28.515   \n",
              "          Close                          28.54                     28.715   \n",
              "          Adj Close                      28.54                     28.715   \n",
              "          Volume                       5132400                    6598315   \n",
              "timestamp            2020-11-24 13:30:00-05:00  2020-11-24 14:30:00-05:00   \n",
              "\n",
              "Datetime             2020-11-24 15:30:00-05:00  2020-11-25 09:30:00-05:00  \\\n",
              "AMZN      Open                         3120.41                    3141.87   \n",
              "          High                         3122.88                    3196.54   \n",
              "          Low                          3114.09                    3140.26   \n",
              "          Close                        3116.86                    3175.98   \n",
              "          Adj Close                    3116.86                    3175.98   \n",
              "          Volume                        305308                    1348535   \n",
              "BA        Open                          219.32                      216.5   \n",
              "          High                          219.46                        218   \n",
              "          Low                            217.8                     213.09   \n",
              "          Close                         218.43                     216.22   \n",
              "          Adj Close                     218.43                     216.22   \n",
              "          Volume                       1954115                    5977479   \n",
              "AAPL      Open                          115.67                    115.715   \n",
              "          High                          115.73                     116.61   \n",
              "          Low                           114.97                     115.17   \n",
              "          Close                         115.17                     115.98   \n",
              "          Adj Close                     115.17                     115.98   \n",
              "          Volume                       9528581                   24276299   \n",
              "GOOG      Open                         1768.52                    1773.29   \n",
              "          High                          1771.6                    1774.27   \n",
              "          Low                          1766.62                    1756.54   \n",
              "          Close                        1768.28                    1759.95   \n",
              "          Adj Close                    1768.28                    1759.95   \n",
              "          Volume                        179209                     226820   \n",
              "BAC       Open                           28.72                      28.71   \n",
              "          High                           28.99                      28.74   \n",
              "          Low                            28.67                    28.4801   \n",
              "          Close                          28.98                      28.64   \n",
              "          Adj Close                      28.98                      28.64   \n",
              "          Volume                      12881465                   16055498   \n",
              "timestamp            2020-11-24 15:30:00-05:00  2020-11-25 09:30:00-05:00   \n",
              "\n",
              "Datetime             2020-11-25 10:30:00-05:00  2020-11-25 11:30:00-05:00  \\\n",
              "AMZN      Open                         3177.22                    3182.06   \n",
              "          High                            3198                    3185.99   \n",
              "          Low                           3176.4                    3162.43   \n",
              "          Close                        3183.62                       3179   \n",
              "          Adj Close                    3183.62                       3179   \n",
              "          Volume                        525257                     388798   \n",
              "BA        Open                          216.22                    217.344   \n",
              "          High                          218.83                        221   \n",
              "          Low                           216.11                      217.3   \n",
              "          Close                        217.345                     218.85   \n",
              "          Adj Close                    217.345                     218.85   \n",
              "          Volume                       3762885                    2953472   \n",
              "AAPL      Open                         115.978                     116.17   \n",
              "          High                          116.75                    116.324   \n",
              "          Low                           115.88                      115.7   \n",
              "          Close                         116.17                    115.948   \n",
              "          Adj Close                     116.17                    115.948   \n",
              "          Volume                      11108305                    7605490   \n",
              "GOOG      Open                         1760.29                    1765.39   \n",
              "          High                         1771.83                    1774.91   \n",
              "          Low                          1759.76                       1765   \n",
              "          Close                        1766.67                       1774   \n",
              "          Adj Close                    1766.67                       1774   \n",
              "          Volume                        117347                     104756   \n",
              "BAC       Open                           28.64                      28.83   \n",
              "          High                            28.9                      28.97   \n",
              "          Low                            28.59                      28.79   \n",
              "          Close                         28.825                    28.8545   \n",
              "          Adj Close                     28.825                    28.8545   \n",
              "          Volume                       6557388                    5884200   \n",
              "timestamp            2020-11-25 10:30:00-05:00  2020-11-25 11:30:00-05:00   \n",
              "\n",
              "Datetime             ...  2021-02-22 13:30:00-05:00  \\\n",
              "AMZN      Open       ...                    3204.11   \n",
              "          High       ...                    3214.53   \n",
              "          Low        ...                    3196.51   \n",
              "          Close      ...                    3198.57   \n",
              "          Adj Close  ...                    3198.57   \n",
              "          Volume     ...                     256063   \n",
              "BA        Open       ...                     218.21   \n",
              "          High       ...                     218.66   \n",
              "          Low        ...                     216.22   \n",
              "          Close      ...                      217.1   \n",
              "          Adj Close  ...                      217.1   \n",
              "          Volume     ...                    1775581   \n",
              "AAPL      Open       ...                     127.25   \n",
              "          High       ...                     127.96   \n",
              "          Low        ...                    127.241   \n",
              "          Close      ...                    127.665   \n",
              "          Adj Close  ...                    127.665   \n",
              "          Volume     ...                    7243320   \n",
              "GOOG      Open       ...                    2085.49   \n",
              "          High       ...                    2091.42   \n",
              "          Low        ...                    2079.83   \n",
              "          Close      ...                    2081.65   \n",
              "          Adj Close  ...                    2081.65   \n",
              "          Volume     ...                      98243   \n",
              "BAC       Open       ...                      35.18   \n",
              "          High       ...                      35.22   \n",
              "          Low        ...                      35.06   \n",
              "          Close      ...                     35.175   \n",
              "          Adj Close  ...                     35.175   \n",
              "          Volume     ...                    3706221   \n",
              "timestamp            ...  2021-02-22 13:30:00-05:00   \n",
              "\n",
              "Datetime             2021-02-22 14:30:00-05:00  2021-02-22 15:30:00-05:00  \\\n",
              "AMZN      Open                            3200                    3183.64   \n",
              "          High                            3201                    3191.09   \n",
              "          Low                           3183.5                    3178.17   \n",
              "          Close                        3184.43                    3182.39   \n",
              "          Adj Close                    3184.43                    3182.39   \n",
              "          Volume                        246879                     426714   \n",
              "BA        Open                         217.204                     213.82   \n",
              "          High                          217.67                      214.3   \n",
              "          Low                           213.83                     212.69   \n",
              "          Close                         213.85                     212.88   \n",
              "          Adj Close                     213.85                     212.88   \n",
              "          Volume                       1636623                    1927931   \n",
              "AAPL      Open                          127.66                    126.485   \n",
              "          High                          127.71                     126.75   \n",
              "          Low                          126.461                        126   \n",
              "          Close                        126.489                     126.01   \n",
              "          Adj Close                    126.489                     126.01   \n",
              "          Volume                       9822365                   13749348   \n",
              "GOOG      Open                          2081.5                    2071.82   \n",
              "          High                         2082.31                    2074.89   \n",
              "          Low                          2068.52                    2063.12   \n",
              "          Close                        2071.36                    2063.97   \n",
              "          Adj Close                    2071.36                    2063.97   \n",
              "          Volume                        129147                     253523   \n",
              "BAC       Open                          35.175                     35.055   \n",
              "          High                            35.2                      35.19   \n",
              "          Low                            35.05                      35.03   \n",
              "          Close                        35.0501                      35.15   \n",
              "          Adj Close                    35.0501                      35.15   \n",
              "          Volume                       3866625                    6058306   \n",
              "timestamp            2021-02-22 14:30:00-05:00  2021-02-22 15:30:00-05:00   \n",
              "\n",
              "Datetime             2021-02-23 09:30:00-05:00  2021-02-23 10:30:00-05:00  \\\n",
              "AMZN      Open                         3127.03                     3151.6   \n",
              "          High                         3155.88                    3169.52   \n",
              "          Low                           3093.6                    3129.12   \n",
              "          Close                        3150.89                    3140.18   \n",
              "          Adj Close                    3150.89                    3140.18   \n",
              "          Volume                       1343620                     517010   \n",
              "BA        Open                          214.15                     212.43   \n",
              "          High                          214.75                      214.1   \n",
              "          Low                            206.6                     211.06   \n",
              "          Close                         212.43                     211.37   \n",
              "          Adj Close                     212.43                     211.37   \n",
              "          Volume                       5676422                    2563577   \n",
              "AAPL      Open                          123.76                      123.2   \n",
              "          High                          123.79                     124.12   \n",
              "          Low                            118.5                     122.57   \n",
              "          Close                         123.21                     123.03   \n",
              "          Adj Close                     123.21                     123.03   \n",
              "          Volume                      55635192                   19820863   \n",
              "GOOG      Open                         2025.01                    2035.48   \n",
              "          High                         2042.33                    2068.55   \n",
              "          Low                          2002.02                    2033.28   \n",
              "          Close                        2036.84                    2046.68   \n",
              "          Adj Close                    2036.84                    2046.68   \n",
              "          Volume                        594717                     248985   \n",
              "BAC       Open                           35.42                      35.76   \n",
              "          High                            35.8                      35.89   \n",
              "          Low                           35.145                      35.43   \n",
              "          Close                        35.7544                      35.56   \n",
              "          Adj Close                    35.7544                      35.56   \n",
              "          Volume                      19557174                   10618950   \n",
              "timestamp            2021-02-23 09:30:00-05:00  2021-02-23 10:30:00-05:00   \n",
              "\n",
              "Datetime             2021-02-23 11:30:00-05:00  2021-02-23 12:30:00-05:00  \\\n",
              "AMZN      Open                          3141.7                    3153.94   \n",
              "          High                         3156.21                    3155.42   \n",
              "          Low                          3133.07                    3123.01   \n",
              "          Close                        3154.71                       3147   \n",
              "          Adj Close                    3154.71                       3147   \n",
              "          Volume                        341532                     301392   \n",
              "BA        Open                          211.41                     209.04   \n",
              "          High                         212.628                     210.06   \n",
              "          Low                          208.444                     207.41   \n",
              "          Close                        209.035                     209.89   \n",
              "          Adj Close                    209.035                     209.89   \n",
              "          Volume                       2044352                    1821443   \n",
              "AAPL      Open                          123.01                     122.42   \n",
              "          High                          123.25                     123.75   \n",
              "          Low                           121.31                      121.5   \n",
              "          Close                        122.422                     123.54   \n",
              "          Adj Close                    122.422                     123.54   \n",
              "          Volume                      16440941                   16077145   \n",
              "GOOG      Open                         2047.76                    2050.85   \n",
              "          High                         2057.64                    2052.28   \n",
              "          Low                          2039.02                    2023.29   \n",
              "          Close                        2050.85                    2047.94   \n",
              "          Adj Close                    2050.85                    2047.94   \n",
              "          Volume                        144657                     157659   \n",
              "BAC       Open                           35.56                      35.53   \n",
              "          High                         35.6499                      35.56   \n",
              "          Low                            35.47                      35.38   \n",
              "          Close                         35.525                      35.45   \n",
              "          Adj Close                     35.525                      35.45   \n",
              "          Volume                       7383661                    7011086   \n",
              "timestamp            2021-02-23 11:30:00-05:00  2021-02-23 12:30:00-05:00   \n",
              "\n",
              "Datetime             2021-02-23 13:30:00-05:00  2021-02-23 14:30:00-05:00  \\\n",
              "AMZN      Open                          3144.4                    3156.94   \n",
              "          High                         3157.69                     3197.2   \n",
              "          Low                          3135.42                    3143.03   \n",
              "          Close                        3155.92                     3196.8   \n",
              "          Adj Close                    3155.92                     3196.8   \n",
              "          Volume                       1018632                     408092   \n",
              "BA        Open                          209.94                     211.11   \n",
              "          High                          211.37                     212.96   \n",
              "          Low                           208.93                     210.17   \n",
              "          Close                        211.165                    212.845   \n",
              "          Adj Close                    211.165                    212.845   \n",
              "          Volume                       1295453                    1205711   \n",
              "AAPL      Open                          123.56                    124.766   \n",
              "          High                         125.192                      126.7   \n",
              "          Low                           123.46                      124.4   \n",
              "          Close                         124.75                     126.65   \n",
              "          Adj Close                     124.75                     126.65   \n",
              "          Volume                      15368938                   16831412   \n",
              "GOOG      Open                         2046.94                    2053.32   \n",
              "          High                          2054.7                    2082.01   \n",
              "          Low                          2041.33                    2042.47   \n",
              "          Close                        2053.32                    2080.12   \n",
              "          Adj Close                    2053.32                    2080.12   \n",
              "          Volume                        109973                     158460   \n",
              "BAC       Open                          35.455                      35.44   \n",
              "          High                           35.48                      35.54   \n",
              "          Low                            35.34                    35.3101   \n",
              "          Close                         35.445                     35.475   \n",
              "          Adj Close                     35.445                     35.475   \n",
              "          Volume                       4156900                    7481272   \n",
              "timestamp            2021-02-23 13:30:00-05:00  2021-02-23 14:30:00-05:00   \n",
              "\n",
              "Datetime             2021-02-23 15:30:00-05:00  \n",
              "AMZN      Open                          3197.2  \n",
              "          High                         3204.73  \n",
              "          Low                          3187.76  \n",
              "          Close                        3195.65  \n",
              "          Adj Close                    3195.65  \n",
              "          Volume                        418972  \n",
              "BA        Open                          212.88  \n",
              "          High                          213.45  \n",
              "          Low                           211.97  \n",
              "          Close                         212.13  \n",
              "          Adj Close                     212.13  \n",
              "          Volume                       1041122  \n",
              "AAPL      Open                          126.64  \n",
              "          High                          126.71  \n",
              "          Low                           125.66  \n",
              "          Close                         125.85  \n",
              "          Adj Close                     125.85  \n",
              "          Volume                      10688071  \n",
              "GOOG      Open                         2079.79  \n",
              "          High                         2079.79  \n",
              "          Low                          2066.23  \n",
              "          Close                        2071.36  \n",
              "          Adj Close                    2071.36  \n",
              "          Volume                        130558  \n",
              "BAC       Open                          35.475  \n",
              "          High                           35.56  \n",
              "          Low                            35.41  \n",
              "          Close                          35.54  \n",
              "          Adj Close                      35.54  \n",
              "          Volume                       6229212  \n",
              "timestamp            2021-02-23 15:30:00-05:00  \n",
              "\n",
              "[31 rows x 421 columns]"
            ],
            "text/html": "<div>\n<style scoped>\n    .dataframe tbody tr th:only-of-type {\n        vertical-align: middle;\n    }\n\n    .dataframe tbody tr th {\n        vertical-align: top;\n    }\n\n    .dataframe thead th {\n        text-align: right;\n    }\n</style>\n<table border=\"1\" class=\"dataframe\">\n  <thead>\n    <tr style=\"text-align: right;\">\n      <th></th>\n      <th>Datetime</th>\n      <th>2020-11-24 09:30:00-05:00</th>\n      <th>2020-11-24 10:30:00-05:00</th>\n      <th>2020-11-24 11:30:00-05:00</th>\n      <th>2020-11-24 12:30:00-05:00</th>\n      <th>2020-11-24 13:30:00-05:00</th>\n      <th>2020-11-24 14:30:00-05:00</th>\n      <th>2020-11-24 15:30:00-05:00</th>\n      <th>2020-11-25 09:30:00-05:00</th>\n      <th>2020-11-25 10:30:00-05:00</th>\n      <th>2020-11-25 11:30:00-05:00</th>\n      <th>...</th>\n      <th>2021-02-22 13:30:00-05:00</th>\n      <th>2021-02-22 14:30:00-05:00</th>\n      <th>2021-02-22 15:30:00-05:00</th>\n      <th>2021-02-23 09:30:00-05:00</th>\n      <th>2021-02-23 10:30:00-05:00</th>\n      <th>2021-02-23 11:30:00-05:00</th>\n      <th>2021-02-23 12:30:00-05:00</th>\n      <th>2021-02-23 13:30:00-05:00</th>\n      <th>2021-02-23 14:30:00-05:00</th>\n      <th>2021-02-23 15:30:00-05:00</th>\n    </tr>\n  </thead>\n  <tbody>\n    <tr>\n      <th rowspan=\"6\" valign=\"top\">AMZN</th>\n      <th>Open</th>\n      <td>3100.5</td>\n      <td>3094.69</td>\n      <td>3108.39</td>\n      <td>3113.85</td>\n      <td>3124.41</td>\n      <td>3124.61</td>\n      <td>3120.41</td>\n      <td>3141.87</td>\n      <td>3177.22</td>\n      <td>3182.06</td>\n      <td>...</td>\n      <td>3204.11</td>\n      <td>3200</td>\n      <td>3183.64</td>\n      <td>3127.03</td>\n      <td>3151.6</td>\n      <td>3141.7</td>\n      <td>3153.94</td>\n      <td>3144.4</td>\n      <td>3156.94</td>\n      <td>3197.2</td>\n    </tr>\n    <tr>\n      <th>High</th>\n      <td>3111.24</td>\n      <td>3116.99</td>\n      <td>3120.08</td>\n      <td>3131.26</td>\n      <td>3134.25</td>\n      <td>3128.43</td>\n      <td>3122.88</td>\n      <td>3196.54</td>\n      <td>3198</td>\n      <td>3185.99</td>\n      <td>...</td>\n      <td>3214.53</td>\n      <td>3201</td>\n      <td>3191.09</td>\n      <td>3155.88</td>\n      <td>3169.52</td>\n      <td>3156.21</td>\n      <td>3155.42</td>\n      <td>3157.69</td>\n      <td>3197.2</td>\n      <td>3204.73</td>\n    </tr>\n    <tr>\n      <th>Low</th>\n      <td>3086.26</td>\n      <td>3093.01</td>\n      <td>3105</td>\n      <td>3113.79</td>\n      <td>3123.3</td>\n      <td>3113.13</td>\n      <td>3114.09</td>\n      <td>3140.26</td>\n      <td>3176.4</td>\n      <td>3162.43</td>\n      <td>...</td>\n      <td>3196.51</td>\n      <td>3183.5</td>\n      <td>3178.17</td>\n      <td>3093.6</td>\n      <td>3129.12</td>\n      <td>3133.07</td>\n      <td>3123.01</td>\n      <td>3135.42</td>\n      <td>3143.03</td>\n      <td>3187.76</td>\n    </tr>\n    <tr>\n      <th>Close</th>\n      <td>3095.27</td>\n      <td>3109.19</td>\n      <td>3114.38</td>\n      <td>3123.05</td>\n      <td>3124.57</td>\n      <td>3120.41</td>\n      <td>3116.86</td>\n      <td>3175.98</td>\n      <td>3183.62</td>\n      <td>3179</td>\n      <td>...</td>\n      <td>3198.57</td>\n      <td>3184.43</td>\n      <td>3182.39</td>\n      <td>3150.89</td>\n      <td>3140.18</td>\n      <td>3154.71</td>\n      <td>3147</td>\n      <td>3155.92</td>\n      <td>3196.8</td>\n      <td>3195.65</td>\n    </tr>\n    <tr>\n      <th>Adj Close</th>\n      <td>3095.27</td>\n      <td>3109.19</td>\n      <td>3114.38</td>\n      <td>3123.05</td>\n      <td>3124.57</td>\n      <td>3120.41</td>\n      <td>3116.86</td>\n      <td>3175.98</td>\n      <td>3183.62</td>\n      <td>3179</td>\n      <td>...</td>\n      <td>3198.57</td>\n      <td>3184.43</td>\n      <td>3182.39</td>\n      <td>3150.89</td>\n      <td>3140.18</td>\n      <td>3154.71</td>\n      <td>3147</td>\n      <td>3155.92</td>\n      <td>3196.8</td>\n      <td>3195.65</td>\n    </tr>\n    <tr>\n      <th>Volume</th>\n      <td>1056662</td>\n      <td>547723</td>\n      <td>374198</td>\n      <td>421525</td>\n      <td>314198</td>\n      <td>339627</td>\n      <td>305308</td>\n      <td>1348535</td>\n      <td>525257</td>\n      <td>388798</td>\n      <td>...</td>\n      <td>256063</td>\n      <td>246879</td>\n      <td>426714</td>\n      <td>1343620</td>\n      <td>517010</td>\n      <td>341532</td>\n      <td>301392</td>\n      <td>1018632</td>\n      <td>408092</td>\n      <td>418972</td>\n    </tr>\n    <tr>\n      <th rowspan=\"6\" valign=\"top\">BA</th>\n      <th>Open</th>\n      <td>219.43</td>\n      <td>222.185</td>\n      <td>220.345</td>\n      <td>221.06</td>\n      <td>219.516</td>\n      <td>217.74</td>\n      <td>219.32</td>\n      <td>216.5</td>\n      <td>216.22</td>\n      <td>217.344</td>\n      <td>...</td>\n      <td>218.21</td>\n      <td>217.204</td>\n      <td>213.82</td>\n      <td>214.15</td>\n      <td>212.43</td>\n      <td>211.41</td>\n      <td>209.04</td>\n      <td>209.94</td>\n      <td>211.11</td>\n      <td>212.88</td>\n    </tr>\n    <tr>\n      <th>High</th>\n      <td>222.95</td>\n      <td>222.241</td>\n      <td>221.383</td>\n      <td>221.29</td>\n      <td>220.08</td>\n      <td>219.52</td>\n      <td>219.46</td>\n      <td>218</td>\n      <td>218.83</td>\n      <td>221</td>\n      <td>...</td>\n      <td>218.66</td>\n      <td>217.67</td>\n      <td>214.3</td>\n      <td>214.75</td>\n      <td>214.1</td>\n      <td>212.628</td>\n      <td>210.06</td>\n      <td>211.37</td>\n      <td>212.96</td>\n      <td>213.45</td>\n    </tr>\n    <tr>\n      <th>Low</th>\n      <td>215.76</td>\n      <td>216.99</td>\n      <td>217.85</td>\n      <td>218.891</td>\n      <td>217.36</td>\n      <td>216.8</td>\n      <td>217.8</td>\n      <td>213.09</td>\n      <td>216.11</td>\n      <td>217.3</td>\n      <td>...</td>\n      <td>216.22</td>\n      <td>213.83</td>\n      <td>212.69</td>\n      <td>206.6</td>\n      <td>211.06</td>\n      <td>208.444</td>\n      <td>207.41</td>\n      <td>208.93</td>\n      <td>210.17</td>\n      <td>211.97</td>\n    </tr>\n    <tr>\n      <th>Close</th>\n      <td>222.12</td>\n      <td>220.35</td>\n      <td>221.06</td>\n      <td>219.53</td>\n      <td>217.73</td>\n      <td>219.3</td>\n      <td>218.43</td>\n      <td>216.22</td>\n      <td>217.345</td>\n      <td>218.85</td>\n      <td>...</td>\n      <td>217.1</td>\n      <td>213.85</td>\n      <td>212.88</td>\n      <td>212.43</td>\n      <td>211.37</td>\n      <td>209.035</td>\n      <td>209.89</td>\n      <td>211.165</td>\n      <td>212.845</td>\n      <td>212.13</td>\n    </tr>\n    <tr>\n      <th>Adj Close</th>\n      <td>222.12</td>\n      <td>220.35</td>\n      <td>221.06</td>\n      <td>219.53</td>\n      <td>217.73</td>\n      <td>219.3</td>\n      <td>218.43</td>\n      <td>216.22</td>\n      <td>217.345</td>\n      <td>218.85</td>\n      <td>...</td>\n      <td>217.1</td>\n      <td>213.85</td>\n      <td>212.88</td>\n      <td>212.43</td>\n      <td>211.37</td>\n      <td>209.035</td>\n      <td>209.89</td>\n      <td>211.165</td>\n      <td>212.845</td>\n      <td>212.13</td>\n    </tr>\n    <tr>\n      <th>Volume</th>\n      <td>10936423</td>\n      <td>5271632</td>\n      <td>3763616</td>\n      <td>2380204</td>\n      <td>2447618</td>\n      <td>2996207</td>\n      <td>1954115</td>\n      <td>5977479</td>\n      <td>3762885</td>\n      <td>2953472</td>\n      <td>...</td>\n      <td>1775581</td>\n      <td>1636623</td>\n      <td>1927931</td>\n      <td>5676422</td>\n      <td>2563577</td>\n      <td>2044352</td>\n      <td>1821443</td>\n      <td>1295453</td>\n      <td>1205711</td>\n      <td>1041122</td>\n    </tr>\n    <tr>\n      <th rowspan=\"6\" valign=\"top\">AAPL</th>\n      <th>Open</th>\n      <td>113.84</td>\n      <td>113.4</td>\n      <td>114.92</td>\n      <td>114.67</td>\n      <td>115.045</td>\n      <td>115.08</td>\n      <td>115.67</td>\n      <td>115.715</td>\n      <td>115.978</td>\n      <td>116.17</td>\n      <td>...</td>\n      <td>127.25</td>\n      <td>127.66</td>\n      <td>126.485</td>\n      <td>123.76</td>\n      <td>123.2</td>\n      <td>123.01</td>\n      <td>122.42</td>\n      <td>123.56</td>\n      <td>124.766</td>\n      <td>126.64</td>\n    </tr>\n    <tr>\n      <th>High</th>\n      <td>114.03</td>\n      <td>115.12</td>\n      <td>115.37</td>\n      <td>115.31</td>\n      <td>115.85</td>\n      <td>115.72</td>\n      <td>115.73</td>\n      <td>116.61</td>\n      <td>116.75</td>\n      <td>116.324</td>\n      <td>...</td>\n      <td>127.96</td>\n      <td>127.71</td>\n      <td>126.75</td>\n      <td>123.79</td>\n      <td>124.12</td>\n      <td>123.25</td>\n      <td>123.75</td>\n      <td>125.192</td>\n      <td>126.7</td>\n      <td>126.71</td>\n    </tr>\n    <tr>\n      <th>Low</th>\n      <td>112.59</td>\n      <td>113.34</td>\n      <td>114.23</td>\n      <td>114.551</td>\n      <td>114.97</td>\n      <td>115</td>\n      <td>114.97</td>\n      <td>115.17</td>\n      <td>115.88</td>\n      <td>115.7</td>\n      <td>...</td>\n      <td>127.241</td>\n      <td>126.461</td>\n      <td>126</td>\n      <td>118.5</td>\n      <td>122.57</td>\n      <td>121.31</td>\n      <td>121.5</td>\n      <td>123.46</td>\n      <td>124.4</td>\n      <td>125.66</td>\n    </tr>\n    <tr>\n      <th>Close</th>\n      <td>113.405</td>\n      <td>114.92</td>\n      <td>114.66</td>\n      <td>115.04</td>\n      <td>115.075</td>\n      <td>115.675</td>\n      <td>115.17</td>\n      <td>115.98</td>\n      <td>116.17</td>\n      <td>115.948</td>\n      <td>...</td>\n      <td>127.665</td>\n      <td>126.489</td>\n      <td>126.01</td>\n      <td>123.21</td>\n      <td>123.03</td>\n      <td>122.422</td>\n      <td>123.54</td>\n      <td>124.75</td>\n      <td>126.65</td>\n      <td>125.85</td>\n    </tr>\n    <tr>\n      <th>Adj Close</th>\n      <td>113.405</td>\n      <td>114.92</td>\n      <td>114.66</td>\n      <td>115.04</td>\n      <td>115.075</td>\n      <td>115.675</td>\n      <td>115.17</td>\n      <td>115.98</td>\n      <td>116.17</td>\n      <td>115.948</td>\n      <td>...</td>\n      <td>127.665</td>\n      <td>126.489</td>\n      <td>126.01</td>\n      <td>123.21</td>\n      <td>123.03</td>\n      <td>122.422</td>\n      <td>123.54</td>\n      <td>124.75</td>\n      <td>126.65</td>\n      <td>125.85</td>\n    </tr>\n    <tr>\n      <th>Volume</th>\n      <td>33477148</td>\n      <td>18001545</td>\n      <td>12525075</td>\n      <td>8877179</td>\n      <td>12060020</td>\n      <td>9252988</td>\n      <td>9528581</td>\n      <td>24276299</td>\n      <td>11108305</td>\n      <td>7605490</td>\n      <td>...</td>\n      <td>7243320</td>\n      <td>9822365</td>\n      <td>13749348</td>\n      <td>55635192</td>\n      <td>19820863</td>\n      <td>16440941</td>\n      <td>16077145</td>\n      <td>15368938</td>\n      <td>16831412</td>\n      <td>10688071</td>\n    </tr>\n    <tr>\n      <th rowspan=\"6\" valign=\"top\">GOOG</th>\n      <th>Open</th>\n      <td>1730.5</td>\n      <td>1732</td>\n      <td>1754.86</td>\n      <td>1757.87</td>\n      <td>1763.2</td>\n      <td>1764.5</td>\n      <td>1768.52</td>\n      <td>1773.29</td>\n      <td>1760.29</td>\n      <td>1765.39</td>\n      <td>...</td>\n      <td>2085.49</td>\n      <td>2081.5</td>\n      <td>2071.82</td>\n      <td>2025.01</td>\n      <td>2035.48</td>\n      <td>2047.76</td>\n      <td>2050.85</td>\n      <td>2046.94</td>\n      <td>2053.32</td>\n      <td>2079.79</td>\n    </tr>\n    <tr>\n      <th>High</th>\n      <td>1741.27</td>\n      <td>1756.16</td>\n      <td>1762.95</td>\n      <td>1765</td>\n      <td>1769.12</td>\n      <td>1768.14</td>\n      <td>1771.6</td>\n      <td>1774.27</td>\n      <td>1771.83</td>\n      <td>1774.91</td>\n      <td>...</td>\n      <td>2091.42</td>\n      <td>2082.31</td>\n      <td>2074.89</td>\n      <td>2042.33</td>\n      <td>2068.55</td>\n      <td>2057.64</td>\n      <td>2052.28</td>\n      <td>2054.7</td>\n      <td>2082.01</td>\n      <td>2079.79</td>\n    </tr>\n    <tr>\n      <th>Low</th>\n      <td>1727.69</td>\n      <td>1729.51</td>\n      <td>1752.18</td>\n      <td>1757.23</td>\n      <td>1762.01</td>\n      <td>1762.05</td>\n      <td>1766.62</td>\n      <td>1756.54</td>\n      <td>1759.76</td>\n      <td>1765</td>\n      <td>...</td>\n      <td>2079.83</td>\n      <td>2068.52</td>\n      <td>2063.12</td>\n      <td>2002.02</td>\n      <td>2033.28</td>\n      <td>2039.02</td>\n      <td>2023.29</td>\n      <td>2041.33</td>\n      <td>2042.47</td>\n      <td>2066.23</td>\n    </tr>\n    <tr>\n      <th>Close</th>\n      <td>1732</td>\n      <td>1754.87</td>\n      <td>1757.96</td>\n      <td>1761.89</td>\n      <td>1763.98</td>\n      <td>1768.14</td>\n      <td>1768.28</td>\n      <td>1759.95</td>\n      <td>1766.67</td>\n      <td>1774</td>\n      <td>...</td>\n      <td>2081.65</td>\n      <td>2071.36</td>\n      <td>2063.97</td>\n      <td>2036.84</td>\n      <td>2046.68</td>\n      <td>2050.85</td>\n      <td>2047.94</td>\n      <td>2053.32</td>\n      <td>2080.12</td>\n      <td>2071.36</td>\n    </tr>\n    <tr>\n      <th>Adj Close</th>\n      <td>1732</td>\n      <td>1754.87</td>\n      <td>1757.96</td>\n      <td>1761.89</td>\n      <td>1763.98</td>\n      <td>1768.14</td>\n      <td>1768.28</td>\n      <td>1759.95</td>\n      <td>1766.67</td>\n      <td>1774</td>\n      <td>...</td>\n      <td>2081.65</td>\n      <td>2071.36</td>\n      <td>2063.97</td>\n      <td>2036.84</td>\n      <td>2046.68</td>\n      <td>2050.85</td>\n      <td>2047.94</td>\n      <td>2053.32</td>\n      <td>2080.12</td>\n      <td>2071.36</td>\n    </tr>\n    <tr>\n      <th>Volume</th>\n      <td>334548</td>\n      <td>196850</td>\n      <td>127929</td>\n      <td>165173</td>\n      <td>126399</td>\n      <td>135235</td>\n      <td>179209</td>\n      <td>226820</td>\n      <td>117347</td>\n      <td>104756</td>\n      <td>...</td>\n      <td>98243</td>\n      <td>129147</td>\n      <td>253523</td>\n      <td>594717</td>\n      <td>248985</td>\n      <td>144657</td>\n      <td>157659</td>\n      <td>109973</td>\n      <td>158460</td>\n      <td>130558</td>\n    </tr>\n    <tr>\n      <th rowspan=\"6\" valign=\"top\">BAC</th>\n      <th>Open</th>\n      <td>27.93</td>\n      <td>28.48</td>\n      <td>28.4</td>\n      <td>28.6155</td>\n      <td>28.645</td>\n      <td>28.545</td>\n      <td>28.72</td>\n      <td>28.71</td>\n      <td>28.64</td>\n      <td>28.83</td>\n      <td>...</td>\n      <td>35.18</td>\n      <td>35.175</td>\n      <td>35.055</td>\n      <td>35.42</td>\n      <td>35.76</td>\n      <td>35.56</td>\n      <td>35.53</td>\n      <td>35.455</td>\n      <td>35.44</td>\n      <td>35.475</td>\n    </tr>\n    <tr>\n      <th>High</th>\n      <td>28.495</td>\n      <td>28.53</td>\n      <td>28.8</td>\n      <td>28.78</td>\n      <td>28.66</td>\n      <td>28.74</td>\n      <td>28.99</td>\n      <td>28.74</td>\n      <td>28.9</td>\n      <td>28.97</td>\n      <td>...</td>\n      <td>35.22</td>\n      <td>35.2</td>\n      <td>35.19</td>\n      <td>35.8</td>\n      <td>35.89</td>\n      <td>35.6499</td>\n      <td>35.56</td>\n      <td>35.48</td>\n      <td>35.54</td>\n      <td>35.56</td>\n    </tr>\n    <tr>\n      <th>Low</th>\n      <td>27.92</td>\n      <td>28.27</td>\n      <td>28.38</td>\n      <td>28.52</td>\n      <td>28.5</td>\n      <td>28.515</td>\n      <td>28.67</td>\n      <td>28.4801</td>\n      <td>28.59</td>\n      <td>28.79</td>\n      <td>...</td>\n      <td>35.06</td>\n      <td>35.05</td>\n      <td>35.03</td>\n      <td>35.145</td>\n      <td>35.43</td>\n      <td>35.47</td>\n      <td>35.38</td>\n      <td>35.34</td>\n      <td>35.3101</td>\n      <td>35.41</td>\n    </tr>\n    <tr>\n      <th>Close</th>\n      <td>28.4801</td>\n      <td>28.395</td>\n      <td>28.6174</td>\n      <td>28.645</td>\n      <td>28.54</td>\n      <td>28.715</td>\n      <td>28.98</td>\n      <td>28.64</td>\n      <td>28.825</td>\n      <td>28.8545</td>\n      <td>...</td>\n      <td>35.175</td>\n      <td>35.0501</td>\n      <td>35.15</td>\n      <td>35.7544</td>\n      <td>35.56</td>\n      <td>35.525</td>\n      <td>35.45</td>\n      <td>35.445</td>\n      <td>35.475</td>\n      <td>35.54</td>\n    </tr>\n    <tr>\n      <th>Adj Close</th>\n      <td>28.4801</td>\n      <td>28.395</td>\n      <td>28.6174</td>\n      <td>28.645</td>\n      <td>28.54</td>\n      <td>28.715</td>\n      <td>28.98</td>\n      <td>28.64</td>\n      <td>28.825</td>\n      <td>28.8545</td>\n      <td>...</td>\n      <td>35.175</td>\n      <td>35.0501</td>\n      <td>35.15</td>\n      <td>35.7544</td>\n      <td>35.56</td>\n      <td>35.525</td>\n      <td>35.45</td>\n      <td>35.445</td>\n      <td>35.475</td>\n      <td>35.54</td>\n    </tr>\n    <tr>\n      <th>Volume</th>\n      <td>25595049</td>\n      <td>9278188</td>\n      <td>7983811</td>\n      <td>5965121</td>\n      <td>5132400</td>\n      <td>6598315</td>\n      <td>12881465</td>\n      <td>16055498</td>\n      <td>6557388</td>\n      <td>5884200</td>\n      <td>...</td>\n      <td>3706221</td>\n      <td>3866625</td>\n      <td>6058306</td>\n      <td>19557174</td>\n      <td>10618950</td>\n      <td>7383661</td>\n      <td>7011086</td>\n      <td>4156900</td>\n      <td>7481272</td>\n      <td>6229212</td>\n    </tr>\n    <tr>\n      <th>timestamp</th>\n      <th></th>\n      <td>2020-11-24 09:30:00-05:00</td>\n      <td>2020-11-24 10:30:00-05:00</td>\n      <td>2020-11-24 11:30:00-05:00</td>\n      <td>2020-11-24 12:30:00-05:00</td>\n      <td>2020-11-24 13:30:00-05:00</td>\n      <td>2020-11-24 14:30:00-05:00</td>\n      <td>2020-11-24 15:30:00-05:00</td>\n      <td>2020-11-25 09:30:00-05:00</td>\n      <td>2020-11-25 10:30:00-05:00</td>\n      <td>2020-11-25 11:30:00-05:00</td>\n      <td>...</td>\n      <td>2021-02-22 13:30:00-05:00</td>\n      <td>2021-02-22 14:30:00-05:00</td>\n      <td>2021-02-22 15:30:00-05:00</td>\n      <td>2021-02-23 09:30:00-05:00</td>\n      <td>2021-02-23 10:30:00-05:00</td>\n      <td>2021-02-23 11:30:00-05:00</td>\n      <td>2021-02-23 12:30:00-05:00</td>\n      <td>2021-02-23 13:30:00-05:00</td>\n      <td>2021-02-23 14:30:00-05:00</td>\n      <td>2021-02-23 15:30:00-05:00</td>\n    </tr>\n  </tbody>\n</table>\n<p>31 rows × 421 columns</p>\n</div>"
          },
          "metadata": {},
          "execution_count": 28
        }
      ],
      "source": [
        "df.T"
      ]
    },
    {
      "cell_type": "code",
      "metadata": {
        "colab": {
          "base_uri": "https://localhost:8080/",
          "height": 111
        },
        "id": "Yc2lPqrwRqjl",
        "outputId": "2b408ea9-852f-4719-ad7e-d89e548810f1"
      },
      "source": [
        "df.loc[df[\"timestamp\"] == \"2020-11-11 12:30:00-05:00\", [\"AAPL\"]]"
      ],
      "execution_count": 20,
      "outputs": [
        {
          "output_type": "execute_result",
          "data": {
            "text/plain": [
              "Empty DataFrame\n",
              "Columns: [(AAPL, Open), (AAPL, High), (AAPL, Low), (AAPL, Close), (AAPL, Adj Close), (AAPL, Volume)]\n",
              "Index: []"
            ],
            "text/html": "<div>\n<style scoped>\n    .dataframe tbody tr th:only-of-type {\n        vertical-align: middle;\n    }\n\n    .dataframe tbody tr th {\n        vertical-align: top;\n    }\n\n    .dataframe thead tr th {\n        text-align: left;\n    }\n\n    .dataframe thead tr:last-of-type th {\n        text-align: right;\n    }\n</style>\n<table border=\"1\" class=\"dataframe\">\n  <thead>\n    <tr>\n      <th></th>\n      <th colspan=\"6\" halign=\"left\">AAPL</th>\n    </tr>\n    <tr>\n      <th></th>\n      <th>Open</th>\n      <th>High</th>\n      <th>Low</th>\n      <th>Close</th>\n      <th>Adj Close</th>\n      <th>Volume</th>\n    </tr>\n    <tr>\n      <th>Datetime</th>\n      <th></th>\n      <th></th>\n      <th></th>\n      <th></th>\n      <th></th>\n      <th></th>\n    </tr>\n  </thead>\n  <tbody>\n  </tbody>\n</table>\n</div>"
          },
          "metadata": {},
          "execution_count": 20
        }
      ]
    },
    {
      "cell_type": "code",
      "metadata": {
        "id": "DpPgJPlTVG6p"
      },
      "source": [
        "df[\"BA\"][\"Open\"]"
      ],
      "execution_count": 21,
      "outputs": [
        {
          "output_type": "execute_result",
          "data": {
            "text/plain": [
              "Datetime\n",
              "2020-11-24 09:30:00-05:00    219.429993\n",
              "2020-11-24 10:30:00-05:00    222.184998\n",
              "2020-11-24 11:30:00-05:00    220.345001\n",
              "2020-11-24 12:30:00-05:00    221.059998\n",
              "2020-11-24 13:30:00-05:00    219.516098\n",
              "                                ...    \n",
              "2021-02-23 11:30:00-05:00    211.410004\n",
              "2021-02-23 12:30:00-05:00    209.039993\n",
              "2021-02-23 13:30:00-05:00    209.940002\n",
              "2021-02-23 14:30:00-05:00    211.110001\n",
              "2021-02-23 15:30:00-05:00    212.880005\n",
              "Name: Open, Length: 421, dtype: float64"
            ]
          },
          "metadata": {},
          "execution_count": 21
        }
      ]
    },
    {
      "cell_type": "code",
      "metadata": {
        "id": "qtnJ8VLvZQAm"
      },
      "source": [
        "ba_df = df[\"BA\"]"
      ],
      "execution_count": 22,
      "outputs": []
    },
    {
      "cell_type": "code",
      "metadata": {
        "id": "ESIVIMQpb4WB"
      },
      "source": [
        "ba_df"
      ],
      "execution_count": 23,
      "outputs": [
        {
          "output_type": "execute_result",
          "data": {
            "text/plain": [
              "                                 Open        High         Low       Close  \\\n",
              "Datetime                                                                    \n",
              "2020-11-24 09:30:00-05:00  219.429993  222.949997  215.759995  222.119995   \n",
              "2020-11-24 10:30:00-05:00  222.184998  222.241104  216.990005  220.350006   \n",
              "2020-11-24 11:30:00-05:00  220.345001  221.383408  217.850006  221.059998   \n",
              "2020-11-24 12:30:00-05:00  221.059998  221.289993  218.890900  219.529999   \n",
              "2020-11-24 13:30:00-05:00  219.516098  220.080002  217.360001  217.729996   \n",
              "...                               ...         ...         ...         ...   \n",
              "2021-02-23 11:30:00-05:00  211.410004  212.627701  208.444107  209.035004   \n",
              "2021-02-23 12:30:00-05:00  209.039993  210.059998  207.410004  209.889999   \n",
              "2021-02-23 13:30:00-05:00  209.940002  211.369995  208.929993  211.164993   \n",
              "2021-02-23 14:30:00-05:00  211.110001  212.959900  210.169998  212.845001   \n",
              "2021-02-23 15:30:00-05:00  212.880005  213.449997  211.970001  212.130005   \n",
              "\n",
              "                            Adj Close    Volume  \n",
              "Datetime                                         \n",
              "2020-11-24 09:30:00-05:00  222.119995  10936423  \n",
              "2020-11-24 10:30:00-05:00  220.350006   5271632  \n",
              "2020-11-24 11:30:00-05:00  221.059998   3763616  \n",
              "2020-11-24 12:30:00-05:00  219.529999   2380204  \n",
              "2020-11-24 13:30:00-05:00  217.729996   2447618  \n",
              "...                               ...       ...  \n",
              "2021-02-23 11:30:00-05:00  209.035004   2044352  \n",
              "2021-02-23 12:30:00-05:00  209.889999   1821443  \n",
              "2021-02-23 13:30:00-05:00  211.164993   1295453  \n",
              "2021-02-23 14:30:00-05:00  212.845001   1205711  \n",
              "2021-02-23 15:30:00-05:00  212.130005   1041122  \n",
              "\n",
              "[421 rows x 6 columns]"
            ],
            "text/html": "<div>\n<style scoped>\n    .dataframe tbody tr th:only-of-type {\n        vertical-align: middle;\n    }\n\n    .dataframe tbody tr th {\n        vertical-align: top;\n    }\n\n    .dataframe thead th {\n        text-align: right;\n    }\n</style>\n<table border=\"1\" class=\"dataframe\">\n  <thead>\n    <tr style=\"text-align: right;\">\n      <th></th>\n      <th>Open</th>\n      <th>High</th>\n      <th>Low</th>\n      <th>Close</th>\n      <th>Adj Close</th>\n      <th>Volume</th>\n    </tr>\n    <tr>\n      <th>Datetime</th>\n      <th></th>\n      <th></th>\n      <th></th>\n      <th></th>\n      <th></th>\n      <th></th>\n    </tr>\n  </thead>\n  <tbody>\n    <tr>\n      <th>2020-11-24 09:30:00-05:00</th>\n      <td>219.429993</td>\n      <td>222.949997</td>\n      <td>215.759995</td>\n      <td>222.119995</td>\n      <td>222.119995</td>\n      <td>10936423</td>\n    </tr>\n    <tr>\n      <th>2020-11-24 10:30:00-05:00</th>\n      <td>222.184998</td>\n      <td>222.241104</td>\n      <td>216.990005</td>\n      <td>220.350006</td>\n      <td>220.350006</td>\n      <td>5271632</td>\n    </tr>\n    <tr>\n      <th>2020-11-24 11:30:00-05:00</th>\n      <td>220.345001</td>\n      <td>221.383408</td>\n      <td>217.850006</td>\n      <td>221.059998</td>\n      <td>221.059998</td>\n      <td>3763616</td>\n    </tr>\n    <tr>\n      <th>2020-11-24 12:30:00-05:00</th>\n      <td>221.059998</td>\n      <td>221.289993</td>\n      <td>218.890900</td>\n      <td>219.529999</td>\n      <td>219.529999</td>\n      <td>2380204</td>\n    </tr>\n    <tr>\n      <th>2020-11-24 13:30:00-05:00</th>\n      <td>219.516098</td>\n      <td>220.080002</td>\n      <td>217.360001</td>\n      <td>217.729996</td>\n      <td>217.729996</td>\n      <td>2447618</td>\n    </tr>\n    <tr>\n      <th>...</th>\n      <td>...</td>\n      <td>...</td>\n      <td>...</td>\n      <td>...</td>\n      <td>...</td>\n      <td>...</td>\n    </tr>\n    <tr>\n      <th>2021-02-23 11:30:00-05:00</th>\n      <td>211.410004</td>\n      <td>212.627701</td>\n      <td>208.444107</td>\n      <td>209.035004</td>\n      <td>209.035004</td>\n      <td>2044352</td>\n    </tr>\n    <tr>\n      <th>2021-02-23 12:30:00-05:00</th>\n      <td>209.039993</td>\n      <td>210.059998</td>\n      <td>207.410004</td>\n      <td>209.889999</td>\n      <td>209.889999</td>\n      <td>1821443</td>\n    </tr>\n    <tr>\n      <th>2021-02-23 13:30:00-05:00</th>\n      <td>209.940002</td>\n      <td>211.369995</td>\n      <td>208.929993</td>\n      <td>211.164993</td>\n      <td>211.164993</td>\n      <td>1295453</td>\n    </tr>\n    <tr>\n      <th>2021-02-23 14:30:00-05:00</th>\n      <td>211.110001</td>\n      <td>212.959900</td>\n      <td>210.169998</td>\n      <td>212.845001</td>\n      <td>212.845001</td>\n      <td>1205711</td>\n    </tr>\n    <tr>\n      <th>2021-02-23 15:30:00-05:00</th>\n      <td>212.880005</td>\n      <td>213.449997</td>\n      <td>211.970001</td>\n      <td>212.130005</td>\n      <td>212.130005</td>\n      <td>1041122</td>\n    </tr>\n  </tbody>\n</table>\n<p>421 rows × 6 columns</p>\n</div>"
          },
          "metadata": {},
          "execution_count": 23
        }
      ]
    },
    {
      "cell_type": "code",
      "metadata": {
        "id": "TyhpMlLCgQ92"
      },
      "source": [
        "ba_df.loc[df[\"timestamp\"] == \"2020-11-11 12:30:00-05:00\", [\"Open\", \"Close\",\"Volume\"]]"
      ],
      "execution_count": 24,
      "outputs": [
        {
          "output_type": "execute_result",
          "data": {
            "text/plain": [
              "Empty DataFrame\n",
              "Columns: [Open, Close, Volume]\n",
              "Index: []"
            ],
            "text/html": "<div>\n<style scoped>\n    .dataframe tbody tr th:only-of-type {\n        vertical-align: middle;\n    }\n\n    .dataframe tbody tr th {\n        vertical-align: top;\n    }\n\n    .dataframe thead th {\n        text-align: right;\n    }\n</style>\n<table border=\"1\" class=\"dataframe\">\n  <thead>\n    <tr style=\"text-align: right;\">\n      <th></th>\n      <th>Open</th>\n      <th>Close</th>\n      <th>Volume</th>\n    </tr>\n    <tr>\n      <th>Datetime</th>\n      <th></th>\n      <th></th>\n      <th></th>\n    </tr>\n  </thead>\n  <tbody>\n  </tbody>\n</table>\n</div>"
          },
          "metadata": {},
          "execution_count": 24
        }
      ]
    },
    {
      "cell_type": "code",
      "metadata": {
        "id": "zRR8UB8wgfMK"
      },
      "source": [
        "ticker_names = df.columns.to_list()"
      ],
      "execution_count": 25,
      "outputs": []
    },
    {
      "cell_type": "code",
      "metadata": {
        "id": "mG7Q9udMhEmW"
      },
      "source": [
        "ticker_names"
      ],
      "execution_count": 26,
      "outputs": [
        {
          "output_type": "execute_result",
          "data": {
            "text/plain": [
              "[('AMZN', 'Open'),\n",
              " ('AMZN', 'High'),\n",
              " ('AMZN', 'Low'),\n",
              " ('AMZN', 'Close'),\n",
              " ('AMZN', 'Adj Close'),\n",
              " ('AMZN', 'Volume'),\n",
              " ('BA', 'Open'),\n",
              " ('BA', 'High'),\n",
              " ('BA', 'Low'),\n",
              " ('BA', 'Close'),\n",
              " ('BA', 'Adj Close'),\n",
              " ('BA', 'Volume'),\n",
              " ('AAPL', 'Open'),\n",
              " ('AAPL', 'High'),\n",
              " ('AAPL', 'Low'),\n",
              " ('AAPL', 'Close'),\n",
              " ('AAPL', 'Adj Close'),\n",
              " ('AAPL', 'Volume'),\n",
              " ('GOOG', 'Open'),\n",
              " ('GOOG', 'High'),\n",
              " ('GOOG', 'Low'),\n",
              " ('GOOG', 'Close'),\n",
              " ('GOOG', 'Adj Close'),\n",
              " ('GOOG', 'Volume'),\n",
              " ('BAC', 'Open'),\n",
              " ('BAC', 'High'),\n",
              " ('BAC', 'Low'),\n",
              " ('BAC', 'Close'),\n",
              " ('BAC', 'Adj Close'),\n",
              " ('BAC', 'Volume'),\n",
              " ('timestamp', '')]"
            ]
          },
          "metadata": {},
          "execution_count": 26
        }
      ]
    },
    {
      "cell_type": "code",
      "metadata": {
        "id": "4Pwmmel8ikcD"
      },
      "source": [],
      "execution_count": null,
      "outputs": []
    }
  ]
}